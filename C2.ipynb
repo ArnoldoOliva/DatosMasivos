{
 "cells": [
  {
   "cell_type": "code",
   "execution_count": 3,
   "metadata": {},
   "outputs": [
    {
     "ename": "ConnectionError",
     "evalue": "('Connection aborted.', BadStatusLine('HTTP/1.1 000 \\r\\n'))",
     "output_type": "error",
     "traceback": [
      "\u001b[1;31m---------------------------------------------------------------------------\u001b[0m",
      "\u001b[1;31mBadStatusLine\u001b[0m                             Traceback (most recent call last)",
      "\u001b[1;32mC:\\Users\\HUGO\\anaconda\\envs\\project2\\lib\\site-packages\\urllib3\\connectionpool.py\u001b[0m in \u001b[0;36murlopen\u001b[1;34m(self, method, url, body, headers, retries, redirect, assert_same_host, timeout, pool_timeout, release_conn, chunked, body_pos, **response_kw)\u001b[0m\n\u001b[0;32m    705\u001b[0m                 \u001b[0mheaders\u001b[0m\u001b[1;33m=\u001b[0m\u001b[0mheaders\u001b[0m\u001b[1;33m,\u001b[0m\u001b[1;33m\u001b[0m\u001b[1;33m\u001b[0m\u001b[0m\n\u001b[1;32m--> 706\u001b[1;33m                 \u001b[0mchunked\u001b[0m\u001b[1;33m=\u001b[0m\u001b[0mchunked\u001b[0m\u001b[1;33m,\u001b[0m\u001b[1;33m\u001b[0m\u001b[1;33m\u001b[0m\u001b[0m\n\u001b[0m\u001b[0;32m    707\u001b[0m             )\n",
      "\u001b[1;32mC:\\Users\\HUGO\\anaconda\\envs\\project2\\lib\\site-packages\\urllib3\\connectionpool.py\u001b[0m in \u001b[0;36m_make_request\u001b[1;34m(self, conn, method, url, timeout, chunked, **httplib_request_kw)\u001b[0m\n\u001b[0;32m    444\u001b[0m                     \u001b[1;31m# Otherwise it looks like a bug in the code.\u001b[0m\u001b[1;33m\u001b[0m\u001b[1;33m\u001b[0m\u001b[1;33m\u001b[0m\u001b[0m\n\u001b[1;32m--> 445\u001b[1;33m                     \u001b[0msix\u001b[0m\u001b[1;33m.\u001b[0m\u001b[0mraise_from\u001b[0m\u001b[1;33m(\u001b[0m\u001b[0me\u001b[0m\u001b[1;33m,\u001b[0m \u001b[1;32mNone\u001b[0m\u001b[1;33m)\u001b[0m\u001b[1;33m\u001b[0m\u001b[1;33m\u001b[0m\u001b[0m\n\u001b[0m\u001b[0;32m    446\u001b[0m         \u001b[1;32mexcept\u001b[0m \u001b[1;33m(\u001b[0m\u001b[0mSocketTimeout\u001b[0m\u001b[1;33m,\u001b[0m \u001b[0mBaseSSLError\u001b[0m\u001b[1;33m,\u001b[0m \u001b[0mSocketError\u001b[0m\u001b[1;33m)\u001b[0m \u001b[1;32mas\u001b[0m \u001b[0me\u001b[0m\u001b[1;33m:\u001b[0m\u001b[1;33m\u001b[0m\u001b[1;33m\u001b[0m\u001b[0m\n",
      "\u001b[1;32mC:\\Users\\HUGO\\anaconda\\envs\\project2\\lib\\site-packages\\urllib3\\packages\\six.py\u001b[0m in \u001b[0;36mraise_from\u001b[1;34m(value, from_value)\u001b[0m\n",
      "\u001b[1;32mC:\\Users\\HUGO\\anaconda\\envs\\project2\\lib\\site-packages\\urllib3\\connectionpool.py\u001b[0m in \u001b[0;36m_make_request\u001b[1;34m(self, conn, method, url, timeout, chunked, **httplib_request_kw)\u001b[0m\n\u001b[0;32m    439\u001b[0m                 \u001b[1;32mtry\u001b[0m\u001b[1;33m:\u001b[0m\u001b[1;33m\u001b[0m\u001b[1;33m\u001b[0m\u001b[0m\n\u001b[1;32m--> 440\u001b[1;33m                     \u001b[0mhttplib_response\u001b[0m \u001b[1;33m=\u001b[0m \u001b[0mconn\u001b[0m\u001b[1;33m.\u001b[0m\u001b[0mgetresponse\u001b[0m\u001b[1;33m(\u001b[0m\u001b[1;33m)\u001b[0m\u001b[1;33m\u001b[0m\u001b[1;33m\u001b[0m\u001b[0m\n\u001b[0m\u001b[0;32m    441\u001b[0m                 \u001b[1;32mexcept\u001b[0m \u001b[0mBaseException\u001b[0m \u001b[1;32mas\u001b[0m \u001b[0me\u001b[0m\u001b[1;33m:\u001b[0m\u001b[1;33m\u001b[0m\u001b[1;33m\u001b[0m\u001b[0m\n",
      "\u001b[1;32mC:\\Users\\HUGO\\anaconda\\envs\\project2\\lib\\http\\client.py\u001b[0m in \u001b[0;36mgetresponse\u001b[1;34m(self)\u001b[0m\n\u001b[0;32m   1368\u001b[0m             \u001b[1;32mtry\u001b[0m\u001b[1;33m:\u001b[0m\u001b[1;33m\u001b[0m\u001b[1;33m\u001b[0m\u001b[0m\n\u001b[1;32m-> 1369\u001b[1;33m                 \u001b[0mresponse\u001b[0m\u001b[1;33m.\u001b[0m\u001b[0mbegin\u001b[0m\u001b[1;33m(\u001b[0m\u001b[1;33m)\u001b[0m\u001b[1;33m\u001b[0m\u001b[1;33m\u001b[0m\u001b[0m\n\u001b[0m\u001b[0;32m   1370\u001b[0m             \u001b[1;32mexcept\u001b[0m \u001b[0mConnectionError\u001b[0m\u001b[1;33m:\u001b[0m\u001b[1;33m\u001b[0m\u001b[1;33m\u001b[0m\u001b[0m\n",
      "\u001b[1;32mC:\\Users\\HUGO\\anaconda\\envs\\project2\\lib\\http\\client.py\u001b[0m in \u001b[0;36mbegin\u001b[1;34m(self)\u001b[0m\n\u001b[0;32m    309\u001b[0m         \u001b[1;32mwhile\u001b[0m \u001b[1;32mTrue\u001b[0m\u001b[1;33m:\u001b[0m\u001b[1;33m\u001b[0m\u001b[1;33m\u001b[0m\u001b[0m\n\u001b[1;32m--> 310\u001b[1;33m             \u001b[0mversion\u001b[0m\u001b[1;33m,\u001b[0m \u001b[0mstatus\u001b[0m\u001b[1;33m,\u001b[0m \u001b[0mreason\u001b[0m \u001b[1;33m=\u001b[0m \u001b[0mself\u001b[0m\u001b[1;33m.\u001b[0m\u001b[0m_read_status\u001b[0m\u001b[1;33m(\u001b[0m\u001b[1;33m)\u001b[0m\u001b[1;33m\u001b[0m\u001b[1;33m\u001b[0m\u001b[0m\n\u001b[0m\u001b[0;32m    311\u001b[0m             \u001b[1;32mif\u001b[0m \u001b[0mstatus\u001b[0m \u001b[1;33m!=\u001b[0m \u001b[0mCONTINUE\u001b[0m\u001b[1;33m:\u001b[0m\u001b[1;33m\u001b[0m\u001b[1;33m\u001b[0m\u001b[0m\n",
      "\u001b[1;32mC:\\Users\\HUGO\\anaconda\\envs\\project2\\lib\\http\\client.py\u001b[0m in \u001b[0;36m_read_status\u001b[1;34m(self)\u001b[0m\n\u001b[0;32m    297\u001b[0m             \u001b[1;32mif\u001b[0m \u001b[0mstatus\u001b[0m \u001b[1;33m<\u001b[0m \u001b[1;36m100\u001b[0m \u001b[1;32mor\u001b[0m \u001b[0mstatus\u001b[0m \u001b[1;33m>\u001b[0m \u001b[1;36m999\u001b[0m\u001b[1;33m:\u001b[0m\u001b[1;33m\u001b[0m\u001b[1;33m\u001b[0m\u001b[0m\n\u001b[1;32m--> 298\u001b[1;33m                 \u001b[1;32mraise\u001b[0m \u001b[0mBadStatusLine\u001b[0m\u001b[1;33m(\u001b[0m\u001b[0mline\u001b[0m\u001b[1;33m)\u001b[0m\u001b[1;33m\u001b[0m\u001b[1;33m\u001b[0m\u001b[0m\n\u001b[0m\u001b[0;32m    299\u001b[0m         \u001b[1;32mexcept\u001b[0m \u001b[0mValueError\u001b[0m\u001b[1;33m:\u001b[0m\u001b[1;33m\u001b[0m\u001b[1;33m\u001b[0m\u001b[0m\n",
      "\u001b[1;31mBadStatusLine\u001b[0m: HTTP/1.1 000 \r\n",
      "\nDuring handling of the above exception, another exception occurred:\n",
      "\u001b[1;31mProtocolError\u001b[0m                             Traceback (most recent call last)",
      "\u001b[1;32mC:\\Users\\HUGO\\anaconda\\envs\\project2\\lib\\site-packages\\requests\\adapters.py\u001b[0m in \u001b[0;36msend\u001b[1;34m(self, request, stream, timeout, verify, cert, proxies)\u001b[0m\n\u001b[0;32m    448\u001b[0m                     \u001b[0mretries\u001b[0m\u001b[1;33m=\u001b[0m\u001b[0mself\u001b[0m\u001b[1;33m.\u001b[0m\u001b[0mmax_retries\u001b[0m\u001b[1;33m,\u001b[0m\u001b[1;33m\u001b[0m\u001b[1;33m\u001b[0m\u001b[0m\n\u001b[1;32m--> 449\u001b[1;33m                     \u001b[0mtimeout\u001b[0m\u001b[1;33m=\u001b[0m\u001b[0mtimeout\u001b[0m\u001b[1;33m\u001b[0m\u001b[1;33m\u001b[0m\u001b[0m\n\u001b[0m\u001b[0;32m    450\u001b[0m                 )\n",
      "\u001b[1;32mC:\\Users\\HUGO\\anaconda\\envs\\project2\\lib\\site-packages\\urllib3\\connectionpool.py\u001b[0m in \u001b[0;36murlopen\u001b[1;34m(self, method, url, body, headers, retries, redirect, assert_same_host, timeout, pool_timeout, release_conn, chunked, body_pos, **response_kw)\u001b[0m\n\u001b[0;32m    755\u001b[0m             retries = retries.increment(\n\u001b[1;32m--> 756\u001b[1;33m                 \u001b[0mmethod\u001b[0m\u001b[1;33m,\u001b[0m \u001b[0murl\u001b[0m\u001b[1;33m,\u001b[0m \u001b[0merror\u001b[0m\u001b[1;33m=\u001b[0m\u001b[0me\u001b[0m\u001b[1;33m,\u001b[0m \u001b[0m_pool\u001b[0m\u001b[1;33m=\u001b[0m\u001b[0mself\u001b[0m\u001b[1;33m,\u001b[0m \u001b[0m_stacktrace\u001b[0m\u001b[1;33m=\u001b[0m\u001b[0msys\u001b[0m\u001b[1;33m.\u001b[0m\u001b[0mexc_info\u001b[0m\u001b[1;33m(\u001b[0m\u001b[1;33m)\u001b[0m\u001b[1;33m[\u001b[0m\u001b[1;36m2\u001b[0m\u001b[1;33m]\u001b[0m\u001b[1;33m\u001b[0m\u001b[1;33m\u001b[0m\u001b[0m\n\u001b[0m\u001b[0;32m    757\u001b[0m             )\n",
      "\u001b[1;32mC:\\Users\\HUGO\\anaconda\\envs\\project2\\lib\\site-packages\\urllib3\\util\\retry.py\u001b[0m in \u001b[0;36mincrement\u001b[1;34m(self, method, url, response, error, _pool, _stacktrace)\u001b[0m\n\u001b[0;32m    530\u001b[0m             \u001b[1;32mif\u001b[0m \u001b[0mread\u001b[0m \u001b[1;32mis\u001b[0m \u001b[1;32mFalse\u001b[0m \u001b[1;32mor\u001b[0m \u001b[1;32mnot\u001b[0m \u001b[0mself\u001b[0m\u001b[1;33m.\u001b[0m\u001b[0m_is_method_retryable\u001b[0m\u001b[1;33m(\u001b[0m\u001b[0mmethod\u001b[0m\u001b[1;33m)\u001b[0m\u001b[1;33m:\u001b[0m\u001b[1;33m\u001b[0m\u001b[1;33m\u001b[0m\u001b[0m\n\u001b[1;32m--> 531\u001b[1;33m                 \u001b[1;32mraise\u001b[0m \u001b[0msix\u001b[0m\u001b[1;33m.\u001b[0m\u001b[0mreraise\u001b[0m\u001b[1;33m(\u001b[0m\u001b[0mtype\u001b[0m\u001b[1;33m(\u001b[0m\u001b[0merror\u001b[0m\u001b[1;33m)\u001b[0m\u001b[1;33m,\u001b[0m \u001b[0merror\u001b[0m\u001b[1;33m,\u001b[0m \u001b[0m_stacktrace\u001b[0m\u001b[1;33m)\u001b[0m\u001b[1;33m\u001b[0m\u001b[1;33m\u001b[0m\u001b[0m\n\u001b[0m\u001b[0;32m    532\u001b[0m             \u001b[1;32melif\u001b[0m \u001b[0mread\u001b[0m \u001b[1;32mis\u001b[0m \u001b[1;32mnot\u001b[0m \u001b[1;32mNone\u001b[0m\u001b[1;33m:\u001b[0m\u001b[1;33m\u001b[0m\u001b[1;33m\u001b[0m\u001b[0m\n",
      "\u001b[1;32mC:\\Users\\HUGO\\anaconda\\envs\\project2\\lib\\site-packages\\urllib3\\packages\\six.py\u001b[0m in \u001b[0;36mreraise\u001b[1;34m(tp, value, tb)\u001b[0m\n\u001b[0;32m    733\u001b[0m             \u001b[1;32mif\u001b[0m \u001b[0mvalue\u001b[0m\u001b[1;33m.\u001b[0m\u001b[0m__traceback__\u001b[0m \u001b[1;32mis\u001b[0m \u001b[1;32mnot\u001b[0m \u001b[0mtb\u001b[0m\u001b[1;33m:\u001b[0m\u001b[1;33m\u001b[0m\u001b[1;33m\u001b[0m\u001b[0m\n\u001b[1;32m--> 734\u001b[1;33m                 \u001b[1;32mraise\u001b[0m \u001b[0mvalue\u001b[0m\u001b[1;33m.\u001b[0m\u001b[0mwith_traceback\u001b[0m\u001b[1;33m(\u001b[0m\u001b[0mtb\u001b[0m\u001b[1;33m)\u001b[0m\u001b[1;33m\u001b[0m\u001b[1;33m\u001b[0m\u001b[0m\n\u001b[0m\u001b[0;32m    735\u001b[0m             \u001b[1;32mraise\u001b[0m \u001b[0mvalue\u001b[0m\u001b[1;33m\u001b[0m\u001b[1;33m\u001b[0m\u001b[0m\n",
      "\u001b[1;32mC:\\Users\\HUGO\\anaconda\\envs\\project2\\lib\\site-packages\\urllib3\\connectionpool.py\u001b[0m in \u001b[0;36murlopen\u001b[1;34m(self, method, url, body, headers, retries, redirect, assert_same_host, timeout, pool_timeout, release_conn, chunked, body_pos, **response_kw)\u001b[0m\n\u001b[0;32m    705\u001b[0m                 \u001b[0mheaders\u001b[0m\u001b[1;33m=\u001b[0m\u001b[0mheaders\u001b[0m\u001b[1;33m,\u001b[0m\u001b[1;33m\u001b[0m\u001b[1;33m\u001b[0m\u001b[0m\n\u001b[1;32m--> 706\u001b[1;33m                 \u001b[0mchunked\u001b[0m\u001b[1;33m=\u001b[0m\u001b[0mchunked\u001b[0m\u001b[1;33m,\u001b[0m\u001b[1;33m\u001b[0m\u001b[1;33m\u001b[0m\u001b[0m\n\u001b[0m\u001b[0;32m    707\u001b[0m             )\n",
      "\u001b[1;32mC:\\Users\\HUGO\\anaconda\\envs\\project2\\lib\\site-packages\\urllib3\\connectionpool.py\u001b[0m in \u001b[0;36m_make_request\u001b[1;34m(self, conn, method, url, timeout, chunked, **httplib_request_kw)\u001b[0m\n\u001b[0;32m    444\u001b[0m                     \u001b[1;31m# Otherwise it looks like a bug in the code.\u001b[0m\u001b[1;33m\u001b[0m\u001b[1;33m\u001b[0m\u001b[1;33m\u001b[0m\u001b[0m\n\u001b[1;32m--> 445\u001b[1;33m                     \u001b[0msix\u001b[0m\u001b[1;33m.\u001b[0m\u001b[0mraise_from\u001b[0m\u001b[1;33m(\u001b[0m\u001b[0me\u001b[0m\u001b[1;33m,\u001b[0m \u001b[1;32mNone\u001b[0m\u001b[1;33m)\u001b[0m\u001b[1;33m\u001b[0m\u001b[1;33m\u001b[0m\u001b[0m\n\u001b[0m\u001b[0;32m    446\u001b[0m         \u001b[1;32mexcept\u001b[0m \u001b[1;33m(\u001b[0m\u001b[0mSocketTimeout\u001b[0m\u001b[1;33m,\u001b[0m \u001b[0mBaseSSLError\u001b[0m\u001b[1;33m,\u001b[0m \u001b[0mSocketError\u001b[0m\u001b[1;33m)\u001b[0m \u001b[1;32mas\u001b[0m \u001b[0me\u001b[0m\u001b[1;33m:\u001b[0m\u001b[1;33m\u001b[0m\u001b[1;33m\u001b[0m\u001b[0m\n",
      "\u001b[1;32mC:\\Users\\HUGO\\anaconda\\envs\\project2\\lib\\site-packages\\urllib3\\packages\\six.py\u001b[0m in \u001b[0;36mraise_from\u001b[1;34m(value, from_value)\u001b[0m\n",
      "\u001b[1;32mC:\\Users\\HUGO\\anaconda\\envs\\project2\\lib\\site-packages\\urllib3\\connectionpool.py\u001b[0m in \u001b[0;36m_make_request\u001b[1;34m(self, conn, method, url, timeout, chunked, **httplib_request_kw)\u001b[0m\n\u001b[0;32m    439\u001b[0m                 \u001b[1;32mtry\u001b[0m\u001b[1;33m:\u001b[0m\u001b[1;33m\u001b[0m\u001b[1;33m\u001b[0m\u001b[0m\n\u001b[1;32m--> 440\u001b[1;33m                     \u001b[0mhttplib_response\u001b[0m \u001b[1;33m=\u001b[0m \u001b[0mconn\u001b[0m\u001b[1;33m.\u001b[0m\u001b[0mgetresponse\u001b[0m\u001b[1;33m(\u001b[0m\u001b[1;33m)\u001b[0m\u001b[1;33m\u001b[0m\u001b[1;33m\u001b[0m\u001b[0m\n\u001b[0m\u001b[0;32m    441\u001b[0m                 \u001b[1;32mexcept\u001b[0m \u001b[0mBaseException\u001b[0m \u001b[1;32mas\u001b[0m \u001b[0me\u001b[0m\u001b[1;33m:\u001b[0m\u001b[1;33m\u001b[0m\u001b[1;33m\u001b[0m\u001b[0m\n",
      "\u001b[1;32mC:\\Users\\HUGO\\anaconda\\envs\\project2\\lib\\http\\client.py\u001b[0m in \u001b[0;36mgetresponse\u001b[1;34m(self)\u001b[0m\n\u001b[0;32m   1368\u001b[0m             \u001b[1;32mtry\u001b[0m\u001b[1;33m:\u001b[0m\u001b[1;33m\u001b[0m\u001b[1;33m\u001b[0m\u001b[0m\n\u001b[1;32m-> 1369\u001b[1;33m                 \u001b[0mresponse\u001b[0m\u001b[1;33m.\u001b[0m\u001b[0mbegin\u001b[0m\u001b[1;33m(\u001b[0m\u001b[1;33m)\u001b[0m\u001b[1;33m\u001b[0m\u001b[1;33m\u001b[0m\u001b[0m\n\u001b[0m\u001b[0;32m   1370\u001b[0m             \u001b[1;32mexcept\u001b[0m \u001b[0mConnectionError\u001b[0m\u001b[1;33m:\u001b[0m\u001b[1;33m\u001b[0m\u001b[1;33m\u001b[0m\u001b[0m\n",
      "\u001b[1;32mC:\\Users\\HUGO\\anaconda\\envs\\project2\\lib\\http\\client.py\u001b[0m in \u001b[0;36mbegin\u001b[1;34m(self)\u001b[0m\n\u001b[0;32m    309\u001b[0m         \u001b[1;32mwhile\u001b[0m \u001b[1;32mTrue\u001b[0m\u001b[1;33m:\u001b[0m\u001b[1;33m\u001b[0m\u001b[1;33m\u001b[0m\u001b[0m\n\u001b[1;32m--> 310\u001b[1;33m             \u001b[0mversion\u001b[0m\u001b[1;33m,\u001b[0m \u001b[0mstatus\u001b[0m\u001b[1;33m,\u001b[0m \u001b[0mreason\u001b[0m \u001b[1;33m=\u001b[0m \u001b[0mself\u001b[0m\u001b[1;33m.\u001b[0m\u001b[0m_read_status\u001b[0m\u001b[1;33m(\u001b[0m\u001b[1;33m)\u001b[0m\u001b[1;33m\u001b[0m\u001b[1;33m\u001b[0m\u001b[0m\n\u001b[0m\u001b[0;32m    311\u001b[0m             \u001b[1;32mif\u001b[0m \u001b[0mstatus\u001b[0m \u001b[1;33m!=\u001b[0m \u001b[0mCONTINUE\u001b[0m\u001b[1;33m:\u001b[0m\u001b[1;33m\u001b[0m\u001b[1;33m\u001b[0m\u001b[0m\n",
      "\u001b[1;32mC:\\Users\\HUGO\\anaconda\\envs\\project2\\lib\\http\\client.py\u001b[0m in \u001b[0;36m_read_status\u001b[1;34m(self)\u001b[0m\n\u001b[0;32m    297\u001b[0m             \u001b[1;32mif\u001b[0m \u001b[0mstatus\u001b[0m \u001b[1;33m<\u001b[0m \u001b[1;36m100\u001b[0m \u001b[1;32mor\u001b[0m \u001b[0mstatus\u001b[0m \u001b[1;33m>\u001b[0m \u001b[1;36m999\u001b[0m\u001b[1;33m:\u001b[0m\u001b[1;33m\u001b[0m\u001b[1;33m\u001b[0m\u001b[0m\n\u001b[1;32m--> 298\u001b[1;33m                 \u001b[1;32mraise\u001b[0m \u001b[0mBadStatusLine\u001b[0m\u001b[1;33m(\u001b[0m\u001b[0mline\u001b[0m\u001b[1;33m)\u001b[0m\u001b[1;33m\u001b[0m\u001b[1;33m\u001b[0m\u001b[0m\n\u001b[0m\u001b[0;32m    299\u001b[0m         \u001b[1;32mexcept\u001b[0m \u001b[0mValueError\u001b[0m\u001b[1;33m:\u001b[0m\u001b[1;33m\u001b[0m\u001b[1;33m\u001b[0m\u001b[0m\n",
      "\u001b[1;31mProtocolError\u001b[0m: ('Connection aborted.', BadStatusLine('HTTP/1.1 000 \\r\\n'))",
      "\nDuring handling of the above exception, another exception occurred:\n",
      "\u001b[1;31mConnectionError\u001b[0m                           Traceback (most recent call last)",
      "\u001b[1;32m<ipython-input-3-b0338436bba5>\u001b[0m in \u001b[0;36m<module>\u001b[1;34m()\u001b[0m\n\u001b[0;32m     17\u001b[0m \u001b[1;33m\u001b[0m\u001b[0m\n\u001b[0;32m     18\u001b[0m \u001b[1;31m# Realiza la solicitud GET a la API\u001b[0m\u001b[1;33m\u001b[0m\u001b[1;33m\u001b[0m\u001b[1;33m\u001b[0m\u001b[0m\n\u001b[1;32m---> 19\u001b[1;33m \u001b[0mrespuesta\u001b[0m \u001b[1;33m=\u001b[0m \u001b[0mrequests\u001b[0m\u001b[1;33m.\u001b[0m\u001b[0mget\u001b[0m\u001b[1;33m(\u001b[0m\u001b[0murl\u001b[0m\u001b[1;33m)\u001b[0m \u001b[1;31m#params=parametros\u001b[0m\u001b[1;33m\u001b[0m\u001b[1;33m\u001b[0m\u001b[0m\n\u001b[0m\u001b[0;32m     20\u001b[0m \u001b[1;33m\u001b[0m\u001b[0m\n\u001b[0;32m     21\u001b[0m \u001b[1;31m# Verifica si la solicitud fue exitosa (código de respuesta 200)\u001b[0m\u001b[1;33m\u001b[0m\u001b[1;33m\u001b[0m\u001b[1;33m\u001b[0m\u001b[0m\n",
      "\u001b[1;32mC:\\Users\\HUGO\\anaconda\\envs\\project2\\lib\\site-packages\\requests\\api.py\u001b[0m in \u001b[0;36mget\u001b[1;34m(url, params, **kwargs)\u001b[0m\n\u001b[0;32m     74\u001b[0m \u001b[1;33m\u001b[0m\u001b[0m\n\u001b[0;32m     75\u001b[0m     \u001b[0mkwargs\u001b[0m\u001b[1;33m.\u001b[0m\u001b[0msetdefault\u001b[0m\u001b[1;33m(\u001b[0m\u001b[1;34m'allow_redirects'\u001b[0m\u001b[1;33m,\u001b[0m \u001b[1;32mTrue\u001b[0m\u001b[1;33m)\u001b[0m\u001b[1;33m\u001b[0m\u001b[1;33m\u001b[0m\u001b[0m\n\u001b[1;32m---> 76\u001b[1;33m     \u001b[1;32mreturn\u001b[0m \u001b[0mrequest\u001b[0m\u001b[1;33m(\u001b[0m\u001b[1;34m'get'\u001b[0m\u001b[1;33m,\u001b[0m \u001b[0murl\u001b[0m\u001b[1;33m,\u001b[0m \u001b[0mparams\u001b[0m\u001b[1;33m=\u001b[0m\u001b[0mparams\u001b[0m\u001b[1;33m,\u001b[0m \u001b[1;33m**\u001b[0m\u001b[0mkwargs\u001b[0m\u001b[1;33m)\u001b[0m\u001b[1;33m\u001b[0m\u001b[1;33m\u001b[0m\u001b[0m\n\u001b[0m\u001b[0;32m     77\u001b[0m \u001b[1;33m\u001b[0m\u001b[0m\n\u001b[0;32m     78\u001b[0m \u001b[1;33m\u001b[0m\u001b[0m\n",
      "\u001b[1;32mC:\\Users\\HUGO\\anaconda\\envs\\project2\\lib\\site-packages\\requests\\api.py\u001b[0m in \u001b[0;36mrequest\u001b[1;34m(method, url, **kwargs)\u001b[0m\n\u001b[0;32m     59\u001b[0m     \u001b[1;31m# cases, and look like a memory leak in others.\u001b[0m\u001b[1;33m\u001b[0m\u001b[1;33m\u001b[0m\u001b[1;33m\u001b[0m\u001b[0m\n\u001b[0;32m     60\u001b[0m     \u001b[1;32mwith\u001b[0m \u001b[0msessions\u001b[0m\u001b[1;33m.\u001b[0m\u001b[0mSession\u001b[0m\u001b[1;33m(\u001b[0m\u001b[1;33m)\u001b[0m \u001b[1;32mas\u001b[0m \u001b[0msession\u001b[0m\u001b[1;33m:\u001b[0m\u001b[1;33m\u001b[0m\u001b[1;33m\u001b[0m\u001b[0m\n\u001b[1;32m---> 61\u001b[1;33m         \u001b[1;32mreturn\u001b[0m \u001b[0msession\u001b[0m\u001b[1;33m.\u001b[0m\u001b[0mrequest\u001b[0m\u001b[1;33m(\u001b[0m\u001b[0mmethod\u001b[0m\u001b[1;33m=\u001b[0m\u001b[0mmethod\u001b[0m\u001b[1;33m,\u001b[0m \u001b[0murl\u001b[0m\u001b[1;33m=\u001b[0m\u001b[0murl\u001b[0m\u001b[1;33m,\u001b[0m \u001b[1;33m**\u001b[0m\u001b[0mkwargs\u001b[0m\u001b[1;33m)\u001b[0m\u001b[1;33m\u001b[0m\u001b[1;33m\u001b[0m\u001b[0m\n\u001b[0m\u001b[0;32m     62\u001b[0m \u001b[1;33m\u001b[0m\u001b[0m\n\u001b[0;32m     63\u001b[0m \u001b[1;33m\u001b[0m\u001b[0m\n",
      "\u001b[1;32mC:\\Users\\HUGO\\anaconda\\envs\\project2\\lib\\site-packages\\requests\\sessions.py\u001b[0m in \u001b[0;36mrequest\u001b[1;34m(self, method, url, params, data, headers, cookies, files, auth, timeout, allow_redirects, proxies, hooks, stream, verify, cert, json)\u001b[0m\n\u001b[0;32m    540\u001b[0m         }\n\u001b[0;32m    541\u001b[0m         \u001b[0msend_kwargs\u001b[0m\u001b[1;33m.\u001b[0m\u001b[0mupdate\u001b[0m\u001b[1;33m(\u001b[0m\u001b[0msettings\u001b[0m\u001b[1;33m)\u001b[0m\u001b[1;33m\u001b[0m\u001b[1;33m\u001b[0m\u001b[0m\n\u001b[1;32m--> 542\u001b[1;33m         \u001b[0mresp\u001b[0m \u001b[1;33m=\u001b[0m \u001b[0mself\u001b[0m\u001b[1;33m.\u001b[0m\u001b[0msend\u001b[0m\u001b[1;33m(\u001b[0m\u001b[0mprep\u001b[0m\u001b[1;33m,\u001b[0m \u001b[1;33m**\u001b[0m\u001b[0msend_kwargs\u001b[0m\u001b[1;33m)\u001b[0m\u001b[1;33m\u001b[0m\u001b[1;33m\u001b[0m\u001b[0m\n\u001b[0m\u001b[0;32m    543\u001b[0m \u001b[1;33m\u001b[0m\u001b[0m\n\u001b[0;32m    544\u001b[0m         \u001b[1;32mreturn\u001b[0m \u001b[0mresp\u001b[0m\u001b[1;33m\u001b[0m\u001b[1;33m\u001b[0m\u001b[0m\n",
      "\u001b[1;32mC:\\Users\\HUGO\\anaconda\\envs\\project2\\lib\\site-packages\\requests\\sessions.py\u001b[0m in \u001b[0;36msend\u001b[1;34m(self, request, **kwargs)\u001b[0m\n\u001b[0;32m    653\u001b[0m \u001b[1;33m\u001b[0m\u001b[0m\n\u001b[0;32m    654\u001b[0m         \u001b[1;31m# Send the request\u001b[0m\u001b[1;33m\u001b[0m\u001b[1;33m\u001b[0m\u001b[1;33m\u001b[0m\u001b[0m\n\u001b[1;32m--> 655\u001b[1;33m         \u001b[0mr\u001b[0m \u001b[1;33m=\u001b[0m \u001b[0madapter\u001b[0m\u001b[1;33m.\u001b[0m\u001b[0msend\u001b[0m\u001b[1;33m(\u001b[0m\u001b[0mrequest\u001b[0m\u001b[1;33m,\u001b[0m \u001b[1;33m**\u001b[0m\u001b[0mkwargs\u001b[0m\u001b[1;33m)\u001b[0m\u001b[1;33m\u001b[0m\u001b[1;33m\u001b[0m\u001b[0m\n\u001b[0m\u001b[0;32m    656\u001b[0m \u001b[1;33m\u001b[0m\u001b[0m\n\u001b[0;32m    657\u001b[0m         \u001b[1;31m# Total elapsed time of the request (approximately)\u001b[0m\u001b[1;33m\u001b[0m\u001b[1;33m\u001b[0m\u001b[1;33m\u001b[0m\u001b[0m\n",
      "\u001b[1;32mC:\\Users\\HUGO\\anaconda\\envs\\project2\\lib\\site-packages\\requests\\adapters.py\u001b[0m in \u001b[0;36msend\u001b[1;34m(self, request, stream, timeout, verify, cert, proxies)\u001b[0m\n\u001b[0;32m    496\u001b[0m \u001b[1;33m\u001b[0m\u001b[0m\n\u001b[0;32m    497\u001b[0m         \u001b[1;32mexcept\u001b[0m \u001b[1;33m(\u001b[0m\u001b[0mProtocolError\u001b[0m\u001b[1;33m,\u001b[0m \u001b[0msocket\u001b[0m\u001b[1;33m.\u001b[0m\u001b[0merror\u001b[0m\u001b[1;33m)\u001b[0m \u001b[1;32mas\u001b[0m \u001b[0merr\u001b[0m\u001b[1;33m:\u001b[0m\u001b[1;33m\u001b[0m\u001b[1;33m\u001b[0m\u001b[0m\n\u001b[1;32m--> 498\u001b[1;33m             \u001b[1;32mraise\u001b[0m \u001b[0mConnectionError\u001b[0m\u001b[1;33m(\u001b[0m\u001b[0merr\u001b[0m\u001b[1;33m,\u001b[0m \u001b[0mrequest\u001b[0m\u001b[1;33m=\u001b[0m\u001b[0mrequest\u001b[0m\u001b[1;33m)\u001b[0m\u001b[1;33m\u001b[0m\u001b[1;33m\u001b[0m\u001b[0m\n\u001b[0m\u001b[0;32m    499\u001b[0m \u001b[1;33m\u001b[0m\u001b[0m\n\u001b[0;32m    500\u001b[0m         \u001b[1;32mexcept\u001b[0m \u001b[0mMaxRetryError\u001b[0m \u001b[1;32mas\u001b[0m \u001b[0me\u001b[0m\u001b[1;33m:\u001b[0m\u001b[1;33m\u001b[0m\u001b[1;33m\u001b[0m\u001b[0m\n",
      "\u001b[1;31mConnectionError\u001b[0m: ('Connection aborted.', BadStatusLine('HTTP/1.1 000 \\r\\n'))"
     ]
    }
   ],
   "source": [
    "import requests\n",
    "\n",
    "# Define la URL de la API y tu clave de API\n",
    "api_key = \"7b1eaeac-296a-3cb6-f49d-114cff3e2500\"\n",
    "url = f\"https://www.inegi.org.mx/app/api/denue/v1/consulta/Buscar/camiones/21.85717833,-102.28487238/250/{api_key}\"\n",
    "\n",
    "# Agrega los parámetros de la solicitud (si es necesario)\n",
    "#parametros = {\n",
    "#    \"parametro1\": \"valor1\",\n",
    "#    \"parametro2\": \"valor2\"\n",
    "#}\n",
    "\n",
    "# Agrega la clave de API a los encabezados de la solicitud\n",
    "\"\"\"headers = {\n",
    "    \"Authorization\": f\"Bearer {api_key}\"\n",
    "}\"\"\"\n",
    "\n",
    "# Realiza la solicitud GET a la API\n",
    "respuesta = requests.get(url) #params=parametros\n",
    "\n",
    "# Verifica si la solicitud fue exitosa (código de respuesta 200)\n",
    "if respuesta.status_code == 200:\n",
    "    datos = respuesta.json()\n",
    "    # Aquí puedes procesar los datos obtenidos\n",
    "else:\n",
    "    print(\"Error en la solicitud:\", respuesta.status_code)\n",
    "\n"
   ]
  },
  {
   "cell_type": "code",
   "execution_count": 12,
   "metadata": {},
   "outputs": [],
   "source": [
    "API=\"7b1eaeac-296a-3cb6-f49d-114cff3e2500\"\n",
    "liga= f\"https://www.inegi.org.mx/app/api/indicadores/desarrolladores/jsonxml/INDICATOR/3104003001,6200205259/es/0700/false/BISE/2.0/{API}?type=json\""
   ]
  },
  {
   "cell_type": "code",
   "execution_count": 13,
   "metadata": {},
   "outputs": [],
   "source": [
    "respuesta = requests.get(liga)\n",
    "if respuesta.status_code == 200:\n",
    "    datos = respuesta.json()\n",
    "    content=json.loads(respuesta.content)\n",
    "    # Aquí puedes procesar los datos obtenidos\n",
    "else:\n",
    "    print(\"Error en la solicitud:\", respuesta.status_code)"
   ]
  },
  {
   "cell_type": "code",
   "execution_count": 14,
   "metadata": {
    "collapsed": true
   },
   "outputs": [
    {
     "data": {
      "text/plain": [
       "{'Header': {'Name': 'Datos compactos BISE',\n",
       "  'Email': 'atencion.usuarios@inegi.org.mx'},\n",
       " 'Series': [{'INDICADOR': '3104003001',\n",
       "   'FREQ': '6',\n",
       "   'TOPIC': '130',\n",
       "   'UNIT': '3',\n",
       "   'UNIT_MULT': '',\n",
       "   'NOTE': '186',\n",
       "   'SOURCE': '3001',\n",
       "   'LASTUPDATE': '08/12/2022',\n",
       "   'STATUS': '3',\n",
       "   'OBSERVATIONS': [{'TIME_PERIOD': '2020',\n",
       "     'OBS_VALUE': '3.31452824383616000000',\n",
       "     'OBS_EXCEPTION': None,\n",
       "     'OBS_STATUS': '3',\n",
       "     'OBS_SOURCE': '',\n",
       "     'OBS_NOTE': '',\n",
       "     'COBER_GEO': '0700'}]},\n",
       "  {'INDICADOR': '6200205259',\n",
       "   'FREQ': '1',\n",
       "   'TOPIC': '130',\n",
       "   'UNIT': '188',\n",
       "   'UNIT_MULT': '',\n",
       "   'NOTE': '',\n",
       "   'SOURCE': '2,487,781,1669,1671,3001',\n",
       "   'LASTUPDATE': '25/05/2022',\n",
       "   'STATUS': '3',\n",
       "   'OBSERVATIONS': [{'TIME_PERIOD': '1950',\n",
       "     'OBS_VALUE': '106015.00000000000000000000',\n",
       "     'OBS_EXCEPTION': None,\n",
       "     'OBS_STATUS': '3',\n",
       "     'OBS_SOURCE': '',\n",
       "     'OBS_NOTE': '5104',\n",
       "     'COBER_GEO': '0700'},\n",
       "    {'TIME_PERIOD': '1970',\n",
       "     'OBS_VALUE': '192208.00000000000000000000',\n",
       "     'OBS_EXCEPTION': None,\n",
       "     'OBS_STATUS': '3',\n",
       "     'OBS_SOURCE': '',\n",
       "     'OBS_NOTE': '5104',\n",
       "     'COBER_GEO': '0700'},\n",
       "    {'TIME_PERIOD': '1990',\n",
       "     'OBS_VALUE': '340824.00000000000000000000',\n",
       "     'OBS_EXCEPTION': None,\n",
       "     'OBS_STATUS': '3',\n",
       "     'OBS_SOURCE': '',\n",
       "     'OBS_NOTE': '5104',\n",
       "     'COBER_GEO': '0700'},\n",
       "    {'TIME_PERIOD': '2000',\n",
       "     'OBS_VALUE': '492617.00000000000000000000',\n",
       "     'OBS_EXCEPTION': None,\n",
       "     'OBS_STATUS': '3',\n",
       "     'OBS_SOURCE': '',\n",
       "     'OBS_NOTE': '5104',\n",
       "     'COBER_GEO': '0700'},\n",
       "    {'TIME_PERIOD': '2010',\n",
       "     'OBS_VALUE': '961121.00000000000000000000',\n",
       "     'OBS_EXCEPTION': None,\n",
       "     'OBS_STATUS': '3',\n",
       "     'OBS_SOURCE': '',\n",
       "     'OBS_NOTE': '5104',\n",
       "     'COBER_GEO': '0700'},\n",
       "    {'TIME_PERIOD': '2020',\n",
       "     'OBS_VALUE': '1212252.00000000000000000000',\n",
       "     'OBS_EXCEPTION': None,\n",
       "     'OBS_STATUS': '3',\n",
       "     'OBS_SOURCE': '',\n",
       "     'OBS_NOTE': '',\n",
       "     'COBER_GEO': '0700'}]}]}"
      ]
     },
     "execution_count": 14,
     "metadata": {},
     "output_type": "execute_result"
    }
   ],
   "source": [
    "content"
   ]
  },
  {
   "cell_type": "code",
   "execution_count": 9,
   "metadata": {},
   "outputs": [
    {
     "name": "stdout",
     "output_type": "stream",
     "text": [
      "29893251.42857143\n"
     ]
    }
   ],
   "source": [
    "import json\n",
    "\n",
    "#Llamado al API\n",
    "url=f'https://www.inegi.org.mx/app/api/indicadores/desarrolladores/jsonxml/INDICATOR/1002000002/es/00000/false/BISE/2.0/{API}?type=json'\n",
    "response= requests.get(url)\n",
    "if response.status_code==200:\n",
    "    content= json.loads(response.content)\n",
    "    Series=content['Series'][0]['OBSERVATIONS']   \n",
    "    \n",
    "    #Obtención de la lista de observaciones \n",
    "    Observaciones=[]\n",
    "    for obs in Series:  Observaciones.append(float(obs['OBS_VALUE']));\n",
    "    \n",
    "\n",
    "    #Generación del promedio de la lista de observaciones \n",
    "    sum=0.0\n",
    "    for i in range(0,len(Observaciones)): sum=sum+Observaciones[i];  \n",
    "\n",
    "    resultado=sum/len(Observaciones);\n",
    "    print(resultado)"
   ]
  },
  {
   "cell_type": "code",
   "execution_count": 10,
   "metadata": {},
   "outputs": [
    {
     "data": {
      "text/plain": [
       "{'Header': {'Name': 'Datos compactos BISE',\n",
       "  'Email': 'atencion.usuarios@inegi.org.mx'},\n",
       " 'Series': [{'INDICADOR': '1002000002',\n",
       "   'FREQ': '7',\n",
       "   'TOPIC': '123',\n",
       "   'UNIT': '96',\n",
       "   'UNIT_MULT': '',\n",
       "   'NOTE': '1398',\n",
       "   'SOURCE': '2,3,343,487,781,1668,1669,1670,1671,1672,1677,1678,1679,3001',\n",
       "   'LASTUPDATE': '25/05/2022',\n",
       "   'STATUS': '3',\n",
       "   'OBSERVATIONS': [{'TIME_PERIOD': '1910',\n",
       "     'OBS_VALUE': '7504471.00000000000000000000',\n",
       "     'OBS_EXCEPTION': None,\n",
       "     'OBS_STATUS': '3',\n",
       "     'OBS_SOURCE': '',\n",
       "     'OBS_NOTE': '',\n",
       "     'COBER_GEO': '0700'},\n",
       "    {'TIME_PERIOD': '1921',\n",
       "     'OBS_VALUE': '7003785.00000000000000000000',\n",
       "     'OBS_EXCEPTION': None,\n",
       "     'OBS_STATUS': '3',\n",
       "     'OBS_SOURCE': '',\n",
       "     'OBS_NOTE': '',\n",
       "     'COBER_GEO': '0700'},\n",
       "    {'TIME_PERIOD': '1930',\n",
       "     'OBS_VALUE': '8119004.00000000000000000000',\n",
       "     'OBS_EXCEPTION': None,\n",
       "     'OBS_STATUS': '3',\n",
       "     'OBS_SOURCE': '',\n",
       "     'OBS_NOTE': '',\n",
       "     'COBER_GEO': '0700'},\n",
       "    {'TIME_PERIOD': '1940',\n",
       "     'OBS_VALUE': '9695787.00000000000000000000',\n",
       "     'OBS_EXCEPTION': None,\n",
       "     'OBS_STATUS': '3',\n",
       "     'OBS_SOURCE': '',\n",
       "     'OBS_NOTE': '',\n",
       "     'COBER_GEO': '0700'},\n",
       "    {'TIME_PERIOD': '1950',\n",
       "     'OBS_VALUE': '12696935.00000000000000000000',\n",
       "     'OBS_EXCEPTION': None,\n",
       "     'OBS_STATUS': '3',\n",
       "     'OBS_SOURCE': '',\n",
       "     'OBS_NOTE': '',\n",
       "     'COBER_GEO': '0700'},\n",
       "    {'TIME_PERIOD': '1960',\n",
       "     'OBS_VALUE': '17415320.00000000000000000000',\n",
       "     'OBS_EXCEPTION': None,\n",
       "     'OBS_STATUS': '3',\n",
       "     'OBS_SOURCE': '',\n",
       "     'OBS_NOTE': '',\n",
       "     'COBER_GEO': '0700'},\n",
       "    {'TIME_PERIOD': '1970',\n",
       "     'OBS_VALUE': '24065614.00000000000000000000',\n",
       "     'OBS_EXCEPTION': None,\n",
       "     'OBS_STATUS': '3',\n",
       "     'OBS_SOURCE': '',\n",
       "     'OBS_NOTE': '',\n",
       "     'COBER_GEO': '0700'},\n",
       "    {'TIME_PERIOD': '1980',\n",
       "     'OBS_VALUE': '33039307.00000000000000000000',\n",
       "     'OBS_EXCEPTION': None,\n",
       "     'OBS_STATUS': '3',\n",
       "     'OBS_SOURCE': '',\n",
       "     'OBS_NOTE': '',\n",
       "     'COBER_GEO': '0700'},\n",
       "    {'TIME_PERIOD': '1990',\n",
       "     'OBS_VALUE': '39893969.00000000000000000000',\n",
       "     'OBS_EXCEPTION': None,\n",
       "     'OBS_STATUS': '3',\n",
       "     'OBS_SOURCE': '',\n",
       "     'OBS_NOTE': '',\n",
       "     'COBER_GEO': '0700'},\n",
       "    {'TIME_PERIOD': '1995',\n",
       "     'OBS_VALUE': '44900499.00000000000000000000',\n",
       "     'OBS_EXCEPTION': None,\n",
       "     'OBS_STATUS': '3',\n",
       "     'OBS_SOURCE': '',\n",
       "     'OBS_NOTE': '422,425',\n",
       "     'COBER_GEO': '0700'},\n",
       "    {'TIME_PERIOD': '2000',\n",
       "     'OBS_VALUE': '47592253.00000000000000000000',\n",
       "     'OBS_EXCEPTION': None,\n",
       "     'OBS_STATUS': '3',\n",
       "     'OBS_SOURCE': '',\n",
       "     'OBS_NOTE': '9,425',\n",
       "     'COBER_GEO': '0700'},\n",
       "    {'TIME_PERIOD': '2005',\n",
       "     'OBS_VALUE': '50249955.00000000000000000000',\n",
       "     'OBS_EXCEPTION': None,\n",
       "     'OBS_STATUS': '3',\n",
       "     'OBS_SOURCE': '',\n",
       "     'OBS_NOTE': '49,425',\n",
       "     'COBER_GEO': '0700'},\n",
       "    {'TIME_PERIOD': '2010',\n",
       "     'OBS_VALUE': '54855231.00000000000000000000',\n",
       "     'OBS_EXCEPTION': None,\n",
       "     'OBS_STATUS': '3',\n",
       "     'OBS_SOURCE': '',\n",
       "     'OBS_NOTE': '115,425',\n",
       "     'COBER_GEO': '0700'},\n",
       "    {'TIME_PERIOD': '2020',\n",
       "     'OBS_VALUE': '61473390.00000000000000000000',\n",
       "     'OBS_EXCEPTION': None,\n",
       "     'OBS_STATUS': '3',\n",
       "     'OBS_SOURCE': '',\n",
       "     'OBS_NOTE': '',\n",
       "     'COBER_GEO': '0700'}]}]}"
      ]
     },
     "execution_count": 10,
     "metadata": {},
     "output_type": "execute_result"
    }
   ],
   "source": [
    "content"
   ]
  },
  {
   "cell_type": "code",
   "execution_count": null,
   "metadata": {},
   "outputs": [],
   "source": [
    "######################################################################################3"
   ]
  },
  {
   "cell_type": "markdown",
   "metadata": {},
   "source": [
    "No entiendo el punto de tener un dict con 10 datos, asi que se checara manual:"
   ]
  },
  {
   "cell_type": "code",
   "execution_count": 18,
   "metadata": {},
   "outputs": [],
   "source": [
    "### DENUE\n",
    "import pandas as pd\n",
    "import numpy as np\n",
    "import matplotlib.pyplot as plt\n",
    "import seaborn as sns\n",
    "pd.set_option(\"display.max_columns\",None)"
   ]
  },
  {
   "cell_type": "code",
   "execution_count": 21,
   "metadata": {
    "scrolled": true
   },
   "outputs": [
    {
     "name": "stderr",
     "output_type": "stream",
     "text": [
      "C:\\Users\\HUGO\\anaconda\\envs\\project2\\lib\\site-packages\\IPython\\core\\interactiveshell.py:2714: DtypeWarning: Columns (35) have mixed types.Specify dtype option on import or set low_memory=False.\n",
      "  interactivity=interactivity, compiler=compiler, result=result)\n"
     ]
    },
    {
     "data": {
      "text/html": [
       "<div>\n",
       "<style scoped>\n",
       "    .dataframe tbody tr th:only-of-type {\n",
       "        vertical-align: middle;\n",
       "    }\n",
       "\n",
       "    .dataframe tbody tr th {\n",
       "        vertical-align: top;\n",
       "    }\n",
       "\n",
       "    .dataframe thead th {\n",
       "        text-align: right;\n",
       "    }\n",
       "</style>\n",
       "<table border=\"1\" class=\"dataframe\">\n",
       "  <thead>\n",
       "    <tr style=\"text-align: right;\">\n",
       "      <th></th>\n",
       "      <th>id</th>\n",
       "      <th>clee</th>\n",
       "      <th>nom_estab</th>\n",
       "      <th>raz_social</th>\n",
       "      <th>codigo_act</th>\n",
       "      <th>nombre_act</th>\n",
       "      <th>per_ocu</th>\n",
       "      <th>tipo_vial</th>\n",
       "      <th>nom_vial</th>\n",
       "      <th>tipo_v_e_1</th>\n",
       "      <th>nom_v_e_1</th>\n",
       "      <th>tipo_v_e_2</th>\n",
       "      <th>nom_v_e_2</th>\n",
       "      <th>tipo_v_e_3</th>\n",
       "      <th>nom_v_e_3</th>\n",
       "      <th>numero_ext</th>\n",
       "      <th>letra_ext</th>\n",
       "      <th>edificio</th>\n",
       "      <th>edificio_e</th>\n",
       "      <th>numero_int</th>\n",
       "      <th>letra_int</th>\n",
       "      <th>tipo_asent</th>\n",
       "      <th>nomb_asent</th>\n",
       "      <th>tipoCenCom</th>\n",
       "      <th>nom_CenCom</th>\n",
       "      <th>num_local</th>\n",
       "      <th>cod_postal</th>\n",
       "      <th>cve_ent</th>\n",
       "      <th>entidad</th>\n",
       "      <th>cve_mun</th>\n",
       "      <th>municipio</th>\n",
       "      <th>cve_loc</th>\n",
       "      <th>localidad</th>\n",
       "      <th>ageb</th>\n",
       "      <th>manzana</th>\n",
       "      <th>telefono</th>\n",
       "      <th>correoelec</th>\n",
       "      <th>www</th>\n",
       "      <th>tipoUniEco</th>\n",
       "      <th>latitud</th>\n",
       "      <th>longitud</th>\n",
       "      <th>fecha_alta</th>\n",
       "    </tr>\n",
       "  </thead>\n",
       "  <tbody>\n",
       "    <tr>\n",
       "      <th>0</th>\n",
       "      <td>8777590</td>\n",
       "      <td>19017115111000011000000000U7</td>\n",
       "      <td>AGROACRE SAN RAFAEL</td>\n",
       "      <td>AGROACRE SA DE CV</td>\n",
       "      <td>115111</td>\n",
       "      <td>Servicios de fumigación agrícola</td>\n",
       "      <td>0 a 5 personas</td>\n",
       "      <td>CALLE</td>\n",
       "      <td>LATERAL</td>\n",
       "      <td>CALLEJON</td>\n",
       "      <td>NINGUNO</td>\n",
       "      <td>CALLE</td>\n",
       "      <td>CARRETERA A LA HEDIONDILLA</td>\n",
       "      <td>CALLE</td>\n",
       "      <td>CARRETERA A LA HEDIONDILLA</td>\n",
       "      <td>NaN</td>\n",
       "      <td>SN</td>\n",
       "      <td>NaN</td>\n",
       "      <td>NaN</td>\n",
       "      <td>NaN</td>\n",
       "      <td>NaN</td>\n",
       "      <td>LOCALIDAD</td>\n",
       "      <td>SAN RAFAEL</td>\n",
       "      <td>NaN</td>\n",
       "      <td>NaN</td>\n",
       "      <td>NaN</td>\n",
       "      <td>67865.0</td>\n",
       "      <td>19</td>\n",
       "      <td>NUEVO LEÓN</td>\n",
       "      <td>17</td>\n",
       "      <td>Galeana</td>\n",
       "      <td>153</td>\n",
       "      <td>San Rafael</td>\n",
       "      <td>0040</td>\n",
       "      <td>14</td>\n",
       "      <td>NaN</td>\n",
       "      <td>NaN</td>\n",
       "      <td>NaN</td>\n",
       "      <td>Fijo</td>\n",
       "      <td>25.029622</td>\n",
       "      <td>-100.555724</td>\n",
       "      <td>2019-11</td>\n",
       "    </tr>\n",
       "    <tr>\n",
       "      <th>1</th>\n",
       "      <td>9076621</td>\n",
       "      <td>19039115310000013000000000U5</td>\n",
       "      <td>ARQUITECTURA Y PAISAJISMO</td>\n",
       "      <td>ARQUITECTURA Y PAISAJISMO SA DE CV</td>\n",
       "      <td>115310</td>\n",
       "      <td>Servicios relacionados con el aprovechamiento ...</td>\n",
       "      <td>11 a 30 personas</td>\n",
       "      <td>CALLE</td>\n",
       "      <td>SAN REMO</td>\n",
       "      <td>CALLE</td>\n",
       "      <td>MARZALA</td>\n",
       "      <td>CALLE</td>\n",
       "      <td>CESENA</td>\n",
       "      <td>CALLE</td>\n",
       "      <td>NOVARA</td>\n",
       "      <td>5108.0</td>\n",
       "      <td>SN</td>\n",
       "      <td>NaN</td>\n",
       "      <td>NaN</td>\n",
       "      <td>NaN</td>\n",
       "      <td>NaN</td>\n",
       "      <td>COLONIA</td>\n",
       "      <td>SANTA CECILIA</td>\n",
       "      <td>NaN</td>\n",
       "      <td>NaN</td>\n",
       "      <td>NaN</td>\n",
       "      <td>64150.0</td>\n",
       "      <td>19</td>\n",
       "      <td>NUEVO LEÓN</td>\n",
       "      <td>39</td>\n",
       "      <td>Monterrey</td>\n",
       "      <td>1</td>\n",
       "      <td>Monterrey</td>\n",
       "      <td>4106</td>\n",
       "      <td>25</td>\n",
       "      <td>14255945</td>\n",
       "      <td>NaN</td>\n",
       "      <td>NaN</td>\n",
       "      <td>Fijo</td>\n",
       "      <td>25.729396</td>\n",
       "      <td>-100.362220</td>\n",
       "      <td>2019-11</td>\n",
       "    </tr>\n",
       "    <tr>\n",
       "      <th>2</th>\n",
       "      <td>7961265</td>\n",
       "      <td>19040115210000011000000000U9</td>\n",
       "      <td>ASOCIACION GANADERA PARAS NL</td>\n",
       "      <td>ASOCIACION GANADERA PARAS NL</td>\n",
       "      <td>115210</td>\n",
       "      <td>Servicios relacionados con la cría y explotaci...</td>\n",
       "      <td>0 a 5 personas</td>\n",
       "      <td>CALLE</td>\n",
       "      <td>GENERAL IRINEO VILLARREAL</td>\n",
       "      <td>PRIVADA</td>\n",
       "      <td>LIBRAMIENTO</td>\n",
       "      <td>OTRO (ESPECIFIQUE)</td>\n",
       "      <td>NINGUNO</td>\n",
       "      <td>OTRO (ESPECIFIQUE)</td>\n",
       "      <td>VEREDA</td>\n",
       "      <td>0.0</td>\n",
       "      <td>SN</td>\n",
       "      <td>NaN</td>\n",
       "      <td>NaN</td>\n",
       "      <td>0.0</td>\n",
       "      <td>NaN</td>\n",
       "      <td>FRACCIONAMIENTO</td>\n",
       "      <td>FRACCIONAMIENTO DEL NORTE</td>\n",
       "      <td>NaN</td>\n",
       "      <td>NaN</td>\n",
       "      <td>NaN</td>\n",
       "      <td>65450.0</td>\n",
       "      <td>19</td>\n",
       "      <td>NUEVO LEÓN</td>\n",
       "      <td>40</td>\n",
       "      <td>Parás</td>\n",
       "      <td>1</td>\n",
       "      <td>Parás</td>\n",
       "      <td>027A</td>\n",
       "      <td>5</td>\n",
       "      <td>NaN</td>\n",
       "      <td>NaN</td>\n",
       "      <td>NaN</td>\n",
       "      <td>Fijo</td>\n",
       "      <td>26.504982</td>\n",
       "      <td>-99.531195</td>\n",
       "      <td>2019-11</td>\n",
       "    </tr>\n",
       "    <tr>\n",
       "      <th>3</th>\n",
       "      <td>8970903</td>\n",
       "      <td>19039561110002571000000000S3</td>\n",
       "      <td>BASCULAS TABESA</td>\n",
       "      <td>BASULAS TABESA SA DE CV</td>\n",
       "      <td>115210</td>\n",
       "      <td>Servicios relacionados con la cría y explotaci...</td>\n",
       "      <td>0 a 5 personas</td>\n",
       "      <td>CALLE</td>\n",
       "      <td>HEROICO COLEGIO MILITAR</td>\n",
       "      <td>CALLE</td>\n",
       "      <td>LAURELES</td>\n",
       "      <td>CALLE</td>\n",
       "      <td>LORENZO GARZA</td>\n",
       "      <td>CALLE</td>\n",
       "      <td>ALAMILLO</td>\n",
       "      <td>335.0</td>\n",
       "      <td>NaN</td>\n",
       "      <td>NaN</td>\n",
       "      <td>NaN</td>\n",
       "      <td>NaN</td>\n",
       "      <td>NaN</td>\n",
       "      <td>COLONIA</td>\n",
       "      <td>DEL PRADO</td>\n",
       "      <td>NaN</td>\n",
       "      <td>NaN</td>\n",
       "      <td>NaN</td>\n",
       "      <td>64410.0</td>\n",
       "      <td>19</td>\n",
       "      <td>NUEVO LEÓN</td>\n",
       "      <td>39</td>\n",
       "      <td>Monterrey</td>\n",
       "      <td>1</td>\n",
       "      <td>Monterrey</td>\n",
       "      <td>0974</td>\n",
       "      <td>11</td>\n",
       "      <td>NaN</td>\n",
       "      <td>NaN</td>\n",
       "      <td>NaN</td>\n",
       "      <td>Fijo</td>\n",
       "      <td>25.700193</td>\n",
       "      <td>-100.314323</td>\n",
       "      <td>2019-11</td>\n",
       "    </tr>\n",
       "    <tr>\n",
       "      <th>4</th>\n",
       "      <td>8533179</td>\n",
       "      <td>19026115210000012000000000U6</td>\n",
       "      <td>BEEF MASTER</td>\n",
       "      <td>ASOCIACION MEXICANA DE CRIADORES DE GANADO SA ...</td>\n",
       "      <td>115210</td>\n",
       "      <td>Servicios relacionados con la cría y explotaci...</td>\n",
       "      <td>6 a 10 personas</td>\n",
       "      <td>AVENIDA</td>\n",
       "      <td>BENITO JUAREZ</td>\n",
       "      <td>CALLE</td>\n",
       "      <td>LOS PINOS</td>\n",
       "      <td>CALLE</td>\n",
       "      <td>FRESNO</td>\n",
       "      <td>CALLE</td>\n",
       "      <td>APERTURA</td>\n",
       "      <td>4595.0</td>\n",
       "      <td>NaN</td>\n",
       "      <td>CENTRO Y PLAZA COMERCIAL</td>\n",
       "      <td>PISO 1</td>\n",
       "      <td>NaN</td>\n",
       "      <td>NaN</td>\n",
       "      <td>COLONIA</td>\n",
       "      <td>INFONAVIT SOLIDARIDAD</td>\n",
       "      <td>CENTRO Y PLAZA COMERCIAL</td>\n",
       "      <td>PLAZA VISTA</td>\n",
       "      <td>12-C</td>\n",
       "      <td>67169.0</td>\n",
       "      <td>19</td>\n",
       "      <td>NUEVO LEÓN</td>\n",
       "      <td>26</td>\n",
       "      <td>Guadalupe</td>\n",
       "      <td>1</td>\n",
       "      <td>Guadalupe</td>\n",
       "      <td>2239</td>\n",
       "      <td>23</td>\n",
       "      <td>NaN</td>\n",
       "      <td>PAGOS@BEEFMASTER.ORG.MX</td>\n",
       "      <td>WWW.BEEFMASTER.ORG.MX</td>\n",
       "      <td>Fijo</td>\n",
       "      <td>25.675023</td>\n",
       "      <td>-100.211547</td>\n",
       "      <td>2019-11</td>\n",
       "    </tr>\n",
       "    <tr>\n",
       "      <th>...</th>\n",
       "      <td>...</td>\n",
       "      <td>...</td>\n",
       "      <td>...</td>\n",
       "      <td>...</td>\n",
       "      <td>...</td>\n",
       "      <td>...</td>\n",
       "      <td>...</td>\n",
       "      <td>...</td>\n",
       "      <td>...</td>\n",
       "      <td>...</td>\n",
       "      <td>...</td>\n",
       "      <td>...</td>\n",
       "      <td>...</td>\n",
       "      <td>...</td>\n",
       "      <td>...</td>\n",
       "      <td>...</td>\n",
       "      <td>...</td>\n",
       "      <td>...</td>\n",
       "      <td>...</td>\n",
       "      <td>...</td>\n",
       "      <td>...</td>\n",
       "      <td>...</td>\n",
       "      <td>...</td>\n",
       "      <td>...</td>\n",
       "      <td>...</td>\n",
       "      <td>...</td>\n",
       "      <td>...</td>\n",
       "      <td>...</td>\n",
       "      <td>...</td>\n",
       "      <td>...</td>\n",
       "      <td>...</td>\n",
       "      <td>...</td>\n",
       "      <td>...</td>\n",
       "      <td>...</td>\n",
       "      <td>...</td>\n",
       "      <td>...</td>\n",
       "      <td>...</td>\n",
       "      <td>...</td>\n",
       "      <td>...</td>\n",
       "      <td>...</td>\n",
       "      <td>...</td>\n",
       "      <td>...</td>\n",
       "    </tr>\n",
       "    <tr>\n",
       "      <th>186267</th>\n",
       "      <td>2933186</td>\n",
       "      <td>19021931210000232000000000U3</td>\n",
       "      <td>VOCALIA EJECUTIVA PAR ALA REGULARIZACION DE LA...</td>\n",
       "      <td>MUNICIPIO GENERAL ESCOBEDO</td>\n",
       "      <td>931210</td>\n",
       "      <td>Administración pública en general</td>\n",
       "      <td>0 a 5 personas</td>\n",
       "      <td>CALLE</td>\n",
       "      <td>FRANCISCO I. MADERO</td>\n",
       "      <td>CALLE</td>\n",
       "      <td>LICENCIADO BENITO JUAREZ</td>\n",
       "      <td>CALLE</td>\n",
       "      <td>MIGUEL HIDALGO Y COSTILLA</td>\n",
       "      <td>AVENIDA</td>\n",
       "      <td>LICENCIADO RAÚL CABALLERO ESCAMILLA</td>\n",
       "      <td>201.0</td>\n",
       "      <td>NaN</td>\n",
       "      <td>EDIFICIO SIN NOMBRE</td>\n",
       "      <td>PISO 2</td>\n",
       "      <td>NaN</td>\n",
       "      <td>NaN</td>\n",
       "      <td>COLONIA</td>\n",
       "      <td>GENERAL ESCOBEDO CENTRO</td>\n",
       "      <td>NaN</td>\n",
       "      <td>NaN</td>\n",
       "      <td>NaN</td>\n",
       "      <td>66050.0</td>\n",
       "      <td>19</td>\n",
       "      <td>NUEVO LEÓN</td>\n",
       "      <td>21</td>\n",
       "      <td>General Escobedo</td>\n",
       "      <td>1</td>\n",
       "      <td>Ciudad General Escobedo</td>\n",
       "      <td>0414</td>\n",
       "      <td>16</td>\n",
       "      <td>NaN</td>\n",
       "      <td>NaN</td>\n",
       "      <td>NaN</td>\n",
       "      <td>Fijo</td>\n",
       "      <td>25.808627</td>\n",
       "      <td>-100.323785</td>\n",
       "      <td>2014-12</td>\n",
       "    </tr>\n",
       "    <tr>\n",
       "      <th>186268</th>\n",
       "      <td>3018636</td>\n",
       "      <td>19002931210000081000000000U4</td>\n",
       "      <td>YONKE MUNICIPAL</td>\n",
       "      <td>GOBIERNO</td>\n",
       "      <td>931210</td>\n",
       "      <td>Administración pública en general</td>\n",
       "      <td>6 a 10 personas</td>\n",
       "      <td>CALLE</td>\n",
       "      <td>RIO ALAMO</td>\n",
       "      <td>CALLE</td>\n",
       "      <td>LIBRAMIENTO A NOGALES</td>\n",
       "      <td>CALLE</td>\n",
       "      <td>RIO CONCHOS</td>\n",
       "      <td>CALLE</td>\n",
       "      <td>RÍO ÁLAMO</td>\n",
       "      <td>NaN</td>\n",
       "      <td>SN</td>\n",
       "      <td>NaN</td>\n",
       "      <td>NaN</td>\n",
       "      <td>NaN</td>\n",
       "      <td>SN</td>\n",
       "      <td>COLONIA</td>\n",
       "      <td>CENTRO</td>\n",
       "      <td>NaN</td>\n",
       "      <td>NaN</td>\n",
       "      <td>NaN</td>\n",
       "      <td>65800.0</td>\n",
       "      <td>19</td>\n",
       "      <td>NUEVO LEÓN</td>\n",
       "      <td>2</td>\n",
       "      <td>Agualeguas</td>\n",
       "      <td>1</td>\n",
       "      <td>Agualeguas</td>\n",
       "      <td>0279</td>\n",
       "      <td>20</td>\n",
       "      <td>NaN</td>\n",
       "      <td>NaN</td>\n",
       "      <td>NaN</td>\n",
       "      <td>Fijo</td>\n",
       "      <td>26.301663</td>\n",
       "      <td>-99.544980</td>\n",
       "      <td>2010-07</td>\n",
       "    </tr>\n",
       "    <tr>\n",
       "      <th>186269</th>\n",
       "      <td>7318936</td>\n",
       "      <td>19044931210000261000000000U4</td>\n",
       "      <td>ZONA ESCOLAR NO. 65</td>\n",
       "      <td>ZONA ESCOLAR NO.65</td>\n",
       "      <td>931210</td>\n",
       "      <td>Administración pública en general</td>\n",
       "      <td>0 a 5 personas</td>\n",
       "      <td>CALLE</td>\n",
       "      <td>BENITO JUAREZ</td>\n",
       "      <td>CALLE</td>\n",
       "      <td>BENITO JUAREZ</td>\n",
       "      <td>CALLE</td>\n",
       "      <td>NICOLAS BRAVO</td>\n",
       "      <td>CALLE</td>\n",
       "      <td>DOCTOR COSS</td>\n",
       "      <td>NaN</td>\n",
       "      <td>SN</td>\n",
       "      <td>NaN</td>\n",
       "      <td>NaN</td>\n",
       "      <td>NaN</td>\n",
       "      <td>NaN</td>\n",
       "      <td>COLONIA</td>\n",
       "      <td>SABINAS HIDALGO CENTRO</td>\n",
       "      <td>NaN</td>\n",
       "      <td>NaN</td>\n",
       "      <td>NaN</td>\n",
       "      <td>65200.0</td>\n",
       "      <td>19</td>\n",
       "      <td>NUEVO LEÓN</td>\n",
       "      <td>44</td>\n",
       "      <td>Sabinas Hidalgo</td>\n",
       "      <td>1</td>\n",
       "      <td>Ciudad Sabinas Hidalgo</td>\n",
       "      <td>0601</td>\n",
       "      <td>7</td>\n",
       "      <td>NaN</td>\n",
       "      <td>NaN</td>\n",
       "      <td>NaN</td>\n",
       "      <td>Fijo</td>\n",
       "      <td>26.500012</td>\n",
       "      <td>-100.178903</td>\n",
       "      <td>2019-11</td>\n",
       "    </tr>\n",
       "    <tr>\n",
       "      <th>186270</th>\n",
       "      <td>2939891</td>\n",
       "      <td>19044931610000121000000000U1</td>\n",
       "      <td>ZONA ESCOLAR NUMERO 19 DE EDUCACIÓN ESPECIAL</td>\n",
       "      <td>SECRETARÍA DE EDUCACIÓN</td>\n",
       "      <td>931610</td>\n",
       "      <td>Actividades administrativas de instituciones d...</td>\n",
       "      <td>0 a 5 personas</td>\n",
       "      <td>CALLE</td>\n",
       "      <td>BERNARDO REYES</td>\n",
       "      <td>CALLE</td>\n",
       "      <td>GALEANA</td>\n",
       "      <td>CALLE</td>\n",
       "      <td>NICOLAS BRAVO</td>\n",
       "      <td>CALLE</td>\n",
       "      <td>ZUAZUA</td>\n",
       "      <td>NaN</td>\n",
       "      <td>SN</td>\n",
       "      <td>NaN</td>\n",
       "      <td>NaN</td>\n",
       "      <td>NaN</td>\n",
       "      <td>NaN</td>\n",
       "      <td>COLONIA</td>\n",
       "      <td>CENTRO</td>\n",
       "      <td>NaN</td>\n",
       "      <td>NaN</td>\n",
       "      <td>NaN</td>\n",
       "      <td>65200.0</td>\n",
       "      <td>19</td>\n",
       "      <td>NUEVO LEÓN</td>\n",
       "      <td>44</td>\n",
       "      <td>Sabinas Hidalgo</td>\n",
       "      <td>1</td>\n",
       "      <td>Ciudad Sabinas Hidalgo</td>\n",
       "      <td>0546</td>\n",
       "      <td>13</td>\n",
       "      <td>NaN</td>\n",
       "      <td>NaN</td>\n",
       "      <td>NaN</td>\n",
       "      <td>Fijo</td>\n",
       "      <td>26.506484</td>\n",
       "      <td>-100.176547</td>\n",
       "      <td>2014-12</td>\n",
       "    </tr>\n",
       "    <tr>\n",
       "      <th>186271</th>\n",
       "      <td>9030774</td>\n",
       "      <td>19026931410000663000000000U4</td>\n",
       "      <td>ZONA NUMERO 2 POLICIA</td>\n",
       "      <td>SECRETARIA DE SEGURIDAD PUBLICA DE GUADALUPE</td>\n",
       "      <td>931410</td>\n",
       "      <td>Impartición de justicia y mantenimiento de la ...</td>\n",
       "      <td>11 a 30 personas</td>\n",
       "      <td>CALLE</td>\n",
       "      <td>RIO PAPALOAPAN</td>\n",
       "      <td>CALLE</td>\n",
       "      <td>SANTA CRUZ</td>\n",
       "      <td>CALLE</td>\n",
       "      <td>RIO LA SILLA</td>\n",
       "      <td>CALLE</td>\n",
       "      <td>RÍO ANA</td>\n",
       "      <td>NaN</td>\n",
       "      <td>SN</td>\n",
       "      <td>NaN</td>\n",
       "      <td>NaN</td>\n",
       "      <td>NaN</td>\n",
       "      <td>NaN</td>\n",
       "      <td>COLONIA</td>\n",
       "      <td>DOS RIOS</td>\n",
       "      <td>NaN</td>\n",
       "      <td>NaN</td>\n",
       "      <td>NaN</td>\n",
       "      <td>67168.0</td>\n",
       "      <td>19</td>\n",
       "      <td>NUEVO LEÓN</td>\n",
       "      <td>26</td>\n",
       "      <td>Guadalupe</td>\n",
       "      <td>1</td>\n",
       "      <td>Guadalupe</td>\n",
       "      <td>2192</td>\n",
       "      <td>17</td>\n",
       "      <td>NaN</td>\n",
       "      <td>NaN</td>\n",
       "      <td>NaN</td>\n",
       "      <td>Fijo</td>\n",
       "      <td>25.677766</td>\n",
       "      <td>-100.161015</td>\n",
       "      <td>2019-11</td>\n",
       "    </tr>\n",
       "  </tbody>\n",
       "</table>\n",
       "<p>186272 rows × 42 columns</p>\n",
       "</div>"
      ],
      "text/plain": [
       "             id                          clee  \\\n",
       "0       8777590  19017115111000011000000000U7   \n",
       "1       9076621  19039115310000013000000000U5   \n",
       "2       7961265  19040115210000011000000000U9   \n",
       "3       8970903  19039561110002571000000000S3   \n",
       "4       8533179  19026115210000012000000000U6   \n",
       "...         ...                           ...   \n",
       "186267  2933186  19021931210000232000000000U3   \n",
       "186268  3018636  19002931210000081000000000U4   \n",
       "186269  7318936  19044931210000261000000000U4   \n",
       "186270  2939891  19044931610000121000000000U1   \n",
       "186271  9030774  19026931410000663000000000U4   \n",
       "\n",
       "                                                nom_estab  \\\n",
       "0                                     AGROACRE SAN RAFAEL   \n",
       "1                               ARQUITECTURA Y PAISAJISMO   \n",
       "2                            ASOCIACION GANADERA PARAS NL   \n",
       "3                                         BASCULAS TABESA   \n",
       "4                                             BEEF MASTER   \n",
       "...                                                   ...   \n",
       "186267  VOCALIA EJECUTIVA PAR ALA REGULARIZACION DE LA...   \n",
       "186268                                    YONKE MUNICIPAL   \n",
       "186269                                ZONA ESCOLAR NO. 65   \n",
       "186270       ZONA ESCOLAR NUMERO 19 DE EDUCACIÓN ESPECIAL   \n",
       "186271                              ZONA NUMERO 2 POLICIA   \n",
       "\n",
       "                                               raz_social  codigo_act  \\\n",
       "0                                       AGROACRE SA DE CV      115111   \n",
       "1                      ARQUITECTURA Y PAISAJISMO SA DE CV      115310   \n",
       "2                           ASOCIACION GANADERA PARAS NL       115210   \n",
       "3                                 BASULAS TABESA SA DE CV      115210   \n",
       "4       ASOCIACION MEXICANA DE CRIADORES DE GANADO SA ...      115210   \n",
       "...                                                   ...         ...   \n",
       "186267                        MUNICIPIO GENERAL ESCOBEDO       931210   \n",
       "186268                                          GOBIERNO       931210   \n",
       "186269                                ZONA ESCOLAR NO.65       931210   \n",
       "186270                           SECRETARÍA DE EDUCACIÓN       931610   \n",
       "186271      SECRETARIA DE SEGURIDAD PUBLICA DE GUADALUPE       931410   \n",
       "\n",
       "                                               nombre_act           per_ocu  \\\n",
       "0                        Servicios de fumigación agrícola    0 a 5 personas   \n",
       "1       Servicios relacionados con el aprovechamiento ...  11 a 30 personas   \n",
       "2       Servicios relacionados con la cría y explotaci...    0 a 5 personas   \n",
       "3       Servicios relacionados con la cría y explotaci...    0 a 5 personas   \n",
       "4       Servicios relacionados con la cría y explotaci...   6 a 10 personas   \n",
       "...                                                   ...               ...   \n",
       "186267                  Administración pública en general    0 a 5 personas   \n",
       "186268                  Administración pública en general   6 a 10 personas   \n",
       "186269                  Administración pública en general    0 a 5 personas   \n",
       "186270  Actividades administrativas de instituciones d...    0 a 5 personas   \n",
       "186271  Impartición de justicia y mantenimiento de la ...  11 a 30 personas   \n",
       "\n",
       "       tipo_vial                   nom_vial tipo_v_e_1  \\\n",
       "0          CALLE                    LATERAL   CALLEJON   \n",
       "1          CALLE                   SAN REMO      CALLE   \n",
       "2          CALLE  GENERAL IRINEO VILLARREAL    PRIVADA   \n",
       "3          CALLE    HEROICO COLEGIO MILITAR      CALLE   \n",
       "4        AVENIDA              BENITO JUAREZ      CALLE   \n",
       "...          ...                        ...        ...   \n",
       "186267     CALLE        FRANCISCO I. MADERO      CALLE   \n",
       "186268     CALLE                  RIO ALAMO      CALLE   \n",
       "186269     CALLE              BENITO JUAREZ      CALLE   \n",
       "186270     CALLE             BERNARDO REYES      CALLE   \n",
       "186271     CALLE             RIO PAPALOAPAN      CALLE   \n",
       "\n",
       "                       nom_v_e_1          tipo_v_e_2  \\\n",
       "0                        NINGUNO               CALLE   \n",
       "1                        MARZALA               CALLE   \n",
       "2                    LIBRAMIENTO  OTRO (ESPECIFIQUE)   \n",
       "3                       LAURELES               CALLE   \n",
       "4                      LOS PINOS               CALLE   \n",
       "...                          ...                 ...   \n",
       "186267  LICENCIADO BENITO JUAREZ               CALLE   \n",
       "186268     LIBRAMIENTO A NOGALES               CALLE   \n",
       "186269             BENITO JUAREZ               CALLE   \n",
       "186270                   GALEANA               CALLE   \n",
       "186271                SANTA CRUZ               CALLE   \n",
       "\n",
       "                         nom_v_e_2          tipo_v_e_3  \\\n",
       "0       CARRETERA A LA HEDIONDILLA               CALLE   \n",
       "1                           CESENA               CALLE   \n",
       "2                          NINGUNO  OTRO (ESPECIFIQUE)   \n",
       "3                    LORENZO GARZA               CALLE   \n",
       "4                           FRESNO               CALLE   \n",
       "...                            ...                 ...   \n",
       "186267   MIGUEL HIDALGO Y COSTILLA             AVENIDA   \n",
       "186268                 RIO CONCHOS               CALLE   \n",
       "186269               NICOLAS BRAVO               CALLE   \n",
       "186270               NICOLAS BRAVO               CALLE   \n",
       "186271                RIO LA SILLA               CALLE   \n",
       "\n",
       "                                  nom_v_e_3  numero_ext letra_ext  \\\n",
       "0                CARRETERA A LA HEDIONDILLA         NaN        SN   \n",
       "1                                    NOVARA      5108.0        SN   \n",
       "2                                    VEREDA         0.0        SN   \n",
       "3                                  ALAMILLO       335.0       NaN   \n",
       "4                                  APERTURA      4595.0       NaN   \n",
       "...                                     ...         ...       ...   \n",
       "186267  LICENCIADO RAÚL CABALLERO ESCAMILLA       201.0       NaN   \n",
       "186268                            RÍO ÁLAMO         NaN        SN   \n",
       "186269                          DOCTOR COSS         NaN        SN   \n",
       "186270                               ZUAZUA         NaN        SN   \n",
       "186271                              RÍO ANA         NaN        SN   \n",
       "\n",
       "                        edificio edificio_e  numero_int letra_int  \\\n",
       "0                            NaN        NaN         NaN       NaN   \n",
       "1                            NaN        NaN         NaN       NaN   \n",
       "2                            NaN        NaN         0.0       NaN   \n",
       "3                            NaN        NaN         NaN       NaN   \n",
       "4       CENTRO Y PLAZA COMERCIAL     PISO 1         NaN       NaN   \n",
       "...                          ...        ...         ...       ...   \n",
       "186267       EDIFICIO SIN NOMBRE     PISO 2         NaN       NaN   \n",
       "186268                       NaN        NaN         NaN        SN   \n",
       "186269                       NaN        NaN         NaN       NaN   \n",
       "186270                       NaN        NaN         NaN       NaN   \n",
       "186271                       NaN        NaN         NaN       NaN   \n",
       "\n",
       "             tipo_asent                 nomb_asent                tipoCenCom  \\\n",
       "0             LOCALIDAD                 SAN RAFAEL                       NaN   \n",
       "1               COLONIA              SANTA CECILIA                       NaN   \n",
       "2       FRACCIONAMIENTO  FRACCIONAMIENTO DEL NORTE                       NaN   \n",
       "3               COLONIA                  DEL PRADO                       NaN   \n",
       "4               COLONIA      INFONAVIT SOLIDARIDAD  CENTRO Y PLAZA COMERCIAL   \n",
       "...                 ...                        ...                       ...   \n",
       "186267          COLONIA    GENERAL ESCOBEDO CENTRO                       NaN   \n",
       "186268          COLONIA                     CENTRO                       NaN   \n",
       "186269          COLONIA     SABINAS HIDALGO CENTRO                       NaN   \n",
       "186270          COLONIA                     CENTRO                       NaN   \n",
       "186271          COLONIA                   DOS RIOS                       NaN   \n",
       "\n",
       "         nom_CenCom num_local  cod_postal  cve_ent        entidad  cve_mun  \\\n",
       "0               NaN       NaN     67865.0       19  NUEVO LEÓN          17   \n",
       "1               NaN       NaN     64150.0       19  NUEVO LEÓN          39   \n",
       "2               NaN       NaN     65450.0       19  NUEVO LEÓN          40   \n",
       "3               NaN       NaN     64410.0       19  NUEVO LEÓN          39   \n",
       "4       PLAZA VISTA      12-C     67169.0       19  NUEVO LEÓN          26   \n",
       "...             ...       ...         ...      ...            ...      ...   \n",
       "186267          NaN       NaN     66050.0       19  NUEVO LEÓN          21   \n",
       "186268          NaN       NaN     65800.0       19  NUEVO LEÓN           2   \n",
       "186269          NaN       NaN     65200.0       19  NUEVO LEÓN          44   \n",
       "186270          NaN       NaN     65200.0       19  NUEVO LEÓN          44   \n",
       "186271          NaN       NaN     67168.0       19  NUEVO LEÓN          26   \n",
       "\n",
       "               municipio  cve_loc                localidad  ageb  manzana  \\\n",
       "0                Galeana      153               San Rafael  0040       14   \n",
       "1              Monterrey        1                Monterrey  4106       25   \n",
       "2                  Parás        1                    Parás  027A        5   \n",
       "3              Monterrey        1                Monterrey  0974       11   \n",
       "4              Guadalupe        1                Guadalupe  2239       23   \n",
       "...                  ...      ...                      ...   ...      ...   \n",
       "186267  General Escobedo        1  Ciudad General Escobedo  0414       16   \n",
       "186268        Agualeguas        1               Agualeguas  0279       20   \n",
       "186269   Sabinas Hidalgo        1   Ciudad Sabinas Hidalgo  0601        7   \n",
       "186270   Sabinas Hidalgo        1   Ciudad Sabinas Hidalgo  0546       13   \n",
       "186271         Guadalupe        1                Guadalupe  2192       17   \n",
       "\n",
       "        telefono               correoelec                    www tipoUniEco  \\\n",
       "0            NaN                      NaN                    NaN       Fijo   \n",
       "1       14255945                      NaN                    NaN       Fijo   \n",
       "2            NaN                      NaN                    NaN       Fijo   \n",
       "3            NaN                      NaN                    NaN       Fijo   \n",
       "4            NaN  PAGOS@BEEFMASTER.ORG.MX  WWW.BEEFMASTER.ORG.MX       Fijo   \n",
       "...          ...                      ...                    ...        ...   \n",
       "186267       NaN                      NaN                    NaN       Fijo   \n",
       "186268       NaN                      NaN                    NaN       Fijo   \n",
       "186269       NaN                      NaN                    NaN       Fijo   \n",
       "186270       NaN                      NaN                    NaN       Fijo   \n",
       "186271       NaN                      NaN                    NaN       Fijo   \n",
       "\n",
       "          latitud    longitud fecha_alta  \n",
       "0       25.029622 -100.555724    2019-11  \n",
       "1       25.729396 -100.362220    2019-11  \n",
       "2       26.504982  -99.531195    2019-11  \n",
       "3       25.700193 -100.314323    2019-11  \n",
       "4       25.675023 -100.211547    2019-11  \n",
       "...           ...         ...        ...  \n",
       "186267  25.808627 -100.323785    2014-12  \n",
       "186268  26.301663  -99.544980    2010-07  \n",
       "186269  26.500012 -100.178903    2019-11  \n",
       "186270  26.506484 -100.176547    2014-12  \n",
       "186271  25.677766 -100.161015    2019-11  \n",
       "\n",
       "[186272 rows x 42 columns]"
      ]
     },
     "execution_count": 21,
     "metadata": {},
     "output_type": "execute_result"
    }
   ],
   "source": [
    "path=\"C:/Users/HUGO/Desktop/Maestria en CIENCIA DE DATOS UANL/DatosMasivos/\"\n",
    "denue=pd.read_csv(path+\"conjunto_de_datos/denue_inegi_19_.csv\",encoding=\"ISO-8859-1\") #info al 22\n",
    "denue"
   ]
  },
  {
   "cell_type": "code",
   "execution_count": 22,
   "metadata": {
    "scrolled": true
   },
   "outputs": [
    {
     "data": {
      "text/plain": [
       "id                 0\n",
       "clee               0\n",
       "nom_estab          0\n",
       "raz_social    119816\n",
       "codigo_act         0\n",
       "nombre_act         0\n",
       "per_ocu            0\n",
       "tipo_vial       1133\n",
       "nom_vial           9\n",
       "tipo_v_e_1      6358\n",
       "nom_v_e_1       5560\n",
       "tipo_v_e_2      6349\n",
       "nom_v_e_2       5587\n",
       "tipo_v_e_3      6257\n",
       "nom_v_e_3       5639\n",
       "numero_ext     40574\n",
       "letra_ext     120386\n",
       "edificio      170886\n",
       "edificio_e    169734\n",
       "numero_int    129872\n",
       "letra_int     177295\n",
       "tipo_asent       862\n",
       "nomb_asent       113\n",
       "tipoCenCom    169487\n",
       "nom_CenCom    169373\n",
       "num_local     170502\n",
       "cod_postal      2839\n",
       "cve_ent            0\n",
       "entidad            0\n",
       "cve_mun            0\n",
       "municipio          0\n",
       "cve_loc            0\n",
       "localidad          0\n",
       "ageb               0\n",
       "manzana            0\n",
       "telefono      124022\n",
       "correoelec    145974\n",
       "www           166537\n",
       "tipoUniEco         0\n",
       "latitud            0\n",
       "longitud           0\n",
       "fecha_alta         0\n",
       "dtype: int64"
      ]
     },
     "execution_count": 22,
     "metadata": {},
     "output_type": "execute_result"
    }
   ],
   "source": [
    "denue.isna().sum()"
   ]
  },
  {
   "cell_type": "code",
   "execution_count": 24,
   "metadata": {
    "scrolled": true
   },
   "outputs": [
    {
     "data": {
      "text/html": [
       "<div>\n",
       "<style scoped>\n",
       "    .dataframe tbody tr th:only-of-type {\n",
       "        vertical-align: middle;\n",
       "    }\n",
       "\n",
       "    .dataframe tbody tr th {\n",
       "        vertical-align: top;\n",
       "    }\n",
       "\n",
       "    .dataframe thead th {\n",
       "        text-align: right;\n",
       "    }\n",
       "</style>\n",
       "<table border=\"1\" class=\"dataframe\">\n",
       "  <thead>\n",
       "    <tr style=\"text-align: right;\">\n",
       "      <th></th>\n",
       "      <th>id</th>\n",
       "      <th>nom_estab</th>\n",
       "      <th>raz_social</th>\n",
       "      <th>codigo_act</th>\n",
       "      <th>nombre_act</th>\n",
       "      <th>per_ocu</th>\n",
       "      <th>tipo_vial</th>\n",
       "      <th>nom_vial</th>\n",
       "      <th>tipo_v_e_1</th>\n",
       "      <th>nom_v_e_1</th>\n",
       "      <th>tipo_v_e_2</th>\n",
       "      <th>nom_v_e_2</th>\n",
       "      <th>tipo_v_e_3</th>\n",
       "      <th>nom_v_e_3</th>\n",
       "      <th>numero_ext</th>\n",
       "      <th>letra_ext</th>\n",
       "      <th>tipo_asent</th>\n",
       "      <th>nomb_asent</th>\n",
       "      <th>cod_postal</th>\n",
       "      <th>cve_ent</th>\n",
       "      <th>entidad</th>\n",
       "      <th>cve_mun</th>\n",
       "      <th>municipio</th>\n",
       "      <th>cve_loc</th>\n",
       "      <th>localidad</th>\n",
       "      <th>ageb</th>\n",
       "      <th>manzana</th>\n",
       "      <th>tipoUniEco</th>\n",
       "      <th>latitud</th>\n",
       "      <th>longitud</th>\n",
       "      <th>fecha_alta</th>\n",
       "      <th>wsite</th>\n",
       "    </tr>\n",
       "  </thead>\n",
       "  <tbody>\n",
       "    <tr>\n",
       "      <th>0</th>\n",
       "      <td>8777590</td>\n",
       "      <td>AGROACRE SAN RAFAEL</td>\n",
       "      <td>AGROACRE SA DE CV</td>\n",
       "      <td>115111</td>\n",
       "      <td>Servicios de fumigación agrícola</td>\n",
       "      <td>0 a 5 personas</td>\n",
       "      <td>CALLE</td>\n",
       "      <td>LATERAL</td>\n",
       "      <td>CALLEJON</td>\n",
       "      <td>NINGUNO</td>\n",
       "      <td>CALLE</td>\n",
       "      <td>CARRETERA A LA HEDIONDILLA</td>\n",
       "      <td>CALLE</td>\n",
       "      <td>CARRETERA A LA HEDIONDILLA</td>\n",
       "      <td>NaN</td>\n",
       "      <td>SN</td>\n",
       "      <td>LOCALIDAD</td>\n",
       "      <td>SAN RAFAEL</td>\n",
       "      <td>67865.0</td>\n",
       "      <td>19</td>\n",
       "      <td>NUEVO LEÓN</td>\n",
       "      <td>17</td>\n",
       "      <td>Galeana</td>\n",
       "      <td>153</td>\n",
       "      <td>San Rafael</td>\n",
       "      <td>0040</td>\n",
       "      <td>14</td>\n",
       "      <td>Fijo</td>\n",
       "      <td>25.029622</td>\n",
       "      <td>-100.555724</td>\n",
       "      <td>2019-11</td>\n",
       "      <td>NaN</td>\n",
       "    </tr>\n",
       "    <tr>\n",
       "      <th>1</th>\n",
       "      <td>9076621</td>\n",
       "      <td>ARQUITECTURA Y PAISAJISMO</td>\n",
       "      <td>ARQUITECTURA Y PAISAJISMO SA DE CV</td>\n",
       "      <td>115310</td>\n",
       "      <td>Servicios relacionados con el aprovechamiento ...</td>\n",
       "      <td>11 a 30 personas</td>\n",
       "      <td>CALLE</td>\n",
       "      <td>SAN REMO</td>\n",
       "      <td>CALLE</td>\n",
       "      <td>MARZALA</td>\n",
       "      <td>CALLE</td>\n",
       "      <td>CESENA</td>\n",
       "      <td>CALLE</td>\n",
       "      <td>NOVARA</td>\n",
       "      <td>5108.0</td>\n",
       "      <td>SN</td>\n",
       "      <td>COLONIA</td>\n",
       "      <td>SANTA CECILIA</td>\n",
       "      <td>64150.0</td>\n",
       "      <td>19</td>\n",
       "      <td>NUEVO LEÓN</td>\n",
       "      <td>39</td>\n",
       "      <td>Monterrey</td>\n",
       "      <td>1</td>\n",
       "      <td>Monterrey</td>\n",
       "      <td>4106</td>\n",
       "      <td>25</td>\n",
       "      <td>Fijo</td>\n",
       "      <td>25.729396</td>\n",
       "      <td>-100.362220</td>\n",
       "      <td>2019-11</td>\n",
       "      <td>NaN</td>\n",
       "    </tr>\n",
       "    <tr>\n",
       "      <th>2</th>\n",
       "      <td>7961265</td>\n",
       "      <td>ASOCIACION GANADERA PARAS NL</td>\n",
       "      <td>ASOCIACION GANADERA PARAS NL</td>\n",
       "      <td>115210</td>\n",
       "      <td>Servicios relacionados con la cría y explotaci...</td>\n",
       "      <td>0 a 5 personas</td>\n",
       "      <td>CALLE</td>\n",
       "      <td>GENERAL IRINEO VILLARREAL</td>\n",
       "      <td>PRIVADA</td>\n",
       "      <td>LIBRAMIENTO</td>\n",
       "      <td>OTRO (ESPECIFIQUE)</td>\n",
       "      <td>NINGUNO</td>\n",
       "      <td>OTRO (ESPECIFIQUE)</td>\n",
       "      <td>VEREDA</td>\n",
       "      <td>0.0</td>\n",
       "      <td>SN</td>\n",
       "      <td>FRACCIONAMIENTO</td>\n",
       "      <td>FRACCIONAMIENTO DEL NORTE</td>\n",
       "      <td>65450.0</td>\n",
       "      <td>19</td>\n",
       "      <td>NUEVO LEÓN</td>\n",
       "      <td>40</td>\n",
       "      <td>Parás</td>\n",
       "      <td>1</td>\n",
       "      <td>Parás</td>\n",
       "      <td>027A</td>\n",
       "      <td>5</td>\n",
       "      <td>Fijo</td>\n",
       "      <td>26.504982</td>\n",
       "      <td>-99.531195</td>\n",
       "      <td>2019-11</td>\n",
       "      <td>NaN</td>\n",
       "    </tr>\n",
       "    <tr>\n",
       "      <th>3</th>\n",
       "      <td>8970903</td>\n",
       "      <td>BASCULAS TABESA</td>\n",
       "      <td>BASULAS TABESA SA DE CV</td>\n",
       "      <td>115210</td>\n",
       "      <td>Servicios relacionados con la cría y explotaci...</td>\n",
       "      <td>0 a 5 personas</td>\n",
       "      <td>CALLE</td>\n",
       "      <td>HEROICO COLEGIO MILITAR</td>\n",
       "      <td>CALLE</td>\n",
       "      <td>LAURELES</td>\n",
       "      <td>CALLE</td>\n",
       "      <td>LORENZO GARZA</td>\n",
       "      <td>CALLE</td>\n",
       "      <td>ALAMILLO</td>\n",
       "      <td>335.0</td>\n",
       "      <td>NaN</td>\n",
       "      <td>COLONIA</td>\n",
       "      <td>DEL PRADO</td>\n",
       "      <td>64410.0</td>\n",
       "      <td>19</td>\n",
       "      <td>NUEVO LEÓN</td>\n",
       "      <td>39</td>\n",
       "      <td>Monterrey</td>\n",
       "      <td>1</td>\n",
       "      <td>Monterrey</td>\n",
       "      <td>0974</td>\n",
       "      <td>11</td>\n",
       "      <td>Fijo</td>\n",
       "      <td>25.700193</td>\n",
       "      <td>-100.314323</td>\n",
       "      <td>2019-11</td>\n",
       "      <td>NaN</td>\n",
       "    </tr>\n",
       "    <tr>\n",
       "      <th>4</th>\n",
       "      <td>8533179</td>\n",
       "      <td>BEEF MASTER</td>\n",
       "      <td>ASOCIACION MEXICANA DE CRIADORES DE GANADO SA ...</td>\n",
       "      <td>115210</td>\n",
       "      <td>Servicios relacionados con la cría y explotaci...</td>\n",
       "      <td>6 a 10 personas</td>\n",
       "      <td>AVENIDA</td>\n",
       "      <td>BENITO JUAREZ</td>\n",
       "      <td>CALLE</td>\n",
       "      <td>LOS PINOS</td>\n",
       "      <td>CALLE</td>\n",
       "      <td>FRESNO</td>\n",
       "      <td>CALLE</td>\n",
       "      <td>APERTURA</td>\n",
       "      <td>4595.0</td>\n",
       "      <td>NaN</td>\n",
       "      <td>COLONIA</td>\n",
       "      <td>INFONAVIT SOLIDARIDAD</td>\n",
       "      <td>67169.0</td>\n",
       "      <td>19</td>\n",
       "      <td>NUEVO LEÓN</td>\n",
       "      <td>26</td>\n",
       "      <td>Guadalupe</td>\n",
       "      <td>1</td>\n",
       "      <td>Guadalupe</td>\n",
       "      <td>2239</td>\n",
       "      <td>23</td>\n",
       "      <td>Fijo</td>\n",
       "      <td>25.675023</td>\n",
       "      <td>-100.211547</td>\n",
       "      <td>2019-11</td>\n",
       "      <td>1.0</td>\n",
       "    </tr>\n",
       "    <tr>\n",
       "      <th>...</th>\n",
       "      <td>...</td>\n",
       "      <td>...</td>\n",
       "      <td>...</td>\n",
       "      <td>...</td>\n",
       "      <td>...</td>\n",
       "      <td>...</td>\n",
       "      <td>...</td>\n",
       "      <td>...</td>\n",
       "      <td>...</td>\n",
       "      <td>...</td>\n",
       "      <td>...</td>\n",
       "      <td>...</td>\n",
       "      <td>...</td>\n",
       "      <td>...</td>\n",
       "      <td>...</td>\n",
       "      <td>...</td>\n",
       "      <td>...</td>\n",
       "      <td>...</td>\n",
       "      <td>...</td>\n",
       "      <td>...</td>\n",
       "      <td>...</td>\n",
       "      <td>...</td>\n",
       "      <td>...</td>\n",
       "      <td>...</td>\n",
       "      <td>...</td>\n",
       "      <td>...</td>\n",
       "      <td>...</td>\n",
       "      <td>...</td>\n",
       "      <td>...</td>\n",
       "      <td>...</td>\n",
       "      <td>...</td>\n",
       "      <td>...</td>\n",
       "    </tr>\n",
       "    <tr>\n",
       "      <th>186267</th>\n",
       "      <td>2933186</td>\n",
       "      <td>VOCALIA EJECUTIVA PAR ALA REGULARIZACION DE LA...</td>\n",
       "      <td>MUNICIPIO GENERAL ESCOBEDO</td>\n",
       "      <td>931210</td>\n",
       "      <td>Administración pública en general</td>\n",
       "      <td>0 a 5 personas</td>\n",
       "      <td>CALLE</td>\n",
       "      <td>FRANCISCO I. MADERO</td>\n",
       "      <td>CALLE</td>\n",
       "      <td>LICENCIADO BENITO JUAREZ</td>\n",
       "      <td>CALLE</td>\n",
       "      <td>MIGUEL HIDALGO Y COSTILLA</td>\n",
       "      <td>AVENIDA</td>\n",
       "      <td>LICENCIADO RAÚL CABALLERO ESCAMILLA</td>\n",
       "      <td>201.0</td>\n",
       "      <td>NaN</td>\n",
       "      <td>COLONIA</td>\n",
       "      <td>GENERAL ESCOBEDO CENTRO</td>\n",
       "      <td>66050.0</td>\n",
       "      <td>19</td>\n",
       "      <td>NUEVO LEÓN</td>\n",
       "      <td>21</td>\n",
       "      <td>General Escobedo</td>\n",
       "      <td>1</td>\n",
       "      <td>Ciudad General Escobedo</td>\n",
       "      <td>0414</td>\n",
       "      <td>16</td>\n",
       "      <td>Fijo</td>\n",
       "      <td>25.808627</td>\n",
       "      <td>-100.323785</td>\n",
       "      <td>2014-12</td>\n",
       "      <td>NaN</td>\n",
       "    </tr>\n",
       "    <tr>\n",
       "      <th>186268</th>\n",
       "      <td>3018636</td>\n",
       "      <td>YONKE MUNICIPAL</td>\n",
       "      <td>GOBIERNO</td>\n",
       "      <td>931210</td>\n",
       "      <td>Administración pública en general</td>\n",
       "      <td>6 a 10 personas</td>\n",
       "      <td>CALLE</td>\n",
       "      <td>RIO ALAMO</td>\n",
       "      <td>CALLE</td>\n",
       "      <td>LIBRAMIENTO A NOGALES</td>\n",
       "      <td>CALLE</td>\n",
       "      <td>RIO CONCHOS</td>\n",
       "      <td>CALLE</td>\n",
       "      <td>RÍO ÁLAMO</td>\n",
       "      <td>NaN</td>\n",
       "      <td>SN</td>\n",
       "      <td>COLONIA</td>\n",
       "      <td>CENTRO</td>\n",
       "      <td>65800.0</td>\n",
       "      <td>19</td>\n",
       "      <td>NUEVO LEÓN</td>\n",
       "      <td>2</td>\n",
       "      <td>Agualeguas</td>\n",
       "      <td>1</td>\n",
       "      <td>Agualeguas</td>\n",
       "      <td>0279</td>\n",
       "      <td>20</td>\n",
       "      <td>Fijo</td>\n",
       "      <td>26.301663</td>\n",
       "      <td>-99.544980</td>\n",
       "      <td>2010-07</td>\n",
       "      <td>NaN</td>\n",
       "    </tr>\n",
       "    <tr>\n",
       "      <th>186269</th>\n",
       "      <td>7318936</td>\n",
       "      <td>ZONA ESCOLAR NO. 65</td>\n",
       "      <td>ZONA ESCOLAR NO.65</td>\n",
       "      <td>931210</td>\n",
       "      <td>Administración pública en general</td>\n",
       "      <td>0 a 5 personas</td>\n",
       "      <td>CALLE</td>\n",
       "      <td>BENITO JUAREZ</td>\n",
       "      <td>CALLE</td>\n",
       "      <td>BENITO JUAREZ</td>\n",
       "      <td>CALLE</td>\n",
       "      <td>NICOLAS BRAVO</td>\n",
       "      <td>CALLE</td>\n",
       "      <td>DOCTOR COSS</td>\n",
       "      <td>NaN</td>\n",
       "      <td>SN</td>\n",
       "      <td>COLONIA</td>\n",
       "      <td>SABINAS HIDALGO CENTRO</td>\n",
       "      <td>65200.0</td>\n",
       "      <td>19</td>\n",
       "      <td>NUEVO LEÓN</td>\n",
       "      <td>44</td>\n",
       "      <td>Sabinas Hidalgo</td>\n",
       "      <td>1</td>\n",
       "      <td>Ciudad Sabinas Hidalgo</td>\n",
       "      <td>0601</td>\n",
       "      <td>7</td>\n",
       "      <td>Fijo</td>\n",
       "      <td>26.500012</td>\n",
       "      <td>-100.178903</td>\n",
       "      <td>2019-11</td>\n",
       "      <td>NaN</td>\n",
       "    </tr>\n",
       "    <tr>\n",
       "      <th>186270</th>\n",
       "      <td>2939891</td>\n",
       "      <td>ZONA ESCOLAR NUMERO 19 DE EDUCACIÓN ESPECIAL</td>\n",
       "      <td>SECRETARÍA DE EDUCACIÓN</td>\n",
       "      <td>931610</td>\n",
       "      <td>Actividades administrativas de instituciones d...</td>\n",
       "      <td>0 a 5 personas</td>\n",
       "      <td>CALLE</td>\n",
       "      <td>BERNARDO REYES</td>\n",
       "      <td>CALLE</td>\n",
       "      <td>GALEANA</td>\n",
       "      <td>CALLE</td>\n",
       "      <td>NICOLAS BRAVO</td>\n",
       "      <td>CALLE</td>\n",
       "      <td>ZUAZUA</td>\n",
       "      <td>NaN</td>\n",
       "      <td>SN</td>\n",
       "      <td>COLONIA</td>\n",
       "      <td>CENTRO</td>\n",
       "      <td>65200.0</td>\n",
       "      <td>19</td>\n",
       "      <td>NUEVO LEÓN</td>\n",
       "      <td>44</td>\n",
       "      <td>Sabinas Hidalgo</td>\n",
       "      <td>1</td>\n",
       "      <td>Ciudad Sabinas Hidalgo</td>\n",
       "      <td>0546</td>\n",
       "      <td>13</td>\n",
       "      <td>Fijo</td>\n",
       "      <td>26.506484</td>\n",
       "      <td>-100.176547</td>\n",
       "      <td>2014-12</td>\n",
       "      <td>NaN</td>\n",
       "    </tr>\n",
       "    <tr>\n",
       "      <th>186271</th>\n",
       "      <td>9030774</td>\n",
       "      <td>ZONA NUMERO 2 POLICIA</td>\n",
       "      <td>SECRETARIA DE SEGURIDAD PUBLICA DE GUADALUPE</td>\n",
       "      <td>931410</td>\n",
       "      <td>Impartición de justicia y mantenimiento de la ...</td>\n",
       "      <td>11 a 30 personas</td>\n",
       "      <td>CALLE</td>\n",
       "      <td>RIO PAPALOAPAN</td>\n",
       "      <td>CALLE</td>\n",
       "      <td>SANTA CRUZ</td>\n",
       "      <td>CALLE</td>\n",
       "      <td>RIO LA SILLA</td>\n",
       "      <td>CALLE</td>\n",
       "      <td>RÍO ANA</td>\n",
       "      <td>NaN</td>\n",
       "      <td>SN</td>\n",
       "      <td>COLONIA</td>\n",
       "      <td>DOS RIOS</td>\n",
       "      <td>67168.0</td>\n",
       "      <td>19</td>\n",
       "      <td>NUEVO LEÓN</td>\n",
       "      <td>26</td>\n",
       "      <td>Guadalupe</td>\n",
       "      <td>1</td>\n",
       "      <td>Guadalupe</td>\n",
       "      <td>2192</td>\n",
       "      <td>17</td>\n",
       "      <td>Fijo</td>\n",
       "      <td>25.677766</td>\n",
       "      <td>-100.161015</td>\n",
       "      <td>2019-11</td>\n",
       "      <td>NaN</td>\n",
       "    </tr>\n",
       "  </tbody>\n",
       "</table>\n",
       "<p>186272 rows × 32 columns</p>\n",
       "</div>"
      ],
      "text/plain": [
       "             id                                          nom_estab  \\\n",
       "0       8777590                                AGROACRE SAN RAFAEL   \n",
       "1       9076621                          ARQUITECTURA Y PAISAJISMO   \n",
       "2       7961265                       ASOCIACION GANADERA PARAS NL   \n",
       "3       8970903                                    BASCULAS TABESA   \n",
       "4       8533179                                        BEEF MASTER   \n",
       "...         ...                                                ...   \n",
       "186267  2933186  VOCALIA EJECUTIVA PAR ALA REGULARIZACION DE LA...   \n",
       "186268  3018636                                    YONKE MUNICIPAL   \n",
       "186269  7318936                                ZONA ESCOLAR NO. 65   \n",
       "186270  2939891       ZONA ESCOLAR NUMERO 19 DE EDUCACIÓN ESPECIAL   \n",
       "186271  9030774                              ZONA NUMERO 2 POLICIA   \n",
       "\n",
       "                                               raz_social  codigo_act  \\\n",
       "0                                       AGROACRE SA DE CV      115111   \n",
       "1                      ARQUITECTURA Y PAISAJISMO SA DE CV      115310   \n",
       "2                           ASOCIACION GANADERA PARAS NL       115210   \n",
       "3                                 BASULAS TABESA SA DE CV      115210   \n",
       "4       ASOCIACION MEXICANA DE CRIADORES DE GANADO SA ...      115210   \n",
       "...                                                   ...         ...   \n",
       "186267                        MUNICIPIO GENERAL ESCOBEDO       931210   \n",
       "186268                                          GOBIERNO       931210   \n",
       "186269                                ZONA ESCOLAR NO.65       931210   \n",
       "186270                           SECRETARÍA DE EDUCACIÓN       931610   \n",
       "186271      SECRETARIA DE SEGURIDAD PUBLICA DE GUADALUPE       931410   \n",
       "\n",
       "                                               nombre_act           per_ocu  \\\n",
       "0                        Servicios de fumigación agrícola    0 a 5 personas   \n",
       "1       Servicios relacionados con el aprovechamiento ...  11 a 30 personas   \n",
       "2       Servicios relacionados con la cría y explotaci...    0 a 5 personas   \n",
       "3       Servicios relacionados con la cría y explotaci...    0 a 5 personas   \n",
       "4       Servicios relacionados con la cría y explotaci...   6 a 10 personas   \n",
       "...                                                   ...               ...   \n",
       "186267                  Administración pública en general    0 a 5 personas   \n",
       "186268                  Administración pública en general   6 a 10 personas   \n",
       "186269                  Administración pública en general    0 a 5 personas   \n",
       "186270  Actividades administrativas de instituciones d...    0 a 5 personas   \n",
       "186271  Impartición de justicia y mantenimiento de la ...  11 a 30 personas   \n",
       "\n",
       "       tipo_vial                   nom_vial tipo_v_e_1  \\\n",
       "0          CALLE                    LATERAL   CALLEJON   \n",
       "1          CALLE                   SAN REMO      CALLE   \n",
       "2          CALLE  GENERAL IRINEO VILLARREAL    PRIVADA   \n",
       "3          CALLE    HEROICO COLEGIO MILITAR      CALLE   \n",
       "4        AVENIDA              BENITO JUAREZ      CALLE   \n",
       "...          ...                        ...        ...   \n",
       "186267     CALLE        FRANCISCO I. MADERO      CALLE   \n",
       "186268     CALLE                  RIO ALAMO      CALLE   \n",
       "186269     CALLE              BENITO JUAREZ      CALLE   \n",
       "186270     CALLE             BERNARDO REYES      CALLE   \n",
       "186271     CALLE             RIO PAPALOAPAN      CALLE   \n",
       "\n",
       "                       nom_v_e_1          tipo_v_e_2  \\\n",
       "0                        NINGUNO               CALLE   \n",
       "1                        MARZALA               CALLE   \n",
       "2                    LIBRAMIENTO  OTRO (ESPECIFIQUE)   \n",
       "3                       LAURELES               CALLE   \n",
       "4                      LOS PINOS               CALLE   \n",
       "...                          ...                 ...   \n",
       "186267  LICENCIADO BENITO JUAREZ               CALLE   \n",
       "186268     LIBRAMIENTO A NOGALES               CALLE   \n",
       "186269             BENITO JUAREZ               CALLE   \n",
       "186270                   GALEANA               CALLE   \n",
       "186271                SANTA CRUZ               CALLE   \n",
       "\n",
       "                         nom_v_e_2          tipo_v_e_3  \\\n",
       "0       CARRETERA A LA HEDIONDILLA               CALLE   \n",
       "1                           CESENA               CALLE   \n",
       "2                          NINGUNO  OTRO (ESPECIFIQUE)   \n",
       "3                    LORENZO GARZA               CALLE   \n",
       "4                           FRESNO               CALLE   \n",
       "...                            ...                 ...   \n",
       "186267   MIGUEL HIDALGO Y COSTILLA             AVENIDA   \n",
       "186268                 RIO CONCHOS               CALLE   \n",
       "186269               NICOLAS BRAVO               CALLE   \n",
       "186270               NICOLAS BRAVO               CALLE   \n",
       "186271                RIO LA SILLA               CALLE   \n",
       "\n",
       "                                  nom_v_e_3  numero_ext letra_ext  \\\n",
       "0                CARRETERA A LA HEDIONDILLA         NaN        SN   \n",
       "1                                    NOVARA      5108.0        SN   \n",
       "2                                    VEREDA         0.0        SN   \n",
       "3                                  ALAMILLO       335.0       NaN   \n",
       "4                                  APERTURA      4595.0       NaN   \n",
       "...                                     ...         ...       ...   \n",
       "186267  LICENCIADO RAÚL CABALLERO ESCAMILLA       201.0       NaN   \n",
       "186268                            RÍO ÁLAMO         NaN        SN   \n",
       "186269                          DOCTOR COSS         NaN        SN   \n",
       "186270                               ZUAZUA         NaN        SN   \n",
       "186271                              RÍO ANA         NaN        SN   \n",
       "\n",
       "             tipo_asent                 nomb_asent  cod_postal  cve_ent  \\\n",
       "0             LOCALIDAD                 SAN RAFAEL     67865.0       19   \n",
       "1               COLONIA              SANTA CECILIA     64150.0       19   \n",
       "2       FRACCIONAMIENTO  FRACCIONAMIENTO DEL NORTE     65450.0       19   \n",
       "3               COLONIA                  DEL PRADO     64410.0       19   \n",
       "4               COLONIA      INFONAVIT SOLIDARIDAD     67169.0       19   \n",
       "...                 ...                        ...         ...      ...   \n",
       "186267          COLONIA    GENERAL ESCOBEDO CENTRO     66050.0       19   \n",
       "186268          COLONIA                     CENTRO     65800.0       19   \n",
       "186269          COLONIA     SABINAS HIDALGO CENTRO     65200.0       19   \n",
       "186270          COLONIA                     CENTRO     65200.0       19   \n",
       "186271          COLONIA                   DOS RIOS     67168.0       19   \n",
       "\n",
       "              entidad  cve_mun         municipio  cve_loc  \\\n",
       "0       NUEVO LEÓN          17           Galeana      153   \n",
       "1       NUEVO LEÓN          39         Monterrey        1   \n",
       "2       NUEVO LEÓN          40             Parás        1   \n",
       "3       NUEVO LEÓN          39         Monterrey        1   \n",
       "4       NUEVO LEÓN          26         Guadalupe        1   \n",
       "...               ...      ...               ...      ...   \n",
       "186267  NUEVO LEÓN          21  General Escobedo        1   \n",
       "186268  NUEVO LEÓN           2        Agualeguas        1   \n",
       "186269  NUEVO LEÓN          44   Sabinas Hidalgo        1   \n",
       "186270  NUEVO LEÓN          44   Sabinas Hidalgo        1   \n",
       "186271  NUEVO LEÓN          26         Guadalupe        1   \n",
       "\n",
       "                      localidad  ageb  manzana tipoUniEco    latitud  \\\n",
       "0                    San Rafael  0040       14       Fijo  25.029622   \n",
       "1                     Monterrey  4106       25       Fijo  25.729396   \n",
       "2                         Parás  027A        5       Fijo  26.504982   \n",
       "3                     Monterrey  0974       11       Fijo  25.700193   \n",
       "4                     Guadalupe  2239       23       Fijo  25.675023   \n",
       "...                         ...   ...      ...        ...        ...   \n",
       "186267  Ciudad General Escobedo  0414       16       Fijo  25.808627   \n",
       "186268               Agualeguas  0279       20       Fijo  26.301663   \n",
       "186269   Ciudad Sabinas Hidalgo  0601        7       Fijo  26.500012   \n",
       "186270   Ciudad Sabinas Hidalgo  0546       13       Fijo  26.506484   \n",
       "186271                Guadalupe  2192       17       Fijo  25.677766   \n",
       "\n",
       "          longitud fecha_alta  wsite  \n",
       "0      -100.555724    2019-11    NaN  \n",
       "1      -100.362220    2019-11    NaN  \n",
       "2       -99.531195    2019-11    NaN  \n",
       "3      -100.314323    2019-11    NaN  \n",
       "4      -100.211547    2019-11    1.0  \n",
       "...            ...        ...    ...  \n",
       "186267 -100.323785    2014-12    NaN  \n",
       "186268  -99.544980    2010-07    NaN  \n",
       "186269 -100.178903    2019-11    NaN  \n",
       "186270 -100.176547    2014-12    NaN  \n",
       "186271 -100.161015    2019-11    NaN  \n",
       "\n",
       "[186272 rows x 32 columns]"
      ]
     },
     "execution_count": 24,
     "metadata": {},
     "output_type": "execute_result"
    }
   ],
   "source": [
    "denue.loc[~denue['www'].isna(),'wsite']=1\n",
    "denue.drop(['clee','numero_int','letra_int','edificio','edificio_e','tipoCenCom','nom_CenCom','num_local','telefono','correoelec','www'],\n",
    "          axis=1,inplace=True)\n",
    "denue"
   ]
  },
  {
   "cell_type": "code",
   "execution_count": 27,
   "metadata": {
    "scrolled": true
   },
   "outputs": [
    {
     "data": {
      "text/html": [
       "<div>\n",
       "<style scoped>\n",
       "    .dataframe tbody tr th:only-of-type {\n",
       "        vertical-align: middle;\n",
       "    }\n",
       "\n",
       "    .dataframe tbody tr th {\n",
       "        vertical-align: top;\n",
       "    }\n",
       "\n",
       "    .dataframe thead th {\n",
       "        text-align: right;\n",
       "    }\n",
       "</style>\n",
       "<table border=\"1\" class=\"dataframe\">\n",
       "  <thead>\n",
       "    <tr style=\"text-align: right;\">\n",
       "      <th></th>\n",
       "      <th>id</th>\n",
       "      <th>nom_estab</th>\n",
       "      <th>raz_social</th>\n",
       "      <th>codigo_act</th>\n",
       "      <th>nombre_act</th>\n",
       "      <th>per_ocu</th>\n",
       "      <th>tipo_vial</th>\n",
       "      <th>nom_vial</th>\n",
       "      <th>tipo_v_e_1</th>\n",
       "      <th>nom_v_e_1</th>\n",
       "      <th>tipo_v_e_2</th>\n",
       "      <th>nom_v_e_2</th>\n",
       "      <th>tipo_v_e_3</th>\n",
       "      <th>nom_v_e_3</th>\n",
       "      <th>numero_ext</th>\n",
       "      <th>letra_ext</th>\n",
       "      <th>tipo_asent</th>\n",
       "      <th>nomb_asent</th>\n",
       "      <th>cod_postal</th>\n",
       "      <th>cve_ent</th>\n",
       "      <th>entidad</th>\n",
       "      <th>cve_mun</th>\n",
       "      <th>municipio</th>\n",
       "      <th>cve_loc</th>\n",
       "      <th>localidad</th>\n",
       "      <th>ageb</th>\n",
       "      <th>manzana</th>\n",
       "      <th>tipoUniEco</th>\n",
       "      <th>latitud</th>\n",
       "      <th>longitud</th>\n",
       "      <th>fecha_alta</th>\n",
       "      <th>wsite</th>\n",
       "      <th>existingtime</th>\n",
       "    </tr>\n",
       "  </thead>\n",
       "  <tbody>\n",
       "    <tr>\n",
       "      <th>0</th>\n",
       "      <td>8777590</td>\n",
       "      <td>AGROACRE SAN RAFAEL</td>\n",
       "      <td>AGROACRE SA DE CV</td>\n",
       "      <td>115111</td>\n",
       "      <td>Servicios de fumigación agrícola</td>\n",
       "      <td>0 a 5 personas</td>\n",
       "      <td>CALLE</td>\n",
       "      <td>LATERAL</td>\n",
       "      <td>CALLEJON</td>\n",
       "      <td>NINGUNO</td>\n",
       "      <td>CALLE</td>\n",
       "      <td>CARRETERA A LA HEDIONDILLA</td>\n",
       "      <td>CALLE</td>\n",
       "      <td>CARRETERA A LA HEDIONDILLA</td>\n",
       "      <td>NaN</td>\n",
       "      <td>SN</td>\n",
       "      <td>LOCALIDAD</td>\n",
       "      <td>SAN RAFAEL</td>\n",
       "      <td>67865.0</td>\n",
       "      <td>19</td>\n",
       "      <td>NUEVO LEÓN</td>\n",
       "      <td>17</td>\n",
       "      <td>Galeana</td>\n",
       "      <td>153</td>\n",
       "      <td>San Rafael</td>\n",
       "      <td>0040</td>\n",
       "      <td>14</td>\n",
       "      <td>Fijo</td>\n",
       "      <td>25.029622</td>\n",
       "      <td>-100.555724</td>\n",
       "      <td>2019-11-01</td>\n",
       "      <td>NaN</td>\n",
       "      <td>1296 days</td>\n",
       "    </tr>\n",
       "    <tr>\n",
       "      <th>1</th>\n",
       "      <td>9076621</td>\n",
       "      <td>ARQUITECTURA Y PAISAJISMO</td>\n",
       "      <td>ARQUITECTURA Y PAISAJISMO SA DE CV</td>\n",
       "      <td>115310</td>\n",
       "      <td>Servicios relacionados con el aprovechamiento ...</td>\n",
       "      <td>11 a 30 personas</td>\n",
       "      <td>CALLE</td>\n",
       "      <td>SAN REMO</td>\n",
       "      <td>CALLE</td>\n",
       "      <td>MARZALA</td>\n",
       "      <td>CALLE</td>\n",
       "      <td>CESENA</td>\n",
       "      <td>CALLE</td>\n",
       "      <td>NOVARA</td>\n",
       "      <td>5108.0</td>\n",
       "      <td>SN</td>\n",
       "      <td>COLONIA</td>\n",
       "      <td>SANTA CECILIA</td>\n",
       "      <td>64150.0</td>\n",
       "      <td>19</td>\n",
       "      <td>NUEVO LEÓN</td>\n",
       "      <td>39</td>\n",
       "      <td>Monterrey</td>\n",
       "      <td>1</td>\n",
       "      <td>Monterrey</td>\n",
       "      <td>4106</td>\n",
       "      <td>25</td>\n",
       "      <td>Fijo</td>\n",
       "      <td>25.729396</td>\n",
       "      <td>-100.362220</td>\n",
       "      <td>2019-11-01</td>\n",
       "      <td>NaN</td>\n",
       "      <td>1296 days</td>\n",
       "    </tr>\n",
       "    <tr>\n",
       "      <th>2</th>\n",
       "      <td>7961265</td>\n",
       "      <td>ASOCIACION GANADERA PARAS NL</td>\n",
       "      <td>ASOCIACION GANADERA PARAS NL</td>\n",
       "      <td>115210</td>\n",
       "      <td>Servicios relacionados con la cría y explotaci...</td>\n",
       "      <td>0 a 5 personas</td>\n",
       "      <td>CALLE</td>\n",
       "      <td>GENERAL IRINEO VILLARREAL</td>\n",
       "      <td>PRIVADA</td>\n",
       "      <td>LIBRAMIENTO</td>\n",
       "      <td>OTRO (ESPECIFIQUE)</td>\n",
       "      <td>NINGUNO</td>\n",
       "      <td>OTRO (ESPECIFIQUE)</td>\n",
       "      <td>VEREDA</td>\n",
       "      <td>0.0</td>\n",
       "      <td>SN</td>\n",
       "      <td>FRACCIONAMIENTO</td>\n",
       "      <td>FRACCIONAMIENTO DEL NORTE</td>\n",
       "      <td>65450.0</td>\n",
       "      <td>19</td>\n",
       "      <td>NUEVO LEÓN</td>\n",
       "      <td>40</td>\n",
       "      <td>Parás</td>\n",
       "      <td>1</td>\n",
       "      <td>Parás</td>\n",
       "      <td>027A</td>\n",
       "      <td>5</td>\n",
       "      <td>Fijo</td>\n",
       "      <td>26.504982</td>\n",
       "      <td>-99.531195</td>\n",
       "      <td>2019-11-01</td>\n",
       "      <td>NaN</td>\n",
       "      <td>1296 days</td>\n",
       "    </tr>\n",
       "    <tr>\n",
       "      <th>3</th>\n",
       "      <td>8970903</td>\n",
       "      <td>BASCULAS TABESA</td>\n",
       "      <td>BASULAS TABESA SA DE CV</td>\n",
       "      <td>115210</td>\n",
       "      <td>Servicios relacionados con la cría y explotaci...</td>\n",
       "      <td>0 a 5 personas</td>\n",
       "      <td>CALLE</td>\n",
       "      <td>HEROICO COLEGIO MILITAR</td>\n",
       "      <td>CALLE</td>\n",
       "      <td>LAURELES</td>\n",
       "      <td>CALLE</td>\n",
       "      <td>LORENZO GARZA</td>\n",
       "      <td>CALLE</td>\n",
       "      <td>ALAMILLO</td>\n",
       "      <td>335.0</td>\n",
       "      <td>NaN</td>\n",
       "      <td>COLONIA</td>\n",
       "      <td>DEL PRADO</td>\n",
       "      <td>64410.0</td>\n",
       "      <td>19</td>\n",
       "      <td>NUEVO LEÓN</td>\n",
       "      <td>39</td>\n",
       "      <td>Monterrey</td>\n",
       "      <td>1</td>\n",
       "      <td>Monterrey</td>\n",
       "      <td>0974</td>\n",
       "      <td>11</td>\n",
       "      <td>Fijo</td>\n",
       "      <td>25.700193</td>\n",
       "      <td>-100.314323</td>\n",
       "      <td>2019-11-01</td>\n",
       "      <td>NaN</td>\n",
       "      <td>1296 days</td>\n",
       "    </tr>\n",
       "    <tr>\n",
       "      <th>4</th>\n",
       "      <td>8533179</td>\n",
       "      <td>BEEF MASTER</td>\n",
       "      <td>ASOCIACION MEXICANA DE CRIADORES DE GANADO SA ...</td>\n",
       "      <td>115210</td>\n",
       "      <td>Servicios relacionados con la cría y explotaci...</td>\n",
       "      <td>6 a 10 personas</td>\n",
       "      <td>AVENIDA</td>\n",
       "      <td>BENITO JUAREZ</td>\n",
       "      <td>CALLE</td>\n",
       "      <td>LOS PINOS</td>\n",
       "      <td>CALLE</td>\n",
       "      <td>FRESNO</td>\n",
       "      <td>CALLE</td>\n",
       "      <td>APERTURA</td>\n",
       "      <td>4595.0</td>\n",
       "      <td>NaN</td>\n",
       "      <td>COLONIA</td>\n",
       "      <td>INFONAVIT SOLIDARIDAD</td>\n",
       "      <td>67169.0</td>\n",
       "      <td>19</td>\n",
       "      <td>NUEVO LEÓN</td>\n",
       "      <td>26</td>\n",
       "      <td>Guadalupe</td>\n",
       "      <td>1</td>\n",
       "      <td>Guadalupe</td>\n",
       "      <td>2239</td>\n",
       "      <td>23</td>\n",
       "      <td>Fijo</td>\n",
       "      <td>25.675023</td>\n",
       "      <td>-100.211547</td>\n",
       "      <td>2019-11-01</td>\n",
       "      <td>1.0</td>\n",
       "      <td>1296 days</td>\n",
       "    </tr>\n",
       "    <tr>\n",
       "      <th>...</th>\n",
       "      <td>...</td>\n",
       "      <td>...</td>\n",
       "      <td>...</td>\n",
       "      <td>...</td>\n",
       "      <td>...</td>\n",
       "      <td>...</td>\n",
       "      <td>...</td>\n",
       "      <td>...</td>\n",
       "      <td>...</td>\n",
       "      <td>...</td>\n",
       "      <td>...</td>\n",
       "      <td>...</td>\n",
       "      <td>...</td>\n",
       "      <td>...</td>\n",
       "      <td>...</td>\n",
       "      <td>...</td>\n",
       "      <td>...</td>\n",
       "      <td>...</td>\n",
       "      <td>...</td>\n",
       "      <td>...</td>\n",
       "      <td>...</td>\n",
       "      <td>...</td>\n",
       "      <td>...</td>\n",
       "      <td>...</td>\n",
       "      <td>...</td>\n",
       "      <td>...</td>\n",
       "      <td>...</td>\n",
       "      <td>...</td>\n",
       "      <td>...</td>\n",
       "      <td>...</td>\n",
       "      <td>...</td>\n",
       "      <td>...</td>\n",
       "      <td>...</td>\n",
       "    </tr>\n",
       "    <tr>\n",
       "      <th>186267</th>\n",
       "      <td>2933186</td>\n",
       "      <td>VOCALIA EJECUTIVA PAR ALA REGULARIZACION DE LA...</td>\n",
       "      <td>MUNICIPIO GENERAL ESCOBEDO</td>\n",
       "      <td>931210</td>\n",
       "      <td>Administración pública en general</td>\n",
       "      <td>0 a 5 personas</td>\n",
       "      <td>CALLE</td>\n",
       "      <td>FRANCISCO I. MADERO</td>\n",
       "      <td>CALLE</td>\n",
       "      <td>LICENCIADO BENITO JUAREZ</td>\n",
       "      <td>CALLE</td>\n",
       "      <td>MIGUEL HIDALGO Y COSTILLA</td>\n",
       "      <td>AVENIDA</td>\n",
       "      <td>LICENCIADO RAÚL CABALLERO ESCAMILLA</td>\n",
       "      <td>201.0</td>\n",
       "      <td>NaN</td>\n",
       "      <td>COLONIA</td>\n",
       "      <td>GENERAL ESCOBEDO CENTRO</td>\n",
       "      <td>66050.0</td>\n",
       "      <td>19</td>\n",
       "      <td>NUEVO LEÓN</td>\n",
       "      <td>21</td>\n",
       "      <td>General Escobedo</td>\n",
       "      <td>1</td>\n",
       "      <td>Ciudad General Escobedo</td>\n",
       "      <td>0414</td>\n",
       "      <td>16</td>\n",
       "      <td>Fijo</td>\n",
       "      <td>25.808627</td>\n",
       "      <td>-100.323785</td>\n",
       "      <td>2014-12-01</td>\n",
       "      <td>NaN</td>\n",
       "      <td>3092 days</td>\n",
       "    </tr>\n",
       "    <tr>\n",
       "      <th>186268</th>\n",
       "      <td>3018636</td>\n",
       "      <td>YONKE MUNICIPAL</td>\n",
       "      <td>GOBIERNO</td>\n",
       "      <td>931210</td>\n",
       "      <td>Administración pública en general</td>\n",
       "      <td>6 a 10 personas</td>\n",
       "      <td>CALLE</td>\n",
       "      <td>RIO ALAMO</td>\n",
       "      <td>CALLE</td>\n",
       "      <td>LIBRAMIENTO A NOGALES</td>\n",
       "      <td>CALLE</td>\n",
       "      <td>RIO CONCHOS</td>\n",
       "      <td>CALLE</td>\n",
       "      <td>RÍO ÁLAMO</td>\n",
       "      <td>NaN</td>\n",
       "      <td>SN</td>\n",
       "      <td>COLONIA</td>\n",
       "      <td>CENTRO</td>\n",
       "      <td>65800.0</td>\n",
       "      <td>19</td>\n",
       "      <td>NUEVO LEÓN</td>\n",
       "      <td>2</td>\n",
       "      <td>Agualeguas</td>\n",
       "      <td>1</td>\n",
       "      <td>Agualeguas</td>\n",
       "      <td>0279</td>\n",
       "      <td>20</td>\n",
       "      <td>Fijo</td>\n",
       "      <td>26.301663</td>\n",
       "      <td>-99.544980</td>\n",
       "      <td>2010-07-01</td>\n",
       "      <td>NaN</td>\n",
       "      <td>4706 days</td>\n",
       "    </tr>\n",
       "    <tr>\n",
       "      <th>186269</th>\n",
       "      <td>7318936</td>\n",
       "      <td>ZONA ESCOLAR NO. 65</td>\n",
       "      <td>ZONA ESCOLAR NO.65</td>\n",
       "      <td>931210</td>\n",
       "      <td>Administración pública en general</td>\n",
       "      <td>0 a 5 personas</td>\n",
       "      <td>CALLE</td>\n",
       "      <td>BENITO JUAREZ</td>\n",
       "      <td>CALLE</td>\n",
       "      <td>BENITO JUAREZ</td>\n",
       "      <td>CALLE</td>\n",
       "      <td>NICOLAS BRAVO</td>\n",
       "      <td>CALLE</td>\n",
       "      <td>DOCTOR COSS</td>\n",
       "      <td>NaN</td>\n",
       "      <td>SN</td>\n",
       "      <td>COLONIA</td>\n",
       "      <td>SABINAS HIDALGO CENTRO</td>\n",
       "      <td>65200.0</td>\n",
       "      <td>19</td>\n",
       "      <td>NUEVO LEÓN</td>\n",
       "      <td>44</td>\n",
       "      <td>Sabinas Hidalgo</td>\n",
       "      <td>1</td>\n",
       "      <td>Ciudad Sabinas Hidalgo</td>\n",
       "      <td>0601</td>\n",
       "      <td>7</td>\n",
       "      <td>Fijo</td>\n",
       "      <td>26.500012</td>\n",
       "      <td>-100.178903</td>\n",
       "      <td>2019-11-01</td>\n",
       "      <td>NaN</td>\n",
       "      <td>1296 days</td>\n",
       "    </tr>\n",
       "    <tr>\n",
       "      <th>186270</th>\n",
       "      <td>2939891</td>\n",
       "      <td>ZONA ESCOLAR NUMERO 19 DE EDUCACIÓN ESPECIAL</td>\n",
       "      <td>SECRETARÍA DE EDUCACIÓN</td>\n",
       "      <td>931610</td>\n",
       "      <td>Actividades administrativas de instituciones d...</td>\n",
       "      <td>0 a 5 personas</td>\n",
       "      <td>CALLE</td>\n",
       "      <td>BERNARDO REYES</td>\n",
       "      <td>CALLE</td>\n",
       "      <td>GALEANA</td>\n",
       "      <td>CALLE</td>\n",
       "      <td>NICOLAS BRAVO</td>\n",
       "      <td>CALLE</td>\n",
       "      <td>ZUAZUA</td>\n",
       "      <td>NaN</td>\n",
       "      <td>SN</td>\n",
       "      <td>COLONIA</td>\n",
       "      <td>CENTRO</td>\n",
       "      <td>65200.0</td>\n",
       "      <td>19</td>\n",
       "      <td>NUEVO LEÓN</td>\n",
       "      <td>44</td>\n",
       "      <td>Sabinas Hidalgo</td>\n",
       "      <td>1</td>\n",
       "      <td>Ciudad Sabinas Hidalgo</td>\n",
       "      <td>0546</td>\n",
       "      <td>13</td>\n",
       "      <td>Fijo</td>\n",
       "      <td>26.506484</td>\n",
       "      <td>-100.176547</td>\n",
       "      <td>2014-12-01</td>\n",
       "      <td>NaN</td>\n",
       "      <td>3092 days</td>\n",
       "    </tr>\n",
       "    <tr>\n",
       "      <th>186271</th>\n",
       "      <td>9030774</td>\n",
       "      <td>ZONA NUMERO 2 POLICIA</td>\n",
       "      <td>SECRETARIA DE SEGURIDAD PUBLICA DE GUADALUPE</td>\n",
       "      <td>931410</td>\n",
       "      <td>Impartición de justicia y mantenimiento de la ...</td>\n",
       "      <td>11 a 30 personas</td>\n",
       "      <td>CALLE</td>\n",
       "      <td>RIO PAPALOAPAN</td>\n",
       "      <td>CALLE</td>\n",
       "      <td>SANTA CRUZ</td>\n",
       "      <td>CALLE</td>\n",
       "      <td>RIO LA SILLA</td>\n",
       "      <td>CALLE</td>\n",
       "      <td>RÍO ANA</td>\n",
       "      <td>NaN</td>\n",
       "      <td>SN</td>\n",
       "      <td>COLONIA</td>\n",
       "      <td>DOS RIOS</td>\n",
       "      <td>67168.0</td>\n",
       "      <td>19</td>\n",
       "      <td>NUEVO LEÓN</td>\n",
       "      <td>26</td>\n",
       "      <td>Guadalupe</td>\n",
       "      <td>1</td>\n",
       "      <td>Guadalupe</td>\n",
       "      <td>2192</td>\n",
       "      <td>17</td>\n",
       "      <td>Fijo</td>\n",
       "      <td>25.677766</td>\n",
       "      <td>-100.161015</td>\n",
       "      <td>2019-11-01</td>\n",
       "      <td>NaN</td>\n",
       "      <td>1296 days</td>\n",
       "    </tr>\n",
       "  </tbody>\n",
       "</table>\n",
       "<p>186272 rows × 33 columns</p>\n",
       "</div>"
      ],
      "text/plain": [
       "             id                                          nom_estab  \\\n",
       "0       8777590                                AGROACRE SAN RAFAEL   \n",
       "1       9076621                          ARQUITECTURA Y PAISAJISMO   \n",
       "2       7961265                       ASOCIACION GANADERA PARAS NL   \n",
       "3       8970903                                    BASCULAS TABESA   \n",
       "4       8533179                                        BEEF MASTER   \n",
       "...         ...                                                ...   \n",
       "186267  2933186  VOCALIA EJECUTIVA PAR ALA REGULARIZACION DE LA...   \n",
       "186268  3018636                                    YONKE MUNICIPAL   \n",
       "186269  7318936                                ZONA ESCOLAR NO. 65   \n",
       "186270  2939891       ZONA ESCOLAR NUMERO 19 DE EDUCACIÓN ESPECIAL   \n",
       "186271  9030774                              ZONA NUMERO 2 POLICIA   \n",
       "\n",
       "                                               raz_social  codigo_act  \\\n",
       "0                                       AGROACRE SA DE CV      115111   \n",
       "1                      ARQUITECTURA Y PAISAJISMO SA DE CV      115310   \n",
       "2                           ASOCIACION GANADERA PARAS NL       115210   \n",
       "3                                 BASULAS TABESA SA DE CV      115210   \n",
       "4       ASOCIACION MEXICANA DE CRIADORES DE GANADO SA ...      115210   \n",
       "...                                                   ...         ...   \n",
       "186267                        MUNICIPIO GENERAL ESCOBEDO       931210   \n",
       "186268                                          GOBIERNO       931210   \n",
       "186269                                ZONA ESCOLAR NO.65       931210   \n",
       "186270                           SECRETARÍA DE EDUCACIÓN       931610   \n",
       "186271      SECRETARIA DE SEGURIDAD PUBLICA DE GUADALUPE       931410   \n",
       "\n",
       "                                               nombre_act           per_ocu  \\\n",
       "0                        Servicios de fumigación agrícola    0 a 5 personas   \n",
       "1       Servicios relacionados con el aprovechamiento ...  11 a 30 personas   \n",
       "2       Servicios relacionados con la cría y explotaci...    0 a 5 personas   \n",
       "3       Servicios relacionados con la cría y explotaci...    0 a 5 personas   \n",
       "4       Servicios relacionados con la cría y explotaci...   6 a 10 personas   \n",
       "...                                                   ...               ...   \n",
       "186267                  Administración pública en general    0 a 5 personas   \n",
       "186268                  Administración pública en general   6 a 10 personas   \n",
       "186269                  Administración pública en general    0 a 5 personas   \n",
       "186270  Actividades administrativas de instituciones d...    0 a 5 personas   \n",
       "186271  Impartición de justicia y mantenimiento de la ...  11 a 30 personas   \n",
       "\n",
       "       tipo_vial                   nom_vial tipo_v_e_1  \\\n",
       "0          CALLE                    LATERAL   CALLEJON   \n",
       "1          CALLE                   SAN REMO      CALLE   \n",
       "2          CALLE  GENERAL IRINEO VILLARREAL    PRIVADA   \n",
       "3          CALLE    HEROICO COLEGIO MILITAR      CALLE   \n",
       "4        AVENIDA              BENITO JUAREZ      CALLE   \n",
       "...          ...                        ...        ...   \n",
       "186267     CALLE        FRANCISCO I. MADERO      CALLE   \n",
       "186268     CALLE                  RIO ALAMO      CALLE   \n",
       "186269     CALLE              BENITO JUAREZ      CALLE   \n",
       "186270     CALLE             BERNARDO REYES      CALLE   \n",
       "186271     CALLE             RIO PAPALOAPAN      CALLE   \n",
       "\n",
       "                       nom_v_e_1          tipo_v_e_2  \\\n",
       "0                        NINGUNO               CALLE   \n",
       "1                        MARZALA               CALLE   \n",
       "2                    LIBRAMIENTO  OTRO (ESPECIFIQUE)   \n",
       "3                       LAURELES               CALLE   \n",
       "4                      LOS PINOS               CALLE   \n",
       "...                          ...                 ...   \n",
       "186267  LICENCIADO BENITO JUAREZ               CALLE   \n",
       "186268     LIBRAMIENTO A NOGALES               CALLE   \n",
       "186269             BENITO JUAREZ               CALLE   \n",
       "186270                   GALEANA               CALLE   \n",
       "186271                SANTA CRUZ               CALLE   \n",
       "\n",
       "                         nom_v_e_2          tipo_v_e_3  \\\n",
       "0       CARRETERA A LA HEDIONDILLA               CALLE   \n",
       "1                           CESENA               CALLE   \n",
       "2                          NINGUNO  OTRO (ESPECIFIQUE)   \n",
       "3                    LORENZO GARZA               CALLE   \n",
       "4                           FRESNO               CALLE   \n",
       "...                            ...                 ...   \n",
       "186267   MIGUEL HIDALGO Y COSTILLA             AVENIDA   \n",
       "186268                 RIO CONCHOS               CALLE   \n",
       "186269               NICOLAS BRAVO               CALLE   \n",
       "186270               NICOLAS BRAVO               CALLE   \n",
       "186271                RIO LA SILLA               CALLE   \n",
       "\n",
       "                                  nom_v_e_3  numero_ext letra_ext  \\\n",
       "0                CARRETERA A LA HEDIONDILLA         NaN        SN   \n",
       "1                                    NOVARA      5108.0        SN   \n",
       "2                                    VEREDA         0.0        SN   \n",
       "3                                  ALAMILLO       335.0       NaN   \n",
       "4                                  APERTURA      4595.0       NaN   \n",
       "...                                     ...         ...       ...   \n",
       "186267  LICENCIADO RAÚL CABALLERO ESCAMILLA       201.0       NaN   \n",
       "186268                            RÍO ÁLAMO         NaN        SN   \n",
       "186269                          DOCTOR COSS         NaN        SN   \n",
       "186270                               ZUAZUA         NaN        SN   \n",
       "186271                              RÍO ANA         NaN        SN   \n",
       "\n",
       "             tipo_asent                 nomb_asent  cod_postal  cve_ent  \\\n",
       "0             LOCALIDAD                 SAN RAFAEL     67865.0       19   \n",
       "1               COLONIA              SANTA CECILIA     64150.0       19   \n",
       "2       FRACCIONAMIENTO  FRACCIONAMIENTO DEL NORTE     65450.0       19   \n",
       "3               COLONIA                  DEL PRADO     64410.0       19   \n",
       "4               COLONIA      INFONAVIT SOLIDARIDAD     67169.0       19   \n",
       "...                 ...                        ...         ...      ...   \n",
       "186267          COLONIA    GENERAL ESCOBEDO CENTRO     66050.0       19   \n",
       "186268          COLONIA                     CENTRO     65800.0       19   \n",
       "186269          COLONIA     SABINAS HIDALGO CENTRO     65200.0       19   \n",
       "186270          COLONIA                     CENTRO     65200.0       19   \n",
       "186271          COLONIA                   DOS RIOS     67168.0       19   \n",
       "\n",
       "              entidad  cve_mun         municipio  cve_loc  \\\n",
       "0       NUEVO LEÓN          17           Galeana      153   \n",
       "1       NUEVO LEÓN          39         Monterrey        1   \n",
       "2       NUEVO LEÓN          40             Parás        1   \n",
       "3       NUEVO LEÓN          39         Monterrey        1   \n",
       "4       NUEVO LEÓN          26         Guadalupe        1   \n",
       "...               ...      ...               ...      ...   \n",
       "186267  NUEVO LEÓN          21  General Escobedo        1   \n",
       "186268  NUEVO LEÓN           2        Agualeguas        1   \n",
       "186269  NUEVO LEÓN          44   Sabinas Hidalgo        1   \n",
       "186270  NUEVO LEÓN          44   Sabinas Hidalgo        1   \n",
       "186271  NUEVO LEÓN          26         Guadalupe        1   \n",
       "\n",
       "                      localidad  ageb  manzana tipoUniEco    latitud  \\\n",
       "0                    San Rafael  0040       14       Fijo  25.029622   \n",
       "1                     Monterrey  4106       25       Fijo  25.729396   \n",
       "2                         Parás  027A        5       Fijo  26.504982   \n",
       "3                     Monterrey  0974       11       Fijo  25.700193   \n",
       "4                     Guadalupe  2239       23       Fijo  25.675023   \n",
       "...                         ...   ...      ...        ...        ...   \n",
       "186267  Ciudad General Escobedo  0414       16       Fijo  25.808627   \n",
       "186268               Agualeguas  0279       20       Fijo  26.301663   \n",
       "186269   Ciudad Sabinas Hidalgo  0601        7       Fijo  26.500012   \n",
       "186270   Ciudad Sabinas Hidalgo  0546       13       Fijo  26.506484   \n",
       "186271                Guadalupe  2192       17       Fijo  25.677766   \n",
       "\n",
       "          longitud fecha_alta  wsite existingtime  \n",
       "0      -100.555724 2019-11-01    NaN    1296 days  \n",
       "1      -100.362220 2019-11-01    NaN    1296 days  \n",
       "2       -99.531195 2019-11-01    NaN    1296 days  \n",
       "3      -100.314323 2019-11-01    NaN    1296 days  \n",
       "4      -100.211547 2019-11-01    1.0    1296 days  \n",
       "...            ...        ...    ...          ...  \n",
       "186267 -100.323785 2014-12-01    NaN    3092 days  \n",
       "186268  -99.544980 2010-07-01    NaN    4706 days  \n",
       "186269 -100.178903 2019-11-01    NaN    1296 days  \n",
       "186270 -100.176547 2014-12-01    NaN    3092 days  \n",
       "186271 -100.161015 2019-11-01    NaN    1296 days  \n",
       "\n",
       "[186272 rows x 33 columns]"
      ]
     },
     "execution_count": 27,
     "metadata": {},
     "output_type": "execute_result"
    }
   ],
   "source": [
    "denue[\"fecha_alta\"] = pd.to_datetime(denue['fecha_alta'])\n",
    "from datetime import datetime\n",
    "today = datetime.now().date()\n",
    "denue['existingtime'] = today - denue['fecha_alta'].dt.date\n",
    "denue"
   ]
  },
  {
   "cell_type": "code",
   "execution_count": 37,
   "metadata": {
    "scrolled": true
   },
   "outputs": [
    {
     "name": "stdout",
     "output_type": "stream",
     "text": [
      "908\n",
      "Restaurantes                                                                                    16409\n",
      "Comercio al por menor en tiendas de abarrotes, ultramarinos y misceláneas                       15910\n",
      "Salones y clínicas de belleza y peluquerías                                                     10372\n",
      "Banca múltiple                                                                                   5522\n",
      "Comercio al por menor de cerveza                                                                 4354\n",
      "Reparación mecánica en general de automóviles y camiones                                         3870\n",
      "Comercio al por menor en minisupers                                                              3709\n",
      "Asociaciones y organizaciones religiosas                                                         3647\n",
      "Comercio al por menor de artículos de papelería                                                  3646\n",
      "Comercio al por menor de ropa, excepto de bebé y lencería                                        2936\n",
      "Cafeterías, fuentes de sodas, neverías, refresquerías y similares                                2532\n",
      "Consultorios dentales del sector privado                                                         2502\n",
      "Comercio al por menor en ferreterías y tlapalerías                                               2382\n",
      "Servicios de preparación de otros alimentos para consumo inmediato                               2207\n",
      "Fabricación de productos de herrería                                                             1704\n",
      "Comercio al por menor de partes y refacciones nuevas para automóviles, camionetas y camiones     1681\n",
      "Escuelas de educación primaria del sector público                                                1572\n",
      "Comercio al por menor de frutas y verduras frescas                                               1553\n",
      "Consultorios de medicina especializada del sector privado                                        1505\n",
      "Elaboración de tortillas de maíz y molienda de nixtamal                                          1459\n",
      "Name: nombre_act2, dtype: int64\n"
     ]
    },
    {
     "data": {
      "text/html": [
       "<div>\n",
       "<style scoped>\n",
       "    .dataframe tbody tr th:only-of-type {\n",
       "        vertical-align: middle;\n",
       "    }\n",
       "\n",
       "    .dataframe tbody tr th {\n",
       "        vertical-align: top;\n",
       "    }\n",
       "\n",
       "    .dataframe thead th {\n",
       "        text-align: right;\n",
       "    }\n",
       "</style>\n",
       "<table border=\"1\" class=\"dataframe\">\n",
       "  <thead>\n",
       "    <tr style=\"text-align: right;\">\n",
       "      <th></th>\n",
       "      <th>index</th>\n",
       "      <th>nombre_act2</th>\n",
       "    </tr>\n",
       "  </thead>\n",
       "  <tbody>\n",
       "    <tr>\n",
       "      <th>0</th>\n",
       "      <td>Restaurantes</td>\n",
       "      <td>16409</td>\n",
       "    </tr>\n",
       "    <tr>\n",
       "      <th>1</th>\n",
       "      <td>Comercio al por menor en tiendas de abarrotes,...</td>\n",
       "      <td>15910</td>\n",
       "    </tr>\n",
       "    <tr>\n",
       "      <th>2</th>\n",
       "      <td>Salones y clínicas de belleza y peluquerías</td>\n",
       "      <td>10372</td>\n",
       "    </tr>\n",
       "    <tr>\n",
       "      <th>3</th>\n",
       "      <td>Banca múltiple</td>\n",
       "      <td>5522</td>\n",
       "    </tr>\n",
       "    <tr>\n",
       "      <th>4</th>\n",
       "      <td>Comercio al por menor de cerveza</td>\n",
       "      <td>4354</td>\n",
       "    </tr>\n",
       "    <tr>\n",
       "      <th>5</th>\n",
       "      <td>Reparación mecánica en general de automóviles ...</td>\n",
       "      <td>3870</td>\n",
       "    </tr>\n",
       "    <tr>\n",
       "      <th>6</th>\n",
       "      <td>Comercio al por menor en minisupers</td>\n",
       "      <td>3709</td>\n",
       "    </tr>\n",
       "    <tr>\n",
       "      <th>7</th>\n",
       "      <td>Asociaciones y organizaciones religiosas</td>\n",
       "      <td>3647</td>\n",
       "    </tr>\n",
       "    <tr>\n",
       "      <th>8</th>\n",
       "      <td>Comercio al por menor de artículos de papelería</td>\n",
       "      <td>3646</td>\n",
       "    </tr>\n",
       "    <tr>\n",
       "      <th>9</th>\n",
       "      <td>Comercio al por menor de ropa, excepto de bebé...</td>\n",
       "      <td>2936</td>\n",
       "    </tr>\n",
       "    <tr>\n",
       "      <th>10</th>\n",
       "      <td>Cafeterías, fuentes de sodas, neverías, refres...</td>\n",
       "      <td>2532</td>\n",
       "    </tr>\n",
       "    <tr>\n",
       "      <th>11</th>\n",
       "      <td>Consultorios dentales del sector privado</td>\n",
       "      <td>2502</td>\n",
       "    </tr>\n",
       "    <tr>\n",
       "      <th>12</th>\n",
       "      <td>Comercio al por menor en ferreterías y tlapale...</td>\n",
       "      <td>2382</td>\n",
       "    </tr>\n",
       "    <tr>\n",
       "      <th>13</th>\n",
       "      <td>Servicios de preparación de otros alimentos pa...</td>\n",
       "      <td>2207</td>\n",
       "    </tr>\n",
       "    <tr>\n",
       "      <th>14</th>\n",
       "      <td>Fabricación de productos de herrería</td>\n",
       "      <td>1704</td>\n",
       "    </tr>\n",
       "    <tr>\n",
       "      <th>15</th>\n",
       "      <td>Comercio al por menor de partes y refacciones ...</td>\n",
       "      <td>1681</td>\n",
       "    </tr>\n",
       "    <tr>\n",
       "      <th>16</th>\n",
       "      <td>Escuelas de educación primaria del sector público</td>\n",
       "      <td>1572</td>\n",
       "    </tr>\n",
       "    <tr>\n",
       "      <th>17</th>\n",
       "      <td>Comercio al por menor de frutas y verduras fre...</td>\n",
       "      <td>1553</td>\n",
       "    </tr>\n",
       "    <tr>\n",
       "      <th>18</th>\n",
       "      <td>Consultorios de medicina especializada del sec...</td>\n",
       "      <td>1505</td>\n",
       "    </tr>\n",
       "    <tr>\n",
       "      <th>19</th>\n",
       "      <td>Elaboración de tortillas de maíz y molienda de...</td>\n",
       "      <td>1459</td>\n",
       "    </tr>\n",
       "  </tbody>\n",
       "</table>\n",
       "</div>"
      ],
      "text/plain": [
       "                                                index  nombre_act2\n",
       "0                                        Restaurantes        16409\n",
       "1   Comercio al por menor en tiendas de abarrotes,...        15910\n",
       "2         Salones y clínicas de belleza y peluquerías        10372\n",
       "3                                      Banca múltiple         5522\n",
       "4                    Comercio al por menor de cerveza         4354\n",
       "5   Reparación mecánica en general de automóviles ...         3870\n",
       "6                 Comercio al por menor en minisupers         3709\n",
       "7            Asociaciones y organizaciones religiosas         3647\n",
       "8     Comercio al por menor de artículos de papelería         3646\n",
       "9   Comercio al por menor de ropa, excepto de bebé...         2936\n",
       "10  Cafeterías, fuentes de sodas, neverías, refres...         2532\n",
       "11           Consultorios dentales del sector privado         2502\n",
       "12  Comercio al por menor en ferreterías y tlapale...         2382\n",
       "13  Servicios de preparación de otros alimentos pa...         2207\n",
       "14               Fabricación de productos de herrería         1704\n",
       "15  Comercio al por menor de partes y refacciones ...         1681\n",
       "16  Escuelas de educación primaria del sector público         1572\n",
       "17  Comercio al por menor de frutas y verduras fre...         1553\n",
       "18  Consultorios de medicina especializada del sec...         1505\n",
       "19  Elaboración de tortillas de maíz y molienda de...         1459"
      ]
     },
     "execution_count": 37,
     "metadata": {},
     "output_type": "execute_result"
    }
   ],
   "source": [
    "denue[\"nombre_act\"]=denue.nombre_act.fillna(\"\")\n",
    "denue[\"nombre_act2\"]=denue[\"nombre_act\"]\n",
    "denue.loc[denue[\"nombre_act2\"].str.contains(\"Restaurantes\"),\"nombre_act2\"]=\"Restaurantes\"\n",
    "print(denue.nombre_act2.nunique())\n",
    "\n",
    "print(denue.nombre_act2.value_counts().head(20))\n",
    "mayorcounts=pd.DataFrame(denue.nombre_act2.value_counts().head(20))\n",
    "mayorcounts.reset_index(inplace=True)\n",
    "mayorcounts"
   ]
  },
  {
   "cell_type": "code",
   "execution_count": 36,
   "metadata": {},
   "outputs": [],
   "source": [
    "lista=[\"Restaurantes\",\"abarrotes\",\"belleza/peluqueria\",\"banca multiple\",\"comercio de cerveza\",\"taller mecanico\",\"minisupers\",\n",
    "      \"asociacion religiosa\",\"papelerias\",\"comercio de ropa\",\"cafeterias y similares\",\"consultorios dentales\",\"ferreterias\"]"
   ]
  },
  {
   "cell_type": "code",
   "execution_count": 39,
   "metadata": {},
   "outputs": [
    {
     "data": {
      "image/png": "[encoded data removed]",
      "text/plain": [
       "<Figure size 432x288 with 1 Axes>"
      ]
     },
     "metadata": {
      "needs_background": "light"
     },
     "output_type": "display_data"
    }
   ],
   "source": [
    "import seaborn as sns\n",
    "import matplotlib.pyplot as plt\n",
    "\n",
    "# Create a bar plot using seaborn\n",
    "sns.barplot(x=mayorcounts.loc[0:12,\"nombre_act2\"], y=lista)\n",
    "\n",
    "# Set the title and labels\n",
    "plt.title('DENUE businesses by sub-category')\n",
    "plt.xlabel('Values')\n",
    "plt.ylabel('Category')\n",
    "\n",
    "# Display the plot\n",
    "plt.show()\n"
   ]
  },
  {
   "cell_type": "code",
   "execution_count": 43,
   "metadata": {},
   "outputs": [
    {
     "data": {
      "image/png": "[encoded data removed]",
      "text/plain": [
       "<Figure size 432x288 with 1 Axes>"
      ]
     },
     "metadata": {
      "needs_background": "light"
     },
     "output_type": "display_data"
    }
   ],
   "source": [
    "#De numero de trabajadores:\n",
    "value_counts = denue.per_ocu.value_counts()\n",
    "categories = value_counts.index.tolist()\n",
    "\n",
    "# Create a bar plot using seaborn\n",
    "sns.barplot(x=value_counts.values, y=categories)\n",
    "\n",
    "# Set the title and labels\n",
    "plt.title('Negocios por numero de personas')\n",
    "plt.xlabel('Counts')\n",
    "plt.ylabel('Category')\n",
    "\n",
    "# Display the plot\n",
    "plt.show()\n",
    "\n",
    "#la gran mayoria son micronegocios"
   ]
  },
  {
   "cell_type": "code",
   "execution_count": 71,
   "metadata": {
    "scrolled": true
   },
   "outputs": [
    {
     "data": {
      "text/html": [
       "<div>\n",
       "<style scoped>\n",
       "    .dataframe tbody tr th:only-of-type {\n",
       "        vertical-align: middle;\n",
       "    }\n",
       "\n",
       "    .dataframe tbody tr th {\n",
       "        vertical-align: top;\n",
       "    }\n",
       "\n",
       "    .dataframe thead th {\n",
       "        text-align: right;\n",
       "    }\n",
       "</style>\n",
       "<table border=\"1\" class=\"dataframe\">\n",
       "  <thead>\n",
       "    <tr style=\"text-align: right;\">\n",
       "      <th></th>\n",
       "      <th>raz_social</th>\n",
       "      <th>0</th>\n",
       "      <th>establecimientos por raz social</th>\n",
       "      <th>codigo_act por raz social</th>\n",
       "    </tr>\n",
       "  </thead>\n",
       "  <tbody>\n",
       "    <tr>\n",
       "      <th>15563</th>\n",
       "      <td>GOBIERNO</td>\n",
       "      <td>537</td>\n",
       "      <td>520</td>\n",
       "      <td>47</td>\n",
       "    </tr>\n",
       "    <tr>\n",
       "      <th>15665</th>\n",
       "      <td>GOBIERNO MUNICIPAL</td>\n",
       "      <td>151</td>\n",
       "      <td>148</td>\n",
       "      <td>32</td>\n",
       "    </tr>\n",
       "    <tr>\n",
       "      <th>15643</th>\n",
       "      <td>GOBIERNO FEDERAL</td>\n",
       "      <td>162</td>\n",
       "      <td>158</td>\n",
       "      <td>30</td>\n",
       "    </tr>\n",
       "    <tr>\n",
       "      <th>31219</th>\n",
       "      <td>SECRETARIA DE EDUCACION PUBLICA</td>\n",
       "      <td>1032</td>\n",
       "      <td>1003</td>\n",
       "      <td>24</td>\n",
       "    </tr>\n",
       "    <tr>\n",
       "      <th>15595</th>\n",
       "      <td>GOBIERNO DEL ESTADO</td>\n",
       "      <td>160</td>\n",
       "      <td>156</td>\n",
       "      <td>24</td>\n",
       "    </tr>\n",
       "    <tr>\n",
       "      <th>11724</th>\n",
       "      <td>EL GOBIERNO</td>\n",
       "      <td>116</td>\n",
       "      <td>115</td>\n",
       "      <td>24</td>\n",
       "    </tr>\n",
       "    <tr>\n",
       "      <th>24869</th>\n",
       "      <td>MUNICIPIO DE SANTA CATARINA</td>\n",
       "      <td>54</td>\n",
       "      <td>53</td>\n",
       "      <td>23</td>\n",
       "    </tr>\n",
       "    <tr>\n",
       "      <th>15613</th>\n",
       "      <td>GOBIERNO DEL ESTADO DE NUEVO LEÓN</td>\n",
       "      <td>77</td>\n",
       "      <td>77</td>\n",
       "      <td>22</td>\n",
       "    </tr>\n",
       "    <tr>\n",
       "      <th>27904</th>\n",
       "      <td>PRESIDENCIA MUNICIPAL</td>\n",
       "      <td>45</td>\n",
       "      <td>45</td>\n",
       "      <td>19</td>\n",
       "    </tr>\n",
       "    <tr>\n",
       "      <th>27026</th>\n",
       "      <td>PENDIENTE</td>\n",
       "      <td>23</td>\n",
       "      <td>23</td>\n",
       "      <td>19</td>\n",
       "    </tr>\n",
       "    <tr>\n",
       "      <th>15608</th>\n",
       "      <td>GOBIERNO DEL ESTADO DE NUEVO LEON</td>\n",
       "      <td>72</td>\n",
       "      <td>71</td>\n",
       "      <td>19</td>\n",
       "    </tr>\n",
       "    <tr>\n",
       "      <th>15636</th>\n",
       "      <td>GOBIERNO ESTATAL</td>\n",
       "      <td>83</td>\n",
       "      <td>81</td>\n",
       "      <td>17</td>\n",
       "    </tr>\n",
       "    <tr>\n",
       "      <th>31163</th>\n",
       "      <td>SECRETARIA DE EDUCACION</td>\n",
       "      <td>424</td>\n",
       "      <td>420</td>\n",
       "      <td>16</td>\n",
       "    </tr>\n",
       "    <tr>\n",
       "      <th>24760</th>\n",
       "      <td>MUNICIPIO DE APODACA</td>\n",
       "      <td>30</td>\n",
       "      <td>29</td>\n",
       "      <td>16</td>\n",
       "    </tr>\n",
       "    <tr>\n",
       "      <th>24840</th>\n",
       "      <td>MUNICIPIO DE MONTERREY</td>\n",
       "      <td>42</td>\n",
       "      <td>42</td>\n",
       "      <td>15</td>\n",
       "    </tr>\n",
       "    <tr>\n",
       "      <th>15670</th>\n",
       "      <td>GOBIERNO MUNICIPAL DE APODACA</td>\n",
       "      <td>20</td>\n",
       "      <td>20</td>\n",
       "      <td>14</td>\n",
       "    </tr>\n",
       "    <tr>\n",
       "      <th>24806</th>\n",
       "      <td>MUNICIPIO DE GUADALUPE</td>\n",
       "      <td>30</td>\n",
       "      <td>30</td>\n",
       "      <td>13</td>\n",
       "    </tr>\n",
       "    <tr>\n",
       "      <th>19887</th>\n",
       "      <td>INSTITUTO MEXICANO DEL SEGURO SOCIAL</td>\n",
       "      <td>40</td>\n",
       "      <td>38</td>\n",
       "      <td>13</td>\n",
       "    </tr>\n",
       "    <tr>\n",
       "      <th>24746</th>\n",
       "      <td>MUNICIPIO</td>\n",
       "      <td>29</td>\n",
       "      <td>29</td>\n",
       "      <td>13</td>\n",
       "    </tr>\n",
       "    <tr>\n",
       "      <th>24744</th>\n",
       "      <td>MUNICIPAL</td>\n",
       "      <td>15</td>\n",
       "      <td>15</td>\n",
       "      <td>12</td>\n",
       "    </tr>\n",
       "  </tbody>\n",
       "</table>\n",
       "</div>"
      ],
      "text/plain": [
       "                                  raz_social     0  \\\n",
       "15563                              GOBIERNO    537   \n",
       "15665                    GOBIERNO MUNICIPAL    151   \n",
       "15643                      GOBIERNO FEDERAL    162   \n",
       "31219       SECRETARIA DE EDUCACION PUBLICA   1032   \n",
       "15595                   GOBIERNO DEL ESTADO    160   \n",
       "11724                           EL GOBIERNO    116   \n",
       "24869           MUNICIPIO DE SANTA CATARINA     54   \n",
       "15613     GOBIERNO DEL ESTADO DE NUEVO LEÓN     77   \n",
       "27904                 PRESIDENCIA MUNICIPAL     45   \n",
       "27026                             PENDIENTE     23   \n",
       "15608     GOBIERNO DEL ESTADO DE NUEVO LEON     72   \n",
       "15636                      GOBIERNO ESTATAL     83   \n",
       "31163               SECRETARIA DE EDUCACION    424   \n",
       "24760                  MUNICIPIO DE APODACA     30   \n",
       "24840                MUNICIPIO DE MONTERREY     42   \n",
       "15670         GOBIERNO MUNICIPAL DE APODACA     20   \n",
       "24806                MUNICIPIO DE GUADALUPE     30   \n",
       "19887  INSTITUTO MEXICANO DEL SEGURO SOCIAL     40   \n",
       "24746                             MUNICIPIO     29   \n",
       "24744                             MUNICIPAL     15   \n",
       "\n",
       "       establecimientos por raz social  codigo_act por raz social  \n",
       "15563                              520                         47  \n",
       "15665                              148                         32  \n",
       "15643                              158                         30  \n",
       "31219                             1003                         24  \n",
       "15595                              156                         24  \n",
       "11724                              115                         24  \n",
       "24869                               53                         23  \n",
       "15613                               77                         22  \n",
       "27904                               45                         19  \n",
       "27026                               23                         19  \n",
       "15608                               71                         19  \n",
       "15636                               81                         17  \n",
       "31163                              420                         16  \n",
       "24760                               29                         16  \n",
       "24840                               42                         15  \n",
       "15670                               20                         14  \n",
       "24806                               30                         13  \n",
       "19887                               38                         13  \n",
       "24746                               29                         13  \n",
       "24744                               15                         12  "
      ]
     },
     "execution_count": 71,
     "metadata": {},
     "output_type": "execute_result"
    }
   ],
   "source": [
    "comp = pd.DataFrame(denue.groupby(\"raz_social\").size())\n",
    "comp[\"establecimientos por raz social\"]=denue.groupby(\"raz_social\")[\"nom_estab\"].nunique()\n",
    "comp[\"codigo_act por raz social\"]=denue.groupby(\"raz_social\")[\"codigo_act\"].nunique()\n",
    "comp.reset_index( inplace=True)\n",
    "comp[(comp[\"establecimientos por raz social\"]>1)&(comp[\"codigo_act por raz social\"]>1)].sort_values(\"codigo_act por raz social\",ascending=False).head(20)\n",
    "#razones sociales con mas de 1 establecimientos y mas de 1 giro industrial"
   ]
  },
  {
   "cell_type": "code",
   "execution_count": 72,
   "metadata": {
    "scrolled": true
   },
   "outputs": [
    {
     "data": {
      "text/html": [
       "<div>\n",
       "<style scoped>\n",
       "    .dataframe tbody tr th:only-of-type {\n",
       "        vertical-align: middle;\n",
       "    }\n",
       "\n",
       "    .dataframe tbody tr th {\n",
       "        vertical-align: top;\n",
       "    }\n",
       "\n",
       "    .dataframe thead th {\n",
       "        text-align: right;\n",
       "    }\n",
       "</style>\n",
       "<table border=\"1\" class=\"dataframe\">\n",
       "  <thead>\n",
       "    <tr style=\"text-align: right;\">\n",
       "      <th></th>\n",
       "      <th>raz_social</th>\n",
       "      <th>0</th>\n",
       "      <th>establecimientos por raz social</th>\n",
       "      <th>codigo_act por raz social</th>\n",
       "    </tr>\n",
       "  </thead>\n",
       "  <tbody>\n",
       "    <tr>\n",
       "      <th>27026</th>\n",
       "      <td>PENDIENTE</td>\n",
       "      <td>23</td>\n",
       "      <td>23</td>\n",
       "      <td>19</td>\n",
       "    </tr>\n",
       "    <tr>\n",
       "      <th>19887</th>\n",
       "      <td>INSTITUTO MEXICANO DEL SEGURO SOCIAL</td>\n",
       "      <td>40</td>\n",
       "      <td>38</td>\n",
       "      <td>13</td>\n",
       "    </tr>\n",
       "    <tr>\n",
       "      <th>10434</th>\n",
       "      <td>DIF</td>\n",
       "      <td>23</td>\n",
       "      <td>18</td>\n",
       "      <td>11</td>\n",
       "    </tr>\n",
       "    <tr>\n",
       "      <th>4144</th>\n",
       "      <td>BODEGA</td>\n",
       "      <td>43</td>\n",
       "      <td>5</td>\n",
       "      <td>11</td>\n",
       "    </tr>\n",
       "    <tr>\n",
       "      <th>32211</th>\n",
       "      <td>SERVICIOS DE SALUD DE NUEVO LEÓN</td>\n",
       "      <td>33</td>\n",
       "      <td>31</td>\n",
       "      <td>10</td>\n",
       "    </tr>\n",
       "    <tr>\n",
       "      <th>34432</th>\n",
       "      <td>TALLER</td>\n",
       "      <td>24</td>\n",
       "      <td>13</td>\n",
       "      <td>9</td>\n",
       "    </tr>\n",
       "    <tr>\n",
       "      <th>31522</th>\n",
       "      <td>SECRETARÍA DE SALUD</td>\n",
       "      <td>37</td>\n",
       "      <td>37</td>\n",
       "      <td>9</td>\n",
       "    </tr>\n",
       "    <tr>\n",
       "      <th>36939</th>\n",
       "      <td>UNIVERSIDAD AUTONOMA DE NUEVO LEÓN</td>\n",
       "      <td>40</td>\n",
       "      <td>40</td>\n",
       "      <td>9</td>\n",
       "    </tr>\n",
       "    <tr>\n",
       "      <th>3367</th>\n",
       "      <td>AZTECA NACIONAL AC</td>\n",
       "      <td>9</td>\n",
       "      <td>9</td>\n",
       "      <td>7</td>\n",
       "    </tr>\n",
       "    <tr>\n",
       "      <th>32207</th>\n",
       "      <td>SERVICIOS DE SALUD DE NUEVO LEON</td>\n",
       "      <td>14</td>\n",
       "      <td>14</td>\n",
       "      <td>7</td>\n",
       "    </tr>\n",
       "    <tr>\n",
       "      <th>35329</th>\n",
       "      <td>TERNIUM MEXICO SA DE CV</td>\n",
       "      <td>14</td>\n",
       "      <td>11</td>\n",
       "      <td>7</td>\n",
       "    </tr>\n",
       "    <tr>\n",
       "      <th>6651</th>\n",
       "      <td>CHRISTUS MUGUERZA SISTEMAS HOSPITALARIOS SA DE CV</td>\n",
       "      <td>25</td>\n",
       "      <td>25</td>\n",
       "      <td>7</td>\n",
       "    </tr>\n",
       "    <tr>\n",
       "      <th>5240</th>\n",
       "      <td>CARPINTERIA</td>\n",
       "      <td>12</td>\n",
       "      <td>2</td>\n",
       "      <td>7</td>\n",
       "    </tr>\n",
       "    <tr>\n",
       "      <th>36937</th>\n",
       "      <td>UNIVERSIDAD AUTONOMA DE NUEVO LEON</td>\n",
       "      <td>21</td>\n",
       "      <td>21</td>\n",
       "      <td>6</td>\n",
       "    </tr>\n",
       "    <tr>\n",
       "      <th>18820</th>\n",
       "      <td>IMPRENTA</td>\n",
       "      <td>8</td>\n",
       "      <td>2</td>\n",
       "      <td>6</td>\n",
       "    </tr>\n",
       "    <tr>\n",
       "      <th>10459</th>\n",
       "      <td>DIF MONTERREY</td>\n",
       "      <td>8</td>\n",
       "      <td>8</td>\n",
       "      <td>6</td>\n",
       "    </tr>\n",
       "    <tr>\n",
       "      <th>13750</th>\n",
       "      <td>FANTASIAS FINAS MONARCA SA DE CV</td>\n",
       "      <td>10</td>\n",
       "      <td>9</td>\n",
       "      <td>6</td>\n",
       "    </tr>\n",
       "    <tr>\n",
       "      <th>34532</th>\n",
       "      <td>TALLER MECANICO</td>\n",
       "      <td>33</td>\n",
       "      <td>7</td>\n",
       "      <td>6</td>\n",
       "    </tr>\n",
       "    <tr>\n",
       "      <th>1355</th>\n",
       "      <td>ALFA JMG MEDICAL CENTER SA DE CV</td>\n",
       "      <td>13</td>\n",
       "      <td>9</td>\n",
       "      <td>6</td>\n",
       "    </tr>\n",
       "    <tr>\n",
       "      <th>10143</th>\n",
       "      <td>DESARROLLO INTEGRAL DE LA FAMILIA</td>\n",
       "      <td>11</td>\n",
       "      <td>10</td>\n",
       "      <td>6</td>\n",
       "    </tr>\n",
       "  </tbody>\n",
       "</table>\n",
       "</div>"
      ],
      "text/plain": [
       "                                              raz_social   0  \\\n",
       "27026                                         PENDIENTE   23   \n",
       "19887              INSTITUTO MEXICANO DEL SEGURO SOCIAL   40   \n",
       "10434                                               DIF   23   \n",
       "4144                                             BODEGA   43   \n",
       "32211                  SERVICIOS DE SALUD DE NUEVO LEÓN   33   \n",
       "34432                                            TALLER   24   \n",
       "31522                               SECRETARÍA DE SALUD   37   \n",
       "36939                UNIVERSIDAD AUTONOMA DE NUEVO LEÓN   40   \n",
       "3367                                  AZTECA NACIONAL AC   9   \n",
       "32207                  SERVICIOS DE SALUD DE NUEVO LEON   14   \n",
       "35329                            TERNIUM MEXICO SA DE CV  14   \n",
       "6651   CHRISTUS MUGUERZA SISTEMAS HOSPITALARIOS SA DE CV  25   \n",
       "5240                                        CARPINTERIA   12   \n",
       "36937                UNIVERSIDAD AUTONOMA DE NUEVO LEON   21   \n",
       "18820                                          IMPRENTA    8   \n",
       "10459                                     DIF MONTERREY    8   \n",
       "13750                   FANTASIAS FINAS MONARCA SA DE CV  10   \n",
       "34532                                   TALLER MECANICO   33   \n",
       "1355                    ALFA JMG MEDICAL CENTER SA DE CV  13   \n",
       "10143                 DESARROLLO INTEGRAL DE LA FAMILIA   11   \n",
       "\n",
       "       establecimientos por raz social  codigo_act por raz social  \n",
       "27026                               23                         19  \n",
       "19887                               38                         13  \n",
       "10434                               18                         11  \n",
       "4144                                 5                         11  \n",
       "32211                               31                         10  \n",
       "34432                               13                          9  \n",
       "31522                               37                          9  \n",
       "36939                               40                          9  \n",
       "3367                                 9                          7  \n",
       "32207                               14                          7  \n",
       "35329                               11                          7  \n",
       "6651                                25                          7  \n",
       "5240                                 2                          7  \n",
       "36937                               21                          6  \n",
       "18820                                2                          6  \n",
       "10459                                8                          6  \n",
       "13750                                9                          6  \n",
       "34532                                7                          6  \n",
       "1355                                 9                          6  \n",
       "10143                               10                          6  "
      ]
     },
     "execution_count": 72,
     "metadata": {},
     "output_type": "execute_result"
    }
   ],
   "source": [
    "nolist=[\"GOBIERNO\",\"SECRETARIA\",\"MUNICIP\"]\n",
    "comp[(comp[\"establecimientos por raz social\"]>1)&(comp[\"codigo_act por raz social\"]>1)&\n",
    "    (~comp['raz_social'].str.contains('|'.join(nolist)))].sort_values(\"codigo_act por raz social\",ascending=False).head(20)\n"
   ]
  },
  {
   "cell_type": "code",
   "execution_count": 66,
   "metadata": {
    "scrolled": true
   },
   "outputs": [
    {
     "name": "stdout",
     "output_type": "stream",
     "text": [
      "Requirement already satisfied: wordcloud in c:\\users\\hugo\\anaconda\\envs\\project2\\lib\\site-packages (1.9.2)\n",
      "Requirement already satisfied: pillow in c:\\users\\hugo\\anaconda\\envs\\project2\\lib\\site-packages (from wordcloud) (8.0.1)\n",
      "Requirement already satisfied: matplotlib in c:\\users\\hugo\\anaconda\\envs\\project2\\lib\\site-packages (from wordcloud) (3.3.3)\n",
      "Requirement already satisfied: numpy>=1.6.1 in c:\\users\\hugo\\anaconda\\envs\\project2\\lib\\site-packages (from wordcloud) (1.20.1)\n",
      "Requirement already satisfied: python-dateutil>=2.1 in c:\\users\\hugo\\anaconda\\envs\\project2\\lib\\site-packages (from matplotlib->wordcloud) (2.8.1)\n",
      "Requirement already satisfied: pyparsing!=2.0.4,!=2.1.2,!=2.1.6,>=2.0.3 in c:\\users\\hugo\\anaconda\\envs\\project2\\lib\\site-packages (from matplotlib->wordcloud) (2.4.7)\n",
      "Requirement already satisfied: cycler>=0.10 in c:\\users\\hugo\\anaconda\\envs\\project2\\lib\\site-packages (from matplotlib->wordcloud) (0.10.0)\n",
      "Requirement already satisfied: kiwisolver>=1.0.1 in c:\\users\\hugo\\anaconda\\envs\\project2\\lib\\site-packages (from matplotlib->wordcloud) (1.3.1)\n",
      "Requirement already satisfied: six in c:\\users\\hugo\\anaconda\\envs\\project2\\lib\\site-packages (from cycler>=0.10->matplotlib->wordcloud) (1.15.0)\n"
     ]
    }
   ],
   "source": [
    "!pip install wordcloud\n",
    "from wordcloud import WordCloud"
   ]
  },
  {
   "cell_type": "code",
   "execution_count": 57,
   "metadata": {
    "collapsed": true
   },
   "outputs": [
    {
     "ename": "AttributeError",
     "evalue": "'TransposedFont' object has no attribute 'getbbox'",
     "output_type": "error",
     "traceback": [
      "\u001b[1;31m---------------------------------------------------------------------------\u001b[0m",
      "\u001b[1;31mAttributeError\u001b[0m                            Traceback (most recent call last)",
      "\u001b[1;32m<ipython-input-57-57723e9fa65b>\u001b[0m in \u001b[0;36m<module>\u001b[1;34m()\u001b[0m\n\u001b[0;32m      6\u001b[0m \u001b[1;33m\u001b[0m\u001b[0m\n\u001b[0;32m      7\u001b[0m \u001b[1;31m# Create a WordCloud object\u001b[0m\u001b[1;33m\u001b[0m\u001b[1;33m\u001b[0m\u001b[1;33m\u001b[0m\u001b[0m\n\u001b[1;32m----> 8\u001b[1;33m \u001b[0mwordcloud\u001b[0m \u001b[1;33m=\u001b[0m \u001b[0mWordCloud\u001b[0m\u001b[1;33m(\u001b[0m\u001b[0mbackground_color\u001b[0m\u001b[1;33m=\u001b[0m\u001b[1;34m'white'\u001b[0m\u001b[1;33m,\u001b[0m \u001b[0mwidth\u001b[0m\u001b[1;33m=\u001b[0m\u001b[1;36m1920\u001b[0m\u001b[1;33m,\u001b[0m \u001b[0mheight\u001b[0m\u001b[1;33m=\u001b[0m\u001b[1;36m1080\u001b[0m\u001b[1;33m,\u001b[0m \u001b[0mfont_path\u001b[0m\u001b[1;33m=\u001b[0m\u001b[0mfontpath\u001b[0m\u001b[1;33m)\u001b[0m\u001b[1;33m.\u001b[0m\u001b[0mgenerate\u001b[0m\u001b[1;33m(\u001b[0m\u001b[0mtext\u001b[0m\u001b[1;33m)\u001b[0m\u001b[1;33m\u001b[0m\u001b[1;33m\u001b[0m\u001b[0m\n\u001b[0m\u001b[0;32m      9\u001b[0m \u001b[1;33m\u001b[0m\u001b[0m\n\u001b[0;32m     10\u001b[0m \u001b[1;31m# Display the word cloud\u001b[0m\u001b[1;33m\u001b[0m\u001b[1;33m\u001b[0m\u001b[1;33m\u001b[0m\u001b[0m\n",
      "\u001b[1;32mC:\\Users\\HUGO\\anaconda\\envs\\project2\\lib\\site-packages\\wordcloud\\wordcloud.py\u001b[0m in \u001b[0;36mgenerate\u001b[1;34m(self, text)\u001b[0m\n\u001b[0;32m    637\u001b[0m         \u001b[0mself\u001b[0m\u001b[1;33m\u001b[0m\u001b[1;33m\u001b[0m\u001b[0m\n\u001b[0;32m    638\u001b[0m         \"\"\"\n\u001b[1;32m--> 639\u001b[1;33m         \u001b[1;32mreturn\u001b[0m \u001b[0mself\u001b[0m\u001b[1;33m.\u001b[0m\u001b[0mgenerate_from_text\u001b[0m\u001b[1;33m(\u001b[0m\u001b[0mtext\u001b[0m\u001b[1;33m)\u001b[0m\u001b[1;33m\u001b[0m\u001b[1;33m\u001b[0m\u001b[0m\n\u001b[0m\u001b[0;32m    640\u001b[0m \u001b[1;33m\u001b[0m\u001b[0m\n\u001b[0;32m    641\u001b[0m     \u001b[1;32mdef\u001b[0m \u001b[0m_check_generated\u001b[0m\u001b[1;33m(\u001b[0m\u001b[0mself\u001b[0m\u001b[1;33m)\u001b[0m\u001b[1;33m:\u001b[0m\u001b[1;33m\u001b[0m\u001b[1;33m\u001b[0m\u001b[0m\n",
      "\u001b[1;32mC:\\Users\\HUGO\\anaconda\\envs\\project2\\lib\\site-packages\\wordcloud\\wordcloud.py\u001b[0m in \u001b[0;36mgenerate_from_text\u001b[1;34m(self, text)\u001b[0m\n\u001b[0;32m    619\u001b[0m         \"\"\"\n\u001b[0;32m    620\u001b[0m         \u001b[0mwords\u001b[0m \u001b[1;33m=\u001b[0m \u001b[0mself\u001b[0m\u001b[1;33m.\u001b[0m\u001b[0mprocess_text\u001b[0m\u001b[1;33m(\u001b[0m\u001b[0mtext\u001b[0m\u001b[1;33m)\u001b[0m\u001b[1;33m\u001b[0m\u001b[1;33m\u001b[0m\u001b[0m\n\u001b[1;32m--> 621\u001b[1;33m         \u001b[0mself\u001b[0m\u001b[1;33m.\u001b[0m\u001b[0mgenerate_from_frequencies\u001b[0m\u001b[1;33m(\u001b[0m\u001b[0mwords\u001b[0m\u001b[1;33m)\u001b[0m\u001b[1;33m\u001b[0m\u001b[1;33m\u001b[0m\u001b[0m\n\u001b[0m\u001b[0;32m    622\u001b[0m         \u001b[1;32mreturn\u001b[0m \u001b[0mself\u001b[0m\u001b[1;33m\u001b[0m\u001b[1;33m\u001b[0m\u001b[0m\n\u001b[0;32m    623\u001b[0m \u001b[1;33m\u001b[0m\u001b[0m\n",
      "\u001b[1;32mC:\\Users\\HUGO\\anaconda\\envs\\project2\\lib\\site-packages\\wordcloud\\wordcloud.py\u001b[0m in \u001b[0;36mgenerate_from_frequencies\u001b[1;34m(self, frequencies, max_font_size)\u001b[0m\n\u001b[0;32m    452\u001b[0m             \u001b[1;32melse\u001b[0m\u001b[1;33m:\u001b[0m\u001b[1;33m\u001b[0m\u001b[1;33m\u001b[0m\u001b[0m\n\u001b[0;32m    453\u001b[0m                 self.generate_from_frequencies(dict(frequencies[:2]),\n\u001b[1;32m--> 454\u001b[1;33m                                                max_font_size=self.height)\n\u001b[0m\u001b[0;32m    455\u001b[0m                 \u001b[1;31m# find font sizes\u001b[0m\u001b[1;33m\u001b[0m\u001b[1;33m\u001b[0m\u001b[1;33m\u001b[0m\u001b[0m\n\u001b[0;32m    456\u001b[0m                 \u001b[0msizes\u001b[0m \u001b[1;33m=\u001b[0m \u001b[1;33m[\u001b[0m\u001b[0mx\u001b[0m\u001b[1;33m[\u001b[0m\u001b[1;36m1\u001b[0m\u001b[1;33m]\u001b[0m \u001b[1;32mfor\u001b[0m \u001b[0mx\u001b[0m \u001b[1;32min\u001b[0m \u001b[0mself\u001b[0m\u001b[1;33m.\u001b[0m\u001b[0mlayout_\u001b[0m\u001b[1;33m]\u001b[0m\u001b[1;33m\u001b[0m\u001b[1;33m\u001b[0m\u001b[0m\n",
      "\u001b[1;32mC:\\Users\\HUGO\\anaconda\\envs\\project2\\lib\\site-packages\\wordcloud\\wordcloud.py\u001b[0m in \u001b[0;36mgenerate_from_frequencies\u001b[1;34m(self, frequencies, max_font_size)\u001b[0m\n\u001b[0;32m    506\u001b[0m                     font, orientation=orientation)\n\u001b[0;32m    507\u001b[0m                 \u001b[1;31m# get size of resulting text\u001b[0m\u001b[1;33m\u001b[0m\u001b[1;33m\u001b[0m\u001b[1;33m\u001b[0m\u001b[0m\n\u001b[1;32m--> 508\u001b[1;33m                 \u001b[0mbox_size\u001b[0m \u001b[1;33m=\u001b[0m \u001b[0mdraw\u001b[0m\u001b[1;33m.\u001b[0m\u001b[0mtextbbox\u001b[0m\u001b[1;33m(\u001b[0m\u001b[1;33m(\u001b[0m\u001b[1;36m0\u001b[0m\u001b[1;33m,\u001b[0m \u001b[1;36m0\u001b[0m\u001b[1;33m)\u001b[0m\u001b[1;33m,\u001b[0m \u001b[0mword\u001b[0m\u001b[1;33m,\u001b[0m \u001b[0mfont\u001b[0m\u001b[1;33m=\u001b[0m\u001b[0mtransposed_font\u001b[0m\u001b[1;33m,\u001b[0m \u001b[0manchor\u001b[0m\u001b[1;33m=\u001b[0m\u001b[1;34m\"lt\"\u001b[0m\u001b[1;33m)\u001b[0m\u001b[1;33m\u001b[0m\u001b[1;33m\u001b[0m\u001b[0m\n\u001b[0m\u001b[0;32m    509\u001b[0m                 \u001b[1;31m# find possible places using integral image:\u001b[0m\u001b[1;33m\u001b[0m\u001b[1;33m\u001b[0m\u001b[1;33m\u001b[0m\u001b[0m\n\u001b[0;32m    510\u001b[0m                 result = occupancy.sample_position(box_size[3] + self.margin,\n",
      "\u001b[1;32mC:\\Users\\HUGO\\anaconda\\envs\\project2\\lib\\site-packages\\PIL\\ImageDraw.py\u001b[0m in \u001b[0;36mtextbbox\u001b[1;34m(self, xy, text, font, anchor, spacing, align, direction, features, language, stroke_width, embedded_color)\u001b[0m\n\u001b[0;32m    565\u001b[0m             \u001b[0mfont\u001b[0m \u001b[1;33m=\u001b[0m \u001b[0mself\u001b[0m\u001b[1;33m.\u001b[0m\u001b[0mgetfont\u001b[0m\u001b[1;33m(\u001b[0m\u001b[1;33m)\u001b[0m\u001b[1;33m\u001b[0m\u001b[1;33m\u001b[0m\u001b[0m\n\u001b[0;32m    566\u001b[0m         \u001b[0mmode\u001b[0m \u001b[1;33m=\u001b[0m \u001b[1;34m\"RGBA\"\u001b[0m \u001b[1;32mif\u001b[0m \u001b[0membedded_color\u001b[0m \u001b[1;32melse\u001b[0m \u001b[0mself\u001b[0m\u001b[1;33m.\u001b[0m\u001b[0mfontmode\u001b[0m\u001b[1;33m\u001b[0m\u001b[1;33m\u001b[0m\u001b[0m\n\u001b[1;32m--> 567\u001b[1;33m         bbox = font.getbbox(\n\u001b[0m\u001b[0;32m    568\u001b[0m             \u001b[0mtext\u001b[0m\u001b[1;33m,\u001b[0m \u001b[0mmode\u001b[0m\u001b[1;33m,\u001b[0m \u001b[0mdirection\u001b[0m\u001b[1;33m,\u001b[0m \u001b[0mfeatures\u001b[0m\u001b[1;33m,\u001b[0m \u001b[0mlanguage\u001b[0m\u001b[1;33m,\u001b[0m \u001b[0mstroke_width\u001b[0m\u001b[1;33m,\u001b[0m \u001b[0manchor\u001b[0m\u001b[1;33m\u001b[0m\u001b[1;33m\u001b[0m\u001b[0m\n\u001b[0;32m    569\u001b[0m         )\n",
      "\u001b[1;31mAttributeError\u001b[0m: 'TransposedFont' object has no attribute 'getbbox'"
     ]
    },
    {
     "data": {
      "image/png": "[encoded data removed]",
      "text/plain": [
       "<Figure size 1800x1080 with 1 Axes>"
      ]
     },
     "metadata": {
      "needs_background": "light"
     },
     "output_type": "display_data"
    }
   ],
   "source": [
    "plt.subplots(figsize=(25, 15))\n",
    "fontpath=\"C:/Users/HUGO/anaconda/pkgs/nbclassic-0.4.8-py310haa95532_0/Lib/site-packages/nbclassic/static/components/font-awesome/fonts/OpenSans-Bold.ttf\"\n",
    "\n",
    "# Join the municipio values as a single string\n",
    "text = \" \".join(denue.municipio)\n",
    "\n",
    "# Create a WordCloud object\n",
    "wordcloud = WordCloud(background_color='white', width=1920, height=1080, font_path=fontpath).generate(text)\n",
    "\n",
    "# Display the word cloud\n",
    "plt.imshow(wordcloud, interpolation='bilinear')\n",
    "plt.axis('off')\n",
    "\n",
    "# Show the plot\n",
    "plt.show()\n"
   ]
  },
  {
   "cell_type": "code",
   "execution_count": 61,
   "metadata": {},
   "outputs": [
    {
     "data": {
      "image/png": "[encoded data removed]",
      "text/plain": [
       "<Figure size 720x576 with 1 Axes>"
      ]
     },
     "metadata": {},
     "output_type": "display_data"
    }
   ],
   "source": [
    "denue['municipio'].value_counts().plot.pie(autopct='%1.1f%%',shadow=True,figsize=(10,8))\n",
    "plt.show()"
   ]
  },
  {
   "cell_type": "code",
   "execution_count": 73,
   "metadata": {},
   "outputs": [
    {
     "data": {
      "image/png": "[encoded data removed]",
      "text/plain": [
       "<Figure size 720x576 with 1 Axes>"
      ]
     },
     "metadata": {},
     "output_type": "display_data"
    }
   ],
   "source": [
    "denue['tipo_vial'].value_counts().plot.pie(autopct='%1.1f%%',shadow=True,figsize=(10,8))\n",
    "plt.show()"
   ]
  },
  {
   "cell_type": "code",
   "execution_count": 74,
   "metadata": {},
   "outputs": [
    {
     "name": "stdout",
     "output_type": "stream",
     "text": [
      "Collecting chartify\n",
      "  Downloading chartify-3.1.0-py2.py3-none-any.whl (64 kB)\n",
      "Requirement already satisfied: scipy<2.0.0,>=1.0.0 in c:\\users\\hugo\\anaconda\\envs\\project2\\lib\\site-packages (from chartify) (1.5.2)\n",
      "Requirement already satisfied: ipykernel>=5.0 in c:\\users\\hugo\\anaconda\\envs\\project2\\lib\\site-packages (from chartify) (5.3.4)\n",
      "Requirement already satisfied: pandas<2.0.0,>=1.0.0 in c:\\users\\hugo\\anaconda\\envs\\project2\\lib\\site-packages (from chartify) (1.1.5)\n",
      "Requirement already satisfied: Jinja2<3.1.0 in c:\\users\\hugo\\anaconda\\envs\\project2\\lib\\site-packages (from chartify) (2.11.2)\n",
      "Requirement already satisfied: pyyaml>=5.3.1 in c:\\users\\hugo\\anaconda\\envs\\project2\\lib\\site-packages (from chartify) (5.3.1)\n",
      "Collecting bokeh<2.3.0,>=2.0.0\n",
      "  Downloading bokeh-2.2.3.tar.gz (8.8 MB)\n",
      "Requirement already satisfied: python-dateutil>=2.1 in c:\\users\\hugo\\anaconda\\envs\\project2\\lib\\site-packages (from bokeh<2.3.0,>=2.0.0->chartify) (2.8.1)\n",
      "Requirement already satisfied: numpy>=1.11.3 in c:\\users\\hugo\\anaconda\\envs\\project2\\lib\\site-packages (from bokeh<2.3.0,>=2.0.0->chartify) (1.20.1)\n",
      "Requirement already satisfied: packaging>=16.8 in c:\\users\\hugo\\anaconda\\envs\\project2\\lib\\site-packages (from bokeh<2.3.0,>=2.0.0->chartify) (20.8)\n",
      "Requirement already satisfied: tornado>=5.1 in c:\\users\\hugo\\anaconda\\envs\\project2\\lib\\site-packages (from bokeh<2.3.0,>=2.0.0->chartify) (6.1)\n",
      "Requirement already satisfied: typing_extensions>=3.7.4 in c:\\users\\hugo\\anaconda\\envs\\project2\\lib\\site-packages (from bokeh<2.3.0,>=2.0.0->chartify) (3.7.4.3)\n",
      "Requirement already satisfied: traitlets>=4.1.0 in c:\\users\\hugo\\anaconda\\envs\\project2\\lib\\site-packages (from ipykernel>=5.0->chartify) (5.0.5)\n",
      "Requirement already satisfied: jupyter-client in c:\\users\\hugo\\anaconda\\envs\\project2\\lib\\site-packages (from ipykernel>=5.0->chartify) (6.1.7)\n",
      "Collecting ipython>=7.0\n",
      "  Downloading ipython-7.34.0-py3-none-any.whl (793 kB)\n",
      "Requirement already satisfied: setuptools>=18.5 in c:\\users\\hugo\\anaconda\\envs\\project2\\lib\\site-packages (from ipython>=7.0->chartify) (51.0.0.post20201207)\n",
      "Requirement already satisfied: pickleshare in c:\\users\\hugo\\anaconda\\envs\\project2\\lib\\site-packages (from ipython>=7.0->chartify) (0.7.5)\n",
      "Requirement already satisfied: colorama in c:\\users\\hugo\\anaconda\\envs\\project2\\lib\\site-packages (from ipython>=7.0->chartify) (0.4.4)\n",
      "Requirement already satisfied: jedi>=0.16 in c:\\users\\hugo\\anaconda\\envs\\project2\\lib\\site-packages (from ipython>=7.0->chartify) (0.17.2)\n",
      "Requirement already satisfied: pygments in c:\\users\\hugo\\anaconda\\envs\\project2\\lib\\site-packages (from ipython>=7.0->chartify) (2.7.3)\n",
      "Requirement already satisfied: decorator in c:\\users\\hugo\\anaconda\\envs\\project2\\lib\\site-packages (from ipython>=7.0->chartify) (4.4.2)\n",
      "Requirement already satisfied: parso<0.8.0,>=0.7.0 in c:\\users\\hugo\\anaconda\\envs\\project2\\lib\\site-packages (from jedi>=0.16->ipython>=7.0->chartify) (0.7.0)\n",
      "Requirement already satisfied: MarkupSafe>=0.23 in c:\\users\\hugo\\anaconda\\envs\\project2\\lib\\site-packages (from Jinja2<3.1.0->chartify) (1.1.1)\n",
      "Requirement already satisfied: pyparsing>=2.0.2 in c:\\users\\hugo\\anaconda\\envs\\project2\\lib\\site-packages (from packaging>=16.8->bokeh<2.3.0,>=2.0.0->chartify) (2.4.7)\n",
      "Requirement already satisfied: pytz>=2017.2 in c:\\users\\hugo\\anaconda\\envs\\project2\\lib\\site-packages (from pandas<2.0.0,>=1.0.0->chartify) (2020.4)\n",
      "Collecting Pillow>=8.4.0\n",
      "  Downloading Pillow-9.5.0-cp37-cp37m-win_amd64.whl (2.5 MB)\n",
      "Collecting prompt-toolkit!=3.0.0,!=3.0.1,<3.1.0,>=2.0.0\n",
      "  Downloading prompt_toolkit-3.0.38-py3-none-any.whl (385 kB)\n",
      "Requirement already satisfied: wcwidth in c:\\users\\hugo\\anaconda\\envs\\project2\\lib\\site-packages (from prompt-toolkit!=3.0.0,!=3.0.1,<3.1.0,>=2.0.0->ipython>=7.0->chartify) (0.2.5)\n",
      "Requirement already satisfied: six>=1.5 in c:\\users\\hugo\\anaconda\\envs\\project2\\lib\\site-packages (from python-dateutil>=2.1->bokeh<2.3.0,>=2.0.0->chartify) (1.15.0)\n",
      "Collecting selenium<=3.8.0,>=3.7.0\n",
      "  Downloading selenium-3.8.0-py2.py3-none-any.whl (941 kB)\n",
      "Requirement already satisfied: ipython-genutils in c:\\users\\hugo\\anaconda\\envs\\project2\\lib\\site-packages (from traitlets>=4.1.0->ipykernel>=5.0->chartify) (0.2.0)\n",
      "Collecting backcall\n",
      "  Downloading backcall-0.2.0-py2.py3-none-any.whl (11 kB)\n",
      "Requirement already satisfied: pyzmq>=13 in c:\\users\\hugo\\anaconda\\envs\\project2\\lib\\site-packages (from jupyter-client->ipykernel>=5.0->chartify) (20.0.0)\n",
      "Requirement already satisfied: jupyter-core>=4.6.0 in c:\\users\\hugo\\anaconda\\envs\\project2\\lib\\site-packages (from jupyter-client->ipykernel>=5.0->chartify) (4.7.0)\n",
      "Requirement already satisfied: pywin32>=1.0 in c:\\users\\hugo\\anaconda\\envs\\project2\\lib\\site-packages (from jupyter-core>=4.6.0->jupyter-client->ipykernel>=5.0->chartify) (227)\n",
      "Collecting matplotlib-inline\n",
      "  Downloading matplotlib_inline-0.1.6-py3-none-any.whl (9.4 kB)\n",
      "Building wheels for collected packages: bokeh\n",
      "  Building wheel for bokeh (setup.py): started\n",
      "  Building wheel for bokeh (setup.py): still running...\n",
      "  Building wheel for bokeh (setup.py): finished with status 'done'\n",
      "  Created wheel for bokeh: filename=bokeh-2.2.3-py3-none-any.whl size=9296317 sha256=4e106399a23a8e5966707818a1b3f3b4735df3dbaf48e09741029cdcc23482dd\n",
      "  Stored in directory: c:\\users\\hugo\\appdata\\local\\pip\\cache\\wheels\\0c\\6a\\ac\\5de7ec1983d76fa1243106008b70df211dceb5ed643ad15699\n",
      "Successfully built bokeh\n",
      "Installing collected packages: prompt-toolkit, matplotlib-inline, backcall, Pillow, ipython, selenium, bokeh, chartify\n",
      "  Attempting uninstall: prompt-toolkit\n",
      "    Found existing installation: prompt-toolkit 1.0.15\n",
      "    Uninstalling prompt-toolkit-1.0.15:\n",
      "      Successfully uninstalled prompt-toolkit-1.0.15\n",
      "  Attempting uninstall: Pillow\n",
      "    Found existing installation: Pillow 8.0.1\n",
      "    Uninstalling Pillow-8.0.1:\n",
      "      Successfully uninstalled Pillow-8.0.1\n"
     ]
    },
    {
     "name": "stderr",
     "output_type": "stream",
     "text": [
      "ERROR: Could not install packages due to an EnvironmentError: [WinError 5] Acceso denegado: 'c:\\\\users\\\\hugo\\\\anaconda\\\\envs\\\\project2\\\\lib\\\\site-packages\\\\~il\\\\_imaging.cp37-win_amd64.pyd'\n",
      "Consider using the `--user` option or check the permissions.\n",
      "\n"
     ]
    }
   ],
   "source": [
    "!pip install chartify"
   ]
  },
  {
   "cell_type": "code",
   "execution_count": 75,
   "metadata": {
    "scrolled": true
   },
   "outputs": [
    {
     "data": {
      "text/html": [
       "<div>\n",
       "<style scoped>\n",
       "    .dataframe tbody tr th:only-of-type {\n",
       "        vertical-align: middle;\n",
       "    }\n",
       "\n",
       "    .dataframe tbody tr th {\n",
       "        vertical-align: top;\n",
       "    }\n",
       "\n",
       "    .dataframe thead th {\n",
       "        text-align: right;\n",
       "    }\n",
       "</style>\n",
       "<table border=\"1\" class=\"dataframe\">\n",
       "  <thead>\n",
       "    <tr style=\"text-align: right;\">\n",
       "      <th></th>\n",
       "      <th>id</th>\n",
       "      <th>nom_estab</th>\n",
       "      <th>raz_social</th>\n",
       "      <th>codigo_act</th>\n",
       "      <th>nombre_act</th>\n",
       "      <th>per_ocu</th>\n",
       "      <th>tipo_vial</th>\n",
       "      <th>nom_vial</th>\n",
       "      <th>tipo_v_e_1</th>\n",
       "      <th>nom_v_e_1</th>\n",
       "      <th>tipo_v_e_2</th>\n",
       "      <th>nom_v_e_2</th>\n",
       "      <th>tipo_v_e_3</th>\n",
       "      <th>nom_v_e_3</th>\n",
       "      <th>numero_ext</th>\n",
       "      <th>letra_ext</th>\n",
       "      <th>tipo_asent</th>\n",
       "      <th>nomb_asent</th>\n",
       "      <th>cod_postal</th>\n",
       "      <th>cve_ent</th>\n",
       "      <th>entidad</th>\n",
       "      <th>cve_mun</th>\n",
       "      <th>municipio</th>\n",
       "      <th>cve_loc</th>\n",
       "      <th>localidad</th>\n",
       "      <th>ageb</th>\n",
       "      <th>manzana</th>\n",
       "      <th>tipoUniEco</th>\n",
       "      <th>latitud</th>\n",
       "      <th>longitud</th>\n",
       "      <th>fecha_alta</th>\n",
       "      <th>wsite</th>\n",
       "      <th>existingtime</th>\n",
       "      <th>nombre_act2</th>\n",
       "    </tr>\n",
       "  </thead>\n",
       "  <tbody>\n",
       "    <tr>\n",
       "      <th>0</th>\n",
       "      <td>8777590</td>\n",
       "      <td>AGROACRE SAN RAFAEL</td>\n",
       "      <td>AGROACRE SA DE CV</td>\n",
       "      <td>115111</td>\n",
       "      <td>Servicios de fumigación agrícola</td>\n",
       "      <td>0 a 5 personas</td>\n",
       "      <td>CALLE</td>\n",
       "      <td>LATERAL</td>\n",
       "      <td>CALLEJON</td>\n",
       "      <td>NINGUNO</td>\n",
       "      <td>CALLE</td>\n",
       "      <td>CARRETERA A LA HEDIONDILLA</td>\n",
       "      <td>CALLE</td>\n",
       "      <td>CARRETERA A LA HEDIONDILLA</td>\n",
       "      <td>NaN</td>\n",
       "      <td>SN</td>\n",
       "      <td>LOCALIDAD</td>\n",
       "      <td>SAN RAFAEL</td>\n",
       "      <td>67865.0</td>\n",
       "      <td>19</td>\n",
       "      <td>NUEVO LEÓN</td>\n",
       "      <td>17</td>\n",
       "      <td>Galeana</td>\n",
       "      <td>153</td>\n",
       "      <td>San Rafael</td>\n",
       "      <td>0040</td>\n",
       "      <td>14</td>\n",
       "      <td>Fijo</td>\n",
       "      <td>25.029622</td>\n",
       "      <td>-100.555724</td>\n",
       "      <td>2019-11-01</td>\n",
       "      <td>NaN</td>\n",
       "      <td>1296 days</td>\n",
       "      <td>Servicios de fumigación agrícola</td>\n",
       "    </tr>\n",
       "    <tr>\n",
       "      <th>1</th>\n",
       "      <td>9076621</td>\n",
       "      <td>ARQUITECTURA Y PAISAJISMO</td>\n",
       "      <td>ARQUITECTURA Y PAISAJISMO SA DE CV</td>\n",
       "      <td>115310</td>\n",
       "      <td>Servicios relacionados con el aprovechamiento ...</td>\n",
       "      <td>11 a 30 personas</td>\n",
       "      <td>CALLE</td>\n",
       "      <td>SAN REMO</td>\n",
       "      <td>CALLE</td>\n",
       "      <td>MARZALA</td>\n",
       "      <td>CALLE</td>\n",
       "      <td>CESENA</td>\n",
       "      <td>CALLE</td>\n",
       "      <td>NOVARA</td>\n",
       "      <td>5108.0</td>\n",
       "      <td>SN</td>\n",
       "      <td>COLONIA</td>\n",
       "      <td>SANTA CECILIA</td>\n",
       "      <td>64150.0</td>\n",
       "      <td>19</td>\n",
       "      <td>NUEVO LEÓN</td>\n",
       "      <td>39</td>\n",
       "      <td>Monterrey</td>\n",
       "      <td>1</td>\n",
       "      <td>Monterrey</td>\n",
       "      <td>4106</td>\n",
       "      <td>25</td>\n",
       "      <td>Fijo</td>\n",
       "      <td>25.729396</td>\n",
       "      <td>-100.362220</td>\n",
       "      <td>2019-11-01</td>\n",
       "      <td>NaN</td>\n",
       "      <td>1296 days</td>\n",
       "      <td>Servicios relacionados con el aprovechamiento ...</td>\n",
       "    </tr>\n",
       "    <tr>\n",
       "      <th>2</th>\n",
       "      <td>7961265</td>\n",
       "      <td>ASOCIACION GANADERA PARAS NL</td>\n",
       "      <td>ASOCIACION GANADERA PARAS NL</td>\n",
       "      <td>115210</td>\n",
       "      <td>Servicios relacionados con la cría y explotaci...</td>\n",
       "      <td>0 a 5 personas</td>\n",
       "      <td>CALLE</td>\n",
       "      <td>GENERAL IRINEO VILLARREAL</td>\n",
       "      <td>PRIVADA</td>\n",
       "      <td>LIBRAMIENTO</td>\n",
       "      <td>OTRO (ESPECIFIQUE)</td>\n",
       "      <td>NINGUNO</td>\n",
       "      <td>OTRO (ESPECIFIQUE)</td>\n",
       "      <td>VEREDA</td>\n",
       "      <td>0.0</td>\n",
       "      <td>SN</td>\n",
       "      <td>FRACCIONAMIENTO</td>\n",
       "      <td>FRACCIONAMIENTO DEL NORTE</td>\n",
       "      <td>65450.0</td>\n",
       "      <td>19</td>\n",
       "      <td>NUEVO LEÓN</td>\n",
       "      <td>40</td>\n",
       "      <td>Parás</td>\n",
       "      <td>1</td>\n",
       "      <td>Parás</td>\n",
       "      <td>027A</td>\n",
       "      <td>5</td>\n",
       "      <td>Fijo</td>\n",
       "      <td>26.504982</td>\n",
       "      <td>-99.531195</td>\n",
       "      <td>2019-11-01</td>\n",
       "      <td>NaN</td>\n",
       "      <td>1296 days</td>\n",
       "      <td>Servicios relacionados con la cría y explotaci...</td>\n",
       "    </tr>\n",
       "    <tr>\n",
       "      <th>3</th>\n",
       "      <td>8970903</td>\n",
       "      <td>BASCULAS TABESA</td>\n",
       "      <td>BASULAS TABESA SA DE CV</td>\n",
       "      <td>115210</td>\n",
       "      <td>Servicios relacionados con la cría y explotaci...</td>\n",
       "      <td>0 a 5 personas</td>\n",
       "      <td>CALLE</td>\n",
       "      <td>HEROICO COLEGIO MILITAR</td>\n",
       "      <td>CALLE</td>\n",
       "      <td>LAURELES</td>\n",
       "      <td>CALLE</td>\n",
       "      <td>LORENZO GARZA</td>\n",
       "      <td>CALLE</td>\n",
       "      <td>ALAMILLO</td>\n",
       "      <td>335.0</td>\n",
       "      <td>NaN</td>\n",
       "      <td>COLONIA</td>\n",
       "      <td>DEL PRADO</td>\n",
       "      <td>64410.0</td>\n",
       "      <td>19</td>\n",
       "      <td>NUEVO LEÓN</td>\n",
       "      <td>39</td>\n",
       "      <td>Monterrey</td>\n",
       "      <td>1</td>\n",
       "      <td>Monterrey</td>\n",
       "      <td>0974</td>\n",
       "      <td>11</td>\n",
       "      <td>Fijo</td>\n",
       "      <td>25.700193</td>\n",
       "      <td>-100.314323</td>\n",
       "      <td>2019-11-01</td>\n",
       "      <td>NaN</td>\n",
       "      <td>1296 days</td>\n",
       "      <td>Servicios relacionados con la cría y explotaci...</td>\n",
       "    </tr>\n",
       "    <tr>\n",
       "      <th>4</th>\n",
       "      <td>8533179</td>\n",
       "      <td>BEEF MASTER</td>\n",
       "      <td>ASOCIACION MEXICANA DE CRIADORES DE GANADO SA ...</td>\n",
       "      <td>115210</td>\n",
       "      <td>Servicios relacionados con la cría y explotaci...</td>\n",
       "      <td>6 a 10 personas</td>\n",
       "      <td>AVENIDA</td>\n",
       "      <td>BENITO JUAREZ</td>\n",
       "      <td>CALLE</td>\n",
       "      <td>LOS PINOS</td>\n",
       "      <td>CALLE</td>\n",
       "      <td>FRESNO</td>\n",
       "      <td>CALLE</td>\n",
       "      <td>APERTURA</td>\n",
       "      <td>4595.0</td>\n",
       "      <td>NaN</td>\n",
       "      <td>COLONIA</td>\n",
       "      <td>INFONAVIT SOLIDARIDAD</td>\n",
       "      <td>67169.0</td>\n",
       "      <td>19</td>\n",
       "      <td>NUEVO LEÓN</td>\n",
       "      <td>26</td>\n",
       "      <td>Guadalupe</td>\n",
       "      <td>1</td>\n",
       "      <td>Guadalupe</td>\n",
       "      <td>2239</td>\n",
       "      <td>23</td>\n",
       "      <td>Fijo</td>\n",
       "      <td>25.675023</td>\n",
       "      <td>-100.211547</td>\n",
       "      <td>2019-11-01</td>\n",
       "      <td>1.0</td>\n",
       "      <td>1296 days</td>\n",
       "      <td>Servicios relacionados con la cría y explotaci...</td>\n",
       "    </tr>\n",
       "    <tr>\n",
       "      <th>...</th>\n",
       "      <td>...</td>\n",
       "      <td>...</td>\n",
       "      <td>...</td>\n",
       "      <td>...</td>\n",
       "      <td>...</td>\n",
       "      <td>...</td>\n",
       "      <td>...</td>\n",
       "      <td>...</td>\n",
       "      <td>...</td>\n",
       "      <td>...</td>\n",
       "      <td>...</td>\n",
       "      <td>...</td>\n",
       "      <td>...</td>\n",
       "      <td>...</td>\n",
       "      <td>...</td>\n",
       "      <td>...</td>\n",
       "      <td>...</td>\n",
       "      <td>...</td>\n",
       "      <td>...</td>\n",
       "      <td>...</td>\n",
       "      <td>...</td>\n",
       "      <td>...</td>\n",
       "      <td>...</td>\n",
       "      <td>...</td>\n",
       "      <td>...</td>\n",
       "      <td>...</td>\n",
       "      <td>...</td>\n",
       "      <td>...</td>\n",
       "      <td>...</td>\n",
       "      <td>...</td>\n",
       "      <td>...</td>\n",
       "      <td>...</td>\n",
       "      <td>...</td>\n",
       "      <td>...</td>\n",
       "    </tr>\n",
       "    <tr>\n",
       "      <th>186267</th>\n",
       "      <td>2933186</td>\n",
       "      <td>VOCALIA EJECUTIVA PAR ALA REGULARIZACION DE LA...</td>\n",
       "      <td>MUNICIPIO GENERAL ESCOBEDO</td>\n",
       "      <td>931210</td>\n",
       "      <td>Administración pública en general</td>\n",
       "      <td>0 a 5 personas</td>\n",
       "      <td>CALLE</td>\n",
       "      <td>FRANCISCO I. MADERO</td>\n",
       "      <td>CALLE</td>\n",
       "      <td>LICENCIADO BENITO JUAREZ</td>\n",
       "      <td>CALLE</td>\n",
       "      <td>MIGUEL HIDALGO Y COSTILLA</td>\n",
       "      <td>AVENIDA</td>\n",
       "      <td>LICENCIADO RAÚL CABALLERO ESCAMILLA</td>\n",
       "      <td>201.0</td>\n",
       "      <td>NaN</td>\n",
       "      <td>COLONIA</td>\n",
       "      <td>GENERAL ESCOBEDO CENTRO</td>\n",
       "      <td>66050.0</td>\n",
       "      <td>19</td>\n",
       "      <td>NUEVO LEÓN</td>\n",
       "      <td>21</td>\n",
       "      <td>General Escobedo</td>\n",
       "      <td>1</td>\n",
       "      <td>Ciudad General Escobedo</td>\n",
       "      <td>0414</td>\n",
       "      <td>16</td>\n",
       "      <td>Fijo</td>\n",
       "      <td>25.808627</td>\n",
       "      <td>-100.323785</td>\n",
       "      <td>2014-12-01</td>\n",
       "      <td>NaN</td>\n",
       "      <td>3092 days</td>\n",
       "      <td>Administración pública en general</td>\n",
       "    </tr>\n",
       "    <tr>\n",
       "      <th>186268</th>\n",
       "      <td>3018636</td>\n",
       "      <td>YONKE MUNICIPAL</td>\n",
       "      <td>GOBIERNO</td>\n",
       "      <td>931210</td>\n",
       "      <td>Administración pública en general</td>\n",
       "      <td>6 a 10 personas</td>\n",
       "      <td>CALLE</td>\n",
       "      <td>RIO ALAMO</td>\n",
       "      <td>CALLE</td>\n",
       "      <td>LIBRAMIENTO A NOGALES</td>\n",
       "      <td>CALLE</td>\n",
       "      <td>RIO CONCHOS</td>\n",
       "      <td>CALLE</td>\n",
       "      <td>RÍO ÁLAMO</td>\n",
       "      <td>NaN</td>\n",
       "      <td>SN</td>\n",
       "      <td>COLONIA</td>\n",
       "      <td>CENTRO</td>\n",
       "      <td>65800.0</td>\n",
       "      <td>19</td>\n",
       "      <td>NUEVO LEÓN</td>\n",
       "      <td>2</td>\n",
       "      <td>Agualeguas</td>\n",
       "      <td>1</td>\n",
       "      <td>Agualeguas</td>\n",
       "      <td>0279</td>\n",
       "      <td>20</td>\n",
       "      <td>Fijo</td>\n",
       "      <td>26.301663</td>\n",
       "      <td>-99.544980</td>\n",
       "      <td>2010-07-01</td>\n",
       "      <td>NaN</td>\n",
       "      <td>4706 days</td>\n",
       "      <td>Administración pública en general</td>\n",
       "    </tr>\n",
       "    <tr>\n",
       "      <th>186269</th>\n",
       "      <td>7318936</td>\n",
       "      <td>ZONA ESCOLAR NO. 65</td>\n",
       "      <td>ZONA ESCOLAR NO.65</td>\n",
       "      <td>931210</td>\n",
       "      <td>Administración pública en general</td>\n",
       "      <td>0 a 5 personas</td>\n",
       "      <td>CALLE</td>\n",
       "      <td>BENITO JUAREZ</td>\n",
       "      <td>CALLE</td>\n",
       "      <td>BENITO JUAREZ</td>\n",
       "      <td>CALLE</td>\n",
       "      <td>NICOLAS BRAVO</td>\n",
       "      <td>CALLE</td>\n",
       "      <td>DOCTOR COSS</td>\n",
       "      <td>NaN</td>\n",
       "      <td>SN</td>\n",
       "      <td>COLONIA</td>\n",
       "      <td>SABINAS HIDALGO CENTRO</td>\n",
       "      <td>65200.0</td>\n",
       "      <td>19</td>\n",
       "      <td>NUEVO LEÓN</td>\n",
       "      <td>44</td>\n",
       "      <td>Sabinas Hidalgo</td>\n",
       "      <td>1</td>\n",
       "      <td>Ciudad Sabinas Hidalgo</td>\n",
       "      <td>0601</td>\n",
       "      <td>7</td>\n",
       "      <td>Fijo</td>\n",
       "      <td>26.500012</td>\n",
       "      <td>-100.178903</td>\n",
       "      <td>2019-11-01</td>\n",
       "      <td>NaN</td>\n",
       "      <td>1296 days</td>\n",
       "      <td>Administración pública en general</td>\n",
       "    </tr>\n",
       "    <tr>\n",
       "      <th>186270</th>\n",
       "      <td>2939891</td>\n",
       "      <td>ZONA ESCOLAR NUMERO 19 DE EDUCACIÓN ESPECIAL</td>\n",
       "      <td>SECRETARÍA DE EDUCACIÓN</td>\n",
       "      <td>931610</td>\n",
       "      <td>Actividades administrativas de instituciones d...</td>\n",
       "      <td>0 a 5 personas</td>\n",
       "      <td>CALLE</td>\n",
       "      <td>BERNARDO REYES</td>\n",
       "      <td>CALLE</td>\n",
       "      <td>GALEANA</td>\n",
       "      <td>CALLE</td>\n",
       "      <td>NICOLAS BRAVO</td>\n",
       "      <td>CALLE</td>\n",
       "      <td>ZUAZUA</td>\n",
       "      <td>NaN</td>\n",
       "      <td>SN</td>\n",
       "      <td>COLONIA</td>\n",
       "      <td>CENTRO</td>\n",
       "      <td>65200.0</td>\n",
       "      <td>19</td>\n",
       "      <td>NUEVO LEÓN</td>\n",
       "      <td>44</td>\n",
       "      <td>Sabinas Hidalgo</td>\n",
       "      <td>1</td>\n",
       "      <td>Ciudad Sabinas Hidalgo</td>\n",
       "      <td>0546</td>\n",
       "      <td>13</td>\n",
       "      <td>Fijo</td>\n",
       "      <td>26.506484</td>\n",
       "      <td>-100.176547</td>\n",
       "      <td>2014-12-01</td>\n",
       "      <td>NaN</td>\n",
       "      <td>3092 days</td>\n",
       "      <td>Actividades administrativas de instituciones d...</td>\n",
       "    </tr>\n",
       "    <tr>\n",
       "      <th>186271</th>\n",
       "      <td>9030774</td>\n",
       "      <td>ZONA NUMERO 2 POLICIA</td>\n",
       "      <td>SECRETARIA DE SEGURIDAD PUBLICA DE GUADALUPE</td>\n",
       "      <td>931410</td>\n",
       "      <td>Impartición de justicia y mantenimiento de la ...</td>\n",
       "      <td>11 a 30 personas</td>\n",
       "      <td>CALLE</td>\n",
       "      <td>RIO PAPALOAPAN</td>\n",
       "      <td>CALLE</td>\n",
       "      <td>SANTA CRUZ</td>\n",
       "      <td>CALLE</td>\n",
       "      <td>RIO LA SILLA</td>\n",
       "      <td>CALLE</td>\n",
       "      <td>RÍO ANA</td>\n",
       "      <td>NaN</td>\n",
       "      <td>SN</td>\n",
       "      <td>COLONIA</td>\n",
       "      <td>DOS RIOS</td>\n",
       "      <td>67168.0</td>\n",
       "      <td>19</td>\n",
       "      <td>NUEVO LEÓN</td>\n",
       "      <td>26</td>\n",
       "      <td>Guadalupe</td>\n",
       "      <td>1</td>\n",
       "      <td>Guadalupe</td>\n",
       "      <td>2192</td>\n",
       "      <td>17</td>\n",
       "      <td>Fijo</td>\n",
       "      <td>25.677766</td>\n",
       "      <td>-100.161015</td>\n",
       "      <td>2019-11-01</td>\n",
       "      <td>NaN</td>\n",
       "      <td>1296 days</td>\n",
       "      <td>Impartición de justicia y mantenimiento de la ...</td>\n",
       "    </tr>\n",
       "  </tbody>\n",
       "</table>\n",
       "<p>186272 rows × 34 columns</p>\n",
       "</div>"
      ],
      "text/plain": [
       "             id                                          nom_estab  \\\n",
       "0       8777590                                AGROACRE SAN RAFAEL   \n",
       "1       9076621                          ARQUITECTURA Y PAISAJISMO   \n",
       "2       7961265                       ASOCIACION GANADERA PARAS NL   \n",
       "3       8970903                                    BASCULAS TABESA   \n",
       "4       8533179                                        BEEF MASTER   \n",
       "...         ...                                                ...   \n",
       "186267  2933186  VOCALIA EJECUTIVA PAR ALA REGULARIZACION DE LA...   \n",
       "186268  3018636                                    YONKE MUNICIPAL   \n",
       "186269  7318936                                ZONA ESCOLAR NO. 65   \n",
       "186270  2939891       ZONA ESCOLAR NUMERO 19 DE EDUCACIÓN ESPECIAL   \n",
       "186271  9030774                              ZONA NUMERO 2 POLICIA   \n",
       "\n",
       "                                               raz_social  codigo_act  \\\n",
       "0                                       AGROACRE SA DE CV      115111   \n",
       "1                      ARQUITECTURA Y PAISAJISMO SA DE CV      115310   \n",
       "2                           ASOCIACION GANADERA PARAS NL       115210   \n",
       "3                                 BASULAS TABESA SA DE CV      115210   \n",
       "4       ASOCIACION MEXICANA DE CRIADORES DE GANADO SA ...      115210   \n",
       "...                                                   ...         ...   \n",
       "186267                        MUNICIPIO GENERAL ESCOBEDO       931210   \n",
       "186268                                          GOBIERNO       931210   \n",
       "186269                                ZONA ESCOLAR NO.65       931210   \n",
       "186270                           SECRETARÍA DE EDUCACIÓN       931610   \n",
       "186271      SECRETARIA DE SEGURIDAD PUBLICA DE GUADALUPE       931410   \n",
       "\n",
       "                                               nombre_act           per_ocu  \\\n",
       "0                        Servicios de fumigación agrícola    0 a 5 personas   \n",
       "1       Servicios relacionados con el aprovechamiento ...  11 a 30 personas   \n",
       "2       Servicios relacionados con la cría y explotaci...    0 a 5 personas   \n",
       "3       Servicios relacionados con la cría y explotaci...    0 a 5 personas   \n",
       "4       Servicios relacionados con la cría y explotaci...   6 a 10 personas   \n",
       "...                                                   ...               ...   \n",
       "186267                  Administración pública en general    0 a 5 personas   \n",
       "186268                  Administración pública en general   6 a 10 personas   \n",
       "186269                  Administración pública en general    0 a 5 personas   \n",
       "186270  Actividades administrativas de instituciones d...    0 a 5 personas   \n",
       "186271  Impartición de justicia y mantenimiento de la ...  11 a 30 personas   \n",
       "\n",
       "       tipo_vial                   nom_vial tipo_v_e_1  \\\n",
       "0          CALLE                    LATERAL   CALLEJON   \n",
       "1          CALLE                   SAN REMO      CALLE   \n",
       "2          CALLE  GENERAL IRINEO VILLARREAL    PRIVADA   \n",
       "3          CALLE    HEROICO COLEGIO MILITAR      CALLE   \n",
       "4        AVENIDA              BENITO JUAREZ      CALLE   \n",
       "...          ...                        ...        ...   \n",
       "186267     CALLE        FRANCISCO I. MADERO      CALLE   \n",
       "186268     CALLE                  RIO ALAMO      CALLE   \n",
       "186269     CALLE              BENITO JUAREZ      CALLE   \n",
       "186270     CALLE             BERNARDO REYES      CALLE   \n",
       "186271     CALLE             RIO PAPALOAPAN      CALLE   \n",
       "\n",
       "                       nom_v_e_1          tipo_v_e_2  \\\n",
       "0                        NINGUNO               CALLE   \n",
       "1                        MARZALA               CALLE   \n",
       "2                    LIBRAMIENTO  OTRO (ESPECIFIQUE)   \n",
       "3                       LAURELES               CALLE   \n",
       "4                      LOS PINOS               CALLE   \n",
       "...                          ...                 ...   \n",
       "186267  LICENCIADO BENITO JUAREZ               CALLE   \n",
       "186268     LIBRAMIENTO A NOGALES               CALLE   \n",
       "186269             BENITO JUAREZ               CALLE   \n",
       "186270                   GALEANA               CALLE   \n",
       "186271                SANTA CRUZ               CALLE   \n",
       "\n",
       "                         nom_v_e_2          tipo_v_e_3  \\\n",
       "0       CARRETERA A LA HEDIONDILLA               CALLE   \n",
       "1                           CESENA               CALLE   \n",
       "2                          NINGUNO  OTRO (ESPECIFIQUE)   \n",
       "3                    LORENZO GARZA               CALLE   \n",
       "4                           FRESNO               CALLE   \n",
       "...                            ...                 ...   \n",
       "186267   MIGUEL HIDALGO Y COSTILLA             AVENIDA   \n",
       "186268                 RIO CONCHOS               CALLE   \n",
       "186269               NICOLAS BRAVO               CALLE   \n",
       "186270               NICOLAS BRAVO               CALLE   \n",
       "186271                RIO LA SILLA               CALLE   \n",
       "\n",
       "                                  nom_v_e_3  numero_ext letra_ext  \\\n",
       "0                CARRETERA A LA HEDIONDILLA         NaN        SN   \n",
       "1                                    NOVARA      5108.0        SN   \n",
       "2                                    VEREDA         0.0        SN   \n",
       "3                                  ALAMILLO       335.0       NaN   \n",
       "4                                  APERTURA      4595.0       NaN   \n",
       "...                                     ...         ...       ...   \n",
       "186267  LICENCIADO RAÚL CABALLERO ESCAMILLA       201.0       NaN   \n",
       "186268                            RÍO ÁLAMO         NaN        SN   \n",
       "186269                          DOCTOR COSS         NaN        SN   \n",
       "186270                               ZUAZUA         NaN        SN   \n",
       "186271                              RÍO ANA         NaN        SN   \n",
       "\n",
       "             tipo_asent                 nomb_asent  cod_postal  cve_ent  \\\n",
       "0             LOCALIDAD                 SAN RAFAEL     67865.0       19   \n",
       "1               COLONIA              SANTA CECILIA     64150.0       19   \n",
       "2       FRACCIONAMIENTO  FRACCIONAMIENTO DEL NORTE     65450.0       19   \n",
       "3               COLONIA                  DEL PRADO     64410.0       19   \n",
       "4               COLONIA      INFONAVIT SOLIDARIDAD     67169.0       19   \n",
       "...                 ...                        ...         ...      ...   \n",
       "186267          COLONIA    GENERAL ESCOBEDO CENTRO     66050.0       19   \n",
       "186268          COLONIA                     CENTRO     65800.0       19   \n",
       "186269          COLONIA     SABINAS HIDALGO CENTRO     65200.0       19   \n",
       "186270          COLONIA                     CENTRO     65200.0       19   \n",
       "186271          COLONIA                   DOS RIOS     67168.0       19   \n",
       "\n",
       "              entidad  cve_mun         municipio  cve_loc  \\\n",
       "0       NUEVO LEÓN          17           Galeana      153   \n",
       "1       NUEVO LEÓN          39         Monterrey        1   \n",
       "2       NUEVO LEÓN          40             Parás        1   \n",
       "3       NUEVO LEÓN          39         Monterrey        1   \n",
       "4       NUEVO LEÓN          26         Guadalupe        1   \n",
       "...               ...      ...               ...      ...   \n",
       "186267  NUEVO LEÓN          21  General Escobedo        1   \n",
       "186268  NUEVO LEÓN           2        Agualeguas        1   \n",
       "186269  NUEVO LEÓN          44   Sabinas Hidalgo        1   \n",
       "186270  NUEVO LEÓN          44   Sabinas Hidalgo        1   \n",
       "186271  NUEVO LEÓN          26         Guadalupe        1   \n",
       "\n",
       "                      localidad  ageb  manzana tipoUniEco    latitud  \\\n",
       "0                    San Rafael  0040       14       Fijo  25.029622   \n",
       "1                     Monterrey  4106       25       Fijo  25.729396   \n",
       "2                         Parás  027A        5       Fijo  26.504982   \n",
       "3                     Monterrey  0974       11       Fijo  25.700193   \n",
       "4                     Guadalupe  2239       23       Fijo  25.675023   \n",
       "...                         ...   ...      ...        ...        ...   \n",
       "186267  Ciudad General Escobedo  0414       16       Fijo  25.808627   \n",
       "186268               Agualeguas  0279       20       Fijo  26.301663   \n",
       "186269   Ciudad Sabinas Hidalgo  0601        7       Fijo  26.500012   \n",
       "186270   Ciudad Sabinas Hidalgo  0546       13       Fijo  26.506484   \n",
       "186271                Guadalupe  2192       17       Fijo  25.677766   \n",
       "\n",
       "          longitud fecha_alta  wsite existingtime  \\\n",
       "0      -100.555724 2019-11-01    NaN    1296 days   \n",
       "1      -100.362220 2019-11-01    NaN    1296 days   \n",
       "2       -99.531195 2019-11-01    NaN    1296 days   \n",
       "3      -100.314323 2019-11-01    NaN    1296 days   \n",
       "4      -100.211547 2019-11-01    1.0    1296 days   \n",
       "...            ...        ...    ...          ...   \n",
       "186267 -100.323785 2014-12-01    NaN    3092 days   \n",
       "186268  -99.544980 2010-07-01    NaN    4706 days   \n",
       "186269 -100.178903 2019-11-01    NaN    1296 days   \n",
       "186270 -100.176547 2014-12-01    NaN    3092 days   \n",
       "186271 -100.161015 2019-11-01    NaN    1296 days   \n",
       "\n",
       "                                              nombre_act2  \n",
       "0                        Servicios de fumigación agrícola  \n",
       "1       Servicios relacionados con el aprovechamiento ...  \n",
       "2       Servicios relacionados con la cría y explotaci...  \n",
       "3       Servicios relacionados con la cría y explotaci...  \n",
       "4       Servicios relacionados con la cría y explotaci...  \n",
       "...                                                   ...  \n",
       "186267                  Administración pública en general  \n",
       "186268                  Administración pública en general  \n",
       "186269                  Administración pública en general  \n",
       "186270  Actividades administrativas de instituciones d...  \n",
       "186271  Impartición de justicia y mantenimiento de la ...  \n",
       "\n",
       "[186272 rows x 34 columns]"
      ]
     },
     "execution_count": 75,
     "metadata": {},
     "output_type": "execute_result"
    }
   ],
   "source": [
    "denue"
   ]
  },
  {
   "cell_type": "code",
   "execution_count": 78,
   "metadata": {
    "scrolled": true
   },
   "outputs": [
    {
     "data": {
      "text/html": [
       "<div>\n",
       "<style scoped>\n",
       "    .dataframe tbody tr th:only-of-type {\n",
       "        vertical-align: middle;\n",
       "    }\n",
       "\n",
       "    .dataframe tbody tr th {\n",
       "        vertical-align: top;\n",
       "    }\n",
       "\n",
       "    .dataframe thead th {\n",
       "        text-align: right;\n",
       "    }\n",
       "</style>\n",
       "<table border=\"1\" class=\"dataframe\">\n",
       "  <thead>\n",
       "    <tr style=\"text-align: right;\">\n",
       "      <th></th>\n",
       "      <th>municipio</th>\n",
       "      <th>num de empresas</th>\n",
       "      <th>codigo_act por munl</th>\n",
       "    </tr>\n",
       "  </thead>\n",
       "  <tbody>\n",
       "    <tr>\n",
       "      <th>0</th>\n",
       "      <td>Abasolo</td>\n",
       "      <td>66</td>\n",
       "      <td>42</td>\n",
       "    </tr>\n",
       "    <tr>\n",
       "      <th>1</th>\n",
       "      <td>Agualeguas</td>\n",
       "      <td>104</td>\n",
       "      <td>56</td>\n",
       "    </tr>\n",
       "    <tr>\n",
       "      <th>2</th>\n",
       "      <td>Allende</td>\n",
       "      <td>1688</td>\n",
       "      <td>289</td>\n",
       "    </tr>\n",
       "    <tr>\n",
       "      <th>3</th>\n",
       "      <td>Anáhuac</td>\n",
       "      <td>801</td>\n",
       "      <td>176</td>\n",
       "    </tr>\n",
       "    <tr>\n",
       "      <th>4</th>\n",
       "      <td>Apodaca</td>\n",
       "      <td>15441</td>\n",
       "      <td>606</td>\n",
       "    </tr>\n",
       "    <tr>\n",
       "      <th>5</th>\n",
       "      <td>Aramberri</td>\n",
       "      <td>434</td>\n",
       "      <td>116</td>\n",
       "    </tr>\n",
       "    <tr>\n",
       "      <th>6</th>\n",
       "      <td>Bustamante</td>\n",
       "      <td>206</td>\n",
       "      <td>74</td>\n",
       "    </tr>\n",
       "    <tr>\n",
       "      <th>7</th>\n",
       "      <td>Cadereyta Jiménez</td>\n",
       "      <td>3451</td>\n",
       "      <td>339</td>\n",
       "    </tr>\n",
       "    <tr>\n",
       "      <th>8</th>\n",
       "      <td>Cerralvo</td>\n",
       "      <td>351</td>\n",
       "      <td>113</td>\n",
       "    </tr>\n",
       "    <tr>\n",
       "      <th>9</th>\n",
       "      <td>China</td>\n",
       "      <td>473</td>\n",
       "      <td>139</td>\n",
       "    </tr>\n",
       "    <tr>\n",
       "      <th>10</th>\n",
       "      <td>Ciénega de Flores</td>\n",
       "      <td>1102</td>\n",
       "      <td>182</td>\n",
       "    </tr>\n",
       "    <tr>\n",
       "      <th>11</th>\n",
       "      <td>Doctor Arroyo</td>\n",
       "      <td>960</td>\n",
       "      <td>194</td>\n",
       "    </tr>\n",
       "    <tr>\n",
       "      <th>12</th>\n",
       "      <td>Doctor Coss</td>\n",
       "      <td>45</td>\n",
       "      <td>30</td>\n",
       "    </tr>\n",
       "    <tr>\n",
       "      <th>13</th>\n",
       "      <td>Doctor González</td>\n",
       "      <td>66</td>\n",
       "      <td>36</td>\n",
       "    </tr>\n",
       "    <tr>\n",
       "      <th>14</th>\n",
       "      <td>El Carmen</td>\n",
       "      <td>516</td>\n",
       "      <td>148</td>\n",
       "    </tr>\n",
       "    <tr>\n",
       "      <th>15</th>\n",
       "      <td>Galeana</td>\n",
       "      <td>886</td>\n",
       "      <td>172</td>\n",
       "    </tr>\n",
       "    <tr>\n",
       "      <th>16</th>\n",
       "      <td>García</td>\n",
       "      <td>5027</td>\n",
       "      <td>361</td>\n",
       "    </tr>\n",
       "    <tr>\n",
       "      <th>17</th>\n",
       "      <td>General Bravo</td>\n",
       "      <td>275</td>\n",
       "      <td>100</td>\n",
       "    </tr>\n",
       "    <tr>\n",
       "      <th>18</th>\n",
       "      <td>General Escobedo</td>\n",
       "      <td>11892</td>\n",
       "      <td>532</td>\n",
       "    </tr>\n",
       "    <tr>\n",
       "      <th>19</th>\n",
       "      <td>General Terán</td>\n",
       "      <td>490</td>\n",
       "      <td>154</td>\n",
       "    </tr>\n",
       "    <tr>\n",
       "      <th>20</th>\n",
       "      <td>General Treviño</td>\n",
       "      <td>49</td>\n",
       "      <td>30</td>\n",
       "    </tr>\n",
       "    <tr>\n",
       "      <th>21</th>\n",
       "      <td>General Zaragoza</td>\n",
       "      <td>206</td>\n",
       "      <td>81</td>\n",
       "    </tr>\n",
       "    <tr>\n",
       "      <th>22</th>\n",
       "      <td>General Zuazua</td>\n",
       "      <td>1482</td>\n",
       "      <td>235</td>\n",
       "    </tr>\n",
       "    <tr>\n",
       "      <th>23</th>\n",
       "      <td>Guadalupe</td>\n",
       "      <td>23579</td>\n",
       "      <td>651</td>\n",
       "    </tr>\n",
       "    <tr>\n",
       "      <th>24</th>\n",
       "      <td>Hidalgo</td>\n",
       "      <td>583</td>\n",
       "      <td>152</td>\n",
       "    </tr>\n",
       "    <tr>\n",
       "      <th>25</th>\n",
       "      <td>Higueras</td>\n",
       "      <td>45</td>\n",
       "      <td>35</td>\n",
       "    </tr>\n",
       "    <tr>\n",
       "      <th>26</th>\n",
       "      <td>Hualahuises</td>\n",
       "      <td>300</td>\n",
       "      <td>94</td>\n",
       "    </tr>\n",
       "    <tr>\n",
       "      <th>27</th>\n",
       "      <td>Iturbide</td>\n",
       "      <td>142</td>\n",
       "      <td>62</td>\n",
       "    </tr>\n",
       "    <tr>\n",
       "      <th>28</th>\n",
       "      <td>Juárez</td>\n",
       "      <td>7612</td>\n",
       "      <td>348</td>\n",
       "    </tr>\n",
       "    <tr>\n",
       "      <th>29</th>\n",
       "      <td>Lampazos de Naranjo</td>\n",
       "      <td>181</td>\n",
       "      <td>85</td>\n",
       "    </tr>\n",
       "    <tr>\n",
       "      <th>30</th>\n",
       "      <td>Linares</td>\n",
       "      <td>3116</td>\n",
       "      <td>332</td>\n",
       "    </tr>\n",
       "    <tr>\n",
       "      <th>31</th>\n",
       "      <td>Los Aldamas</td>\n",
       "      <td>43</td>\n",
       "      <td>32</td>\n",
       "    </tr>\n",
       "    <tr>\n",
       "      <th>32</th>\n",
       "      <td>Los Herreras</td>\n",
       "      <td>91</td>\n",
       "      <td>43</td>\n",
       "    </tr>\n",
       "    <tr>\n",
       "      <th>33</th>\n",
       "      <td>Los Ramones</td>\n",
       "      <td>118</td>\n",
       "      <td>60</td>\n",
       "    </tr>\n",
       "    <tr>\n",
       "      <th>34</th>\n",
       "      <td>Marín</td>\n",
       "      <td>153</td>\n",
       "      <td>85</td>\n",
       "    </tr>\n",
       "    <tr>\n",
       "      <th>35</th>\n",
       "      <td>Melchor Ocampo</td>\n",
       "      <td>31</td>\n",
       "      <td>24</td>\n",
       "    </tr>\n",
       "    <tr>\n",
       "      <th>36</th>\n",
       "      <td>Mier y Noriega</td>\n",
       "      <td>98</td>\n",
       "      <td>50</td>\n",
       "    </tr>\n",
       "    <tr>\n",
       "      <th>37</th>\n",
       "      <td>Mina</td>\n",
       "      <td>167</td>\n",
       "      <td>59</td>\n",
       "    </tr>\n",
       "    <tr>\n",
       "      <th>38</th>\n",
       "      <td>Montemorelos</td>\n",
       "      <td>2117</td>\n",
       "      <td>286</td>\n",
       "    </tr>\n",
       "    <tr>\n",
       "      <th>39</th>\n",
       "      <td>Monterrey</td>\n",
       "      <td>62069</td>\n",
       "      <td>829</td>\n",
       "    </tr>\n",
       "    <tr>\n",
       "      <th>40</th>\n",
       "      <td>Parás</td>\n",
       "      <td>52</td>\n",
       "      <td>35</td>\n",
       "    </tr>\n",
       "    <tr>\n",
       "      <th>41</th>\n",
       "      <td>Pesquería</td>\n",
       "      <td>1053</td>\n",
       "      <td>183</td>\n",
       "    </tr>\n",
       "    <tr>\n",
       "      <th>42</th>\n",
       "      <td>Rayones</td>\n",
       "      <td>56</td>\n",
       "      <td>36</td>\n",
       "    </tr>\n",
       "    <tr>\n",
       "      <th>43</th>\n",
       "      <td>Sabinas Hidalgo</td>\n",
       "      <td>2006</td>\n",
       "      <td>276</td>\n",
       "    </tr>\n",
       "    <tr>\n",
       "      <th>44</th>\n",
       "      <td>Salinas Victoria</td>\n",
       "      <td>1020</td>\n",
       "      <td>207</td>\n",
       "    </tr>\n",
       "    <tr>\n",
       "      <th>45</th>\n",
       "      <td>San Nicolás de los Garza</td>\n",
       "      <td>16469</td>\n",
       "      <td>599</td>\n",
       "    </tr>\n",
       "    <tr>\n",
       "      <th>46</th>\n",
       "      <td>San Pedro Garza García</td>\n",
       "      <td>9017</td>\n",
       "      <td>568</td>\n",
       "    </tr>\n",
       "    <tr>\n",
       "      <th>47</th>\n",
       "      <td>Santa Catarina</td>\n",
       "      <td>7968</td>\n",
       "      <td>537</td>\n",
       "    </tr>\n",
       "    <tr>\n",
       "      <th>48</th>\n",
       "      <td>Santiago</td>\n",
       "      <td>1915</td>\n",
       "      <td>294</td>\n",
       "    </tr>\n",
       "    <tr>\n",
       "      <th>49</th>\n",
       "      <td>Vallecillo</td>\n",
       "      <td>42</td>\n",
       "      <td>30</td>\n",
       "    </tr>\n",
       "    <tr>\n",
       "      <th>50</th>\n",
       "      <td>Villaldama</td>\n",
       "      <td>218</td>\n",
       "      <td>81</td>\n",
       "    </tr>\n",
       "  </tbody>\n",
       "</table>\n",
       "</div>"
      ],
      "text/plain": [
       "                   municipio  num de empresas  codigo_act por munl\n",
       "0                    Abasolo               66                   42\n",
       "1                 Agualeguas              104                   56\n",
       "2                    Allende             1688                  289\n",
       "3                    Anáhuac              801                  176\n",
       "4                    Apodaca            15441                  606\n",
       "5                  Aramberri              434                  116\n",
       "6                 Bustamante              206                   74\n",
       "7          Cadereyta Jiménez             3451                  339\n",
       "8                   Cerralvo              351                  113\n",
       "9                      China              473                  139\n",
       "10         Ciénega de Flores             1102                  182\n",
       "11             Doctor Arroyo              960                  194\n",
       "12               Doctor Coss               45                   30\n",
       "13           Doctor González               66                   36\n",
       "14                 El Carmen              516                  148\n",
       "15                   Galeana              886                  172\n",
       "16                    García             5027                  361\n",
       "17             General Bravo              275                  100\n",
       "18          General Escobedo            11892                  532\n",
       "19             General Terán              490                  154\n",
       "20           General Treviño               49                   30\n",
       "21          General Zaragoza              206                   81\n",
       "22            General Zuazua             1482                  235\n",
       "23                 Guadalupe            23579                  651\n",
       "24                   Hidalgo              583                  152\n",
       "25                  Higueras               45                   35\n",
       "26               Hualahuises              300                   94\n",
       "27                  Iturbide              142                   62\n",
       "28                    Juárez             7612                  348\n",
       "29       Lampazos de Naranjo              181                   85\n",
       "30                   Linares             3116                  332\n",
       "31               Los Aldamas               43                   32\n",
       "32              Los Herreras               91                   43\n",
       "33               Los Ramones              118                   60\n",
       "34                     Marín              153                   85\n",
       "35            Melchor Ocampo               31                   24\n",
       "36            Mier y Noriega               98                   50\n",
       "37                      Mina              167                   59\n",
       "38              Montemorelos             2117                  286\n",
       "39                 Monterrey            62069                  829\n",
       "40                     Parás               52                   35\n",
       "41                 Pesquería             1053                  183\n",
       "42                   Rayones               56                   36\n",
       "43           Sabinas Hidalgo             2006                  276\n",
       "44          Salinas Victoria             1020                  207\n",
       "45  San Nicolás de los Garza            16469                  599\n",
       "46    San Pedro Garza García             9017                  568\n",
       "47            Santa Catarina             7968                  537\n",
       "48                  Santiago             1915                  294\n",
       "49                Vallecillo               42                   30\n",
       "50                Villaldama              218                   81"
      ]
     },
     "execution_count": 78,
     "metadata": {},
     "output_type": "execute_result"
    }
   ],
   "source": [
    "comp2 = pd.DataFrame(denue.groupby(\"municipio\").size())\n",
    "comp2[\"codigo_act por munl\"]=denue.groupby(\"municipio\")[\"codigo_act\"].nunique()\n",
    "comp2.reset_index( inplace=True)\n",
    "comp2.rename(columns={0:\"num de empresas\"},inplace=True)\n",
    "comp2"
   ]
  },
  {
   "cell_type": "code",
   "execution_count": 79,
   "metadata": {},
   "outputs": [
    {
     "ename": "ModuleNotFoundError",
     "evalue": "No module named 'chartify'",
     "output_type": "error",
     "traceback": [
      "\u001b[1;31m---------------------------------------------------------------------------\u001b[0m",
      "\u001b[1;31mModuleNotFoundError\u001b[0m                       Traceback (most recent call last)",
      "\u001b[1;32m<ipython-input-79-6b87c9916a72>\u001b[0m in \u001b[0;36m<module>\u001b[1;34m()\u001b[0m\n\u001b[1;32m----> 1\u001b[1;33m \u001b[1;32mimport\u001b[0m \u001b[0mchartify\u001b[0m\u001b[1;33m\u001b[0m\u001b[1;33m\u001b[0m\u001b[0m\n\u001b[0m\u001b[0;32m      2\u001b[0m \u001b[1;33m\u001b[0m\u001b[0m\n\u001b[0;32m      3\u001b[0m \u001b[1;31m# Create a Chartify chart object\u001b[0m\u001b[1;33m\u001b[0m\u001b[1;33m\u001b[0m\u001b[1;33m\u001b[0m\u001b[0m\n\u001b[0;32m      4\u001b[0m \u001b[0mch\u001b[0m \u001b[1;33m=\u001b[0m \u001b[0mchartify\u001b[0m\u001b[1;33m.\u001b[0m\u001b[0mChart\u001b[0m\u001b[1;33m(\u001b[0m\u001b[1;33m)\u001b[0m\u001b[1;33m\u001b[0m\u001b[1;33m\u001b[0m\u001b[0m\n\u001b[0;32m      5\u001b[0m \u001b[1;33m\u001b[0m\u001b[0m\n",
      "\u001b[1;31mModuleNotFoundError\u001b[0m: No module named 'chartify'"
     ]
    }
   ],
   "source": [
    "import chartify\n",
    "\n",
    "# Create a Chartify chart object\n",
    "ch = chartify.Chart()\n",
    "\n",
    "# Load data into the chart object\n",
    "ch.plot.bar(\n",
    "    data=comp2,\n",
    "    categorical_columns=['municipio'],\n",
    "    numeric_columns=['num de empresas',\"codigo_act por munl\"]\n",
    ")\n",
    "\n",
    "# Customize chart properties\n",
    "ch.set_title(\"Bar Chart Example\")\n",
    "ch.set_subtitle(\"Showing the values by category\")\n",
    "ch.axes.set_xaxis_label(\"Category\")\n",
    "ch.axes.set_yaxis_label(\"Value\")\n",
    "\n",
    "# Show the chart\n",
    "ch.show()\n"
   ]
  },
  {
   "cell_type": "code",
   "execution_count": 80,
   "metadata": {},
   "outputs": [
    {
     "name": "stdout",
     "output_type": "stream",
     "text": [
      "Requirement already satisfied: plotly in c:\\users\\hugo\\anaconda\\envs\\project2\\lib\\site-packages (4.14.1)\n",
      "Requirement already satisfied: retrying>=1.3.3 in c:\\users\\hugo\\anaconda\\envs\\project2\\lib\\site-packages (from plotly) (1.3.3)\n",
      "Requirement already satisfied: six in c:\\users\\hugo\\anaconda\\envs\\project2\\lib\\site-packages (from plotly) (1.15.0)\n"
     ]
    }
   ],
   "source": [
    "!pip install plotly\n"
   ]
  },
  {
   "cell_type": "code",
   "execution_count": 81,
   "metadata": {},
   "outputs": [],
   "source": [
    "import plotly.graph_objects as go\n"
   ]
  },
  {
   "cell_type": "code",
   "execution_count": 83,
   "metadata": {},
   "outputs": [
    {
     "data": {
      "application/vnd.plotly.v1+json": {
       "config": {
        "plotlyServerURL": "https://plot.ly"
       },
       "data": [
        {
         "marker": {
          "color": "rgb(0, 128, 255)"
         },
         "type": "bar",
         "x": [
          "Abasolo",
          "Agualeguas",
          "Allende",
          "Anáhuac",
          "Apodaca",
          "Aramberri",
          "Bustamante",
          "Cadereyta Jiménez",
          "Cerralvo",
          "China",
          "Ciénega de Flores",
          "Doctor Arroyo",
          "Doctor Coss",
          "Doctor González",
          "El Carmen",
          "Galeana",
          "García",
          "General Bravo",
          "General Escobedo",
          "General Terán",
          "General Treviño",
          "General Zaragoza",
          "General Zuazua",
          "Guadalupe",
          "Hidalgo",
          "Higueras",
          "Hualahuises",
          "Iturbide",
          "Juárez",
          "Lampazos de Naranjo",
          "Linares",
          "Los Aldamas",
          "Los Herreras",
          "Los Ramones",
          "Marín",
          "Melchor Ocampo",
          "Mier y Noriega",
          "Mina",
          "Montemorelos",
          "Monterrey",
          "Parás",
          "Pesquería",
          "Rayones",
          "Sabinas Hidalgo",
          "Salinas Victoria",
          "San Nicolás de los Garza",
          "San Pedro Garza García",
          "Santa Catarina",
          "Santiago",
          "Vallecillo",
          "Villaldama"
         ],
         "y": [
          66,
          104,
          1688,
          801,
          15441,
          434,
          206,
          3451,
          351,
          473,
          1102,
          960,
          45,
          66,
          516,
          886,
          5027,
          275,
          11892,
          490,
          49,
          206,
          1482,
          23579,
          583,
          45,
          300,
          142,
          7612,
          181,
          3116,
          43,
          91,
          118,
          153,
          31,
          98,
          167,
          2117,
          62069,
          52,
          1053,
          56,
          2006,
          1020,
          16469,
          9017,
          7968,
          1915,
          42,
          218
         ]
        }
       ],
       "layout": {
        "template": {
         "data": {
          "bar": [
           {
            "error_x": {
             "color": "#2a3f5f"
            },
            "error_y": {
             "color": "#2a3f5f"
            },
            "marker": {
             "line": {
              "color": "#E5ECF6",
              "width": 0.5
             }
            },
            "type": "bar"
           }
          ],
          "barpolar": [
           {
            "marker": {
             "line": {
              "color": "#E5ECF6",
              "width": 0.5
             }
            },
            "type": "barpolar"
           }
          ],
          "carpet": [
           {
            "aaxis": {
             "endlinecolor": "#2a3f5f",
             "gridcolor": "white",
             "linecolor": "white",
             "minorgridcolor": "white",
             "startlinecolor": "#2a3f5f"
            },
            "baxis": {
             "endlinecolor": "#2a3f5f",
             "gridcolor": "white",
             "linecolor": "white",
             "minorgridcolor": "white",
             "startlinecolor": "#2a3f5f"
            },
            "type": "carpet"
           }
          ],
          "choropleth": [
           {
            "colorbar": {
             "outlinewidth": 0,
             "ticks": ""
            },
            "type": "choropleth"
           }
          ],
          "contour": [
           {
            "colorbar": {
             "outlinewidth": 0,
             "ticks": ""
            },
            "colorscale": [
             [
              0,
              "#0d0887"
             ],
             [
              0.1111111111111111,
              "#46039f"
             ],
             [
              0.2222222222222222,
              "#7201a8"
             ],
             [
              0.3333333333333333,
              "#9c179e"
             ],
             [
              0.4444444444444444,
              "#bd3786"
             ],
             [
              0.5555555555555556,
              "#d8576b"
             ],
             [
              0.6666666666666666,
              "#ed7953"
             ],
             [
              0.7777777777777778,
              "#fb9f3a"
             ],
             [
              0.8888888888888888,
              "#fdca26"
             ],
             [
              1,
              "#f0f921"
             ]
            ],
            "type": "contour"
           }
          ],
          "contourcarpet": [
           {
            "colorbar": {
             "outlinewidth": 0,
             "ticks": ""
            },
            "type": "contourcarpet"
           }
          ],
          "heatmap": [
           {
            "colorbar": {
             "outlinewidth": 0,
             "ticks": ""
            },
            "colorscale": [
             [
              0,
              "#0d0887"
             ],
             [
              0.1111111111111111,
              "#46039f"
             ],
             [
              0.2222222222222222,
              "#7201a8"
             ],
             [
              0.3333333333333333,
              "#9c179e"
             ],
             [
              0.4444444444444444,
              "#bd3786"
             ],
             [
              0.5555555555555556,
              "#d8576b"
             ],
             [
              0.6666666666666666,
              "#ed7953"
             ],
             [
              0.7777777777777778,
              "#fb9f3a"
             ],
             [
              0.8888888888888888,
              "#fdca26"
             ],
             [
              1,
              "#f0f921"
             ]
            ],
            "type": "heatmap"
           }
          ],
          "heatmapgl": [
           {
            "colorbar": {
             "outlinewidth": 0,
             "ticks": ""
            },
            "colorscale": [
             [
              0,
              "#0d0887"
             ],
             [
              0.1111111111111111,
              "#46039f"
             ],
             [
              0.2222222222222222,
              "#7201a8"
             ],
             [
              0.3333333333333333,
              "#9c179e"
             ],
             [
              0.4444444444444444,
              "#bd3786"
             ],
             [
              0.5555555555555556,
              "#d8576b"
             ],
             [
              0.6666666666666666,
              "#ed7953"
             ],
             [
              0.7777777777777778,
              "#fb9f3a"
             ],
             [
              0.8888888888888888,
              "#fdca26"
             ],
             [
              1,
              "#f0f921"
             ]
            ],
            "type": "heatmapgl"
           }
          ],
          "histogram": [
           {
            "marker": {
             "colorbar": {
              "outlinewidth": 0,
              "ticks": ""
             }
            },
            "type": "histogram"
           }
          ],
          "histogram2d": [
           {
            "colorbar": {
             "outlinewidth": 0,
             "ticks": ""
            },
            "colorscale": [
             [
              0,
              "#0d0887"
             ],
             [
              0.1111111111111111,
              "#46039f"
             ],
             [
              0.2222222222222222,
              "#7201a8"
             ],
             [
              0.3333333333333333,
              "#9c179e"
             ],
             [
              0.4444444444444444,
              "#bd3786"
             ],
             [
              0.5555555555555556,
              "#d8576b"
             ],
             [
              0.6666666666666666,
              "#ed7953"
             ],
             [
              0.7777777777777778,
              "#fb9f3a"
             ],
             [
              0.8888888888888888,
              "#fdca26"
             ],
             [
              1,
              "#f0f921"
             ]
            ],
            "type": "histogram2d"
           }
          ],
          "histogram2dcontour": [
           {
            "colorbar": {
             "outlinewidth": 0,
             "ticks": ""
            },
            "colorscale": [
             [
              0,
              "#0d0887"
             ],
             [
              0.1111111111111111,
              "#46039f"
             ],
             [
              0.2222222222222222,
              "#7201a8"
             ],
             [
              0.3333333333333333,
              "#9c179e"
             ],
             [
              0.4444444444444444,
              "#bd3786"
             ],
             [
              0.5555555555555556,
              "#d8576b"
             ],
             [
              0.6666666666666666,
              "#ed7953"
             ],
             [
              0.7777777777777778,
              "#fb9f3a"
             ],
             [
              0.8888888888888888,
              "#fdca26"
             ],
             [
              1,
              "#f0f921"
             ]
            ],
            "type": "histogram2dcontour"
           }
          ],
          "mesh3d": [
           {
            "colorbar": {
             "outlinewidth": 0,
             "ticks": ""
            },
            "type": "mesh3d"
           }
          ],
          "parcoords": [
           {
            "line": {
             "colorbar": {
              "outlinewidth": 0,
              "ticks": ""
             }
            },
            "type": "parcoords"
           }
          ],
          "pie": [
           {
            "automargin": true,
            "type": "pie"
           }
          ],
          "scatter": [
           {
            "marker": {
             "colorbar": {
              "outlinewidth": 0,
              "ticks": ""
             }
            },
            "type": "scatter"
           }
          ],
          "scatter3d": [
           {
            "line": {
             "colorbar": {
              "outlinewidth": 0,
              "ticks": ""
             }
            },
            "marker": {
             "colorbar": {
              "outlinewidth": 0,
              "ticks": ""
             }
            },
            "type": "scatter3d"
           }
          ],
          "scattercarpet": [
           {
            "marker": {
             "colorbar": {
              "outlinewidth": 0,
              "ticks": ""
             }
            },
            "type": "scattercarpet"
           }
          ],
          "scattergeo": [
           {
            "marker": {
             "colorbar": {
              "outlinewidth": 0,
              "ticks": ""
             }
            },
            "type": "scattergeo"
           }
          ],
          "scattergl": [
           {
            "marker": {
             "colorbar": {
              "outlinewidth": 0,
              "ticks": ""
             }
            },
            "type": "scattergl"
           }
          ],
          "scattermapbox": [
           {
            "marker": {
             "colorbar": {
              "outlinewidth": 0,
              "ticks": ""
             }
            },
            "type": "scattermapbox"
           }
          ],
          "scatterpolar": [
           {
            "marker": {
             "colorbar": {
              "outlinewidth": 0,
              "ticks": ""
             }
            },
            "type": "scatterpolar"
           }
          ],
          "scatterpolargl": [
           {
            "marker": {
             "colorbar": {
              "outlinewidth": 0,
              "ticks": ""
             }
            },
            "type": "scatterpolargl"
           }
          ],
          "scatterternary": [
           {
            "marker": {
             "colorbar": {
              "outlinewidth": 0,
              "ticks": ""
             }
            },
            "type": "scatterternary"
           }
          ],
          "surface": [
           {
            "colorbar": {
             "outlinewidth": 0,
             "ticks": ""
            },
            "colorscale": [
             [
              0,
              "#0d0887"
             ],
             [
              0.1111111111111111,
              "#46039f"
             ],
             [
              0.2222222222222222,
              "#7201a8"
             ],
             [
              0.3333333333333333,
              "#9c179e"
             ],
             [
              0.4444444444444444,
              "#bd3786"
             ],
             [
              0.5555555555555556,
              "#d8576b"
             ],
             [
              0.6666666666666666,
              "#ed7953"
             ],
             [
              0.7777777777777778,
              "#fb9f3a"
             ],
             [
              0.8888888888888888,
              "#fdca26"
             ],
             [
              1,
              "#f0f921"
             ]
            ],
            "type": "surface"
           }
          ],
          "table": [
           {
            "cells": {
             "fill": {
              "color": "#EBF0F8"
             },
             "line": {
              "color": "white"
             }
            },
            "header": {
             "fill": {
              "color": "#C8D4E3"
             },
             "line": {
              "color": "white"
             }
            },
            "type": "table"
           }
          ]
         },
         "layout": {
          "annotationdefaults": {
           "arrowcolor": "#2a3f5f",
           "arrowhead": 0,
           "arrowwidth": 1
          },
          "autotypenumbers": "strict",
          "coloraxis": {
           "colorbar": {
            "outlinewidth": 0,
            "ticks": ""
           }
          },
          "colorscale": {
           "diverging": [
            [
             0,
             "#8e0152"
            ],
            [
             0.1,
             "#c51b7d"
            ],
            [
             0.2,
             "#de77ae"
            ],
            [
             0.3,
             "#f1b6da"
            ],
            [
             0.4,
             "#fde0ef"
            ],
            [
             0.5,
             "#f7f7f7"
            ],
            [
             0.6,
             "#e6f5d0"
            ],
            [
             0.7,
             "#b8e186"
            ],
            [
             0.8,
             "#7fbc41"
            ],
            [
             0.9,
             "#4d9221"
            ],
            [
             1,
             "#276419"
            ]
           ],
           "sequential": [
            [
             0,
             "#0d0887"
            ],
            [
             0.1111111111111111,
             "#46039f"
            ],
            [
             0.2222222222222222,
             "#7201a8"
            ],
            [
             0.3333333333333333,
             "#9c179e"
            ],
            [
             0.4444444444444444,
             "#bd3786"
            ],
            [
             0.5555555555555556,
             "#d8576b"
            ],
            [
             0.6666666666666666,
             "#ed7953"
            ],
            [
             0.7777777777777778,
             "#fb9f3a"
            ],
            [
             0.8888888888888888,
             "#fdca26"
            ],
            [
             1,
             "#f0f921"
            ]
           ],
           "sequentialminus": [
            [
             0,
             "#0d0887"
            ],
            [
             0.1111111111111111,
             "#46039f"
            ],
            [
             0.2222222222222222,
             "#7201a8"
            ],
            [
             0.3333333333333333,
             "#9c179e"
            ],
            [
             0.4444444444444444,
             "#bd3786"
            ],
            [
             0.5555555555555556,
             "#d8576b"
            ],
            [
             0.6666666666666666,
             "#ed7953"
            ],
            [
             0.7777777777777778,
             "#fb9f3a"
            ],
            [
             0.8888888888888888,
             "#fdca26"
            ],
            [
             1,
             "#f0f921"
            ]
           ]
          },
          "colorway": [
           "#636efa",
           "#EF553B",
           "#00cc96",
           "#ab63fa",
           "#FFA15A",
           "#19d3f3",
           "#FF6692",
           "#B6E880",
           "#FF97FF",
           "#FECB52"
          ],
          "font": {
           "color": "#2a3f5f"
          },
          "geo": {
           "bgcolor": "white",
           "lakecolor": "white",
           "landcolor": "#E5ECF6",
           "showlakes": true,
           "showland": true,
           "subunitcolor": "white"
          },
          "hoverlabel": {
           "align": "left"
          },
          "hovermode": "closest",
          "mapbox": {
           "style": "light"
          },
          "paper_bgcolor": "white",
          "plot_bgcolor": "#E5ECF6",
          "polar": {
           "angularaxis": {
            "gridcolor": "white",
            "linecolor": "white",
            "ticks": ""
           },
           "bgcolor": "#E5ECF6",
           "radialaxis": {
            "gridcolor": "white",
            "linecolor": "white",
            "ticks": ""
           }
          },
          "scene": {
           "xaxis": {
            "backgroundcolor": "#E5ECF6",
            "gridcolor": "white",
            "gridwidth": 2,
            "linecolor": "white",
            "showbackground": true,
            "ticks": "",
            "zerolinecolor": "white"
           },
           "yaxis": {
            "backgroundcolor": "#E5ECF6",
            "gridcolor": "white",
            "gridwidth": 2,
            "linecolor": "white",
            "showbackground": true,
            "ticks": "",
            "zerolinecolor": "white"
           },
           "zaxis": {
            "backgroundcolor": "#E5ECF6",
            "gridcolor": "white",
            "gridwidth": 2,
            "linecolor": "white",
            "showbackground": true,
            "ticks": "",
            "zerolinecolor": "white"
           }
          },
          "shapedefaults": {
           "line": {
            "color": "#2a3f5f"
           }
          },
          "ternary": {
           "aaxis": {
            "gridcolor": "white",
            "linecolor": "white",
            "ticks": ""
           },
           "baxis": {
            "gridcolor": "white",
            "linecolor": "white",
            "ticks": ""
           },
           "bgcolor": "#E5ECF6",
           "caxis": {
            "gridcolor": "white",
            "linecolor": "white",
            "ticks": ""
           }
          },
          "title": {
           "x": 0.05
          },
          "xaxis": {
           "automargin": true,
           "gridcolor": "white",
           "linecolor": "white",
           "ticks": "",
           "title": {
            "standoff": 15
           },
           "zerolinecolor": "white",
           "zerolinewidth": 2
          },
          "yaxis": {
           "automargin": true,
           "gridcolor": "white",
           "linecolor": "white",
           "ticks": "",
           "title": {
            "standoff": 15
           },
           "zerolinecolor": "white",
           "zerolinewidth": 2
          }
         }
        },
        "title": {
         "text": "Bar Chart Example"
        },
        "xaxis": {
         "title": {
          "text": "Municipios"
         }
        },
        "yaxis": {
         "title": {
          "text": "Num de empresas por municipios"
         }
        }
       }
      },
      "text/html": [
       "<div>                            <div id=\"a425467f-5be7-43b5-8374-b7b2d74da92a\" class=\"plotly-graph-div\" style=\"height:525px; width:100%;\"></div>            <script type=\"text/javascript\">                require([\"plotly\"], function(Plotly) {                    window.PLOTLYENV=window.PLOTLYENV || {};                                    if (document.getElementById(\"a425467f-5be7-43b5-8374-b7b2d74da92a\")) {                    Plotly.newPlot(                        \"a425467f-5be7-43b5-8374-b7b2d74da92a\",                        [{\"marker\": {\"color\": \"rgb(0, 128, 255)\"}, \"type\": \"bar\", \"x\": [\"Abasolo\", \"Agualeguas\", \"Allende\", \"An\\u00e1huac\", \"Apodaca\", \"Aramberri\", \"Bustamante\", \"Cadereyta Jim\\u00e9nez\", \"Cerralvo\", \"China\", \"Ci\\u00e9nega de Flores\", \"Doctor Arroyo\", \"Doctor Coss\", \"Doctor Gonz\\u00e1lez\", \"El Carmen\", \"Galeana\", \"Garc\\u00eda\", \"General Bravo\", \"General Escobedo\", \"General Ter\\u00e1n\", \"General Trevi\\u00f1o\", \"General Zaragoza\", \"General Zuazua\", \"Guadalupe\", \"Hidalgo\", \"Higueras\", \"Hualahuises\", \"Iturbide\", \"Ju\\u00e1rez\", \"Lampazos de Naranjo\", \"Linares\", \"Los Aldamas\", \"Los Herreras\", \"Los Ramones\", \"Mar\\u00edn\", \"Melchor Ocampo\", \"Mier y Noriega\", \"Mina\", \"Montemorelos\", \"Monterrey\", \"Par\\u00e1s\", \"Pesquer\\u00eda\", \"Rayones\", \"Sabinas Hidalgo\", \"Salinas Victoria\", \"San Nicol\\u00e1s de los Garza\", \"San Pedro Garza Garc\\u00eda\", \"Santa Catarina\", \"Santiago\", \"Vallecillo\", \"Villaldama\"], \"y\": [66, 104, 1688, 801, 15441, 434, 206, 3451, 351, 473, 1102, 960, 45, 66, 516, 886, 5027, 275, 11892, 490, 49, 206, 1482, 23579, 583, 45, 300, 142, 7612, 181, 3116, 43, 91, 118, 153, 31, 98, 167, 2117, 62069, 52, 1053, 56, 2006, 1020, 16469, 9017, 7968, 1915, 42, 218]}],                        {\"template\": {\"data\": {\"bar\": [{\"error_x\": {\"color\": \"#2a3f5f\"}, \"error_y\": {\"color\": \"#2a3f5f\"}, \"marker\": {\"line\": {\"color\": \"#E5ECF6\", \"width\": 0.5}}, \"type\": \"bar\"}], \"barpolar\": [{\"marker\": {\"line\": {\"color\": \"#E5ECF6\", \"width\": 0.5}}, \"type\": \"barpolar\"}], \"carpet\": [{\"aaxis\": {\"endlinecolor\": \"#2a3f5f\", \"gridcolor\": \"white\", \"linecolor\": \"white\", \"minorgridcolor\": \"white\", \"startlinecolor\": \"#2a3f5f\"}, \"baxis\": {\"endlinecolor\": \"#2a3f5f\", \"gridcolor\": \"white\", \"linecolor\": \"white\", \"minorgridcolor\": \"white\", \"startlinecolor\": \"#2a3f5f\"}, \"type\": \"carpet\"}], \"choropleth\": [{\"colorbar\": {\"outlinewidth\": 0, \"ticks\": \"\"}, \"type\": \"choropleth\"}], \"contour\": [{\"colorbar\": {\"outlinewidth\": 0, \"ticks\": \"\"}, \"colorscale\": [[0.0, \"#0d0887\"], [0.1111111111111111, \"#46039f\"], [0.2222222222222222, \"#7201a8\"], [0.3333333333333333, \"#9c179e\"], [0.4444444444444444, \"#bd3786\"], [0.5555555555555556, \"#d8576b\"], [0.6666666666666666, \"#ed7953\"], [0.7777777777777778, \"#fb9f3a\"], [0.8888888888888888, \"#fdca26\"], [1.0, \"#f0f921\"]], \"type\": \"contour\"}], \"contourcarpet\": [{\"colorbar\": {\"outlinewidth\": 0, \"ticks\": \"\"}, \"type\": \"contourcarpet\"}], \"heatmap\": [{\"colorbar\": {\"outlinewidth\": 0, \"ticks\": \"\"}, \"colorscale\": [[0.0, \"#0d0887\"], [0.1111111111111111, \"#46039f\"], [0.2222222222222222, \"#7201a8\"], [0.3333333333333333, \"#9c179e\"], [0.4444444444444444, \"#bd3786\"], [0.5555555555555556, \"#d8576b\"], [0.6666666666666666, \"#ed7953\"], [0.7777777777777778, \"#fb9f3a\"], [0.8888888888888888, \"#fdca26\"], [1.0, \"#f0f921\"]], \"type\": \"heatmap\"}], \"heatmapgl\": [{\"colorbar\": {\"outlinewidth\": 0, \"ticks\": \"\"}, \"colorscale\": [[0.0, \"#0d0887\"], [0.1111111111111111, \"#46039f\"], [0.2222222222222222, \"#7201a8\"], [0.3333333333333333, \"#9c179e\"], [0.4444444444444444, \"#bd3786\"], [0.5555555555555556, \"#d8576b\"], [0.6666666666666666, \"#ed7953\"], [0.7777777777777778, \"#fb9f3a\"], [0.8888888888888888, \"#fdca26\"], [1.0, \"#f0f921\"]], \"type\": \"heatmapgl\"}], \"histogram\": [{\"marker\": {\"colorbar\": {\"outlinewidth\": 0, \"ticks\": \"\"}}, \"type\": \"histogram\"}], \"histogram2d\": [{\"colorbar\": {\"outlinewidth\": 0, \"ticks\": \"\"}, \"colorscale\": [[0.0, \"#0d0887\"], [0.1111111111111111, \"#46039f\"], [0.2222222222222222, \"#7201a8\"], [0.3333333333333333, \"#9c179e\"], [0.4444444444444444, \"#bd3786\"], [0.5555555555555556, \"#d8576b\"], [0.6666666666666666, \"#ed7953\"], [0.7777777777777778, \"#fb9f3a\"], [0.8888888888888888, \"#fdca26\"], [1.0, \"#f0f921\"]], \"type\": \"histogram2d\"}], \"histogram2dcontour\": [{\"colorbar\": {\"outlinewidth\": 0, \"ticks\": \"\"}, \"colorscale\": [[0.0, \"#0d0887\"], [0.1111111111111111, \"#46039f\"], [0.2222222222222222, \"#7201a8\"], [0.3333333333333333, \"#9c179e\"], [0.4444444444444444, \"#bd3786\"], [0.5555555555555556, \"#d8576b\"], [0.6666666666666666, \"#ed7953\"], [0.7777777777777778, \"#fb9f3a\"], [0.8888888888888888, \"#fdca26\"], [1.0, \"#f0f921\"]], \"type\": \"histogram2dcontour\"}], \"mesh3d\": [{\"colorbar\": {\"outlinewidth\": 0, \"ticks\": \"\"}, \"type\": \"mesh3d\"}], \"parcoords\": [{\"line\": {\"colorbar\": {\"outlinewidth\": 0, \"ticks\": \"\"}}, \"type\": \"parcoords\"}], \"pie\": [{\"automargin\": true, \"type\": \"pie\"}], \"scatter\": [{\"marker\": {\"colorbar\": {\"outlinewidth\": 0, \"ticks\": \"\"}}, \"type\": \"scatter\"}], \"scatter3d\": [{\"line\": {\"colorbar\": {\"outlinewidth\": 0, \"ticks\": \"\"}}, \"marker\": {\"colorbar\": {\"outlinewidth\": 0, \"ticks\": \"\"}}, \"type\": \"scatter3d\"}], \"scattercarpet\": [{\"marker\": {\"colorbar\": {\"outlinewidth\": 0, \"ticks\": \"\"}}, \"type\": \"scattercarpet\"}], \"scattergeo\": [{\"marker\": {\"colorbar\": {\"outlinewidth\": 0, \"ticks\": \"\"}}, \"type\": \"scattergeo\"}], \"scattergl\": [{\"marker\": {\"colorbar\": {\"outlinewidth\": 0, \"ticks\": \"\"}}, \"type\": \"scattergl\"}], \"scattermapbox\": [{\"marker\": {\"colorbar\": {\"outlinewidth\": 0, \"ticks\": \"\"}}, \"type\": \"scattermapbox\"}], \"scatterpolar\": [{\"marker\": {\"colorbar\": {\"outlinewidth\": 0, \"ticks\": \"\"}}, \"type\": \"scatterpolar\"}], \"scatterpolargl\": [{\"marker\": {\"colorbar\": {\"outlinewidth\": 0, \"ticks\": \"\"}}, \"type\": \"scatterpolargl\"}], \"scatterternary\": [{\"marker\": {\"colorbar\": {\"outlinewidth\": 0, \"ticks\": \"\"}}, \"type\": \"scatterternary\"}], \"surface\": [{\"colorbar\": {\"outlinewidth\": 0, \"ticks\": \"\"}, \"colorscale\": [[0.0, \"#0d0887\"], [0.1111111111111111, \"#46039f\"], [0.2222222222222222, \"#7201a8\"], [0.3333333333333333, \"#9c179e\"], [0.4444444444444444, \"#bd3786\"], [0.5555555555555556, \"#d8576b\"], [0.6666666666666666, \"#ed7953\"], [0.7777777777777778, \"#fb9f3a\"], [0.8888888888888888, \"#fdca26\"], [1.0, \"#f0f921\"]], \"type\": \"surface\"}], \"table\": [{\"cells\": {\"fill\": {\"color\": \"#EBF0F8\"}, \"line\": {\"color\": \"white\"}}, \"header\": {\"fill\": {\"color\": \"#C8D4E3\"}, \"line\": {\"color\": \"white\"}}, \"type\": \"table\"}]}, \"layout\": {\"annotationdefaults\": {\"arrowcolor\": \"#2a3f5f\", \"arrowhead\": 0, \"arrowwidth\": 1}, \"autotypenumbers\": \"strict\", \"coloraxis\": {\"colorbar\": {\"outlinewidth\": 0, \"ticks\": \"\"}}, \"colorscale\": {\"diverging\": [[0, \"#8e0152\"], [0.1, \"#c51b7d\"], [0.2, \"#de77ae\"], [0.3, \"#f1b6da\"], [0.4, \"#fde0ef\"], [0.5, \"#f7f7f7\"], [0.6, \"#e6f5d0\"], [0.7, \"#b8e186\"], [0.8, \"#7fbc41\"], [0.9, \"#4d9221\"], [1, \"#276419\"]], \"sequential\": [[0.0, \"#0d0887\"], [0.1111111111111111, \"#46039f\"], [0.2222222222222222, \"#7201a8\"], [0.3333333333333333, \"#9c179e\"], [0.4444444444444444, \"#bd3786\"], [0.5555555555555556, \"#d8576b\"], [0.6666666666666666, \"#ed7953\"], [0.7777777777777778, \"#fb9f3a\"], [0.8888888888888888, \"#fdca26\"], [1.0, \"#f0f921\"]], \"sequentialminus\": [[0.0, \"#0d0887\"], [0.1111111111111111, \"#46039f\"], [0.2222222222222222, \"#7201a8\"], [0.3333333333333333, \"#9c179e\"], [0.4444444444444444, \"#bd3786\"], [0.5555555555555556, \"#d8576b\"], [0.6666666666666666, \"#ed7953\"], [0.7777777777777778, \"#fb9f3a\"], [0.8888888888888888, \"#fdca26\"], [1.0, \"#f0f921\"]]}, \"colorway\": [\"#636efa\", \"#EF553B\", \"#00cc96\", \"#ab63fa\", \"#FFA15A\", \"#19d3f3\", \"#FF6692\", \"#B6E880\", \"#FF97FF\", \"#FECB52\"], \"font\": {\"color\": \"#2a3f5f\"}, \"geo\": {\"bgcolor\": \"white\", \"lakecolor\": \"white\", \"landcolor\": \"#E5ECF6\", \"showlakes\": true, \"showland\": true, \"subunitcolor\": \"white\"}, \"hoverlabel\": {\"align\": \"left\"}, \"hovermode\": \"closest\", \"mapbox\": {\"style\": \"light\"}, \"paper_bgcolor\": \"white\", \"plot_bgcolor\": \"#E5ECF6\", \"polar\": {\"angularaxis\": {\"gridcolor\": \"white\", \"linecolor\": \"white\", \"ticks\": \"\"}, \"bgcolor\": \"#E5ECF6\", \"radialaxis\": {\"gridcolor\": \"white\", \"linecolor\": \"white\", \"ticks\": \"\"}}, \"scene\": {\"xaxis\": {\"backgroundcolor\": \"#E5ECF6\", \"gridcolor\": \"white\", \"gridwidth\": 2, \"linecolor\": \"white\", \"showbackground\": true, \"ticks\": \"\", \"zerolinecolor\": \"white\"}, \"yaxis\": {\"backgroundcolor\": \"#E5ECF6\", \"gridcolor\": \"white\", \"gridwidth\": 2, \"linecolor\": \"white\", \"showbackground\": true, \"ticks\": \"\", \"zerolinecolor\": \"white\"}, \"zaxis\": {\"backgroundcolor\": \"#E5ECF6\", \"gridcolor\": \"white\", \"gridwidth\": 2, \"linecolor\": \"white\", \"showbackground\": true, \"ticks\": \"\", \"zerolinecolor\": \"white\"}}, \"shapedefaults\": {\"line\": {\"color\": \"#2a3f5f\"}}, \"ternary\": {\"aaxis\": {\"gridcolor\": \"white\", \"linecolor\": \"white\", \"ticks\": \"\"}, \"baxis\": {\"gridcolor\": \"white\", \"linecolor\": \"white\", \"ticks\": \"\"}, \"bgcolor\": \"#E5ECF6\", \"caxis\": {\"gridcolor\": \"white\", \"linecolor\": \"white\", \"ticks\": \"\"}}, \"title\": {\"x\": 0.05}, \"xaxis\": {\"automargin\": true, \"gridcolor\": \"white\", \"linecolor\": \"white\", \"ticks\": \"\", \"title\": {\"standoff\": 15}, \"zerolinecolor\": \"white\", \"zerolinewidth\": 2}, \"yaxis\": {\"automargin\": true, \"gridcolor\": \"white\", \"linecolor\": \"white\", \"ticks\": \"\", \"title\": {\"standoff\": 15}, \"zerolinecolor\": \"white\", \"zerolinewidth\": 2}}}, \"title\": {\"text\": \"Bar Chart Example\"}, \"xaxis\": {\"title\": {\"text\": \"Municipios\"}}, \"yaxis\": {\"title\": {\"text\": \"Num de empresas por municipios\"}}},                        {\"responsive\": true}                    ).then(function(){\n",
       "                            \n",
       "var gd = document.getElementById('a425467f-5be7-43b5-8374-b7b2d74da92a');\n",
       "var x = new MutationObserver(function (mutations, observer) {{\n",
       "        var display = window.getComputedStyle(gd).display;\n",
       "        if (!display || display === 'none') {{\n",
       "            console.log([gd, 'removed!']);\n",
       "            Plotly.purge(gd);\n",
       "            observer.disconnect();\n",
       "        }}\n",
       "}});\n",
       "\n",
       "// Listen for the removal of the full notebook cells\n",
       "var notebookContainer = gd.closest('#notebook-container');\n",
       "if (notebookContainer) {{\n",
       "    x.observe(notebookContainer, {childList: true});\n",
       "}}\n",
       "\n",
       "// Listen for the clearing of the current output cell\n",
       "var outputEl = gd.closest('.output');\n",
       "if (outputEl) {{\n",
       "    x.observe(outputEl, {childList: true});\n",
       "}}\n",
       "\n",
       "                        })                };                });            </script>        </div>"
      ]
     },
     "metadata": {},
     "output_type": "display_data"
    }
   ],
   "source": [
    "data = go.Bar(\n",
    "    x=comp2.municipio,\n",
    "    y=comp2[\"num de empresas\"].values,\n",
    "    marker=dict(color='rgb(0, 128, 255)')  # Customizing the color of the bars\n",
    ")\n",
    "layout = go.Layout(\n",
    "    title='Bar Chart Example',\n",
    "    xaxis=dict(title='Municipios'),\n",
    "    yaxis=dict(title='Num de empresas por municipios')\n",
    ")\n",
    "fig = go.Figure(data=[data], layout=layout)\n",
    "fig.show()\n"
   ]
  },
  {
   "cell_type": "code",
   "execution_count": 87,
   "metadata": {},
   "outputs": [
    {
     "data": {
      "application/vnd.plotly.v1+json": {
       "config": {
        "plotlyServerURL": "https://plot.ly"
       },
       "data": [
        {
         "marker": {
          "color": "rgb(0, 128, 255)"
         },
         "name": "num de empresas",
         "type": "bar",
         "x": [
          "Abasolo",
          "Agualeguas",
          "Allende",
          "Anáhuac",
          "Apodaca",
          "Aramberri",
          "Bustamante",
          "Cadereyta Jiménez",
          "Cerralvo",
          "China",
          "Ciénega de Flores",
          "Doctor Arroyo",
          "Doctor Coss",
          "Doctor González",
          "El Carmen",
          "Galeana",
          "García",
          "General Bravo",
          "General Escobedo",
          "General Terán",
          "General Treviño",
          "General Zaragoza",
          "General Zuazua",
          "Guadalupe",
          "Hidalgo",
          "Higueras",
          "Hualahuises",
          "Iturbide",
          "Juárez",
          "Lampazos de Naranjo",
          "Linares",
          "Los Aldamas",
          "Los Herreras",
          "Los Ramones",
          "Marín",
          "Melchor Ocampo",
          "Mier y Noriega",
          "Mina",
          "Montemorelos",
          "Monterrey",
          "Parás",
          "Pesquería",
          "Rayones",
          "Sabinas Hidalgo",
          "Salinas Victoria",
          "San Nicolás de los Garza",
          "San Pedro Garza García",
          "Santa Catarina",
          "Santiago",
          "Vallecillo",
          "Villaldama"
         ],
         "y": [
          66,
          104,
          1688,
          801,
          15441,
          434,
          206,
          3451,
          351,
          473,
          1102,
          960,
          45,
          66,
          516,
          886,
          5027,
          275,
          11892,
          490,
          49,
          206,
          1482,
          23579,
          583,
          45,
          300,
          142,
          7612,
          181,
          3116,
          43,
          91,
          118,
          153,
          31,
          98,
          167,
          2117,
          62069,
          52,
          1053,
          56,
          2006,
          1020,
          16469,
          9017,
          7968,
          1915,
          42,
          218
         ]
        },
        {
         "marker": {
          "color": "rgb(255, 128, 0)"
         },
         "name": "num de giros",
         "type": "bar",
         "x": [
          "Abasolo",
          "Agualeguas",
          "Allende",
          "Anáhuac",
          "Apodaca",
          "Aramberri",
          "Bustamante",
          "Cadereyta Jiménez",
          "Cerralvo",
          "China",
          "Ciénega de Flores",
          "Doctor Arroyo",
          "Doctor Coss",
          "Doctor González",
          "El Carmen",
          "Galeana",
          "García",
          "General Bravo",
          "General Escobedo",
          "General Terán",
          "General Treviño",
          "General Zaragoza",
          "General Zuazua",
          "Guadalupe",
          "Hidalgo",
          "Higueras",
          "Hualahuises",
          "Iturbide",
          "Juárez",
          "Lampazos de Naranjo",
          "Linares",
          "Los Aldamas",
          "Los Herreras",
          "Los Ramones",
          "Marín",
          "Melchor Ocampo",
          "Mier y Noriega",
          "Mina",
          "Montemorelos",
          "Monterrey",
          "Parás",
          "Pesquería",
          "Rayones",
          "Sabinas Hidalgo",
          "Salinas Victoria",
          "San Nicolás de los Garza",
          "San Pedro Garza García",
          "Santa Catarina",
          "Santiago",
          "Vallecillo",
          "Villaldama"
         ],
         "y": [
          42,
          56,
          289,
          176,
          606,
          116,
          74,
          339,
          113,
          139,
          182,
          194,
          30,
          36,
          148,
          172,
          361,
          100,
          532,
          154,
          30,
          81,
          235,
          651,
          152,
          35,
          94,
          62,
          348,
          85,
          332,
          32,
          43,
          60,
          85,
          24,
          50,
          59,
          286,
          829,
          35,
          183,
          36,
          276,
          207,
          599,
          568,
          537,
          294,
          30,
          81
         ]
        }
       ],
       "layout": {
        "template": {
         "data": {
          "bar": [
           {
            "error_x": {
             "color": "#2a3f5f"
            },
            "error_y": {
             "color": "#2a3f5f"
            },
            "marker": {
             "line": {
              "color": "#E5ECF6",
              "width": 0.5
             }
            },
            "type": "bar"
           }
          ],
          "barpolar": [
           {
            "marker": {
             "line": {
              "color": "#E5ECF6",
              "width": 0.5
             }
            },
            "type": "barpolar"
           }
          ],
          "carpet": [
           {
            "aaxis": {
             "endlinecolor": "#2a3f5f",
             "gridcolor": "white",
             "linecolor": "white",
             "minorgridcolor": "white",
             "startlinecolor": "#2a3f5f"
            },
            "baxis": {
             "endlinecolor": "#2a3f5f",
             "gridcolor": "white",
             "linecolor": "white",
             "minorgridcolor": "white",
             "startlinecolor": "#2a3f5f"
            },
            "type": "carpet"
           }
          ],
          "choropleth": [
           {
            "colorbar": {
             "outlinewidth": 0,
             "ticks": ""
            },
            "type": "choropleth"
           }
          ],
          "contour": [
           {
            "colorbar": {
             "outlinewidth": 0,
             "ticks": ""
            },
            "colorscale": [
             [
              0,
              "#0d0887"
             ],
             [
              0.1111111111111111,
              "#46039f"
             ],
             [
              0.2222222222222222,
              "#7201a8"
             ],
             [
              0.3333333333333333,
              "#9c179e"
             ],
             [
              0.4444444444444444,
              "#bd3786"
             ],
             [
              0.5555555555555556,
              "#d8576b"
             ],
             [
              0.6666666666666666,
              "#ed7953"
             ],
             [
              0.7777777777777778,
              "#fb9f3a"
             ],
             [
              0.8888888888888888,
              "#fdca26"
             ],
             [
              1,
              "#f0f921"
             ]
            ],
            "type": "contour"
           }
          ],
          "contourcarpet": [
           {
            "colorbar": {
             "outlinewidth": 0,
             "ticks": ""
            },
            "type": "contourcarpet"
           }
          ],
          "heatmap": [
           {
            "colorbar": {
             "outlinewidth": 0,
             "ticks": ""
            },
            "colorscale": [
             [
              0,
              "#0d0887"
             ],
             [
              0.1111111111111111,
              "#46039f"
             ],
             [
              0.2222222222222222,
              "#7201a8"
             ],
             [
              0.3333333333333333,
              "#9c179e"
             ],
             [
              0.4444444444444444,
              "#bd3786"
             ],
             [
              0.5555555555555556,
              "#d8576b"
             ],
             [
              0.6666666666666666,
              "#ed7953"
             ],
             [
              0.7777777777777778,
              "#fb9f3a"
             ],
             [
              0.8888888888888888,
              "#fdca26"
             ],
             [
              1,
              "#f0f921"
             ]
            ],
            "type": "heatmap"
           }
          ],
          "heatmapgl": [
           {
            "colorbar": {
             "outlinewidth": 0,
             "ticks": ""
            },
            "colorscale": [
             [
              0,
              "#0d0887"
             ],
             [
              0.1111111111111111,
              "#46039f"
             ],
             [
              0.2222222222222222,
              "#7201a8"
             ],
             [
              0.3333333333333333,
              "#9c179e"
             ],
             [
              0.4444444444444444,
              "#bd3786"
             ],
             [
              0.5555555555555556,
              "#d8576b"
             ],
             [
              0.6666666666666666,
              "#ed7953"
             ],
             [
              0.7777777777777778,
              "#fb9f3a"
             ],
             [
              0.8888888888888888,
              "#fdca26"
             ],
             [
              1,
              "#f0f921"
             ]
            ],
            "type": "heatmapgl"
           }
          ],
          "histogram": [
           {
            "marker": {
             "colorbar": {
              "outlinewidth": 0,
              "ticks": ""
             }
            },
            "type": "histogram"
           }
          ],
          "histogram2d": [
           {
            "colorbar": {
             "outlinewidth": 0,
             "ticks": ""
            },
            "colorscale": [
             [
              0,
              "#0d0887"
             ],
             [
              0.1111111111111111,
              "#46039f"
             ],
             [
              0.2222222222222222,
              "#7201a8"
             ],
             [
              0.3333333333333333,
              "#9c179e"
             ],
             [
              0.4444444444444444,
              "#bd3786"
             ],
             [
              0.5555555555555556,
              "#d8576b"
             ],
             [
              0.6666666666666666,
              "#ed7953"
             ],
             [
              0.7777777777777778,
              "#fb9f3a"
             ],
             [
              0.8888888888888888,
              "#fdca26"
             ],
             [
              1,
              "#f0f921"
             ]
            ],
            "type": "histogram2d"
           }
          ],
          "histogram2dcontour": [
           {
            "colorbar": {
             "outlinewidth": 0,
             "ticks": ""
            },
            "colorscale": [
             [
              0,
              "#0d0887"
             ],
             [
              0.1111111111111111,
              "#46039f"
             ],
             [
              0.2222222222222222,
              "#7201a8"
             ],
             [
              0.3333333333333333,
              "#9c179e"
             ],
             [
              0.4444444444444444,
              "#bd3786"
             ],
             [
              0.5555555555555556,
              "#d8576b"
             ],
             [
              0.6666666666666666,
              "#ed7953"
             ],
             [
              0.7777777777777778,
              "#fb9f3a"
             ],
             [
              0.8888888888888888,
              "#fdca26"
             ],
             [
              1,
              "#f0f921"
             ]
            ],
            "type": "histogram2dcontour"
           }
          ],
          "mesh3d": [
           {
            "colorbar": {
             "outlinewidth": 0,
             "ticks": ""
            },
            "type": "mesh3d"
           }
          ],
          "parcoords": [
           {
            "line": {
             "colorbar": {
              "outlinewidth": 0,
              "ticks": ""
             }
            },
            "type": "parcoords"
           }
          ],
          "pie": [
           {
            "automargin": true,
            "type": "pie"
           }
          ],
          "scatter": [
           {
            "marker": {
             "colorbar": {
              "outlinewidth": 0,
              "ticks": ""
             }
            },
            "type": "scatter"
           }
          ],
          "scatter3d": [
           {
            "line": {
             "colorbar": {
              "outlinewidth": 0,
              "ticks": ""
             }
            },
            "marker": {
             "colorbar": {
              "outlinewidth": 0,
              "ticks": ""
             }
            },
            "type": "scatter3d"
           }
          ],
          "scattercarpet": [
           {
            "marker": {
             "colorbar": {
              "outlinewidth": 0,
              "ticks": ""
             }
            },
            "type": "scattercarpet"
           }
          ],
          "scattergeo": [
           {
            "marker": {
             "colorbar": {
              "outlinewidth": 0,
              "ticks": ""
             }
            },
            "type": "scattergeo"
           }
          ],
          "scattergl": [
           {
            "marker": {
             "colorbar": {
              "outlinewidth": 0,
              "ticks": ""
             }
            },
            "type": "scattergl"
           }
          ],
          "scattermapbox": [
           {
            "marker": {
             "colorbar": {
              "outlinewidth": 0,
              "ticks": ""
             }
            },
            "type": "scattermapbox"
           }
          ],
          "scatterpolar": [
           {
            "marker": {
             "colorbar": {
              "outlinewidth": 0,
              "ticks": ""
             }
            },
            "type": "scatterpolar"
           }
          ],
          "scatterpolargl": [
           {
            "marker": {
             "colorbar": {
              "outlinewidth": 0,
              "ticks": ""
             }
            },
            "type": "scatterpolargl"
           }
          ],
          "scatterternary": [
           {
            "marker": {
             "colorbar": {
              "outlinewidth": 0,
              "ticks": ""
             }
            },
            "type": "scatterternary"
           }
          ],
          "surface": [
           {
            "colorbar": {
             "outlinewidth": 0,
             "ticks": ""
            },
            "colorscale": [
             [
              0,
              "#0d0887"
             ],
             [
              0.1111111111111111,
              "#46039f"
             ],
             [
              0.2222222222222222,
              "#7201a8"
             ],
             [
              0.3333333333333333,
              "#9c179e"
             ],
             [
              0.4444444444444444,
              "#bd3786"
             ],
             [
              0.5555555555555556,
              "#d8576b"
             ],
             [
              0.6666666666666666,
              "#ed7953"
             ],
             [
              0.7777777777777778,
              "#fb9f3a"
             ],
             [
              0.8888888888888888,
              "#fdca26"
             ],
             [
              1,
              "#f0f921"
             ]
            ],
            "type": "surface"
           }
          ],
          "table": [
           {
            "cells": {
             "fill": {
              "color": "#EBF0F8"
             },
             "line": {
              "color": "white"
             }
            },
            "header": {
             "fill": {
              "color": "#C8D4E3"
             },
             "line": {
              "color": "white"
             }
            },
            "type": "table"
           }
          ]
         },
         "layout": {
          "annotationdefaults": {
           "arrowcolor": "#2a3f5f",
           "arrowhead": 0,
           "arrowwidth": 1
          },
          "autotypenumbers": "strict",
          "coloraxis": {
           "colorbar": {
            "outlinewidth": 0,
            "ticks": ""
           }
          },
          "colorscale": {
           "diverging": [
            [
             0,
             "#8e0152"
            ],
            [
             0.1,
             "#c51b7d"
            ],
            [
             0.2,
             "#de77ae"
            ],
            [
             0.3,
             "#f1b6da"
            ],
            [
             0.4,
             "#fde0ef"
            ],
            [
             0.5,
             "#f7f7f7"
            ],
            [
             0.6,
             "#e6f5d0"
            ],
            [
             0.7,
             "#b8e186"
            ],
            [
             0.8,
             "#7fbc41"
            ],
            [
             0.9,
             "#4d9221"
            ],
            [
             1,
             "#276419"
            ]
           ],
           "sequential": [
            [
             0,
             "#0d0887"
            ],
            [
             0.1111111111111111,
             "#46039f"
            ],
            [
             0.2222222222222222,
             "#7201a8"
            ],
            [
             0.3333333333333333,
             "#9c179e"
            ],
            [
             0.4444444444444444,
             "#bd3786"
            ],
            [
             0.5555555555555556,
             "#d8576b"
            ],
            [
             0.6666666666666666,
             "#ed7953"
            ],
            [
             0.7777777777777778,
             "#fb9f3a"
            ],
            [
             0.8888888888888888,
             "#fdca26"
            ],
            [
             1,
             "#f0f921"
            ]
           ],
           "sequentialminus": [
            [
             0,
             "#0d0887"
            ],
            [
             0.1111111111111111,
             "#46039f"
            ],
            [
             0.2222222222222222,
             "#7201a8"
            ],
            [
             0.3333333333333333,
             "#9c179e"
            ],
            [
             0.4444444444444444,
             "#bd3786"
            ],
            [
             0.5555555555555556,
             "#d8576b"
            ],
            [
             0.6666666666666666,
             "#ed7953"
            ],
            [
             0.7777777777777778,
             "#fb9f3a"
            ],
            [
             0.8888888888888888,
             "#fdca26"
            ],
            [
             1,
             "#f0f921"
            ]
           ]
          },
          "colorway": [
           "#636efa",
           "#EF553B",
           "#00cc96",
           "#ab63fa",
           "#FFA15A",
           "#19d3f3",
           "#FF6692",
           "#B6E880",
           "#FF97FF",
           "#FECB52"
          ],
          "font": {
           "color": "#2a3f5f"
          },
          "geo": {
           "bgcolor": "white",
           "lakecolor": "white",
           "landcolor": "#E5ECF6",
           "showlakes": true,
           "showland": true,
           "subunitcolor": "white"
          },
          "hoverlabel": {
           "align": "left"
          },
          "hovermode": "closest",
          "mapbox": {
           "style": "light"
          },
          "paper_bgcolor": "white",
          "plot_bgcolor": "#E5ECF6",
          "polar": {
           "angularaxis": {
            "gridcolor": "white",
            "linecolor": "white",
            "ticks": ""
           },
           "bgcolor": "#E5ECF6",
           "radialaxis": {
            "gridcolor": "white",
            "linecolor": "white",
            "ticks": ""
           }
          },
          "scene": {
           "xaxis": {
            "backgroundcolor": "#E5ECF6",
            "gridcolor": "white",
            "gridwidth": 2,
            "linecolor": "white",
            "showbackground": true,
            "ticks": "",
            "zerolinecolor": "white"
           },
           "yaxis": {
            "backgroundcolor": "#E5ECF6",
            "gridcolor": "white",
            "gridwidth": 2,
            "linecolor": "white",
            "showbackground": true,
            "ticks": "",
            "zerolinecolor": "white"
           },
           "zaxis": {
            "backgroundcolor": "#E5ECF6",
            "gridcolor": "white",
            "gridwidth": 2,
            "linecolor": "white",
            "showbackground": true,
            "ticks": "",
            "zerolinecolor": "white"
           }
          },
          "shapedefaults": {
           "line": {
            "color": "#2a3f5f"
           }
          },
          "ternary": {
           "aaxis": {
            "gridcolor": "white",
            "linecolor": "white",
            "ticks": ""
           },
           "baxis": {
            "gridcolor": "white",
            "linecolor": "white",
            "ticks": ""
           },
           "bgcolor": "#E5ECF6",
           "caxis": {
            "gridcolor": "white",
            "linecolor": "white",
            "ticks": ""
           }
          },
          "title": {
           "x": 0.05
          },
          "xaxis": {
           "automargin": true,
           "gridcolor": "white",
           "linecolor": "white",
           "ticks": "",
           "title": {
            "standoff": 15
           },
           "zerolinecolor": "white",
           "zerolinewidth": 2
          },
          "yaxis": {
           "automargin": true,
           "gridcolor": "white",
           "linecolor": "white",
           "ticks": "",
           "title": {
            "standoff": 15
           },
           "zerolinecolor": "white",
           "zerolinewidth": 2
          }
         }
        },
        "title": {
         "text": "Num de empresas y giros por municipio"
        },
        "xaxis": {
         "title": {
          "text": "Municipios"
         }
        },
        "yaxis": {
         "title": {
          "text": "Num de empresas"
         }
        },
        "yaxis2": {
         "overlaying": "y",
         "side": "right",
         "title": {
          "text": "Num de giros"
         }
        }
       }
      },
      "text/html": [
       "<div>                            <div id=\"2266870e-a818-4302-8e94-77bf925aa4f1\" class=\"plotly-graph-div\" style=\"height:525px; width:100%;\"></div>            <script type=\"text/javascript\">                require([\"plotly\"], function(Plotly) {                    window.PLOTLYENV=window.PLOTLYENV || {};                                    if (document.getElementById(\"2266870e-a818-4302-8e94-77bf925aa4f1\")) {                    Plotly.newPlot(                        \"2266870e-a818-4302-8e94-77bf925aa4f1\",                        [{\"marker\": {\"color\": \"rgb(0, 128, 255)\"}, \"name\": \"num de empresas\", \"type\": \"bar\", \"x\": [\"Abasolo\", \"Agualeguas\", \"Allende\", \"An\\u00e1huac\", \"Apodaca\", \"Aramberri\", \"Bustamante\", \"Cadereyta Jim\\u00e9nez\", \"Cerralvo\", \"China\", \"Ci\\u00e9nega de Flores\", \"Doctor Arroyo\", \"Doctor Coss\", \"Doctor Gonz\\u00e1lez\", \"El Carmen\", \"Galeana\", \"Garc\\u00eda\", \"General Bravo\", \"General Escobedo\", \"General Ter\\u00e1n\", \"General Trevi\\u00f1o\", \"General Zaragoza\", \"General Zuazua\", \"Guadalupe\", \"Hidalgo\", \"Higueras\", \"Hualahuises\", \"Iturbide\", \"Ju\\u00e1rez\", \"Lampazos de Naranjo\", \"Linares\", \"Los Aldamas\", \"Los Herreras\", \"Los Ramones\", \"Mar\\u00edn\", \"Melchor Ocampo\", \"Mier y Noriega\", \"Mina\", \"Montemorelos\", \"Monterrey\", \"Par\\u00e1s\", \"Pesquer\\u00eda\", \"Rayones\", \"Sabinas Hidalgo\", \"Salinas Victoria\", \"San Nicol\\u00e1s de los Garza\", \"San Pedro Garza Garc\\u00eda\", \"Santa Catarina\", \"Santiago\", \"Vallecillo\", \"Villaldama\"], \"y\": [66, 104, 1688, 801, 15441, 434, 206, 3451, 351, 473, 1102, 960, 45, 66, 516, 886, 5027, 275, 11892, 490, 49, 206, 1482, 23579, 583, 45, 300, 142, 7612, 181, 3116, 43, 91, 118, 153, 31, 98, 167, 2117, 62069, 52, 1053, 56, 2006, 1020, 16469, 9017, 7968, 1915, 42, 218]}, {\"marker\": {\"color\": \"rgb(255, 128, 0)\"}, \"name\": \"num de giros\", \"type\": \"bar\", \"x\": [\"Abasolo\", \"Agualeguas\", \"Allende\", \"An\\u00e1huac\", \"Apodaca\", \"Aramberri\", \"Bustamante\", \"Cadereyta Jim\\u00e9nez\", \"Cerralvo\", \"China\", \"Ci\\u00e9nega de Flores\", \"Doctor Arroyo\", \"Doctor Coss\", \"Doctor Gonz\\u00e1lez\", \"El Carmen\", \"Galeana\", \"Garc\\u00eda\", \"General Bravo\", \"General Escobedo\", \"General Ter\\u00e1n\", \"General Trevi\\u00f1o\", \"General Zaragoza\", \"General Zuazua\", \"Guadalupe\", \"Hidalgo\", \"Higueras\", \"Hualahuises\", \"Iturbide\", \"Ju\\u00e1rez\", \"Lampazos de Naranjo\", \"Linares\", \"Los Aldamas\", \"Los Herreras\", \"Los Ramones\", \"Mar\\u00edn\", \"Melchor Ocampo\", \"Mier y Noriega\", \"Mina\", \"Montemorelos\", \"Monterrey\", \"Par\\u00e1s\", \"Pesquer\\u00eda\", \"Rayones\", \"Sabinas Hidalgo\", \"Salinas Victoria\", \"San Nicol\\u00e1s de los Garza\", \"San Pedro Garza Garc\\u00eda\", \"Santa Catarina\", \"Santiago\", \"Vallecillo\", \"Villaldama\"], \"y\": [42, 56, 289, 176, 606, 116, 74, 339, 113, 139, 182, 194, 30, 36, 148, 172, 361, 100, 532, 154, 30, 81, 235, 651, 152, 35, 94, 62, 348, 85, 332, 32, 43, 60, 85, 24, 50, 59, 286, 829, 35, 183, 36, 276, 207, 599, 568, 537, 294, 30, 81]}],                        {\"template\": {\"data\": {\"bar\": [{\"error_x\": {\"color\": \"#2a3f5f\"}, \"error_y\": {\"color\": \"#2a3f5f\"}, \"marker\": {\"line\": {\"color\": \"#E5ECF6\", \"width\": 0.5}}, \"type\": \"bar\"}], \"barpolar\": [{\"marker\": {\"line\": {\"color\": \"#E5ECF6\", \"width\": 0.5}}, \"type\": \"barpolar\"}], \"carpet\": [{\"aaxis\": {\"endlinecolor\": \"#2a3f5f\", \"gridcolor\": \"white\", \"linecolor\": \"white\", \"minorgridcolor\": \"white\", \"startlinecolor\": \"#2a3f5f\"}, \"baxis\": {\"endlinecolor\": \"#2a3f5f\", \"gridcolor\": \"white\", \"linecolor\": \"white\", \"minorgridcolor\": \"white\", \"startlinecolor\": \"#2a3f5f\"}, \"type\": \"carpet\"}], \"choropleth\": [{\"colorbar\": {\"outlinewidth\": 0, \"ticks\": \"\"}, \"type\": \"choropleth\"}], \"contour\": [{\"colorbar\": {\"outlinewidth\": 0, \"ticks\": \"\"}, \"colorscale\": [[0.0, \"#0d0887\"], [0.1111111111111111, \"#46039f\"], [0.2222222222222222, \"#7201a8\"], [0.3333333333333333, \"#9c179e\"], [0.4444444444444444, \"#bd3786\"], [0.5555555555555556, \"#d8576b\"], [0.6666666666666666, \"#ed7953\"], [0.7777777777777778, \"#fb9f3a\"], [0.8888888888888888, \"#fdca26\"], [1.0, \"#f0f921\"]], \"type\": \"contour\"}], \"contourcarpet\": [{\"colorbar\": {\"outlinewidth\": 0, \"ticks\": \"\"}, \"type\": \"contourcarpet\"}], \"heatmap\": [{\"colorbar\": {\"outlinewidth\": 0, \"ticks\": \"\"}, \"colorscale\": [[0.0, \"#0d0887\"], [0.1111111111111111, \"#46039f\"], [0.2222222222222222, \"#7201a8\"], [0.3333333333333333, \"#9c179e\"], [0.4444444444444444, \"#bd3786\"], [0.5555555555555556, \"#d8576b\"], [0.6666666666666666, \"#ed7953\"], [0.7777777777777778, \"#fb9f3a\"], [0.8888888888888888, \"#fdca26\"], [1.0, \"#f0f921\"]], \"type\": \"heatmap\"}], \"heatmapgl\": [{\"colorbar\": {\"outlinewidth\": 0, \"ticks\": \"\"}, \"colorscale\": [[0.0, \"#0d0887\"], [0.1111111111111111, \"#46039f\"], [0.2222222222222222, \"#7201a8\"], [0.3333333333333333, \"#9c179e\"], [0.4444444444444444, \"#bd3786\"], [0.5555555555555556, \"#d8576b\"], [0.6666666666666666, \"#ed7953\"], [0.7777777777777778, \"#fb9f3a\"], [0.8888888888888888, \"#fdca26\"], [1.0, \"#f0f921\"]], \"type\": \"heatmapgl\"}], \"histogram\": [{\"marker\": {\"colorbar\": {\"outlinewidth\": 0, \"ticks\": \"\"}}, \"type\": \"histogram\"}], \"histogram2d\": [{\"colorbar\": {\"outlinewidth\": 0, \"ticks\": \"\"}, \"colorscale\": [[0.0, \"#0d0887\"], [0.1111111111111111, \"#46039f\"], [0.2222222222222222, \"#7201a8\"], [0.3333333333333333, \"#9c179e\"], [0.4444444444444444, \"#bd3786\"], [0.5555555555555556, \"#d8576b\"], [0.6666666666666666, \"#ed7953\"], [0.7777777777777778, \"#fb9f3a\"], [0.8888888888888888, \"#fdca26\"], [1.0, \"#f0f921\"]], \"type\": \"histogram2d\"}], \"histogram2dcontour\": [{\"colorbar\": {\"outlinewidth\": 0, \"ticks\": \"\"}, \"colorscale\": [[0.0, \"#0d0887\"], [0.1111111111111111, \"#46039f\"], [0.2222222222222222, \"#7201a8\"], [0.3333333333333333, \"#9c179e\"], [0.4444444444444444, \"#bd3786\"], [0.5555555555555556, \"#d8576b\"], [0.6666666666666666, \"#ed7953\"], [0.7777777777777778, \"#fb9f3a\"], [0.8888888888888888, \"#fdca26\"], [1.0, \"#f0f921\"]], \"type\": \"histogram2dcontour\"}], \"mesh3d\": [{\"colorbar\": {\"outlinewidth\": 0, \"ticks\": \"\"}, \"type\": \"mesh3d\"}], \"parcoords\": [{\"line\": {\"colorbar\": {\"outlinewidth\": 0, \"ticks\": \"\"}}, \"type\": \"parcoords\"}], \"pie\": [{\"automargin\": true, \"type\": \"pie\"}], \"scatter\": [{\"marker\": {\"colorbar\": {\"outlinewidth\": 0, \"ticks\": \"\"}}, \"type\": \"scatter\"}], \"scatter3d\": [{\"line\": {\"colorbar\": {\"outlinewidth\": 0, \"ticks\": \"\"}}, \"marker\": {\"colorbar\": {\"outlinewidth\": 0, \"ticks\": \"\"}}, \"type\": \"scatter3d\"}], \"scattercarpet\": [{\"marker\": {\"colorbar\": {\"outlinewidth\": 0, \"ticks\": \"\"}}, \"type\": \"scattercarpet\"}], \"scattergeo\": [{\"marker\": {\"colorbar\": {\"outlinewidth\": 0, \"ticks\": \"\"}}, \"type\": \"scattergeo\"}], \"scattergl\": [{\"marker\": {\"colorbar\": {\"outlinewidth\": 0, \"ticks\": \"\"}}, \"type\": \"scattergl\"}], \"scattermapbox\": [{\"marker\": {\"colorbar\": {\"outlinewidth\": 0, \"ticks\": \"\"}}, \"type\": \"scattermapbox\"}], \"scatterpolar\": [{\"marker\": {\"colorbar\": {\"outlinewidth\": 0, \"ticks\": \"\"}}, \"type\": \"scatterpolar\"}], \"scatterpolargl\": [{\"marker\": {\"colorbar\": {\"outlinewidth\": 0, \"ticks\": \"\"}}, \"type\": \"scatterpolargl\"}], \"scatterternary\": [{\"marker\": {\"colorbar\": {\"outlinewidth\": 0, \"ticks\": \"\"}}, \"type\": \"scatterternary\"}], \"surface\": [{\"colorbar\": {\"outlinewidth\": 0, \"ticks\": \"\"}, \"colorscale\": [[0.0, \"#0d0887\"], [0.1111111111111111, \"#46039f\"], [0.2222222222222222, \"#7201a8\"], [0.3333333333333333, \"#9c179e\"], [0.4444444444444444, \"#bd3786\"], [0.5555555555555556, \"#d8576b\"], [0.6666666666666666, \"#ed7953\"], [0.7777777777777778, \"#fb9f3a\"], [0.8888888888888888, \"#fdca26\"], [1.0, \"#f0f921\"]], \"type\": \"surface\"}], \"table\": [{\"cells\": {\"fill\": {\"color\": \"#EBF0F8\"}, \"line\": {\"color\": \"white\"}}, \"header\": {\"fill\": {\"color\": \"#C8D4E3\"}, \"line\": {\"color\": \"white\"}}, \"type\": \"table\"}]}, \"layout\": {\"annotationdefaults\": {\"arrowcolor\": \"#2a3f5f\", \"arrowhead\": 0, \"arrowwidth\": 1}, \"autotypenumbers\": \"strict\", \"coloraxis\": {\"colorbar\": {\"outlinewidth\": 0, \"ticks\": \"\"}}, \"colorscale\": {\"diverging\": [[0, \"#8e0152\"], [0.1, \"#c51b7d\"], [0.2, \"#de77ae\"], [0.3, \"#f1b6da\"], [0.4, \"#fde0ef\"], [0.5, \"#f7f7f7\"], [0.6, \"#e6f5d0\"], [0.7, \"#b8e186\"], [0.8, \"#7fbc41\"], [0.9, \"#4d9221\"], [1, \"#276419\"]], \"sequential\": [[0.0, \"#0d0887\"], [0.1111111111111111, \"#46039f\"], [0.2222222222222222, \"#7201a8\"], [0.3333333333333333, \"#9c179e\"], [0.4444444444444444, \"#bd3786\"], [0.5555555555555556, \"#d8576b\"], [0.6666666666666666, \"#ed7953\"], [0.7777777777777778, \"#fb9f3a\"], [0.8888888888888888, \"#fdca26\"], [1.0, \"#f0f921\"]], \"sequentialminus\": [[0.0, \"#0d0887\"], [0.1111111111111111, \"#46039f\"], [0.2222222222222222, \"#7201a8\"], [0.3333333333333333, \"#9c179e\"], [0.4444444444444444, \"#bd3786\"], [0.5555555555555556, \"#d8576b\"], [0.6666666666666666, \"#ed7953\"], [0.7777777777777778, \"#fb9f3a\"], [0.8888888888888888, \"#fdca26\"], [1.0, \"#f0f921\"]]}, \"colorway\": [\"#636efa\", \"#EF553B\", \"#00cc96\", \"#ab63fa\", \"#FFA15A\", \"#19d3f3\", \"#FF6692\", \"#B6E880\", \"#FF97FF\", \"#FECB52\"], \"font\": {\"color\": \"#2a3f5f\"}, \"geo\": {\"bgcolor\": \"white\", \"lakecolor\": \"white\", \"landcolor\": \"#E5ECF6\", \"showlakes\": true, \"showland\": true, \"subunitcolor\": \"white\"}, \"hoverlabel\": {\"align\": \"left\"}, \"hovermode\": \"closest\", \"mapbox\": {\"style\": \"light\"}, \"paper_bgcolor\": \"white\", \"plot_bgcolor\": \"#E5ECF6\", \"polar\": {\"angularaxis\": {\"gridcolor\": \"white\", \"linecolor\": \"white\", \"ticks\": \"\"}, \"bgcolor\": \"#E5ECF6\", \"radialaxis\": {\"gridcolor\": \"white\", \"linecolor\": \"white\", \"ticks\": \"\"}}, \"scene\": {\"xaxis\": {\"backgroundcolor\": \"#E5ECF6\", \"gridcolor\": \"white\", \"gridwidth\": 2, \"linecolor\": \"white\", \"showbackground\": true, \"ticks\": \"\", \"zerolinecolor\": \"white\"}, \"yaxis\": {\"backgroundcolor\": \"#E5ECF6\", \"gridcolor\": \"white\", \"gridwidth\": 2, \"linecolor\": \"white\", \"showbackground\": true, \"ticks\": \"\", \"zerolinecolor\": \"white\"}, \"zaxis\": {\"backgroundcolor\": \"#E5ECF6\", \"gridcolor\": \"white\", \"gridwidth\": 2, \"linecolor\": \"white\", \"showbackground\": true, \"ticks\": \"\", \"zerolinecolor\": \"white\"}}, \"shapedefaults\": {\"line\": {\"color\": \"#2a3f5f\"}}, \"ternary\": {\"aaxis\": {\"gridcolor\": \"white\", \"linecolor\": \"white\", \"ticks\": \"\"}, \"baxis\": {\"gridcolor\": \"white\", \"linecolor\": \"white\", \"ticks\": \"\"}, \"bgcolor\": \"#E5ECF6\", \"caxis\": {\"gridcolor\": \"white\", \"linecolor\": \"white\", \"ticks\": \"\"}}, \"title\": {\"x\": 0.05}, \"xaxis\": {\"automargin\": true, \"gridcolor\": \"white\", \"linecolor\": \"white\", \"ticks\": \"\", \"title\": {\"standoff\": 15}, \"zerolinecolor\": \"white\", \"zerolinewidth\": 2}, \"yaxis\": {\"automargin\": true, \"gridcolor\": \"white\", \"linecolor\": \"white\", \"ticks\": \"\", \"title\": {\"standoff\": 15}, \"zerolinecolor\": \"white\", \"zerolinewidth\": 2}}}, \"title\": {\"text\": \"Num de empresas y giros por municipio\"}, \"xaxis\": {\"title\": {\"text\": \"Municipios\"}}, \"yaxis\": {\"title\": {\"text\": \"Num de empresas\"}}, \"yaxis2\": {\"overlaying\": \"y\", \"side\": \"right\", \"title\": {\"text\": \"Num de giros\"}}},                        {\"responsive\": true}                    ).then(function(){\n",
       "                            \n",
       "var gd = document.getElementById('2266870e-a818-4302-8e94-77bf925aa4f1');\n",
       "var x = new MutationObserver(function (mutations, observer) {{\n",
       "        var display = window.getComputedStyle(gd).display;\n",
       "        if (!display || display === 'none') {{\n",
       "            console.log([gd, 'removed!']);\n",
       "            Plotly.purge(gd);\n",
       "            observer.disconnect();\n",
       "        }}\n",
       "}});\n",
       "\n",
       "// Listen for the removal of the full notebook cells\n",
       "var notebookContainer = gd.closest('#notebook-container');\n",
       "if (notebookContainer) {{\n",
       "    x.observe(notebookContainer, {childList: true});\n",
       "}}\n",
       "\n",
       "// Listen for the clearing of the current output cell\n",
       "var outputEl = gd.closest('.output');\n",
       "if (outputEl) {{\n",
       "    x.observe(outputEl, {childList: true});\n",
       "}}\n",
       "\n",
       "                        })                };                });            </script>        </div>"
      ]
     },
     "metadata": {},
     "output_type": "display_data"
    }
   ],
   "source": [
    "values1=comp2[\"num de empresas\"].values\n",
    "values2=comp2[\"codigo_act por munl\"].values\n",
    "scaling_factor = max(values1) / max(values2)\n",
    "normalized_values2 = [value * scaling_factor for value in values2]\n",
    "\n",
    "bar1 = go.Bar(\n",
    "    x=comp2.municipio,\n",
    "    y=comp2[\"num de empresas\"].values,\n",
    "    name='num de empresas',\n",
    "    marker=dict(color='rgb(0, 128, 255)')  # Customizing the color of Bar 1\n",
    ")\n",
    "\n",
    "bar2 = go.Bar(\n",
    "    x=comp2.municipio,\n",
    "    y=comp2[\"codigo_act por munl\"].values,\n",
    "    name='num de giros',\n",
    "    marker=dict(color='rgb(255, 128, 0)')  # Customizing the color of Bar 2\n",
    ")\n",
    "layout = go.Layout(\n",
    "    title='Num de empresas y giros por municipio',\n",
    "    xaxis=dict(title='Municipios'),\n",
    "    yaxis=dict(title='Num de empresas'),\n",
    "    yaxis2=dict(\n",
    "        title='Num de giros',\n",
    "        overlaying='y',\n",
    "        side='right'\n",
    "    )\n",
    ")\n",
    "fig = go.Figure(data=[bar1, bar2], layout=layout)\n",
    "fig.show()\n"
   ]
  },
  {
   "cell_type": "code",
   "execution_count": null,
   "metadata": {},
   "outputs": [],
   "source": []
  }
 ],
 "metadata": {
  "kernelspec": {
   "display_name": "Python 3",
   "language": "python",
   "name": "python3"
  },
  "language_info": {
   "codemirror_mode": {
    "name": "ipython",
    "version": 3
   },
   "file_extension": ".py",
   "mimetype": "text/x-python",
   "name": "python",
   "nbconvert_exporter": "python",
   "pygments_lexer": "ipython3",
   "version": "3.7.9"
  }
 },
 "nbformat": 4,
 "nbformat_minor": 4
}
