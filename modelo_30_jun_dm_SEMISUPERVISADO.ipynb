{
  "nbformat": 4,
  "nbformat_minor": 0,
  "metadata": {
    "colab": {
      "provenance": [],
      "authorship_tag": "ABX9TyO5unCscPKi907Ad+BO9yp1",
      "include_colab_link": true
    },
    "kernelspec": {
      "name": "python3",
      "display_name": "Python 3"
    },
    "language_info": {
      "name": "python"
    }
  },
  "cells": [
    {
      "cell_type": "markdown",
      "metadata": {
        "id": "view-in-github",
        "colab_type": "text"
      },
      "source": [
        "<a href=\"https://colab.research.google.com/github/ArnoldoOliva/DatosMasivos/blob/main/modelo_30_jun_dm_SEMISUPERVISADO.ipynb\" target=\"_parent\"><img src=\"https://colab.research.google.com/assets/colab-badge.svg\" alt=\"Open In Colab\"/></a>"
      ]
    },
    {
      "cell_type": "code",
      "execution_count": 1,
      "metadata": {
        "colab": {
          "base_uri": "https://localhost:8080/"
        },
        "id": "NE1RXN2FMuEa",
        "outputId": "c0c96167-dcb6-484e-a724-0a76fa5a6a7b"
      },
      "outputs": [
        {
          "output_type": "stream",
          "name": "stdout",
          "text": [
            "Mounted at /content/drive\n"
          ]
        }
      ],
      "source": [
        "from google.colab import drive\n",
        "drive.mount('/content/drive')"
      ]
    },
    {
      "cell_type": "code",
      "source": [
        "import pandas as pd\n",
        "import numpy as np\n",
        "pd.set_option(\"display.max_columns\",None)"
      ],
      "metadata": {
        "id": "n7LI9x6GRiHo"
      },
      "execution_count": 2,
      "outputs": []
    },
    {
      "cell_type": "code",
      "source": [
        "b=pd.read_csv(\"/content/bot_detection_data.csv\")\n",
        "b.head(5)"
      ],
      "metadata": {
        "colab": {
          "base_uri": "https://localhost:8080/",
          "height": 354
        },
        "id": "FqHJ1wWcRvNz",
        "outputId": "6815a74a-ccf1-4a75-f851-2997d9a5cfaf"
      },
      "execution_count": 27,
      "outputs": [
        {
          "output_type": "execute_result",
          "data": {
            "text/plain": [
              "   User ID        Username                                              Tweet  \\\n",
              "0   132131           flong  Station activity person against natural majori...   \n",
              "1   289683  hinesstephanie  Authority research natural life material staff...   \n",
              "2   779715      roberttran  Manage whose quickly especially foot none to g...   \n",
              "3   696168          pmason  Just cover eight opportunity strong policy which.   \n",
              "4   704441          noah87                      Animal sign six data good or.   \n",
              "\n",
              "   Retweet Count  Mention Count  Follower Count  Verified  Bot Label  \\\n",
              "0             85              1            2353     False          1   \n",
              "1             55              5            9617      True          0   \n",
              "2              6              2            4363      True          0   \n",
              "3             54              5            2242      True          1   \n",
              "4             26              3            8438     False          1   \n",
              "\n",
              "       Location           Created At            Hashtags  \n",
              "0     Adkinston  2020-05-11 15:29:50                 NaN  \n",
              "1    Sanderston  2022-11-26 05:18:10           both live  \n",
              "2  Harrisonfurt  2022-08-08 03:16:54         phone ahead  \n",
              "3  Martinezberg  2021-08-14 22:27:05  ever quickly new I  \n",
              "4  Camachoville  2020-04-13 21:24:21     foreign mention  "
            ],
            "text/html": [
              "\n",
              "  <div id=\"df-d6ddca22-d7c5-4ece-aac9-9df05ecc14b8\">\n",
              "    <div class=\"colab-df-container\">\n",
              "      <div>\n",
              "<style scoped>\n",
              "    .dataframe tbody tr th:only-of-type {\n",
              "        vertical-align: middle;\n",
              "    }\n",
              "\n",
              "    .dataframe tbody tr th {\n",
              "        vertical-align: top;\n",
              "    }\n",
              "\n",
              "    .dataframe thead th {\n",
              "        text-align: right;\n",
              "    }\n",
              "</style>\n",
              "<table border=\"1\" class=\"dataframe\">\n",
              "  <thead>\n",
              "    <tr style=\"text-align: right;\">\n",
              "      <th></th>\n",
              "      <th>User ID</th>\n",
              "      <th>Username</th>\n",
              "      <th>Tweet</th>\n",
              "      <th>Retweet Count</th>\n",
              "      <th>Mention Count</th>\n",
              "      <th>Follower Count</th>\n",
              "      <th>Verified</th>\n",
              "      <th>Bot Label</th>\n",
              "      <th>Location</th>\n",
              "      <th>Created At</th>\n",
              "      <th>Hashtags</th>\n",
              "    </tr>\n",
              "  </thead>\n",
              "  <tbody>\n",
              "    <tr>\n",
              "      <th>0</th>\n",
              "      <td>132131</td>\n",
              "      <td>flong</td>\n",
              "      <td>Station activity person against natural majori...</td>\n",
              "      <td>85</td>\n",
              "      <td>1</td>\n",
              "      <td>2353</td>\n",
              "      <td>False</td>\n",
              "      <td>1</td>\n",
              "      <td>Adkinston</td>\n",
              "      <td>2020-05-11 15:29:50</td>\n",
              "      <td>NaN</td>\n",
              "    </tr>\n",
              "    <tr>\n",
              "      <th>1</th>\n",
              "      <td>289683</td>\n",
              "      <td>hinesstephanie</td>\n",
              "      <td>Authority research natural life material staff...</td>\n",
              "      <td>55</td>\n",
              "      <td>5</td>\n",
              "      <td>9617</td>\n",
              "      <td>True</td>\n",
              "      <td>0</td>\n",
              "      <td>Sanderston</td>\n",
              "      <td>2022-11-26 05:18:10</td>\n",
              "      <td>both live</td>\n",
              "    </tr>\n",
              "    <tr>\n",
              "      <th>2</th>\n",
              "      <td>779715</td>\n",
              "      <td>roberttran</td>\n",
              "      <td>Manage whose quickly especially foot none to g...</td>\n",
              "      <td>6</td>\n",
              "      <td>2</td>\n",
              "      <td>4363</td>\n",
              "      <td>True</td>\n",
              "      <td>0</td>\n",
              "      <td>Harrisonfurt</td>\n",
              "      <td>2022-08-08 03:16:54</td>\n",
              "      <td>phone ahead</td>\n",
              "    </tr>\n",
              "    <tr>\n",
              "      <th>3</th>\n",
              "      <td>696168</td>\n",
              "      <td>pmason</td>\n",
              "      <td>Just cover eight opportunity strong policy which.</td>\n",
              "      <td>54</td>\n",
              "      <td>5</td>\n",
              "      <td>2242</td>\n",
              "      <td>True</td>\n",
              "      <td>1</td>\n",
              "      <td>Martinezberg</td>\n",
              "      <td>2021-08-14 22:27:05</td>\n",
              "      <td>ever quickly new I</td>\n",
              "    </tr>\n",
              "    <tr>\n",
              "      <th>4</th>\n",
              "      <td>704441</td>\n",
              "      <td>noah87</td>\n",
              "      <td>Animal sign six data good or.</td>\n",
              "      <td>26</td>\n",
              "      <td>3</td>\n",
              "      <td>8438</td>\n",
              "      <td>False</td>\n",
              "      <td>1</td>\n",
              "      <td>Camachoville</td>\n",
              "      <td>2020-04-13 21:24:21</td>\n",
              "      <td>foreign mention</td>\n",
              "    </tr>\n",
              "  </tbody>\n",
              "</table>\n",
              "</div>\n",
              "      <button class=\"colab-df-convert\" onclick=\"convertToInteractive('df-d6ddca22-d7c5-4ece-aac9-9df05ecc14b8')\"\n",
              "              title=\"Convert this dataframe to an interactive table.\"\n",
              "              style=\"display:none;\">\n",
              "        \n",
              "  <svg xmlns=\"http://www.w3.org/2000/svg\" height=\"24px\"viewBox=\"0 0 24 24\"\n",
              "       width=\"24px\">\n",
              "    <path d=\"M0 0h24v24H0V0z\" fill=\"none\"/>\n",
              "    <path d=\"M18.56 5.44l.94 2.06.94-2.06 2.06-.94-2.06-.94-.94-2.06-.94 2.06-2.06.94zm-11 1L8.5 8.5l.94-2.06 2.06-.94-2.06-.94L8.5 2.5l-.94 2.06-2.06.94zm10 10l.94 2.06.94-2.06 2.06-.94-2.06-.94-.94-2.06-.94 2.06-2.06.94z\"/><path d=\"M17.41 7.96l-1.37-1.37c-.4-.4-.92-.59-1.43-.59-.52 0-1.04.2-1.43.59L10.3 9.45l-7.72 7.72c-.78.78-.78 2.05 0 2.83L4 21.41c.39.39.9.59 1.41.59.51 0 1.02-.2 1.41-.59l7.78-7.78 2.81-2.81c.8-.78.8-2.07 0-2.86zM5.41 20L4 18.59l7.72-7.72 1.47 1.35L5.41 20z\"/>\n",
              "  </svg>\n",
              "      </button>\n",
              "      \n",
              "  <style>\n",
              "    .colab-df-container {\n",
              "      display:flex;\n",
              "      flex-wrap:wrap;\n",
              "      gap: 12px;\n",
              "    }\n",
              "\n",
              "    .colab-df-convert {\n",
              "      background-color: #E8F0FE;\n",
              "      border: none;\n",
              "      border-radius: 50%;\n",
              "      cursor: pointer;\n",
              "      display: none;\n",
              "      fill: #1967D2;\n",
              "      height: 32px;\n",
              "      padding: 0 0 0 0;\n",
              "      width: 32px;\n",
              "    }\n",
              "\n",
              "    .colab-df-convert:hover {\n",
              "      background-color: #E2EBFA;\n",
              "      box-shadow: 0px 1px 2px rgba(60, 64, 67, 0.3), 0px 1px 3px 1px rgba(60, 64, 67, 0.15);\n",
              "      fill: #174EA6;\n",
              "    }\n",
              "\n",
              "    [theme=dark] .colab-df-convert {\n",
              "      background-color: #3B4455;\n",
              "      fill: #D2E3FC;\n",
              "    }\n",
              "\n",
              "    [theme=dark] .colab-df-convert:hover {\n",
              "      background-color: #434B5C;\n",
              "      box-shadow: 0px 1px 3px 1px rgba(0, 0, 0, 0.15);\n",
              "      filter: drop-shadow(0px 1px 2px rgba(0, 0, 0, 0.3));\n",
              "      fill: #FFFFFF;\n",
              "    }\n",
              "  </style>\n",
              "\n",
              "      <script>\n",
              "        const buttonEl =\n",
              "          document.querySelector('#df-d6ddca22-d7c5-4ece-aac9-9df05ecc14b8 button.colab-df-convert');\n",
              "        buttonEl.style.display =\n",
              "          google.colab.kernel.accessAllowed ? 'block' : 'none';\n",
              "\n",
              "        async function convertToInteractive(key) {\n",
              "          const element = document.querySelector('#df-d6ddca22-d7c5-4ece-aac9-9df05ecc14b8');\n",
              "          const dataTable =\n",
              "            await google.colab.kernel.invokeFunction('convertToInteractive',\n",
              "                                                     [key], {});\n",
              "          if (!dataTable) return;\n",
              "\n",
              "          const docLinkHtml = 'Like what you see? Visit the ' +\n",
              "            '<a target=\"_blank\" href=https://colab.research.google.com/notebooks/data_table.ipynb>data table notebook</a>'\n",
              "            + ' to learn more about interactive tables.';\n",
              "          element.innerHTML = '';\n",
              "          dataTable['output_type'] = 'display_data';\n",
              "          await google.colab.output.renderOutput(dataTable, element);\n",
              "          const docLink = document.createElement('div');\n",
              "          docLink.innerHTML = docLinkHtml;\n",
              "          element.appendChild(docLink);\n",
              "        }\n",
              "      </script>\n",
              "    </div>\n",
              "  </div>\n",
              "  "
            ]
          },
          "metadata": {},
          "execution_count": 27
        }
      ]
    },
    {
      "cell_type": "markdown",
      "source": [
        "Modelo semisupervisado"
      ],
      "metadata": {
        "id": "4Q8C7-hQAB7A"
      }
    },
    {
      "cell_type": "code",
      "source": [
        "#omitiremos la parte del text analysis:\n",
        "b=b[[\"Retweet Count\",\"Mention Count\",\"Follower Count\",\"Verified\",\"Bot Label\",\"Created At\"]]\n",
        "b[\"Created At\"]=pd.to_datetime(b[\"Created At\"],errors=\"coerce\")\n",
        "\n",
        "#creamos columna de que tan nuevo es\n",
        "from datetime import datetime\n",
        "\n",
        "fecha_hoy = datetime.now().date()\n",
        "\n",
        "b['datecount'] = fecha_hoy - b['Created At'].dt.date\n",
        "b.head(3)"
      ],
      "metadata": {
        "colab": {
          "base_uri": "https://localhost:8080/",
          "height": 248
        },
        "id": "ZsTxtqUwAD9U",
        "outputId": "f522ccf8-f1ef-450a-8441-659896a2e4eb"
      },
      "execution_count": 28,
      "outputs": [
        {
          "output_type": "stream",
          "name": "stderr",
          "text": [
            "<ipython-input-28-5e45271936fc>:3: SettingWithCopyWarning: \n",
            "A value is trying to be set on a copy of a slice from a DataFrame.\n",
            "Try using .loc[row_indexer,col_indexer] = value instead\n",
            "\n",
            "See the caveats in the documentation: https://pandas.pydata.org/pandas-docs/stable/user_guide/indexing.html#returning-a-view-versus-a-copy\n",
            "  b[\"Created At\"]=pd.to_datetime(b[\"Created At\"],errors=\"coerce\")\n"
          ]
        },
        {
          "output_type": "execute_result",
          "data": {
            "text/plain": [
              "   Retweet Count  Mention Count  Follower Count  Verified  Bot Label  \\\n",
              "0             85              1            2353     False          1   \n",
              "1             55              5            9617      True          0   \n",
              "2              6              2            4363      True          0   \n",
              "\n",
              "           Created At datecount  \n",
              "0 2020-05-11 15:29:50 1146 days  \n",
              "1 2022-11-26 05:18:10  217 days  \n",
              "2 2022-08-08 03:16:54  327 days  "
            ],
            "text/html": [
              "\n",
              "  <div id=\"df-272a5cde-8613-4764-8e88-823e833df47f\">\n",
              "    <div class=\"colab-df-container\">\n",
              "      <div>\n",
              "<style scoped>\n",
              "    .dataframe tbody tr th:only-of-type {\n",
              "        vertical-align: middle;\n",
              "    }\n",
              "\n",
              "    .dataframe tbody tr th {\n",
              "        vertical-align: top;\n",
              "    }\n",
              "\n",
              "    .dataframe thead th {\n",
              "        text-align: right;\n",
              "    }\n",
              "</style>\n",
              "<table border=\"1\" class=\"dataframe\">\n",
              "  <thead>\n",
              "    <tr style=\"text-align: right;\">\n",
              "      <th></th>\n",
              "      <th>Retweet Count</th>\n",
              "      <th>Mention Count</th>\n",
              "      <th>Follower Count</th>\n",
              "      <th>Verified</th>\n",
              "      <th>Bot Label</th>\n",
              "      <th>Created At</th>\n",
              "      <th>datecount</th>\n",
              "    </tr>\n",
              "  </thead>\n",
              "  <tbody>\n",
              "    <tr>\n",
              "      <th>0</th>\n",
              "      <td>85</td>\n",
              "      <td>1</td>\n",
              "      <td>2353</td>\n",
              "      <td>False</td>\n",
              "      <td>1</td>\n",
              "      <td>2020-05-11 15:29:50</td>\n",
              "      <td>1146 days</td>\n",
              "    </tr>\n",
              "    <tr>\n",
              "      <th>1</th>\n",
              "      <td>55</td>\n",
              "      <td>5</td>\n",
              "      <td>9617</td>\n",
              "      <td>True</td>\n",
              "      <td>0</td>\n",
              "      <td>2022-11-26 05:18:10</td>\n",
              "      <td>217 days</td>\n",
              "    </tr>\n",
              "    <tr>\n",
              "      <th>2</th>\n",
              "      <td>6</td>\n",
              "      <td>2</td>\n",
              "      <td>4363</td>\n",
              "      <td>True</td>\n",
              "      <td>0</td>\n",
              "      <td>2022-08-08 03:16:54</td>\n",
              "      <td>327 days</td>\n",
              "    </tr>\n",
              "  </tbody>\n",
              "</table>\n",
              "</div>\n",
              "      <button class=\"colab-df-convert\" onclick=\"convertToInteractive('df-272a5cde-8613-4764-8e88-823e833df47f')\"\n",
              "              title=\"Convert this dataframe to an interactive table.\"\n",
              "              style=\"display:none;\">\n",
              "        \n",
              "  <svg xmlns=\"http://www.w3.org/2000/svg\" height=\"24px\"viewBox=\"0 0 24 24\"\n",
              "       width=\"24px\">\n",
              "    <path d=\"M0 0h24v24H0V0z\" fill=\"none\"/>\n",
              "    <path d=\"M18.56 5.44l.94 2.06.94-2.06 2.06-.94-2.06-.94-.94-2.06-.94 2.06-2.06.94zm-11 1L8.5 8.5l.94-2.06 2.06-.94-2.06-.94L8.5 2.5l-.94 2.06-2.06.94zm10 10l.94 2.06.94-2.06 2.06-.94-2.06-.94-.94-2.06-.94 2.06-2.06.94z\"/><path d=\"M17.41 7.96l-1.37-1.37c-.4-.4-.92-.59-1.43-.59-.52 0-1.04.2-1.43.59L10.3 9.45l-7.72 7.72c-.78.78-.78 2.05 0 2.83L4 21.41c.39.39.9.59 1.41.59.51 0 1.02-.2 1.41-.59l7.78-7.78 2.81-2.81c.8-.78.8-2.07 0-2.86zM5.41 20L4 18.59l7.72-7.72 1.47 1.35L5.41 20z\"/>\n",
              "  </svg>\n",
              "      </button>\n",
              "      \n",
              "  <style>\n",
              "    .colab-df-container {\n",
              "      display:flex;\n",
              "      flex-wrap:wrap;\n",
              "      gap: 12px;\n",
              "    }\n",
              "\n",
              "    .colab-df-convert {\n",
              "      background-color: #E8F0FE;\n",
              "      border: none;\n",
              "      border-radius: 50%;\n",
              "      cursor: pointer;\n",
              "      display: none;\n",
              "      fill: #1967D2;\n",
              "      height: 32px;\n",
              "      padding: 0 0 0 0;\n",
              "      width: 32px;\n",
              "    }\n",
              "\n",
              "    .colab-df-convert:hover {\n",
              "      background-color: #E2EBFA;\n",
              "      box-shadow: 0px 1px 2px rgba(60, 64, 67, 0.3), 0px 1px 3px 1px rgba(60, 64, 67, 0.15);\n",
              "      fill: #174EA6;\n",
              "    }\n",
              "\n",
              "    [theme=dark] .colab-df-convert {\n",
              "      background-color: #3B4455;\n",
              "      fill: #D2E3FC;\n",
              "    }\n",
              "\n",
              "    [theme=dark] .colab-df-convert:hover {\n",
              "      background-color: #434B5C;\n",
              "      box-shadow: 0px 1px 3px 1px rgba(0, 0, 0, 0.15);\n",
              "      filter: drop-shadow(0px 1px 2px rgba(0, 0, 0, 0.3));\n",
              "      fill: #FFFFFF;\n",
              "    }\n",
              "  </style>\n",
              "\n",
              "      <script>\n",
              "        const buttonEl =\n",
              "          document.querySelector('#df-272a5cde-8613-4764-8e88-823e833df47f button.colab-df-convert');\n",
              "        buttonEl.style.display =\n",
              "          google.colab.kernel.accessAllowed ? 'block' : 'none';\n",
              "\n",
              "        async function convertToInteractive(key) {\n",
              "          const element = document.querySelector('#df-272a5cde-8613-4764-8e88-823e833df47f');\n",
              "          const dataTable =\n",
              "            await google.colab.kernel.invokeFunction('convertToInteractive',\n",
              "                                                     [key], {});\n",
              "          if (!dataTable) return;\n",
              "\n",
              "          const docLinkHtml = 'Like what you see? Visit the ' +\n",
              "            '<a target=\"_blank\" href=https://colab.research.google.com/notebooks/data_table.ipynb>data table notebook</a>'\n",
              "            + ' to learn more about interactive tables.';\n",
              "          element.innerHTML = '';\n",
              "          dataTable['output_type'] = 'display_data';\n",
              "          await google.colab.output.renderOutput(dataTable, element);\n",
              "          const docLink = document.createElement('div');\n",
              "          docLink.innerHTML = docLinkHtml;\n",
              "          element.appendChild(docLink);\n",
              "        }\n",
              "      </script>\n",
              "    </div>\n",
              "  </div>\n",
              "  "
            ]
          },
          "metadata": {},
          "execution_count": 28
        }
      ]
    },
    {
      "cell_type": "markdown",
      "source": [
        "Manipularemos los datos, forzandolos a ser una parte no supervisados"
      ],
      "metadata": {
        "id": "Pj-vS1kOBfld"
      }
    },
    {
      "cell_type": "code",
      "source": [
        "num_rows_to_null = round(len(b)*.2)\n",
        "\n",
        "# Get random indices of rows to set as null\n",
        "random_indices = np.random.choice(b.index, size=num_rows_to_null, replace=False)\n",
        "\n",
        "b[\"bot label\"]=b[\"Bot Label\"]\n",
        "\n",
        "# Set the selected rows as null values\n",
        "b.loc[random_indices, 'bot label'] = np.nan"
      ],
      "metadata": {
        "id": "sT36RXxaR9EZ"
      },
      "execution_count": 29,
      "outputs": []
    },
    {
      "cell_type": "code",
      "source": [
        "b.datecount=b['datecount'].dt.days.astype(int)\n",
        "b.drop(\"Created At\",axis=1,inplace=True)\n",
        "b.head(2)"
      ],
      "metadata": {
        "colab": {
          "base_uri": "https://localhost:8080/",
          "height": 112
        },
        "id": "vUs0pX1aCEyy",
        "outputId": "56c8e71b-d907-47a0-e926-5091ea06557f"
      },
      "execution_count": 30,
      "outputs": [
        {
          "output_type": "execute_result",
          "data": {
            "text/plain": [
              "   Retweet Count  Mention Count  Follower Count  Verified  Bot Label  \\\n",
              "0             85              1            2353     False          1   \n",
              "1             55              5            9617      True          0   \n",
              "\n",
              "   datecount  bot label  \n",
              "0       1146        NaN  \n",
              "1        217        0.0  "
            ],
            "text/html": [
              "\n",
              "  <div id=\"df-31f01e9f-c873-463b-b518-81416511d049\">\n",
              "    <div class=\"colab-df-container\">\n",
              "      <div>\n",
              "<style scoped>\n",
              "    .dataframe tbody tr th:only-of-type {\n",
              "        vertical-align: middle;\n",
              "    }\n",
              "\n",
              "    .dataframe tbody tr th {\n",
              "        vertical-align: top;\n",
              "    }\n",
              "\n",
              "    .dataframe thead th {\n",
              "        text-align: right;\n",
              "    }\n",
              "</style>\n",
              "<table border=\"1\" class=\"dataframe\">\n",
              "  <thead>\n",
              "    <tr style=\"text-align: right;\">\n",
              "      <th></th>\n",
              "      <th>Retweet Count</th>\n",
              "      <th>Mention Count</th>\n",
              "      <th>Follower Count</th>\n",
              "      <th>Verified</th>\n",
              "      <th>Bot Label</th>\n",
              "      <th>datecount</th>\n",
              "      <th>bot label</th>\n",
              "    </tr>\n",
              "  </thead>\n",
              "  <tbody>\n",
              "    <tr>\n",
              "      <th>0</th>\n",
              "      <td>85</td>\n",
              "      <td>1</td>\n",
              "      <td>2353</td>\n",
              "      <td>False</td>\n",
              "      <td>1</td>\n",
              "      <td>1146</td>\n",
              "      <td>NaN</td>\n",
              "    </tr>\n",
              "    <tr>\n",
              "      <th>1</th>\n",
              "      <td>55</td>\n",
              "      <td>5</td>\n",
              "      <td>9617</td>\n",
              "      <td>True</td>\n",
              "      <td>0</td>\n",
              "      <td>217</td>\n",
              "      <td>0.0</td>\n",
              "    </tr>\n",
              "  </tbody>\n",
              "</table>\n",
              "</div>\n",
              "      <button class=\"colab-df-convert\" onclick=\"convertToInteractive('df-31f01e9f-c873-463b-b518-81416511d049')\"\n",
              "              title=\"Convert this dataframe to an interactive table.\"\n",
              "              style=\"display:none;\">\n",
              "        \n",
              "  <svg xmlns=\"http://www.w3.org/2000/svg\" height=\"24px\"viewBox=\"0 0 24 24\"\n",
              "       width=\"24px\">\n",
              "    <path d=\"M0 0h24v24H0V0z\" fill=\"none\"/>\n",
              "    <path d=\"M18.56 5.44l.94 2.06.94-2.06 2.06-.94-2.06-.94-.94-2.06-.94 2.06-2.06.94zm-11 1L8.5 8.5l.94-2.06 2.06-.94-2.06-.94L8.5 2.5l-.94 2.06-2.06.94zm10 10l.94 2.06.94-2.06 2.06-.94-2.06-.94-.94-2.06-.94 2.06-2.06.94z\"/><path d=\"M17.41 7.96l-1.37-1.37c-.4-.4-.92-.59-1.43-.59-.52 0-1.04.2-1.43.59L10.3 9.45l-7.72 7.72c-.78.78-.78 2.05 0 2.83L4 21.41c.39.39.9.59 1.41.59.51 0 1.02-.2 1.41-.59l7.78-7.78 2.81-2.81c.8-.78.8-2.07 0-2.86zM5.41 20L4 18.59l7.72-7.72 1.47 1.35L5.41 20z\"/>\n",
              "  </svg>\n",
              "      </button>\n",
              "      \n",
              "  <style>\n",
              "    .colab-df-container {\n",
              "      display:flex;\n",
              "      flex-wrap:wrap;\n",
              "      gap: 12px;\n",
              "    }\n",
              "\n",
              "    .colab-df-convert {\n",
              "      background-color: #E8F0FE;\n",
              "      border: none;\n",
              "      border-radius: 50%;\n",
              "      cursor: pointer;\n",
              "      display: none;\n",
              "      fill: #1967D2;\n",
              "      height: 32px;\n",
              "      padding: 0 0 0 0;\n",
              "      width: 32px;\n",
              "    }\n",
              "\n",
              "    .colab-df-convert:hover {\n",
              "      background-color: #E2EBFA;\n",
              "      box-shadow: 0px 1px 2px rgba(60, 64, 67, 0.3), 0px 1px 3px 1px rgba(60, 64, 67, 0.15);\n",
              "      fill: #174EA6;\n",
              "    }\n",
              "\n",
              "    [theme=dark] .colab-df-convert {\n",
              "      background-color: #3B4455;\n",
              "      fill: #D2E3FC;\n",
              "    }\n",
              "\n",
              "    [theme=dark] .colab-df-convert:hover {\n",
              "      background-color: #434B5C;\n",
              "      box-shadow: 0px 1px 3px 1px rgba(0, 0, 0, 0.15);\n",
              "      filter: drop-shadow(0px 1px 2px rgba(0, 0, 0, 0.3));\n",
              "      fill: #FFFFFF;\n",
              "    }\n",
              "  </style>\n",
              "\n",
              "      <script>\n",
              "        const buttonEl =\n",
              "          document.querySelector('#df-31f01e9f-c873-463b-b518-81416511d049 button.colab-df-convert');\n",
              "        buttonEl.style.display =\n",
              "          google.colab.kernel.accessAllowed ? 'block' : 'none';\n",
              "\n",
              "        async function convertToInteractive(key) {\n",
              "          const element = document.querySelector('#df-31f01e9f-c873-463b-b518-81416511d049');\n",
              "          const dataTable =\n",
              "            await google.colab.kernel.invokeFunction('convertToInteractive',\n",
              "                                                     [key], {});\n",
              "          if (!dataTable) return;\n",
              "\n",
              "          const docLinkHtml = 'Like what you see? Visit the ' +\n",
              "            '<a target=\"_blank\" href=https://colab.research.google.com/notebooks/data_table.ipynb>data table notebook</a>'\n",
              "            + ' to learn more about interactive tables.';\n",
              "          element.innerHTML = '';\n",
              "          dataTable['output_type'] = 'display_data';\n",
              "          await google.colab.output.renderOutput(dataTable, element);\n",
              "          const docLink = document.createElement('div');\n",
              "          docLink.innerHTML = docLinkHtml;\n",
              "          element.appendChild(docLink);\n",
              "        }\n",
              "      </script>\n",
              "    </div>\n",
              "  </div>\n",
              "  "
            ]
          },
          "metadata": {},
          "execution_count": 30
        }
      ]
    },
    {
      "cell_type": "code",
      "source": [
        "print(b.head(2))"
      ],
      "metadata": {
        "colab": {
          "base_uri": "https://localhost:8080/"
        },
        "id": "3aMoE25aEKI0",
        "outputId": "344e5810-cbad-459a-8f36-129c0f89801d"
      },
      "execution_count": 31,
      "outputs": [
        {
          "output_type": "stream",
          "name": "stdout",
          "text": [
            "   Retweet Count  Mention Count  Follower Count  Verified  Bot Label  \\\n",
            "0             85              1            2353     False          1   \n",
            "1             55              5            9617      True          0   \n",
            "\n",
            "   datecount  bot label  \n",
            "0       1146        NaN  \n",
            "1        217        0.0  \n"
          ]
        }
      ]
    },
    {
      "cell_type": "code",
      "source": [
        "from sklearn.model_selection import train_test_split\n",
        "from sklearn.svm import SVC\n",
        "from sklearn.cluster import KMeans\n",
        "\n",
        "\n",
        "# Split the data into labeled and unlabeled examples based on Bot Label column\n",
        "labeled_df = b.dropna(subset=['bot label'])\n",
        "unlabeled_df = b[b['bot label'].isnull()]\n",
        "\n",
        "# Select the features and target variable\n",
        "features = ['Retweet Count', 'Mention Count', 'Follower Count', 'Verified', 'datecount']\n",
        "target = 'bot label'\n",
        "\n",
        "# Split the labeled data into train and test sets\n",
        "X_train, X_test, y_train, y_test = train_test_split(labeled_df[features], labeled_df[target], test_size=0.2, random_state=42)\n",
        "\n",
        "# Train a supervised model on the labeled data\n",
        "model = SVC()\n",
        "model.fit(X_train, y_train)\n",
        "\n",
        "# Predict the labels for the unlabeled data  (pseudo)\n",
        "unlabeled_df['bot label'] = model.predict(unlabeled_df[features])\n",
        "\n"
      ],
      "metadata": {
        "colab": {
          "base_uri": "https://localhost:8080/"
        },
        "id": "rTfWJJZHB295",
        "outputId": "a8633532-d9ca-4782-b3f3-339e8d9cdd80"
      },
      "execution_count": 33,
      "outputs": [
        {
          "output_type": "stream",
          "name": "stderr",
          "text": [
            "<ipython-input-33-51431c97d862>:22: SettingWithCopyWarning: \n",
            "A value is trying to be set on a copy of a slice from a DataFrame.\n",
            "Try using .loc[row_indexer,col_indexer] = value instead\n",
            "\n",
            "See the caveats in the documentation: https://pandas.pydata.org/pandas-docs/stable/user_guide/indexing.html#returning-a-view-versus-a-copy\n",
            "  unlabeled_df['bot label'] = model.predict(unlabeled_df[features])\n"
          ]
        }
      ]
    },
    {
      "cell_type": "code",
      "source": [
        "# Accuracy of the model over the labeled data:\n",
        "\n",
        "from sklearn.metrics import accuracy_score\n",
        "\n",
        "# Make predictions on the labeled data\n",
        "y_test_pred = model.predict(X_test)\n",
        "\n",
        "# Calculate the accuracy of the SVM model on the labeled data\n",
        "accuracy = accuracy_score(y_test, y_test_pred)\n",
        "\n",
        "print(\"Accuracy of the SVM model on labeled data:\", accuracy) #bad accuracy\n"
      ],
      "metadata": {
        "colab": {
          "base_uri": "https://localhost:8080/"
        },
        "id": "K-gpZq08F3aN",
        "outputId": "2bea8ade-f649-481d-a258-ef999807d6d8"
      },
      "execution_count": 34,
      "outputs": [
        {
          "output_type": "stream",
          "name": "stdout",
          "text": [
            "Accuracy of the SVM model on labeled data: 0.49575\n"
          ]
        }
      ]
    },
    {
      "cell_type": "code",
      "source": [
        "from sklearn.metrics import confusion_matrix\n",
        "confusion_matrix = confusion_matrix(y_test, y_test_pred)\n",
        "\n",
        "print(\"Confusion Matrix:\")\n",
        "print(confusion_matrix)        #umbalanced"
      ],
      "metadata": {
        "colab": {
          "base_uri": "https://localhost:8080/"
        },
        "id": "36t4Z3gYGvuI",
        "outputId": "e09f716c-1723-43c6-fb7a-240d2373cd2d"
      },
      "execution_count": 35,
      "outputs": [
        {
          "output_type": "stream",
          "name": "stdout",
          "text": [
            "Confusion Matrix:\n",
            "[[ 959 3053]\n",
            " [ 981 3007]]\n"
          ]
        }
      ]
    },
    {
      "cell_type": "code",
      "source": [
        "unlabeled_df[\"bot label\"].value_counts()"
      ],
      "metadata": {
        "colab": {
          "base_uri": "https://localhost:8080/"
        },
        "id": "fXrmy33OHNkh",
        "outputId": "c58bf29a-f6c4-45ea-d28f-6dbac0e7bdf0"
      },
      "execution_count": 36,
      "outputs": [
        {
          "output_type": "execute_result",
          "data": {
            "text/plain": [
              "1.0    7547\n",
              "0.0    2453\n",
              "Name: bot label, dtype: int64"
            ]
          },
          "metadata": {},
          "execution_count": 36
        }
      ]
    },
    {
      "cell_type": "code",
      "source": [
        "# Combine the labeled and pseudo-labeled data\n",
        "combined_df = pd.concat([labeled_df, unlabeled_df])\n",
        "\n",
        "# Train a clustering model on the combined data\n",
        "kmeans = KMeans(n_clusters=2, random_state=42)\n",
        "kmeans.fit(combined_df[features])\n",
        "\n",
        "# Assign labels to the unlabeled data based on clustering results\n",
        "unlabeled_df['Bot Label -algorithms'] = kmeans.predict(unlabeled_df[features])\n",
        "\n",
        "# Combine the labeled and pseudo-labeled data again\n",
        "final_df = pd.concat([labeled_df, unlabeled_df])"
      ],
      "metadata": {
        "id": "HBAj35ooFVtb"
      },
      "execution_count": null,
      "outputs": []
    },
    {
      "cell_type": "code",
      "source": [
        "unlabeled_df"
      ],
      "metadata": {
        "id": "dq2wBRIUKs_2"
      },
      "execution_count": null,
      "outputs": []
    },
    {
      "cell_type": "code",
      "source": [
        "from sklearn.metrics import confusion_matrix\n",
        "\n",
        "cmnosupervisado=confusion_matrix(unlabeled_df[\"Bot Label\"].values, unlabeled_df[\"Bot Label -algorithms\"].values)\n",
        "print(cmnosupervisado)\n",
        "print(accuracy_score(unlabeled_df[\"Bot Label\"].values, unlabeled_df[\"Bot Label -algorithms\"].values))"
      ],
      "metadata": {
        "colab": {
          "base_uri": "https://localhost:8080/"
        },
        "id": "31UfXyrCKjoX",
        "outputId": "0f07fbe9-386b-4153-f967-ee4f1a9fa7df"
      },
      "execution_count": 52,
      "outputs": [
        {
          "output_type": "stream",
          "name": "stdout",
          "text": [
            "[[2481 2527]\n",
            " [2490 2502]]\n",
            "0.4983\n"
          ]
        }
      ]
    },
    {
      "cell_type": "code",
      "source": [
        "#predict last set of data with supervised:\n",
        "svmdf=final_df[final_df[\"Bot Label -algorithms\"].isna()]\n",
        "svmdf['Bot Label -algorithms'] = model.predict(svmdf[features])\n",
        "svmdf"
      ],
      "metadata": {
        "colab": {
          "base_uri": "https://localhost:8080/",
          "height": 528
        },
        "id": "yQyG3uHTHjAa",
        "outputId": "a4894a37-5c2e-4876-a223-25a2a33eb36c"
      },
      "execution_count": 44,
      "outputs": [
        {
          "output_type": "stream",
          "name": "stderr",
          "text": [
            "<ipython-input-44-43795f05c7c1>:3: SettingWithCopyWarning: \n",
            "A value is trying to be set on a copy of a slice from a DataFrame.\n",
            "Try using .loc[row_indexer,col_indexer] = value instead\n",
            "\n",
            "See the caveats in the documentation: https://pandas.pydata.org/pandas-docs/stable/user_guide/indexing.html#returning-a-view-versus-a-copy\n",
            "  svmdf['Bot Label -algorithms'] = model.predict(svmdf[features])\n"
          ]
        },
        {
          "output_type": "execute_result",
          "data": {
            "text/plain": [
              "       Retweet Count  Mention Count  Follower Count  Verified  Bot Label  \\\n",
              "1                 55              5            9617      True          0   \n",
              "2                  6              2            4363      True          0   \n",
              "3                 54              5            2242      True          1   \n",
              "4                 26              3            8438     False          1   \n",
              "5                 41              4            3792      True          1   \n",
              "...              ...            ...             ...       ...        ...   \n",
              "49995             64              0            9911      True          1   \n",
              "49996             18              5            9900     False          1   \n",
              "49997             43              3            6313      True          1   \n",
              "49998             45              1            6343     False          0   \n",
              "49999             91              4            4006     False          0   \n",
              "\n",
              "       datecount  bot label  Bot Label -algorithms  \n",
              "1            217        0.0                    1.0  \n",
              "2            327        0.0                    0.0  \n",
              "3            686        1.0                    1.0  \n",
              "4           1174        1.0                    1.0  \n",
              "5             55        1.0                    0.0  \n",
              "...          ...        ...                    ...  \n",
              "49995         72        1.0                    1.0  \n",
              "49996        256        1.0                    1.0  \n",
              "49997       1088        1.0                    1.0  \n",
              "49998        466        0.0                    0.0  \n",
              "49999        210        0.0                    0.0  \n",
              "\n",
              "[40000 rows x 8 columns]"
            ],
            "text/html": [
              "\n",
              "  <div id=\"df-ddf03612-422e-48c9-99fe-4e0d219a9412\">\n",
              "    <div class=\"colab-df-container\">\n",
              "      <div>\n",
              "<style scoped>\n",
              "    .dataframe tbody tr th:only-of-type {\n",
              "        vertical-align: middle;\n",
              "    }\n",
              "\n",
              "    .dataframe tbody tr th {\n",
              "        vertical-align: top;\n",
              "    }\n",
              "\n",
              "    .dataframe thead th {\n",
              "        text-align: right;\n",
              "    }\n",
              "</style>\n",
              "<table border=\"1\" class=\"dataframe\">\n",
              "  <thead>\n",
              "    <tr style=\"text-align: right;\">\n",
              "      <th></th>\n",
              "      <th>Retweet Count</th>\n",
              "      <th>Mention Count</th>\n",
              "      <th>Follower Count</th>\n",
              "      <th>Verified</th>\n",
              "      <th>Bot Label</th>\n",
              "      <th>datecount</th>\n",
              "      <th>bot label</th>\n",
              "      <th>Bot Label -algorithms</th>\n",
              "    </tr>\n",
              "  </thead>\n",
              "  <tbody>\n",
              "    <tr>\n",
              "      <th>1</th>\n",
              "      <td>55</td>\n",
              "      <td>5</td>\n",
              "      <td>9617</td>\n",
              "      <td>True</td>\n",
              "      <td>0</td>\n",
              "      <td>217</td>\n",
              "      <td>0.0</td>\n",
              "      <td>1.0</td>\n",
              "    </tr>\n",
              "    <tr>\n",
              "      <th>2</th>\n",
              "      <td>6</td>\n",
              "      <td>2</td>\n",
              "      <td>4363</td>\n",
              "      <td>True</td>\n",
              "      <td>0</td>\n",
              "      <td>327</td>\n",
              "      <td>0.0</td>\n",
              "      <td>0.0</td>\n",
              "    </tr>\n",
              "    <tr>\n",
              "      <th>3</th>\n",
              "      <td>54</td>\n",
              "      <td>5</td>\n",
              "      <td>2242</td>\n",
              "      <td>True</td>\n",
              "      <td>1</td>\n",
              "      <td>686</td>\n",
              "      <td>1.0</td>\n",
              "      <td>1.0</td>\n",
              "    </tr>\n",
              "    <tr>\n",
              "      <th>4</th>\n",
              "      <td>26</td>\n",
              "      <td>3</td>\n",
              "      <td>8438</td>\n",
              "      <td>False</td>\n",
              "      <td>1</td>\n",
              "      <td>1174</td>\n",
              "      <td>1.0</td>\n",
              "      <td>1.0</td>\n",
              "    </tr>\n",
              "    <tr>\n",
              "      <th>5</th>\n",
              "      <td>41</td>\n",
              "      <td>4</td>\n",
              "      <td>3792</td>\n",
              "      <td>True</td>\n",
              "      <td>1</td>\n",
              "      <td>55</td>\n",
              "      <td>1.0</td>\n",
              "      <td>0.0</td>\n",
              "    </tr>\n",
              "    <tr>\n",
              "      <th>...</th>\n",
              "      <td>...</td>\n",
              "      <td>...</td>\n",
              "      <td>...</td>\n",
              "      <td>...</td>\n",
              "      <td>...</td>\n",
              "      <td>...</td>\n",
              "      <td>...</td>\n",
              "      <td>...</td>\n",
              "    </tr>\n",
              "    <tr>\n",
              "      <th>49995</th>\n",
              "      <td>64</td>\n",
              "      <td>0</td>\n",
              "      <td>9911</td>\n",
              "      <td>True</td>\n",
              "      <td>1</td>\n",
              "      <td>72</td>\n",
              "      <td>1.0</td>\n",
              "      <td>1.0</td>\n",
              "    </tr>\n",
              "    <tr>\n",
              "      <th>49996</th>\n",
              "      <td>18</td>\n",
              "      <td>5</td>\n",
              "      <td>9900</td>\n",
              "      <td>False</td>\n",
              "      <td>1</td>\n",
              "      <td>256</td>\n",
              "      <td>1.0</td>\n",
              "      <td>1.0</td>\n",
              "    </tr>\n",
              "    <tr>\n",
              "      <th>49997</th>\n",
              "      <td>43</td>\n",
              "      <td>3</td>\n",
              "      <td>6313</td>\n",
              "      <td>True</td>\n",
              "      <td>1</td>\n",
              "      <td>1088</td>\n",
              "      <td>1.0</td>\n",
              "      <td>1.0</td>\n",
              "    </tr>\n",
              "    <tr>\n",
              "      <th>49998</th>\n",
              "      <td>45</td>\n",
              "      <td>1</td>\n",
              "      <td>6343</td>\n",
              "      <td>False</td>\n",
              "      <td>0</td>\n",
              "      <td>466</td>\n",
              "      <td>0.0</td>\n",
              "      <td>0.0</td>\n",
              "    </tr>\n",
              "    <tr>\n",
              "      <th>49999</th>\n",
              "      <td>91</td>\n",
              "      <td>4</td>\n",
              "      <td>4006</td>\n",
              "      <td>False</td>\n",
              "      <td>0</td>\n",
              "      <td>210</td>\n",
              "      <td>0.0</td>\n",
              "      <td>0.0</td>\n",
              "    </tr>\n",
              "  </tbody>\n",
              "</table>\n",
              "<p>40000 rows × 8 columns</p>\n",
              "</div>\n",
              "      <button class=\"colab-df-convert\" onclick=\"convertToInteractive('df-ddf03612-422e-48c9-99fe-4e0d219a9412')\"\n",
              "              title=\"Convert this dataframe to an interactive table.\"\n",
              "              style=\"display:none;\">\n",
              "        \n",
              "  <svg xmlns=\"http://www.w3.org/2000/svg\" height=\"24px\"viewBox=\"0 0 24 24\"\n",
              "       width=\"24px\">\n",
              "    <path d=\"M0 0h24v24H0V0z\" fill=\"none\"/>\n",
              "    <path d=\"M18.56 5.44l.94 2.06.94-2.06 2.06-.94-2.06-.94-.94-2.06-.94 2.06-2.06.94zm-11 1L8.5 8.5l.94-2.06 2.06-.94-2.06-.94L8.5 2.5l-.94 2.06-2.06.94zm10 10l.94 2.06.94-2.06 2.06-.94-2.06-.94-.94-2.06-.94 2.06-2.06.94z\"/><path d=\"M17.41 7.96l-1.37-1.37c-.4-.4-.92-.59-1.43-.59-.52 0-1.04.2-1.43.59L10.3 9.45l-7.72 7.72c-.78.78-.78 2.05 0 2.83L4 21.41c.39.39.9.59 1.41.59.51 0 1.02-.2 1.41-.59l7.78-7.78 2.81-2.81c.8-.78.8-2.07 0-2.86zM5.41 20L4 18.59l7.72-7.72 1.47 1.35L5.41 20z\"/>\n",
              "  </svg>\n",
              "      </button>\n",
              "      \n",
              "  <style>\n",
              "    .colab-df-container {\n",
              "      display:flex;\n",
              "      flex-wrap:wrap;\n",
              "      gap: 12px;\n",
              "    }\n",
              "\n",
              "    .colab-df-convert {\n",
              "      background-color: #E8F0FE;\n",
              "      border: none;\n",
              "      border-radius: 50%;\n",
              "      cursor: pointer;\n",
              "      display: none;\n",
              "      fill: #1967D2;\n",
              "      height: 32px;\n",
              "      padding: 0 0 0 0;\n",
              "      width: 32px;\n",
              "    }\n",
              "\n",
              "    .colab-df-convert:hover {\n",
              "      background-color: #E2EBFA;\n",
              "      box-shadow: 0px 1px 2px rgba(60, 64, 67, 0.3), 0px 1px 3px 1px rgba(60, 64, 67, 0.15);\n",
              "      fill: #174EA6;\n",
              "    }\n",
              "\n",
              "    [theme=dark] .colab-df-convert {\n",
              "      background-color: #3B4455;\n",
              "      fill: #D2E3FC;\n",
              "    }\n",
              "\n",
              "    [theme=dark] .colab-df-convert:hover {\n",
              "      background-color: #434B5C;\n",
              "      box-shadow: 0px 1px 3px 1px rgba(0, 0, 0, 0.15);\n",
              "      filter: drop-shadow(0px 1px 2px rgba(0, 0, 0, 0.3));\n",
              "      fill: #FFFFFF;\n",
              "    }\n",
              "  </style>\n",
              "\n",
              "      <script>\n",
              "        const buttonEl =\n",
              "          document.querySelector('#df-ddf03612-422e-48c9-99fe-4e0d219a9412 button.colab-df-convert');\n",
              "        buttonEl.style.display =\n",
              "          google.colab.kernel.accessAllowed ? 'block' : 'none';\n",
              "\n",
              "        async function convertToInteractive(key) {\n",
              "          const element = document.querySelector('#df-ddf03612-422e-48c9-99fe-4e0d219a9412');\n",
              "          const dataTable =\n",
              "            await google.colab.kernel.invokeFunction('convertToInteractive',\n",
              "                                                     [key], {});\n",
              "          if (!dataTable) return;\n",
              "\n",
              "          const docLinkHtml = 'Like what you see? Visit the ' +\n",
              "            '<a target=\"_blank\" href=https://colab.research.google.com/notebooks/data_table.ipynb>data table notebook</a>'\n",
              "            + ' to learn more about interactive tables.';\n",
              "          element.innerHTML = '';\n",
              "          dataTable['output_type'] = 'display_data';\n",
              "          await google.colab.output.renderOutput(dataTable, element);\n",
              "          const docLink = document.createElement('div');\n",
              "          docLink.innerHTML = docLinkHtml;\n",
              "          element.appendChild(docLink);\n",
              "        }\n",
              "      </script>\n",
              "    </div>\n",
              "  </div>\n",
              "  "
            ]
          },
          "metadata": {},
          "execution_count": 44
        }
      ]
    },
    {
      "cell_type": "code",
      "source": [
        "final_df.loc[final_df[\"Bot Label -algorithms\"].isna(),\"Bot Label -algorithms\"]=svmdf[\"Bot Label -algorithms\"]"
      ],
      "metadata": {
        "id": "8ID2gqOmJJZ3"
      },
      "execution_count": 45,
      "outputs": []
    },
    {
      "cell_type": "code",
      "source": [
        "from sklearn.metrics import confusion_matrix\n",
        "\n",
        "fconfusion_matrix = confusion_matrix(final_df[\"Bot Label\"].values, final_df[\"Bot Label -algorithms\"].values)\n",
        "\n",
        "print(\"Confusion Matrix:\")\n",
        "print(fconfusion_matrix)"
      ],
      "metadata": {
        "colab": {
          "base_uri": "https://localhost:8080/"
        },
        "id": "M0YNfr_DJHiW",
        "outputId": "a09f5912-38ee-4932-e613-b9efb2ee8764"
      },
      "execution_count": 48,
      "outputs": [
        {
          "output_type": "stream",
          "name": "stdout",
          "text": [
            "Confusion Matrix:\n",
            "[[ 7395 17587]\n",
            " [ 7160 17858]]\n"
          ]
        }
      ]
    },
    {
      "cell_type": "code",
      "source": [
        "final_df[\"Bot Label\"].value_counts()"
      ],
      "metadata": {
        "colab": {
          "base_uri": "https://localhost:8080/"
        },
        "id": "BnKZd3SNKEd0",
        "outputId": "8560e17e-13cf-4517-b11b-93778daaaf75"
      },
      "execution_count": 49,
      "outputs": [
        {
          "output_type": "execute_result",
          "data": {
            "text/plain": [
              "1    25018\n",
              "0    24982\n",
              "Name: Bot Label, dtype: int64"
            ]
          },
          "metadata": {},
          "execution_count": 49
        }
      ]
    },
    {
      "cell_type": "code",
      "source": [
        "# Calculate the accuracy of the SVM model on the labeled data\n",
        "accuracy = accuracy_score(final_df[\"Bot Label\"].values, final_df[\"Bot Label -algorithms\"].values)\n",
        "\n",
        "print(\"Accuracy of the SVM model on labeled data:\", accuracy) #bad accuracy"
      ],
      "metadata": {
        "colab": {
          "base_uri": "https://localhost:8080/"
        },
        "id": "ABQSL6gRJ93E",
        "outputId": "427aa41b-7607-43f3-8791-098ac9e2e11f"
      },
      "execution_count": 50,
      "outputs": [
        {
          "output_type": "stream",
          "name": "stdout",
          "text": [
            "Accuracy of the SVM model on labeled data: 0.50506\n"
          ]
        }
      ]
    },
    {
      "cell_type": "markdown",
      "source": [
        "El resultado final de combinar ambas metodologías de unsupervised learning con Kmeand y supervised learning con SVM (para realizar la parte de no supervisado se sustituyeron algunos valores reales de la variable Bot Label con nulos), fue muy pobre. En sus respectivas secciones de predicción, ambas metodologías resultaron con accuracies de alrededor del 49%-50%, muy bajo a decir verdad. Obviamente al juntarlas en la base total, el resultado fue el mismo. Esto puede ser debido a que tal vez las variables numéricas por si solas no sirvieron de mucho para las predicciones de ambas técnicas."
      ],
      "metadata": {
        "id": "xyb-qCkfKS6a"
      }
    },
    {
      "cell_type": "code",
      "source": [],
      "metadata": {
        "id": "M3rLrj4WLaBa"
      },
      "execution_count": null,
      "outputs": []
    }
  ]
}