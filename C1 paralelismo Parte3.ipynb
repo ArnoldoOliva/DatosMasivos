{
 "cells": [
  {
   "cell_type": "code",
   "execution_count": 1,
   "metadata": {},
   "outputs": [],
   "source": [
    "import multiprocessing as mp\n",
    "import numpy as np\n",
    "import dask.array as da\n",
    "import pandas as pd\n",
    "pd.set_option(\"display.max_columns\",None)\n",
    "path=\"C:/Users/HUGO/Desktop/Maestria en CIENCIA DE DATOS UANL/DatosMasivos/\""
   ]
  },
  {
   "cell_type": "markdown",
   "metadata": {},
   "source": [
    "## Parte Extra:\n"
   ]
  },
  {
   "cell_type": "code",
   "execution_count": 2,
   "metadata": {},
   "outputs": [],
   "source": [
    "import dask.delayed as delayed\n",
    "from dask.diagnostics import ProgressBar\n",
    "import time\n",
    "import random\n"
   ]
  },
  {
   "cell_type": "code",
   "execution_count": 2,
   "metadata": {},
   "outputs": [],
   "source": [
    "path=\"C:/Users/HUGO/Desktop/Maestria en CIENCIA DE DATOS UANL/Aprendizaje automatico/\"\n",
    "loans=pd.read_csv(path+\"loans_dummies.csv\")\n",
    "loans2=pd.read_csv(path+\"loansmodified3.csv\")"
   ]
  },
  {
   "cell_type": "code",
   "execution_count": 3,
   "metadata": {},
   "outputs": [],
   "source": [
    "import dask.dataframe as dd\n",
    "import pandas as pd\n",
    "from sklearn.ensemble import RandomForestClassifier\n",
    "from sklearn.tree import DecisionTreeClassifier\n",
    "from sklearn.linear_model import LogisticRegression\n",
    "from sklearn.pipeline import Pipeline\n",
    "from sklearn.preprocessing import StandardScaler\n",
    "from sklearn.metrics import accuracy_score\n",
    "from sklearn.model_selection import GridSearchCV\n",
    "import time\n"
   ]
  },
  {
   "cell_type": "code",
   "execution_count": 4,
   "metadata": {},
   "outputs": [],
   "source": [
    "loans[\"paid\"]=loans2[\"paid\"]\n"
   ]
  },
  {
   "cell_type": "code",
   "execution_count": null,
   "metadata": {},
   "outputs": [
    {
     "name": "stderr",
     "output_type": "stream",
     "text": [
      "C:\\Users\\HUGO\\anaconda\\envs\\project2\\lib\\site-packages\\sklearn\\linear_model\\_logistic.py:818: ConvergenceWarning: lbfgs failed to converge (status=1):\n",
      "STOP: TOTAL NO. of ITERATIONS REACHED LIMIT.\n",
      "\n",
      "Increase the number of iterations (max_iter) or scale the data as shown in:\n",
      "    https://scikit-learn.org/stable/modules/preprocessing.html\n",
      "Please also refer to the documentation for alternative solver options:\n",
      "    https://scikit-learn.org/stable/modules/linear_model.html#logistic-regression\n",
      "  extra_warning_msg=_LOGISTIC_SOLVER_CONVERGENCE_MSG,\n"
     ]
    }
   ],
   "source": [
    "import numpy as np\n",
    "from sklearn.datasets import make_classification\n",
    "from sklearn.ensemble import VotingClassifier, RandomForestClassifier\n",
    "from sklearn.linear_model import LogisticRegression\n",
    "from sklearn.svm import SVC\n",
    "from sklearn.model_selection import train_test_split\n",
    "from sklearn.metrics import accuracy_score\n",
    "#import dask_ml.joblib\n",
    "from time import time\n",
    "\n",
    "X=loans.drop(\"paid\",axis=1)\n",
    "y=loans.paid\n",
    "\n",
    "# Dividir los datos en conjunto de entrenamiento y prueba\n",
    "X_train, X_test, y_train, y_test = train_test_split(X, y, test_size=0.2, random_state=42)\n",
    "\n",
    "# Crear los clasificadores individuales\n",
    "logreg = LogisticRegression()\n",
    "rf = RandomForestClassifier()\n",
    "svm = SVC()\n",
    "\n",
    "# Crear el modelo de ensamble utilizando VotingClassifier de Scikit-learn\n",
    "ensemble_sklearn = VotingClassifier(\n",
    "    estimators=[('lr', logreg), ('rf', rf), ('svm', svm)],\n",
    "    voting='hard'\n",
    ")\n",
    "\n",
    "# Medir el tiempo de ejecución del modelo de ensamble de Scikit-learn\n",
    "start_time_sklearn = time()\n",
    "ensemble_sklearn.fit(X_train, y_train)\n",
    "end_time_sklearn = time()\n",
    "\n",
    "# Calcular el tiempo de ejecución del modelo de ensamble de Scikit-learn\n",
    "execution_time_sklearn = end_time_sklearn - start_time_sklearn\n",
    "\n",
    "# Predecir utilizando el modelo de ensamble de Scikit-learn\n",
    "y_pred_sklearn = ensemble_sklearn.predict(X_test)\n",
    "\n",
    "# Calcular la precisión del modelo de ensamble de Scikit-learn\n",
    "accuracy_sklearn = accuracy_score(y_test, y_pred_sklearn)\n",
    "\n",
    "# Crear el modelo de ensamble utilizando VotingClassifier de Dask-ML\n",
    "ensemble_dask = VotingClassifier(\n",
    "    estimators=[('lr', logreg), ('rf', rf), ('svm', svm)],\n",
    "    voting='hard'\n",
    ")\n",
    "\n",
    "# Medir el tiempo de ejecución del modelo de ensamble de Dask-ML\n",
    "start_time_dask = time()\n",
    "with dask_ml.joblib.parallel_backend('dask'):\n",
    "    ensemble_dask.fit(X_train, y_train)\n",
    "end_time_dask = time()\n",
    "\n",
    "# Calcular el tiempo de ejecución del modelo de ensamble de Dask-ML\n",
    "execution_time_dask = end_time_dask - start_time_dask\n",
    "\n",
    "# Predecir utilizando el modelo de ensamble de Dask-ML\n",
    "y_pred_dask = ensemble_dask.predict(X_test)\n",
    "\n",
    "# Calcular la precisión del modelo de ensamble de Dask-ML\n",
    "accuracy_dask = accuracy_score(y_test, y_pred_dask)\n",
    "\n",
    "# Comparar los tiempos de ejecución\n",
    "print(\"Tiempo de ejecución del modelo de ensamble con Scikit-learn:\", execution_time_sklearn)\n",
    "print(\"Tiempo de ejecución del modelo de ensamble con Dask-ML:\", execution_time_dask)\n",
    "print(\"Precisión del modelo de ensamble con Scikit-learn:\", accuracy_sklearn)\n",
    "print(\"Precisión del modelo de ensamble con Dask-ML:\", accuracy_dask)\n"
   ]
  },
  {
   "cell_type": "code",
   "execution_count": null,
   "metadata": {},
   "outputs": [],
   "source": []
  }
 ],
 "metadata": {
  "kernelspec": {
   "display_name": "Python 3",
   "language": "python",
   "name": "python3"
  },
  "language_info": {
   "codemirror_mode": {
    "name": "ipython",
    "version": 3
   },
   "file_extension": ".py",
   "mimetype": "text/x-python",
   "name": "python",
   "nbconvert_exporter": "python",
   "pygments_lexer": "ipython3",
   "version": "3.7.9"
  }
 },
 "nbformat": 4,
 "nbformat_minor": 4
}
