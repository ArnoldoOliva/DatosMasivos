{
 "cells": [
  {
   "cell_type": "code",
   "execution_count": 1,
   "metadata": {},
   "outputs": [],
   "source": [
    "import multiprocessing as mp\n",
    "import numpy as np\n",
    "import dask.array as da\n",
    "import pandas as pd\n",
    "pd.set_option(\"display.max_columns\",None)\n",
    "path=\"C:/Users/HUGO/Desktop/Maestria en CIENCIA DE DATOS UANL/DatosMasivos/\""
   ]
  },
  {
   "cell_type": "markdown",
   "metadata": {},
   "source": [
    "# Practica 1: Paralelizacion.\n",
    "\n",
    "Parte 1: Investigar sobre las lazy variables y como se usa el Delay para problemas mas grandes.\n",
    "\n",
    "Parte 2: Generen varias funciones y construyan un grafo de paralelización con al menos 4 cuellos de botella.\n",
    "\n",
    "\n",
    "Extra challenge: Buscar ensemble learning en Scikit learn, utilizar minimo 3 algoritmos de machine learning para crear un modelo paralelo basado en un ensamble. Generar uno con dask y otro con la libreria de ensemble de sklearn, y comparar resultados. "
   ]
  },
  {
   "cell_type": "markdown",
   "metadata": {},
   "source": [
    "## Parte 1:\n",
    "**Lazy variables y como se usa el Delay para problemas mas grandes**"
   ]
  },
  {
   "cell_type": "markdown",
   "metadata": {},
   "source": [
    "Las lazy variables (también conocidas como variables perezosas o lazy properties) son variables en programación que se calculan o inicializan solo cuando se acceden por primera vez, en lugar de hacerlo de manera inmediata al crear el objeto que las contiene.\n",
    "\n",
    "En otros términos, una variable perezosa es una propiedad que no se calcula hasta que se solicita, lo que puede ser útil cuando se trabaja con objetos complejos o costosos de crear. En lugar de crear todos los componentes de un objeto en el momento de su creación, se retrasa la creación de algunos de ellos hasta que realmente se necesiten, lo que puede mejorar el rendimiento y la eficiencia del programa.\n",
    "\n",
    "El uso de variables perezosas puede ser especialmente beneficioso en lenguajes de programación que son interpretados o tienen un alto costo de inicialización, ya que permite diferir el costo de la inicialización hasta que sea realmente necesario."
   ]
  },
  {
   "cell_type": "markdown",
   "metadata": {},
   "source": [
    "**Delay:**\n",
    "\n",
    "En algunos casos, puede ser beneficioso retrasar la inicialización de una variable aún más, especialmente en problemas más grandes que requieren más tiempo de cómputo o memoria.\n",
    "\n",
    "Una forma de retrasar aún más la inicialización es utilizando la función Delay en lugar de una variable perezosa convencional. La función Delay es una técnica de programación que permite posponer la evaluación de una expresión hasta que se solicite su resultado.\n",
    "\n",
    "Por ejemplo, supongamos que se tiene una función que realiza un cálculo costoso o tardado, pero que este cálculo solo se necesita en ciertas situaciones. En lugar de calcular el resultado de la función de inmediato, se puede utilizar la función Delay para posponer la evaluación hasta que sea necesaria. De esta forma, se puede ahorrar tiempo y memoria en el procesamiento de la aplicación."
   ]
  },
  {
   "cell_type": "markdown",
   "metadata": {},
   "source": [
    "## Parte 2:\n",
    "**Generen varias funciones y construyan un grafo de paralelización con al menos 4 cuellos de botella.**"
   ]
  },
  {
   "cell_type": "code",
   "execution_count": 2,
   "metadata": {},
   "outputs": [],
   "source": [
    "import dask.delayed as delayed\n",
    "from dask.diagnostics import ProgressBar\n",
    "import time\n",
    "import random\n"
   ]
  },
  {
   "cell_type": "code",
   "execution_count": 7,
   "metadata": {},
   "outputs": [],
   "source": [
    "lista=[random.randint(0, 9) for _ in range(10)]\n",
    "def suma(x):\n",
    "    return x + random.randint(0,9)\n",
    "\n",
    "def resta(x):\n",
    "    return x - random.randint(0,9)\n",
    "\n",
    "def multiply_add(x,y):\n",
    "    return(x*y)\n",
    "\n"
   ]
  },
  {
   "cell_type": "code",
   "execution_count": null,
   "metadata": {},
   "outputs": [],
   "source": [
    "#Capa 1 -cuello 1\n",
    "step1 = [delayed(suma)(i) for i in lista]\n",
    "tot1 = delayed(sum)(step1)\n",
    "#Capa 2- cuello 2\n",
    "step2 = [delayed(resta)(i, tot1) for k in lista]\n",
    "tot2 = delayed(sum)(step2)\n",
    "#Capa 3 - cuello 3\n",
    "step3 = [delayed(multiply_add)(i, tot2) for k in lista]\n",
    "tot3 = delayed(sum)(step3)\n",
    "#Capa 4 -cuello 4\n",
    "step1 = [delayed(suma)(i,tot3) for i in lista]\n",
    "tot4 = delayed(sum)(step4)\n",
    "tot4.visualize()"
   ]
  },
  {
   "cell_type": "code",
   "execution_count": 2,
   "metadata": {},
   "outputs": [],
   "source": [
    "path=\"C:/Users/HUGO/Desktop/Maestria en CIENCIA DE DATOS UANL/Aprendizaje automatico/\"\n",
    "loans=pd.read_csv(path+\"loans_dummies.csv\")\n",
    "loans2=pd.read_csv(path+\"loansmodified3.csv\")"
   ]
  },
  {
   "cell_type": "code",
   "execution_count": 3,
   "metadata": {},
   "outputs": [],
   "source": [
    "import dask.dataframe as dd\n",
    "import pandas as pd\n",
    "from sklearn.ensemble import RandomForestClassifier\n",
    "from sklearn.tree import DecisionTreeClassifier\n",
    "from sklearn.linear_model import LogisticRegression\n",
    "from sklearn.pipeline import Pipeline\n",
    "from sklearn.preprocessing import StandardScaler\n",
    "from sklearn.metrics import accuracy_score\n",
    "from sklearn.model_selection import GridSearchCV\n",
    "import time\n"
   ]
  },
  {
   "cell_type": "code",
   "execution_count": 4,
   "metadata": {},
   "outputs": [],
   "source": [
    "loans[\"paid\"]=loans2[\"paid\"]\n"
   ]
  },
  {
   "cell_type": "code",
   "execution_count": null,
   "metadata": {},
   "outputs": [
    {
     "name": "stderr",
     "output_type": "stream",
     "text": [
      "C:\\Users\\HUGO\\anaconda\\envs\\project2\\lib\\site-packages\\sklearn\\linear_model\\_logistic.py:818: ConvergenceWarning: lbfgs failed to converge (status=1):\n",
      "STOP: TOTAL NO. of ITERATIONS REACHED LIMIT.\n",
      "\n",
      "Increase the number of iterations (max_iter) or scale the data as shown in:\n",
      "    https://scikit-learn.org/stable/modules/preprocessing.html\n",
      "Please also refer to the documentation for alternative solver options:\n",
      "    https://scikit-learn.org/stable/modules/linear_model.html#logistic-regression\n",
      "  extra_warning_msg=_LOGISTIC_SOLVER_CONVERGENCE_MSG,\n"
     ]
    }
   ],
   "source": [
    "import numpy as np\n",
    "from sklearn.datasets import make_classification\n",
    "from sklearn.ensemble import VotingClassifier, RandomForestClassifier\n",
    "from sklearn.linear_model import LogisticRegression\n",
    "from sklearn.svm import SVC\n",
    "from sklearn.model_selection import train_test_split\n",
    "from sklearn.metrics import accuracy_score\n",
    "#import dask_ml.joblib\n",
    "from time import time\n",
    "\n",
    "X=loans.drop(\"paid\",axis=1)\n",
    "y=loans.paid\n",
    "\n",
    "# Dividir los datos en conjunto de entrenamiento y prueba\n",
    "X_train, X_test, y_train, y_test = train_test_split(X, y, test_size=0.2, random_state=42)\n",
    "\n",
    "# Crear los clasificadores individuales\n",
    "logreg = LogisticRegression()\n",
    "rf = RandomForestClassifier()\n",
    "svm = SVC()\n",
    "\n",
    "# Crear el modelo de ensamble utilizando VotingClassifier de Scikit-learn\n",
    "ensemble_sklearn = VotingClassifier(\n",
    "    estimators=[('lr', logreg), ('rf', rf), ('svm', svm)],\n",
    "    voting='hard'\n",
    ")\n",
    "\n",
    "# Medir el tiempo de ejecución del modelo de ensamble de Scikit-learn\n",
    "start_time_sklearn = time()\n",
    "ensemble_sklearn.fit(X_train, y_train)\n",
    "end_time_sklearn = time()\n",
    "\n",
    "# Calcular el tiempo de ejecución del modelo de ensamble de Scikit-learn\n",
    "execution_time_sklearn = end_time_sklearn - start_time_sklearn\n",
    "\n",
    "# Predecir utilizando el modelo de ensamble de Scikit-learn\n",
    "y_pred_sklearn = ensemble_sklearn.predict(X_test)\n",
    "\n",
    "# Calcular la precisión del modelo de ensamble de Scikit-learn\n",
    "accuracy_sklearn = accuracy_score(y_test, y_pred_sklearn)\n",
    "\n",
    "# Crear el modelo de ensamble utilizando VotingClassifier de Dask-ML\n",
    "ensemble_dask = VotingClassifier(\n",
    "    estimators=[('lr', logreg), ('rf', rf), ('svm', svm)],\n",
    "    voting='hard'\n",
    ")\n",
    "\n",
    "# Medir el tiempo de ejecución del modelo de ensamble de Dask-ML\n",
    "start_time_dask = time()\n",
    "with dask_ml.joblib.parallel_backend('dask'):\n",
    "    ensemble_dask.fit(X_train, y_train)\n",
    "end_time_dask = time()\n",
    "\n",
    "# Calcular el tiempo de ejecución del modelo de ensamble de Dask-ML\n",
    "execution_time_dask = end_time_dask - start_time_dask\n",
    "\n",
    "# Predecir utilizando el modelo de ensamble de Dask-ML\n",
    "y_pred_dask = ensemble_dask.predict(X_test)\n",
    "\n",
    "# Calcular la precisión del modelo de ensamble de Dask-ML\n",
    "accuracy_dask = accuracy_score(y_test, y_pred_dask)\n",
    "\n",
    "# Comparar los tiempos de ejecución\n",
    "print(\"Tiempo de ejecución del modelo de ensamble con Scikit-learn:\", execution_time_sklearn)\n",
    "print(\"Tiempo de ejecución del modelo de ensamble con Dask-ML:\", execution_time_dask)\n",
    "print(\"Precisión del modelo de ensamble con Scikit-learn:\", accuracy_sklearn)\n",
    "print(\"Precisión del modelo de ensamble con Dask-ML:\", accuracy_dask)\n"
   ]
  },
  {
   "cell_type": "code",
   "execution_count": null,
   "metadata": {},
   "outputs": [],
   "source": []
  }
 ],
 "metadata": {
  "kernelspec": {
   "display_name": "Python 3",
   "language": "python",
   "name": "python3"
  },
  "language_info": {
   "codemirror_mode": {
    "name": "ipython",
    "version": 3
   },
   "file_extension": ".py",
   "mimetype": "text/x-python",
   "name": "python",
   "nbconvert_exporter": "python",
   "pygments_lexer": "ipython3",
   "version": "3.7.9"
  }
 },
 "nbformat": 4,
 "nbformat_minor": 4
}
