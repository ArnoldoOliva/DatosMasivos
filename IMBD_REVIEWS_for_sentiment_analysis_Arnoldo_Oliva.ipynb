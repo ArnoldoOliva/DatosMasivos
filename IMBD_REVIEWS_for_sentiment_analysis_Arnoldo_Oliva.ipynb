{
  "nbformat": 4,
  "nbformat_minor": 0,
  "metadata": {
    "colab": {
      "provenance": [],
      "authorship_tag": "ABX9TyNfa88DmV2LjnISuzH70KGo",
      "include_colab_link": true
    },
    "kernelspec": {
      "name": "python3",
      "display_name": "Python 3"
    },
    "language_info": {
      "name": "python"
    }
  },
  "cells": [
    {
      "cell_type": "markdown",
      "metadata": {
        "id": "view-in-github",
        "colab_type": "text"
      },
      "source": [
        "<a href=\"https://colab.research.google.com/github/ArnoldoOliva/DatosMasivos/blob/main/IMBD_REVIEWS_for_sentiment_analysis_Arnoldo_Oliva.ipynb\" target=\"_parent\"><img src=\"https://colab.research.google.com/assets/colab-badge.svg\" alt=\"Open In Colab\"/></a>"
      ]
    },
    {
      "cell_type": "code",
      "source": [
        "!pip install tweepy"
      ],
      "metadata": {
        "id": "Yg7vAW3JPQYu"
      },
      "execution_count": null,
      "outputs": []
    },
    {
      "cell_type": "code",
      "execution_count": null,
      "metadata": {
        "colab": {
          "base_uri": "https://localhost:8080/",
          "height": 454
        },
        "id": "uukFspa-PCLr",
        "outputId": "72b7ae71-a728-44bf-802a-d5d4e046e0f4"
      },
      "outputs": [
        {
          "output_type": "error",
          "ename": "Forbidden",
          "evalue": "ignored",
          "traceback": [
            "\u001b[0;31m---------------------------------------------------------------------------\u001b[0m",
            "\u001b[0;31mForbidden\u001b[0m                                 Traceback (most recent call last)",
            "\u001b[0;32m<ipython-input-9-9712b785cd7b>\u001b[0m in \u001b[0;36m<cell line: 29>\u001b[0;34m()\u001b[0m\n\u001b[1;32m     27\u001b[0m \u001b[0;31m# Search tweets\u001b[0m\u001b[0;34m\u001b[0m\u001b[0;34m\u001b[0m\u001b[0m\n\u001b[1;32m     28\u001b[0m \u001b[0;31m#tweets=api.search_tweets(q=query,count =num_tweets,lang=\"es\")\u001b[0m\u001b[0;34m\u001b[0m\u001b[0;34m\u001b[0m\u001b[0m\n\u001b[0;32m---> 29\u001b[0;31m tweets=api.user_timeline(user_id=\"@AristeguiOnline\", screen_name=\"Aristegui Noticias\", \n\u001b[0m\u001b[1;32m     30\u001b[0m                          count=num_tweets)\n\u001b[1;32m     31\u001b[0m \u001b[0;34m\u001b[0m\u001b[0m\n",
            "\u001b[0;32m/usr/local/lib/python3.10/dist-packages/tweepy/api.py\u001b[0m in \u001b[0;36mwrapper\u001b[0;34m(*args, **kwargs)\u001b[0m\n\u001b[1;32m     31\u001b[0m         \u001b[0;34m@\u001b[0m\u001b[0mfunctools\u001b[0m\u001b[0;34m.\u001b[0m\u001b[0mwraps\u001b[0m\u001b[0;34m(\u001b[0m\u001b[0mmethod\u001b[0m\u001b[0;34m)\u001b[0m\u001b[0;34m\u001b[0m\u001b[0;34m\u001b[0m\u001b[0m\n\u001b[1;32m     32\u001b[0m         \u001b[0;32mdef\u001b[0m \u001b[0mwrapper\u001b[0m\u001b[0;34m(\u001b[0m\u001b[0;34m*\u001b[0m\u001b[0margs\u001b[0m\u001b[0;34m,\u001b[0m \u001b[0;34m**\u001b[0m\u001b[0mkwargs\u001b[0m\u001b[0;34m)\u001b[0m\u001b[0;34m:\u001b[0m\u001b[0;34m\u001b[0m\u001b[0;34m\u001b[0m\u001b[0m\n\u001b[0;32m---> 33\u001b[0;31m             \u001b[0;32mreturn\u001b[0m \u001b[0mmethod\u001b[0m\u001b[0;34m(\u001b[0m\u001b[0;34m*\u001b[0m\u001b[0margs\u001b[0m\u001b[0;34m,\u001b[0m \u001b[0;34m**\u001b[0m\u001b[0mkwargs\u001b[0m\u001b[0;34m)\u001b[0m\u001b[0;34m\u001b[0m\u001b[0;34m\u001b[0m\u001b[0m\n\u001b[0m\u001b[1;32m     34\u001b[0m         \u001b[0mwrapper\u001b[0m\u001b[0;34m.\u001b[0m\u001b[0mpagination_mode\u001b[0m \u001b[0;34m=\u001b[0m \u001b[0mmode\u001b[0m\u001b[0;34m\u001b[0m\u001b[0;34m\u001b[0m\u001b[0m\n\u001b[1;32m     35\u001b[0m         \u001b[0;32mreturn\u001b[0m \u001b[0mwrapper\u001b[0m\u001b[0;34m\u001b[0m\u001b[0;34m\u001b[0m\u001b[0m\n",
            "\u001b[0;32m/usr/local/lib/python3.10/dist-packages/tweepy/api.py\u001b[0m in \u001b[0;36mwrapper\u001b[0;34m(*args, **kwargs)\u001b[0m\n\u001b[1;32m     44\u001b[0m             \u001b[0mkwargs\u001b[0m\u001b[0;34m[\u001b[0m\u001b[0;34m'payload_list'\u001b[0m\u001b[0;34m]\u001b[0m \u001b[0;34m=\u001b[0m \u001b[0mpayload_list\u001b[0m\u001b[0;34m\u001b[0m\u001b[0;34m\u001b[0m\u001b[0m\n\u001b[1;32m     45\u001b[0m             \u001b[0mkwargs\u001b[0m\u001b[0;34m[\u001b[0m\u001b[0;34m'payload_type'\u001b[0m\u001b[0;34m]\u001b[0m \u001b[0;34m=\u001b[0m \u001b[0mpayload_type\u001b[0m\u001b[0;34m\u001b[0m\u001b[0;34m\u001b[0m\u001b[0m\n\u001b[0;32m---> 46\u001b[0;31m             \u001b[0;32mreturn\u001b[0m \u001b[0mmethod\u001b[0m\u001b[0;34m(\u001b[0m\u001b[0;34m*\u001b[0m\u001b[0margs\u001b[0m\u001b[0;34m,\u001b[0m \u001b[0;34m**\u001b[0m\u001b[0mkwargs\u001b[0m\u001b[0;34m)\u001b[0m\u001b[0;34m\u001b[0m\u001b[0;34m\u001b[0m\u001b[0m\n\u001b[0m\u001b[1;32m     47\u001b[0m         \u001b[0mwrapper\u001b[0m\u001b[0;34m.\u001b[0m\u001b[0mpayload_list\u001b[0m \u001b[0;34m=\u001b[0m \u001b[0mpayload_list\u001b[0m\u001b[0;34m\u001b[0m\u001b[0;34m\u001b[0m\u001b[0m\n\u001b[1;32m     48\u001b[0m         \u001b[0mwrapper\u001b[0m\u001b[0;34m.\u001b[0m\u001b[0mpayload_type\u001b[0m \u001b[0;34m=\u001b[0m \u001b[0mpayload_type\u001b[0m\u001b[0;34m\u001b[0m\u001b[0;34m\u001b[0m\u001b[0m\n",
            "\u001b[0;32m/usr/local/lib/python3.10/dist-packages/tweepy/api.py\u001b[0m in \u001b[0;36muser_timeline\u001b[0;34m(self, **kwargs)\u001b[0m\n\u001b[1;32m    575\u001b[0m         \u001b[0mhttps\u001b[0m\u001b[0;34m:\u001b[0m\u001b[0;34m//\u001b[0m\u001b[0mdeveloper\u001b[0m\u001b[0;34m.\u001b[0m\u001b[0mtwitter\u001b[0m\u001b[0;34m.\u001b[0m\u001b[0mcom\u001b[0m\u001b[0;34m/\u001b[0m\u001b[0men\u001b[0m\u001b[0;34m/\u001b[0m\u001b[0mdocs\u001b[0m\u001b[0;34m/\u001b[0m\u001b[0mtwitter\u001b[0m\u001b[0;34m-\u001b[0m\u001b[0mapi\u001b[0m\u001b[0;34m/\u001b[0m\u001b[0mv1\u001b[0m\u001b[0;34m/\u001b[0m\u001b[0mtweets\u001b[0m\u001b[0;34m/\u001b[0m\u001b[0mtimelines\u001b[0m\u001b[0;34m/\u001b[0m\u001b[0mapi\u001b[0m\u001b[0;34m-\u001b[0m\u001b[0mreference\u001b[0m\u001b[0;34m/\u001b[0m\u001b[0mget\u001b[0m\u001b[0;34m-\u001b[0m\u001b[0mstatuses\u001b[0m\u001b[0;34m-\u001b[0m\u001b[0muser_timeline\u001b[0m\u001b[0;34m\u001b[0m\u001b[0;34m\u001b[0m\u001b[0m\n\u001b[1;32m    576\u001b[0m         \"\"\"\n\u001b[0;32m--> 577\u001b[0;31m         return self.request(\n\u001b[0m\u001b[1;32m    578\u001b[0m             'GET', 'statuses/user_timeline', endpoint_parameters=(\n\u001b[1;32m    579\u001b[0m                 \u001b[0;34m'user_id'\u001b[0m\u001b[0;34m,\u001b[0m \u001b[0;34m'screen_name'\u001b[0m\u001b[0;34m,\u001b[0m \u001b[0;34m'since_id'\u001b[0m\u001b[0;34m,\u001b[0m \u001b[0;34m'count'\u001b[0m\u001b[0;34m,\u001b[0m \u001b[0;34m'max_id'\u001b[0m\u001b[0;34m,\u001b[0m\u001b[0;34m\u001b[0m\u001b[0;34m\u001b[0m\u001b[0m\n",
            "\u001b[0;32m/usr/local/lib/python3.10/dist-packages/tweepy/api.py\u001b[0m in \u001b[0;36mrequest\u001b[0;34m(self, method, endpoint, endpoint_parameters, params, headers, json_payload, parser, payload_list, payload_type, post_data, files, require_auth, return_cursors, upload_api, use_cache, **kwargs)\u001b[0m\n\u001b[1;32m    263\u001b[0m                 \u001b[0;32mraise\u001b[0m \u001b[0mUnauthorized\u001b[0m\u001b[0;34m(\u001b[0m\u001b[0mresp\u001b[0m\u001b[0;34m)\u001b[0m\u001b[0;34m\u001b[0m\u001b[0;34m\u001b[0m\u001b[0m\n\u001b[1;32m    264\u001b[0m             \u001b[0;32mif\u001b[0m \u001b[0mresp\u001b[0m\u001b[0;34m.\u001b[0m\u001b[0mstatus_code\u001b[0m \u001b[0;34m==\u001b[0m \u001b[0;36m403\u001b[0m\u001b[0;34m:\u001b[0m\u001b[0;34m\u001b[0m\u001b[0;34m\u001b[0m\u001b[0m\n\u001b[0;32m--> 265\u001b[0;31m                 \u001b[0;32mraise\u001b[0m \u001b[0mForbidden\u001b[0m\u001b[0;34m(\u001b[0m\u001b[0mresp\u001b[0m\u001b[0;34m)\u001b[0m\u001b[0;34m\u001b[0m\u001b[0;34m\u001b[0m\u001b[0m\n\u001b[0m\u001b[1;32m    266\u001b[0m             \u001b[0;32mif\u001b[0m \u001b[0mresp\u001b[0m\u001b[0;34m.\u001b[0m\u001b[0mstatus_code\u001b[0m \u001b[0;34m==\u001b[0m \u001b[0;36m404\u001b[0m\u001b[0;34m:\u001b[0m\u001b[0;34m\u001b[0m\u001b[0;34m\u001b[0m\u001b[0m\n\u001b[1;32m    267\u001b[0m                 \u001b[0;32mraise\u001b[0m \u001b[0mNotFound\u001b[0m\u001b[0;34m(\u001b[0m\u001b[0mresp\u001b[0m\u001b[0;34m)\u001b[0m\u001b[0;34m\u001b[0m\u001b[0;34m\u001b[0m\u001b[0m\n",
            "\u001b[0;31mForbidden\u001b[0m: 403 Forbidden\n453 - You currently have access to a subset of Twitter API v2 endpoints and limited v1.1 endpoints (e.g. media post, oauth) only. If you need access to this endpoint, you may need a different access level. You can learn more here: https://developer.twitter.com/en/portal/product"
          ]
        }
      ],
      "source": [
        "import tweepy\n",
        "\n",
        "\n",
        "# authentication\n",
        "auth = tweepy.OAuthHandler(api_key, api_key_secret)\n",
        "auth.set_access_token(access_token, access_token_secret)\n",
        "\n",
        "\n",
        "# Create API object\n",
        "api = tweepy.API(auth)\n",
        "\n",
        "# Search parameters\n",
        "query = 'Elecciones Estado de Mexico'\n",
        "num_tweets = 100  # Number of tweets to retrieve\n",
        "\n",
        "# Search tweets\n",
        "#tweets=api.search_tweets(q=query,count =num_tweets,lang=\"es\")\n",
        "tweets=api.user_timeline(user_id=\"@AristeguiOnline\", screen_name=\"Aristegui Noticias\", \n",
        "                         count=num_tweets)\n",
        "\n",
        "\n",
        "# Process tweets\n",
        "# create dataframe\n",
        "columns = ['Time', 'User', 'Tweet']\n",
        "data = []\n",
        "for tweet in tweets:\n",
        "    data.append([tweet.created_at, tweet.user.screen_name, tweet.text])\n",
        "\n",
        "dftweets = pd.DataFrame(data, columns=columns)\n",
        "\n",
        "dftweets.to_csv('tweets.csv')\n",
        "dftweets"
      ]
    },
    {
      "cell_type": "code",
      "source": [
        "from google.colab import drive\n",
        "drive.mount('/content/drive')\n"
      ],
      "metadata": {
        "colab": {
          "base_uri": "https://localhost:8080/"
        },
        "id": "zRQ-twwWkoZy",
        "outputId": "dbdec189-f3ed-498f-b478-0c5cee6556a9"
      },
      "execution_count": null,
      "outputs": [
        {
          "output_type": "stream",
          "name": "stdout",
          "text": [
            "Mounted at /content/drive\n"
          ]
        }
      ]
    },
    {
      "cell_type": "code",
      "source": [
        "import pandas as pd\n",
        "import numpy as np\n",
        "# Tratamiento de datos\n",
        "# ==============================================================================\n",
        "import numpy as np\n",
        "import pandas as pd\n",
        "import string\n",
        "import re\n",
        "\n",
        "# Gráficos\n",
        "# ==============================================================================\n",
        "import matplotlib.pyplot as plt\n",
        "from matplotlib import style\n",
        "import seaborn as sns\n",
        "#style.use('ggplot') or plt.style.use('ggplot')\n",
        "\n",
        "# Preprocesado y modelado\n",
        "# ==============================================================================\n",
        "from sklearn import svm\n",
        "from sklearn.model_selection import train_test_split\n",
        "from sklearn.model_selection import GridSearchCV\n",
        "from sklearn.metrics import confusion_matrix\n",
        "from sklearn.feature_extraction.text import TfidfVectorizer\n",
        "import nltk\n",
        "#nltk.download('stopwords')\n",
        "from nltk.corpus import stopwords\n",
        "\n",
        "# Configuración warnings\n",
        "# ==============================================================================\n",
        "import warnings\n",
        "warnings.filterwarnings('ignore')"
      ],
      "metadata": {
        "id": "PULcEmmmmykr"
      },
      "execution_count": null,
      "outputs": []
    },
    {
      "cell_type": "code",
      "source": [
        "data=pd.read_csv(\"/content/Test.csv\")\n",
        "data"
      ],
      "metadata": {
        "colab": {
          "base_uri": "https://localhost:8080/",
          "height": 423
        },
        "id": "pO-wEgvAmqlG",
        "outputId": "2705699f-13dc-49a6-cc8b-94c288d11686"
      },
      "execution_count": null,
      "outputs": [
        {
          "output_type": "execute_result",
          "data": {
            "text/plain": [
              "                                                   text  label\n",
              "0     I always wrote this series off as being a comp...      0\n",
              "1     1st watched 12/7/2002 - 3 out of 10(Dir-Steve ...      0\n",
              "2     This movie was so poorly written and directed ...      0\n",
              "3     The most interesting thing about Miryang (Secr...      1\n",
              "4     when i first read about \"berlin am meer\" i did...      0\n",
              "...                                                 ...    ...\n",
              "4995  This is the kind of picture John Lassiter woul...      1\n",
              "4996  A MUST SEE! I saw WHIPPED at a press screening...      1\n",
              "4997  NBC should be ashamed. I wouldn't allow my chi...      0\n",
              "4998  This movie is a clumsy mishmash of various gho...      0\n",
              "4999  Formula movie about the illegitimate son of a ...      0\n",
              "\n",
              "[5000 rows x 2 columns]"
            ],
            "text/html": [
              "\n",
              "  <div id=\"df-0db5a732-84c8-43e9-96fa-b9933e703e83\">\n",
              "    <div class=\"colab-df-container\">\n",
              "      <div>\n",
              "<style scoped>\n",
              "    .dataframe tbody tr th:only-of-type {\n",
              "        vertical-align: middle;\n",
              "    }\n",
              "\n",
              "    .dataframe tbody tr th {\n",
              "        vertical-align: top;\n",
              "    }\n",
              "\n",
              "    .dataframe thead th {\n",
              "        text-align: right;\n",
              "    }\n",
              "</style>\n",
              "<table border=\"1\" class=\"dataframe\">\n",
              "  <thead>\n",
              "    <tr style=\"text-align: right;\">\n",
              "      <th></th>\n",
              "      <th>text</th>\n",
              "      <th>label</th>\n",
              "    </tr>\n",
              "  </thead>\n",
              "  <tbody>\n",
              "    <tr>\n",
              "      <th>0</th>\n",
              "      <td>I always wrote this series off as being a comp...</td>\n",
              "      <td>0</td>\n",
              "    </tr>\n",
              "    <tr>\n",
              "      <th>1</th>\n",
              "      <td>1st watched 12/7/2002 - 3 out of 10(Dir-Steve ...</td>\n",
              "      <td>0</td>\n",
              "    </tr>\n",
              "    <tr>\n",
              "      <th>2</th>\n",
              "      <td>This movie was so poorly written and directed ...</td>\n",
              "      <td>0</td>\n",
              "    </tr>\n",
              "    <tr>\n",
              "      <th>3</th>\n",
              "      <td>The most interesting thing about Miryang (Secr...</td>\n",
              "      <td>1</td>\n",
              "    </tr>\n",
              "    <tr>\n",
              "      <th>4</th>\n",
              "      <td>when i first read about \"berlin am meer\" i did...</td>\n",
              "      <td>0</td>\n",
              "    </tr>\n",
              "    <tr>\n",
              "      <th>...</th>\n",
              "      <td>...</td>\n",
              "      <td>...</td>\n",
              "    </tr>\n",
              "    <tr>\n",
              "      <th>4995</th>\n",
              "      <td>This is the kind of picture John Lassiter woul...</td>\n",
              "      <td>1</td>\n",
              "    </tr>\n",
              "    <tr>\n",
              "      <th>4996</th>\n",
              "      <td>A MUST SEE! I saw WHIPPED at a press screening...</td>\n",
              "      <td>1</td>\n",
              "    </tr>\n",
              "    <tr>\n",
              "      <th>4997</th>\n",
              "      <td>NBC should be ashamed. I wouldn't allow my chi...</td>\n",
              "      <td>0</td>\n",
              "    </tr>\n",
              "    <tr>\n",
              "      <th>4998</th>\n",
              "      <td>This movie is a clumsy mishmash of various gho...</td>\n",
              "      <td>0</td>\n",
              "    </tr>\n",
              "    <tr>\n",
              "      <th>4999</th>\n",
              "      <td>Formula movie about the illegitimate son of a ...</td>\n",
              "      <td>0</td>\n",
              "    </tr>\n",
              "  </tbody>\n",
              "</table>\n",
              "<p>5000 rows × 2 columns</p>\n",
              "</div>\n",
              "      <button class=\"colab-df-convert\" onclick=\"convertToInteractive('df-0db5a732-84c8-43e9-96fa-b9933e703e83')\"\n",
              "              title=\"Convert this dataframe to an interactive table.\"\n",
              "              style=\"display:none;\">\n",
              "        \n",
              "  <svg xmlns=\"http://www.w3.org/2000/svg\" height=\"24px\"viewBox=\"0 0 24 24\"\n",
              "       width=\"24px\">\n",
              "    <path d=\"M0 0h24v24H0V0z\" fill=\"none\"/>\n",
              "    <path d=\"M18.56 5.44l.94 2.06.94-2.06 2.06-.94-2.06-.94-.94-2.06-.94 2.06-2.06.94zm-11 1L8.5 8.5l.94-2.06 2.06-.94-2.06-.94L8.5 2.5l-.94 2.06-2.06.94zm10 10l.94 2.06.94-2.06 2.06-.94-2.06-.94-.94-2.06-.94 2.06-2.06.94z\"/><path d=\"M17.41 7.96l-1.37-1.37c-.4-.4-.92-.59-1.43-.59-.52 0-1.04.2-1.43.59L10.3 9.45l-7.72 7.72c-.78.78-.78 2.05 0 2.83L4 21.41c.39.39.9.59 1.41.59.51 0 1.02-.2 1.41-.59l7.78-7.78 2.81-2.81c.8-.78.8-2.07 0-2.86zM5.41 20L4 18.59l7.72-7.72 1.47 1.35L5.41 20z\"/>\n",
              "  </svg>\n",
              "      </button>\n",
              "      \n",
              "  <style>\n",
              "    .colab-df-container {\n",
              "      display:flex;\n",
              "      flex-wrap:wrap;\n",
              "      gap: 12px;\n",
              "    }\n",
              "\n",
              "    .colab-df-convert {\n",
              "      background-color: #E8F0FE;\n",
              "      border: none;\n",
              "      border-radius: 50%;\n",
              "      cursor: pointer;\n",
              "      display: none;\n",
              "      fill: #1967D2;\n",
              "      height: 32px;\n",
              "      padding: 0 0 0 0;\n",
              "      width: 32px;\n",
              "    }\n",
              "\n",
              "    .colab-df-convert:hover {\n",
              "      background-color: #E2EBFA;\n",
              "      box-shadow: 0px 1px 2px rgba(60, 64, 67, 0.3), 0px 1px 3px 1px rgba(60, 64, 67, 0.15);\n",
              "      fill: #174EA6;\n",
              "    }\n",
              "\n",
              "    [theme=dark] .colab-df-convert {\n",
              "      background-color: #3B4455;\n",
              "      fill: #D2E3FC;\n",
              "    }\n",
              "\n",
              "    [theme=dark] .colab-df-convert:hover {\n",
              "      background-color: #434B5C;\n",
              "      box-shadow: 0px 1px 3px 1px rgba(0, 0, 0, 0.15);\n",
              "      filter: drop-shadow(0px 1px 2px rgba(0, 0, 0, 0.3));\n",
              "      fill: #FFFFFF;\n",
              "    }\n",
              "  </style>\n",
              "\n",
              "      <script>\n",
              "        const buttonEl =\n",
              "          document.querySelector('#df-0db5a732-84c8-43e9-96fa-b9933e703e83 button.colab-df-convert');\n",
              "        buttonEl.style.display =\n",
              "          google.colab.kernel.accessAllowed ? 'block' : 'none';\n",
              "\n",
              "        async function convertToInteractive(key) {\n",
              "          const element = document.querySelector('#df-0db5a732-84c8-43e9-96fa-b9933e703e83');\n",
              "          const dataTable =\n",
              "            await google.colab.kernel.invokeFunction('convertToInteractive',\n",
              "                                                     [key], {});\n",
              "          if (!dataTable) return;\n",
              "\n",
              "          const docLinkHtml = 'Like what you see? Visit the ' +\n",
              "            '<a target=\"_blank\" href=https://colab.research.google.com/notebooks/data_table.ipynb>data table notebook</a>'\n",
              "            + ' to learn more about interactive tables.';\n",
              "          element.innerHTML = '';\n",
              "          dataTable['output_type'] = 'display_data';\n",
              "          await google.colab.output.renderOutput(dataTable, element);\n",
              "          const docLink = document.createElement('div');\n",
              "          docLink.innerHTML = docLinkHtml;\n",
              "          element.appendChild(docLink);\n",
              "        }\n",
              "      </script>\n",
              "    </div>\n",
              "  </div>\n",
              "  "
            ]
          },
          "metadata": {},
          "execution_count": 3
        }
      ]
    },
    {
      "cell_type": "code",
      "source": [],
      "metadata": {
        "id": "QYwrZPpT6q8j"
      },
      "execution_count": null,
      "outputs": []
    },
    {
      "cell_type": "code",
      "source": [
        "def limpiar_tokenizar(texto):\n",
        "    '''\n",
        "    Esta función limpia y tokeniza el texto en palabras individuales.\n",
        "    El orden en el que se va limpiando el texto no es arbitrario.\n",
        "    El listado de signos de puntuación se ha obtenido de: print(string.punctuation)\n",
        "    y re.escape(string.punctuation)\n",
        "    '''\n",
        "    \n",
        "    # Se convierte todo el texto a minúsculas\n",
        "    nuevo_texto = texto.lower()\n",
        "    # Eliminación de páginas web (palabras que empiezan por \"http\")\n",
        "    nuevo_texto = re.sub('http\\S+', ' ', nuevo_texto)\n",
        "    # Eliminación de signos de puntuación\n",
        "    regex = '[\\\\!\\\\\"\\\\#\\\\$\\\\%\\\\&\\\\\\'\\\\(\\\\)\\\\*\\\\+\\\\,\\\\-\\\\.\\\\/\\\\:\\\\;\\\\<\\\\=\\\\>\\\\?\\\\@\\\\[\\\\\\\\\\\\]\\\\^_\\\\`\\\\{\\\\|\\\\}\\\\~]'\n",
        "    nuevo_texto = re.sub(regex , ' ', nuevo_texto)\n",
        "    # Eliminación de números\n",
        "    nuevo_texto = re.sub(\"\\d+\", ' ', nuevo_texto)  #los numeros importan\n",
        "    # Eliminación de espacios en blanco múltiples\n",
        "    nuevo_texto = re.sub(\"\\\\s+\", ' ', nuevo_texto)\n",
        "    # Tokenización por palabras individuales\n",
        "    nuevo_texto = nuevo_texto.split(sep = ' ')\n",
        "    # Eliminación de tokens con una longitud < 2\n",
        "    nuevo_texto = [token for token in nuevo_texto if len(token) > 1]\n",
        "    \n",
        "    return(nuevo_texto)\n",
        "\n",
        "test = data.loc[1,\"text\"]\n",
        "print(test)\n",
        "print()\n",
        "print(limpiar_tokenizar(texto=test))"
      ],
      "metadata": {
        "colab": {
          "base_uri": "https://localhost:8080/"
        },
        "id": "GlRCTnpXm3iM",
        "outputId": "7da34714-3992-4201-8789-9c9cab9ce536"
      },
      "execution_count": null,
      "outputs": [
        {
          "output_type": "stream",
          "name": "stdout",
          "text": [
            "1st watched 12/7/2002 - 3 out of 10(Dir-Steve Purcell): Typical Mary Kate & Ashley fare with a few more kisses. It looks to me like the girls are getting pretty tired of this stuff and it will be interesting what happens to them if they ever decide to split up and go there own ways. In this episode of their adventures they are interns in Rome for a `fashion' designer who puts them right into the mailroom to learn what working hard is all about(I guess..). Besides the typical flirtations with boys there is nothing much else except the Rome scenario until about ¾ way into the movie when it's finally revealed why they are getting fired, then re-hired, then fired again, then re-hired again. This is definetly made by people who don't understand the corporate world and it shows in their interpretation of it. Maybe the real world will be their next adventure(if there is one.). Even my kids didn't seem to care for this boring `adventure' in the make-believe. Let's see they probably only have a couple of years till their legal adults. We'll see what happens then.\n",
            "\n",
            "['st', 'watched', 'out', 'of', 'dir', 'steve', 'purcell', 'typical', 'mary', 'kate', 'ashley', 'fare', 'with', 'few', 'more', 'kisses', 'it', 'looks', 'to', 'me', 'like', 'the', 'girls', 'are', 'getting', 'pretty', 'tired', 'of', 'this', 'stuff', 'and', 'it', 'will', 'be', 'interesting', 'what', 'happens', 'to', 'them', 'if', 'they', 'ever', 'decide', 'to', 'split', 'up', 'and', 'go', 'there', 'own', 'ways', 'in', 'this', 'episode', 'of', 'their', 'adventures', 'they', 'are', 'interns', 'in', 'rome', 'for', 'fashion', 'designer', 'who', 'puts', 'them', 'right', 'into', 'the', 'mailroom', 'to', 'learn', 'what', 'working', 'hard', 'is', 'all', 'about', 'guess', 'besides', 'the', 'typical', 'flirtations', 'with', 'boys', 'there', 'is', 'nothing', 'much', 'else', 'except', 'the', 'rome', 'scenario', 'until', 'about', 'way', 'into', 'the', 'movie', 'when', 'it', 'finally', 'revealed', 'why', 'they', 'are', 'getting', 'fired', 'then', 're', 'hired', 'then', 'fired', 'again', 'then', 're', 'hired', 'again', 'this', 'is', 'definetly', 'made', 'by', 'people', 'who', 'don', 'understand', 'the', 'corporate', 'world', 'and', 'it', 'shows', 'in', 'their', 'interpretation', 'of', 'it', 'maybe', 'the', 'real', 'world', 'will', 'be', 'their', 'next', 'adventure', 'if', 'there', 'is', 'one', 'even', 'my', 'kids', 'didn', 'seem', 'to', 'care', 'for', 'this', 'boring', 'adventure', 'in', 'the', 'make', 'believe', 'let', 'see', 'they', 'probably', 'only', 'have', 'couple', 'of', 'years', 'till', 'their', 'legal', 'adults', 'we', 'll', 'see', 'what', 'happens', 'then']\n"
          ]
        }
      ]
    },
    {
      "cell_type": "code",
      "source": [
        "data[\"text\"]=data[\"text\"].str.replace(\"<br\",\" \").str.replace(\"<\",\" \").str.replace(\"/>\",\" \").str.replace(\">\",\" \")"
      ],
      "metadata": {
        "id": "0c6JnC3dFdSO"
      },
      "execution_count": null,
      "outputs": []
    },
    {
      "cell_type": "code",
      "source": [
        "data.loc[0,\"text\"]"
      ],
      "metadata": {
        "colab": {
          "base_uri": "https://localhost:8080/",
          "height": 128
        },
        "id": "ALFUQ25WoeG9",
        "outputId": "ecba4de5-bbb0-4983-e937-8e69e9e3a0ad"
      },
      "execution_count": 56,
      "outputs": [
        {
          "output_type": "execute_result",
          "data": {
            "text/plain": [
              "'I always wrote this series off as being a complete stink-fest because Jim Belushi was involved in it, and heavily. But then one day a tragic happenstance occurred. After a White Sox game ended I realized that the remote was all the way on the other side of the room somehow. Now I could have just gotten up and walked across the room to get the remote, or even to the TV to turn the channel. But then why not just get up and walk across the country to watch TV in another state? \"Nuts to that\", I said. So I decided to just hang tight on the couch and take whatever Fate had in store for me. What Fate had in store was an episode of this show, an episode about which I remember very little except that I had once again made a very broad, general sweeping blanket judgment based on zero objective or experiential evidence with nothing whatsoever to back my opinions up with, and once again I was completely right! This show is a total crud-pie! Belushi has all the comedic delivery of a hairy lighthouse foghorn. The women are physically attractive but too Stepford-is to elicit any real feeling from the viewer. There is absolutely no reason to stop yourself from running down to the local TV station with a can of gasoline and a flamethrower and sending every copy of this mutt howling back to hell.       Except..       Except for the wonderful comic sty lings of Larry Joe Campbell, America\\'s Greatest Comic Character Actor. This guy plays Belushi\\'s brother-in-law, Andy, and he is gold. How good is he really? Well, aside from being funny, his job is to make Belushi look good. That\\'s like trying to make butt warts look good. But Campbell pulls it off with style. Someone should invent a Nobel Prize in Comic Buffoonery so he can win it every year. Without Larry Joe this show would consist of a slightly vacant looking Courtney Thorne-Smith smacking Belushi over the head with a frying pan while he alternately beats his chest and plays with the straw on the floor of his cage. 5 stars for Larry Joe Campbell designated Comedic Bacon because he improves the flavor of everything he\\'s in!'"
            ],
            "application/vnd.google.colaboratory.intrinsic+json": {
              "type": "string"
            }
          },
          "metadata": {},
          "execution_count": 56
        }
      ]
    },
    {
      "cell_type": "code",
      "source": [
        "data['texto_tokenizado'] = data['text'].apply(lambda x: limpiar_tokenizar(x))\n",
        "data[\"review\"]=data.index\n",
        "data.head()"
      ],
      "metadata": {
        "colab": {
          "base_uri": "https://localhost:8080/",
          "height": 206
        },
        "id": "FLWZQuBboh4o",
        "outputId": "c279bf83-9e29-4906-ca2d-728e9c9a1be0"
      },
      "execution_count": null,
      "outputs": [
        {
          "output_type": "execute_result",
          "data": {
            "text/plain": [
              "                                                text  label  \\\n",
              "0  I always wrote this series off as being a comp...      0   \n",
              "1  1st watched 12/7/2002 - 3 out of 10(Dir-Steve ...      0   \n",
              "2  This movie was so poorly written and directed ...      0   \n",
              "3  The most interesting thing about Miryang (Secr...      1   \n",
              "4  when i first read about \"berlin am meer\" i did...      0   \n",
              "\n",
              "                                    texto_tokenizado  review  \n",
              "0  [always, wrote, this, series, off, as, being, ...       0  \n",
              "1  [st, watched, out, of, dir, steve, purcell, ty...       1  \n",
              "2  [this, movie, was, so, poorly, written, and, d...       2  \n",
              "3  [the, most, interesting, thing, about, miryang...       3  \n",
              "4  [when, first, read, about, berlin, am, meer, d...       4  "
            ],
            "text/html": [
              "\n",
              "  <div id=\"df-13e1e30b-c026-456e-9a9e-b4d6659bd280\">\n",
              "    <div class=\"colab-df-container\">\n",
              "      <div>\n",
              "<style scoped>\n",
              "    .dataframe tbody tr th:only-of-type {\n",
              "        vertical-align: middle;\n",
              "    }\n",
              "\n",
              "    .dataframe tbody tr th {\n",
              "        vertical-align: top;\n",
              "    }\n",
              "\n",
              "    .dataframe thead th {\n",
              "        text-align: right;\n",
              "    }\n",
              "</style>\n",
              "<table border=\"1\" class=\"dataframe\">\n",
              "  <thead>\n",
              "    <tr style=\"text-align: right;\">\n",
              "      <th></th>\n",
              "      <th>text</th>\n",
              "      <th>label</th>\n",
              "      <th>texto_tokenizado</th>\n",
              "      <th>review</th>\n",
              "    </tr>\n",
              "  </thead>\n",
              "  <tbody>\n",
              "    <tr>\n",
              "      <th>0</th>\n",
              "      <td>I always wrote this series off as being a comp...</td>\n",
              "      <td>0</td>\n",
              "      <td>[always, wrote, this, series, off, as, being, ...</td>\n",
              "      <td>0</td>\n",
              "    </tr>\n",
              "    <tr>\n",
              "      <th>1</th>\n",
              "      <td>1st watched 12/7/2002 - 3 out of 10(Dir-Steve ...</td>\n",
              "      <td>0</td>\n",
              "      <td>[st, watched, out, of, dir, steve, purcell, ty...</td>\n",
              "      <td>1</td>\n",
              "    </tr>\n",
              "    <tr>\n",
              "      <th>2</th>\n",
              "      <td>This movie was so poorly written and directed ...</td>\n",
              "      <td>0</td>\n",
              "      <td>[this, movie, was, so, poorly, written, and, d...</td>\n",
              "      <td>2</td>\n",
              "    </tr>\n",
              "    <tr>\n",
              "      <th>3</th>\n",
              "      <td>The most interesting thing about Miryang (Secr...</td>\n",
              "      <td>1</td>\n",
              "      <td>[the, most, interesting, thing, about, miryang...</td>\n",
              "      <td>3</td>\n",
              "    </tr>\n",
              "    <tr>\n",
              "      <th>4</th>\n",
              "      <td>when i first read about \"berlin am meer\" i did...</td>\n",
              "      <td>0</td>\n",
              "      <td>[when, first, read, about, berlin, am, meer, d...</td>\n",
              "      <td>4</td>\n",
              "    </tr>\n",
              "  </tbody>\n",
              "</table>\n",
              "</div>\n",
              "      <button class=\"colab-df-convert\" onclick=\"convertToInteractive('df-13e1e30b-c026-456e-9a9e-b4d6659bd280')\"\n",
              "              title=\"Convert this dataframe to an interactive table.\"\n",
              "              style=\"display:none;\">\n",
              "        \n",
              "  <svg xmlns=\"http://www.w3.org/2000/svg\" height=\"24px\"viewBox=\"0 0 24 24\"\n",
              "       width=\"24px\">\n",
              "    <path d=\"M0 0h24v24H0V0z\" fill=\"none\"/>\n",
              "    <path d=\"M18.56 5.44l.94 2.06.94-2.06 2.06-.94-2.06-.94-.94-2.06-.94 2.06-2.06.94zm-11 1L8.5 8.5l.94-2.06 2.06-.94-2.06-.94L8.5 2.5l-.94 2.06-2.06.94zm10 10l.94 2.06.94-2.06 2.06-.94-2.06-.94-.94-2.06-.94 2.06-2.06.94z\"/><path d=\"M17.41 7.96l-1.37-1.37c-.4-.4-.92-.59-1.43-.59-.52 0-1.04.2-1.43.59L10.3 9.45l-7.72 7.72c-.78.78-.78 2.05 0 2.83L4 21.41c.39.39.9.59 1.41.59.51 0 1.02-.2 1.41-.59l7.78-7.78 2.81-2.81c.8-.78.8-2.07 0-2.86zM5.41 20L4 18.59l7.72-7.72 1.47 1.35L5.41 20z\"/>\n",
              "  </svg>\n",
              "      </button>\n",
              "      \n",
              "  <style>\n",
              "    .colab-df-container {\n",
              "      display:flex;\n",
              "      flex-wrap:wrap;\n",
              "      gap: 12px;\n",
              "    }\n",
              "\n",
              "    .colab-df-convert {\n",
              "      background-color: #E8F0FE;\n",
              "      border: none;\n",
              "      border-radius: 50%;\n",
              "      cursor: pointer;\n",
              "      display: none;\n",
              "      fill: #1967D2;\n",
              "      height: 32px;\n",
              "      padding: 0 0 0 0;\n",
              "      width: 32px;\n",
              "    }\n",
              "\n",
              "    .colab-df-convert:hover {\n",
              "      background-color: #E2EBFA;\n",
              "      box-shadow: 0px 1px 2px rgba(60, 64, 67, 0.3), 0px 1px 3px 1px rgba(60, 64, 67, 0.15);\n",
              "      fill: #174EA6;\n",
              "    }\n",
              "\n",
              "    [theme=dark] .colab-df-convert {\n",
              "      background-color: #3B4455;\n",
              "      fill: #D2E3FC;\n",
              "    }\n",
              "\n",
              "    [theme=dark] .colab-df-convert:hover {\n",
              "      background-color: #434B5C;\n",
              "      box-shadow: 0px 1px 3px 1px rgba(0, 0, 0, 0.15);\n",
              "      filter: drop-shadow(0px 1px 2px rgba(0, 0, 0, 0.3));\n",
              "      fill: #FFFFFF;\n",
              "    }\n",
              "  </style>\n",
              "\n",
              "      <script>\n",
              "        const buttonEl =\n",
              "          document.querySelector('#df-13e1e30b-c026-456e-9a9e-b4d6659bd280 button.colab-df-convert');\n",
              "        buttonEl.style.display =\n",
              "          google.colab.kernel.accessAllowed ? 'block' : 'none';\n",
              "\n",
              "        async function convertToInteractive(key) {\n",
              "          const element = document.querySelector('#df-13e1e30b-c026-456e-9a9e-b4d6659bd280');\n",
              "          const dataTable =\n",
              "            await google.colab.kernel.invokeFunction('convertToInteractive',\n",
              "                                                     [key], {});\n",
              "          if (!dataTable) return;\n",
              "\n",
              "          const docLinkHtml = 'Like what you see? Visit the ' +\n",
              "            '<a target=\"_blank\" href=https://colab.research.google.com/notebooks/data_table.ipynb>data table notebook</a>'\n",
              "            + ' to learn more about interactive tables.';\n",
              "          element.innerHTML = '';\n",
              "          dataTable['output_type'] = 'display_data';\n",
              "          await google.colab.output.renderOutput(dataTable, element);\n",
              "          const docLink = document.createElement('div');\n",
              "          docLink.innerHTML = docLinkHtml;\n",
              "          element.appendChild(docLink);\n",
              "        }\n",
              "      </script>\n",
              "    </div>\n",
              "  </div>\n",
              "  "
            ]
          },
          "metadata": {},
          "execution_count": 7
        }
      ]
    },
    {
      "cell_type": "code",
      "source": [
        "data.loc[data.label==0,\"label2\"]=\"negativo\"\n",
        "data.loc[data.label==1,\"label2\"]=\"positivo\""
      ],
      "metadata": {
        "id": "-epnW5_thblc"
      },
      "execution_count": null,
      "outputs": []
    },
    {
      "cell_type": "code",
      "source": [
        "data['num_words']=data[\"texto_tokenizado\"].apply(lambda x: len(x))\n",
        "print(\"Media palabras en opiniones positivas: \",np.mean(data.loc[data.label==1][\"num_words\"]))\n",
        "print(\"Media palabras en opiniones negativas: \",np.mean(data.loc[data.label==0][\"num_words\"]))\n",
        "print()\n",
        "\n",
        "print(\"Desv est palabras en opiniones positivas: \",np.std(data.loc[data.label==1][\"num_words\"]))\n",
        "print(\"Desv est palabras en opiniones negativas: \",np.std(data.loc[data.label==0][\"num_words\"]))"
      ],
      "metadata": {
        "colab": {
          "base_uri": "https://localhost:8080/"
        },
        "id": "boRS--sdode1",
        "outputId": "fda4c52e-04b6-4438-a3b5-972aea717c67"
      },
      "execution_count": null,
      "outputs": [
        {
          "output_type": "stream",
          "name": "stdout",
          "text": [
            "Media palabras en opiniones positivas:  217.30219560878243\n",
            "Media palabras en opiniones negativas:  223.12825651302606\n",
            "\n",
            "Desv est palabras en opiniones positivas:  169.44832906442073\n",
            "Desv est palabras en opiniones negativas:  164.70064294573902\n"
          ]
        }
      ]
    },
    {
      "cell_type": "code",
      "source": [
        "nltk.download('stopwords')\n",
        "# Obtención de listado de stopwords del inglés\n",
        "# ==============================================================================\n",
        "stop_words = list(stopwords.words('english'))\n",
        "# Se añade la stoprword: amp, ax, ex\n",
        "stop_words.extend((\"amp\", \"xa\", \"xe\"))\n",
        "print(stop_words[:10])"
      ],
      "metadata": {
        "colab": {
          "base_uri": "https://localhost:8080/"
        },
        "id": "V6yaHkH0qTkC",
        "outputId": "9c0b15e4-9d4f-471c-9806-c2b1a55d4572"
      },
      "execution_count": null,
      "outputs": [
        {
          "output_type": "stream",
          "name": "stdout",
          "text": [
            "['i', 'me', 'my', 'myself', 'we', 'our', 'ours', 'ourselves', 'you', \"you're\"]\n"
          ]
        },
        {
          "output_type": "stream",
          "name": "stderr",
          "text": [
            "[nltk_data] Downloading package stopwords to /root/nltk_data...\n",
            "[nltk_data]   Unzipping corpora/stopwords.zip.\n"
          ]
        }
      ]
    },
    {
      "cell_type": "code",
      "source": [
        "data2 = data.explode(column='texto_tokenizado')\n",
        "data2 = data2.drop(columns='text')\n",
        "data2 = data2.rename(columns={'texto_tokenizado':'token'})"
      ],
      "metadata": {
        "id": "NPRfx-AohItb"
      },
      "execution_count": null,
      "outputs": []
    },
    {
      "cell_type": "code",
      "source": [
        "# Filtrado para excluir stopwords\n",
        "# ==============================================================================\n",
        "data2 = data2[~(data2[\"token\"].isin(stop_words))]"
      ],
      "metadata": {
        "id": "j5YP6VY4i9Yv"
      },
      "execution_count": null,
      "outputs": []
    },
    {
      "cell_type": "code",
      "source": [
        "# Top 5 palabras más utilizadas por cada tipo de review (positivo, negativo)\n",
        "# ==============================================================================\n",
        "\n",
        "data2.groupby(['label2','token'])['token'] \\\n",
        " .count() \\\n",
        " .reset_index(name='count') \\\n",
        " .groupby('label2') \\\n",
        " .apply(lambda x: x.sort_values('count', ascending=False).head(5))\n"
      ],
      "metadata": {
        "colab": {
          "base_uri": "https://localhost:8080/",
          "height": 394
        },
        "id": "sJdlVVEffWuY",
        "outputId": "a385fd16-5294-44fe-fd32-7a4e20d520f2"
      },
      "execution_count": null,
      "outputs": [
        {
          "output_type": "execute_result",
          "data": {
            "text/plain": [
              "                  label2  token  count\n",
              "label2                                \n",
              "negativo 15528  negativo  movie   4994\n",
              "         8739   negativo   film   3892\n",
              "         16464  negativo    one   2659\n",
              "         13679  negativo   like   2327\n",
              "         8031   negativo   even   1557\n",
              "positivo 36066  positivo   film   4265\n",
              "         43258  positivo  movie   3620\n",
              "         44211  positivo    one   2679\n",
              "         41327  positivo   like   1623\n",
              "         37418  positivo   good   1466"
            ],
            "text/html": [
              "\n",
              "  <div id=\"df-b9fad794-482e-4c4e-8683-c49eb2424e5f\">\n",
              "    <div class=\"colab-df-container\">\n",
              "      <div>\n",
              "<style scoped>\n",
              "    .dataframe tbody tr th:only-of-type {\n",
              "        vertical-align: middle;\n",
              "    }\n",
              "\n",
              "    .dataframe tbody tr th {\n",
              "        vertical-align: top;\n",
              "    }\n",
              "\n",
              "    .dataframe thead th {\n",
              "        text-align: right;\n",
              "    }\n",
              "</style>\n",
              "<table border=\"1\" class=\"dataframe\">\n",
              "  <thead>\n",
              "    <tr style=\"text-align: right;\">\n",
              "      <th></th>\n",
              "      <th></th>\n",
              "      <th>label2</th>\n",
              "      <th>token</th>\n",
              "      <th>count</th>\n",
              "    </tr>\n",
              "    <tr>\n",
              "      <th>label2</th>\n",
              "      <th></th>\n",
              "      <th></th>\n",
              "      <th></th>\n",
              "      <th></th>\n",
              "    </tr>\n",
              "  </thead>\n",
              "  <tbody>\n",
              "    <tr>\n",
              "      <th rowspan=\"5\" valign=\"top\">negativo</th>\n",
              "      <th>15528</th>\n",
              "      <td>negativo</td>\n",
              "      <td>movie</td>\n",
              "      <td>4994</td>\n",
              "    </tr>\n",
              "    <tr>\n",
              "      <th>8739</th>\n",
              "      <td>negativo</td>\n",
              "      <td>film</td>\n",
              "      <td>3892</td>\n",
              "    </tr>\n",
              "    <tr>\n",
              "      <th>16464</th>\n",
              "      <td>negativo</td>\n",
              "      <td>one</td>\n",
              "      <td>2659</td>\n",
              "    </tr>\n",
              "    <tr>\n",
              "      <th>13679</th>\n",
              "      <td>negativo</td>\n",
              "      <td>like</td>\n",
              "      <td>2327</td>\n",
              "    </tr>\n",
              "    <tr>\n",
              "      <th>8031</th>\n",
              "      <td>negativo</td>\n",
              "      <td>even</td>\n",
              "      <td>1557</td>\n",
              "    </tr>\n",
              "    <tr>\n",
              "      <th rowspan=\"5\" valign=\"top\">positivo</th>\n",
              "      <th>36066</th>\n",
              "      <td>positivo</td>\n",
              "      <td>film</td>\n",
              "      <td>4265</td>\n",
              "    </tr>\n",
              "    <tr>\n",
              "      <th>43258</th>\n",
              "      <td>positivo</td>\n",
              "      <td>movie</td>\n",
              "      <td>3620</td>\n",
              "    </tr>\n",
              "    <tr>\n",
              "      <th>44211</th>\n",
              "      <td>positivo</td>\n",
              "      <td>one</td>\n",
              "      <td>2679</td>\n",
              "    </tr>\n",
              "    <tr>\n",
              "      <th>41327</th>\n",
              "      <td>positivo</td>\n",
              "      <td>like</td>\n",
              "      <td>1623</td>\n",
              "    </tr>\n",
              "    <tr>\n",
              "      <th>37418</th>\n",
              "      <td>positivo</td>\n",
              "      <td>good</td>\n",
              "      <td>1466</td>\n",
              "    </tr>\n",
              "  </tbody>\n",
              "</table>\n",
              "</div>\n",
              "      <button class=\"colab-df-convert\" onclick=\"convertToInteractive('df-b9fad794-482e-4c4e-8683-c49eb2424e5f')\"\n",
              "              title=\"Convert this dataframe to an interactive table.\"\n",
              "              style=\"display:none;\">\n",
              "        \n",
              "  <svg xmlns=\"http://www.w3.org/2000/svg\" height=\"24px\"viewBox=\"0 0 24 24\"\n",
              "       width=\"24px\">\n",
              "    <path d=\"M0 0h24v24H0V0z\" fill=\"none\"/>\n",
              "    <path d=\"M18.56 5.44l.94 2.06.94-2.06 2.06-.94-2.06-.94-.94-2.06-.94 2.06-2.06.94zm-11 1L8.5 8.5l.94-2.06 2.06-.94-2.06-.94L8.5 2.5l-.94 2.06-2.06.94zm10 10l.94 2.06.94-2.06 2.06-.94-2.06-.94-.94-2.06-.94 2.06-2.06.94z\"/><path d=\"M17.41 7.96l-1.37-1.37c-.4-.4-.92-.59-1.43-.59-.52 0-1.04.2-1.43.59L10.3 9.45l-7.72 7.72c-.78.78-.78 2.05 0 2.83L4 21.41c.39.39.9.59 1.41.59.51 0 1.02-.2 1.41-.59l7.78-7.78 2.81-2.81c.8-.78.8-2.07 0-2.86zM5.41 20L4 18.59l7.72-7.72 1.47 1.35L5.41 20z\"/>\n",
              "  </svg>\n",
              "      </button>\n",
              "      \n",
              "  <style>\n",
              "    .colab-df-container {\n",
              "      display:flex;\n",
              "      flex-wrap:wrap;\n",
              "      gap: 12px;\n",
              "    }\n",
              "\n",
              "    .colab-df-convert {\n",
              "      background-color: #E8F0FE;\n",
              "      border: none;\n",
              "      border-radius: 50%;\n",
              "      cursor: pointer;\n",
              "      display: none;\n",
              "      fill: #1967D2;\n",
              "      height: 32px;\n",
              "      padding: 0 0 0 0;\n",
              "      width: 32px;\n",
              "    }\n",
              "\n",
              "    .colab-df-convert:hover {\n",
              "      background-color: #E2EBFA;\n",
              "      box-shadow: 0px 1px 2px rgba(60, 64, 67, 0.3), 0px 1px 3px 1px rgba(60, 64, 67, 0.15);\n",
              "      fill: #174EA6;\n",
              "    }\n",
              "\n",
              "    [theme=dark] .colab-df-convert {\n",
              "      background-color: #3B4455;\n",
              "      fill: #D2E3FC;\n",
              "    }\n",
              "\n",
              "    [theme=dark] .colab-df-convert:hover {\n",
              "      background-color: #434B5C;\n",
              "      box-shadow: 0px 1px 3px 1px rgba(0, 0, 0, 0.15);\n",
              "      filter: drop-shadow(0px 1px 2px rgba(0, 0, 0, 0.3));\n",
              "      fill: #FFFFFF;\n",
              "    }\n",
              "  </style>\n",
              "\n",
              "      <script>\n",
              "        const buttonEl =\n",
              "          document.querySelector('#df-b9fad794-482e-4c4e-8683-c49eb2424e5f button.colab-df-convert');\n",
              "        buttonEl.style.display =\n",
              "          google.colab.kernel.accessAllowed ? 'block' : 'none';\n",
              "\n",
              "        async function convertToInteractive(key) {\n",
              "          const element = document.querySelector('#df-b9fad794-482e-4c4e-8683-c49eb2424e5f');\n",
              "          const dataTable =\n",
              "            await google.colab.kernel.invokeFunction('convertToInteractive',\n",
              "                                                     [key], {});\n",
              "          if (!dataTable) return;\n",
              "\n",
              "          const docLinkHtml = 'Like what you see? Visit the ' +\n",
              "            '<a target=\"_blank\" href=https://colab.research.google.com/notebooks/data_table.ipynb>data table notebook</a>'\n",
              "            + ' to learn more about interactive tables.';\n",
              "          element.innerHTML = '';\n",
              "          dataTable['output_type'] = 'display_data';\n",
              "          await google.colab.output.renderOutput(dataTable, element);\n",
              "          const docLink = document.createElement('div');\n",
              "          docLink.innerHTML = docLinkHtml;\n",
              "          element.appendChild(docLink);\n",
              "        }\n",
              "      </script>\n",
              "    </div>\n",
              "  </div>\n",
              "  "
            ]
          },
          "metadata": {},
          "execution_count": 17
        }
      ]
    },
    {
      "cell_type": "code",
      "source": [
        "# Top 20 palabras por tipo de review (sin stopwords)\n",
        "# ==============================================================================\n",
        "fig, axs = plt.subplots(nrows=2, ncols=1,figsize=(6, 7))\n",
        "for i, label2 in enumerate(data2.label2.unique()):\n",
        "    df_temp = data2[data2.label2 == label2]\n",
        "    counts  = df_temp['token'].value_counts(ascending=False).head(20)\n",
        "    counts.plot(kind='barh', color='firebrick', ax=axs[i])\n",
        "    axs[i].invert_yaxis()\n",
        "    axs[i].set_title(label2)\n",
        "\n",
        "fig.tight_layout()"
      ],
      "metadata": {
        "colab": {
          "base_uri": "https://localhost:8080/",
          "height": 707
        },
        "id": "3-QWxK6djCfk",
        "outputId": "ef6747e5-4820-4e49-8ceb-d56ab31fb445"
      },
      "execution_count": null,
      "outputs": [
        {
          "output_type": "display_data",
          "data": {
            "text/plain": [
              "<Figure size 600x700 with 2 Axes>"
            ],
            "image/png": "[encoded data removed]"
          },
          "metadata": {}
        }
      ]
    },
    {
      "cell_type": "code",
      "source": [
        "# Descarga lexicon sentimientos\n",
        "# ==============================================================================\n",
        "lexicon = pd.read_table(\n",
        "            'https://raw.githubusercontent.com/fnielsen/afinn/master/afinn/data/AFINN-en-165.txt',\n",
        "            names = ['termino', 'sentimiento']\n",
        "          )\n",
        "lexicon.head()"
      ],
      "metadata": {
        "colab": {
          "base_uri": "https://localhost:8080/",
          "height": 206
        },
        "id": "AJa1fVhhmYP7",
        "outputId": "dfe22952-d344-4e12-ff9b-57170d17212a"
      },
      "execution_count": null,
      "outputs": [
        {
          "output_type": "execute_result",
          "data": {
            "text/plain": [
              "     termino  sentimiento\n",
              "0    abandon           -2\n",
              "1  abandoned           -2\n",
              "2   abandons           -2\n",
              "3   abducted           -2\n",
              "4  abduction           -2"
            ],
            "text/html": [
              "\n",
              "  <div id=\"df-93dfe136-052d-44d3-8664-47068ad03da7\">\n",
              "    <div class=\"colab-df-container\">\n",
              "      <div>\n",
              "<style scoped>\n",
              "    .dataframe tbody tr th:only-of-type {\n",
              "        vertical-align: middle;\n",
              "    }\n",
              "\n",
              "    .dataframe tbody tr th {\n",
              "        vertical-align: top;\n",
              "    }\n",
              "\n",
              "    .dataframe thead th {\n",
              "        text-align: right;\n",
              "    }\n",
              "</style>\n",
              "<table border=\"1\" class=\"dataframe\">\n",
              "  <thead>\n",
              "    <tr style=\"text-align: right;\">\n",
              "      <th></th>\n",
              "      <th>termino</th>\n",
              "      <th>sentimiento</th>\n",
              "    </tr>\n",
              "  </thead>\n",
              "  <tbody>\n",
              "    <tr>\n",
              "      <th>0</th>\n",
              "      <td>abandon</td>\n",
              "      <td>-2</td>\n",
              "    </tr>\n",
              "    <tr>\n",
              "      <th>1</th>\n",
              "      <td>abandoned</td>\n",
              "      <td>-2</td>\n",
              "    </tr>\n",
              "    <tr>\n",
              "      <th>2</th>\n",
              "      <td>abandons</td>\n",
              "      <td>-2</td>\n",
              "    </tr>\n",
              "    <tr>\n",
              "      <th>3</th>\n",
              "      <td>abducted</td>\n",
              "      <td>-2</td>\n",
              "    </tr>\n",
              "    <tr>\n",
              "      <th>4</th>\n",
              "      <td>abduction</td>\n",
              "      <td>-2</td>\n",
              "    </tr>\n",
              "  </tbody>\n",
              "</table>\n",
              "</div>\n",
              "      <button class=\"colab-df-convert\" onclick=\"convertToInteractive('df-93dfe136-052d-44d3-8664-47068ad03da7')\"\n",
              "              title=\"Convert this dataframe to an interactive table.\"\n",
              "              style=\"display:none;\">\n",
              "        \n",
              "  <svg xmlns=\"http://www.w3.org/2000/svg\" height=\"24px\"viewBox=\"0 0 24 24\"\n",
              "       width=\"24px\">\n",
              "    <path d=\"M0 0h24v24H0V0z\" fill=\"none\"/>\n",
              "    <path d=\"M18.56 5.44l.94 2.06.94-2.06 2.06-.94-2.06-.94-.94-2.06-.94 2.06-2.06.94zm-11 1L8.5 8.5l.94-2.06 2.06-.94-2.06-.94L8.5 2.5l-.94 2.06-2.06.94zm10 10l.94 2.06.94-2.06 2.06-.94-2.06-.94-.94-2.06-.94 2.06-2.06.94z\"/><path d=\"M17.41 7.96l-1.37-1.37c-.4-.4-.92-.59-1.43-.59-.52 0-1.04.2-1.43.59L10.3 9.45l-7.72 7.72c-.78.78-.78 2.05 0 2.83L4 21.41c.39.39.9.59 1.41.59.51 0 1.02-.2 1.41-.59l7.78-7.78 2.81-2.81c.8-.78.8-2.07 0-2.86zM5.41 20L4 18.59l7.72-7.72 1.47 1.35L5.41 20z\"/>\n",
              "  </svg>\n",
              "      </button>\n",
              "      \n",
              "  <style>\n",
              "    .colab-df-container {\n",
              "      display:flex;\n",
              "      flex-wrap:wrap;\n",
              "      gap: 12px;\n",
              "    }\n",
              "\n",
              "    .colab-df-convert {\n",
              "      background-color: #E8F0FE;\n",
              "      border: none;\n",
              "      border-radius: 50%;\n",
              "      cursor: pointer;\n",
              "      display: none;\n",
              "      fill: #1967D2;\n",
              "      height: 32px;\n",
              "      padding: 0 0 0 0;\n",
              "      width: 32px;\n",
              "    }\n",
              "\n",
              "    .colab-df-convert:hover {\n",
              "      background-color: #E2EBFA;\n",
              "      box-shadow: 0px 1px 2px rgba(60, 64, 67, 0.3), 0px 1px 3px 1px rgba(60, 64, 67, 0.15);\n",
              "      fill: #174EA6;\n",
              "    }\n",
              "\n",
              "    [theme=dark] .colab-df-convert {\n",
              "      background-color: #3B4455;\n",
              "      fill: #D2E3FC;\n",
              "    }\n",
              "\n",
              "    [theme=dark] .colab-df-convert:hover {\n",
              "      background-color: #434B5C;\n",
              "      box-shadow: 0px 1px 3px 1px rgba(0, 0, 0, 0.15);\n",
              "      filter: drop-shadow(0px 1px 2px rgba(0, 0, 0, 0.3));\n",
              "      fill: #FFFFFF;\n",
              "    }\n",
              "  </style>\n",
              "\n",
              "      <script>\n",
              "        const buttonEl =\n",
              "          document.querySelector('#df-93dfe136-052d-44d3-8664-47068ad03da7 button.colab-df-convert');\n",
              "        buttonEl.style.display =\n",
              "          google.colab.kernel.accessAllowed ? 'block' : 'none';\n",
              "\n",
              "        async function convertToInteractive(key) {\n",
              "          const element = document.querySelector('#df-93dfe136-052d-44d3-8664-47068ad03da7');\n",
              "          const dataTable =\n",
              "            await google.colab.kernel.invokeFunction('convertToInteractive',\n",
              "                                                     [key], {});\n",
              "          if (!dataTable) return;\n",
              "\n",
              "          const docLinkHtml = 'Like what you see? Visit the ' +\n",
              "            '<a target=\"_blank\" href=https://colab.research.google.com/notebooks/data_table.ipynb>data table notebook</a>'\n",
              "            + ' to learn more about interactive tables.';\n",
              "          element.innerHTML = '';\n",
              "          dataTable['output_type'] = 'display_data';\n",
              "          await google.colab.output.renderOutput(dataTable, element);\n",
              "          const docLink = document.createElement('div');\n",
              "          docLink.innerHTML = docLinkHtml;\n",
              "          element.appendChild(docLink);\n",
              "        }\n",
              "      </script>\n",
              "    </div>\n",
              "  </div>\n",
              "  "
            ]
          },
          "metadata": {},
          "execution_count": 19
        }
      ]
    },
    {
      "cell_type": "code",
      "source": [
        "# Define a function to clean the text\n",
        "def clean(text):\n",
        "    # Removes all special characters and numericals leaving the alphabets\n",
        "    text = re.sub('[^A-Za-z]+', ' ', text) \n",
        "    return text\n",
        "\n",
        "# Cleaning the text in the review column\n",
        "data['Cleaned Reviews'] = data['text'].apply(clean)\n"
      ],
      "metadata": {
        "id": "7bysQ6JNILhb"
      },
      "execution_count": null,
      "outputs": []
    },
    {
      "cell_type": "code",
      "source": [
        "import nltk\n",
        "nltk.download('punkt')\n",
        "from nltk.tokenize import word_tokenize\n",
        "from nltk import pos_tag\n",
        "nltk.download('stopwords')\n",
        "from nltk.corpus import stopwords\n",
        "nltk.download('wordnet')\n",
        "from nltk.corpus import wordnet\n",
        "nltk.download('averaged_perceptron_tagger')\n",
        "\n",
        "# POS tagger dictionary\n",
        "pos_dict = {'J':wordnet.ADJ, 'V':wordnet.VERB, 'N':wordnet.NOUN, 'R':wordnet.ADV}\n",
        "\n",
        "def token_stop_pos(text):\n",
        "    tags = pos_tag(word_tokenize(text))\n",
        "    newlist = []\n",
        "    for word, tag in tags:\n",
        "        if word.lower() not in set(stopwords.words('english')):\n",
        "            newlist.append(tuple([word, pos_dict.get(tag[0])]))\n",
        "    return newlist\n",
        "\n",
        "data['post cleaned'] = data['Cleaned Reviews'].apply(token_stop_pos)\n",
        "data.head()"
      ],
      "metadata": {
        "colab": {
          "base_uri": "https://localhost:8080/",
          "height": 484
        },
        "id": "wXVaTTKcIZUJ",
        "outputId": "3b73572b-b162-4a51-d5be-5a72c1bdec00"
      },
      "execution_count": null,
      "outputs": [
        {
          "output_type": "stream",
          "name": "stderr",
          "text": [
            "[nltk_data] Downloading package punkt to /root/nltk_data...\n",
            "[nltk_data]   Unzipping tokenizers/punkt.zip.\n",
            "[nltk_data] Downloading package stopwords to /root/nltk_data...\n",
            "[nltk_data]   Package stopwords is already up-to-date!\n",
            "[nltk_data] Downloading package wordnet to /root/nltk_data...\n",
            "[nltk_data] Downloading package averaged_perceptron_tagger to\n",
            "[nltk_data]     /root/nltk_data...\n",
            "[nltk_data]   Unzipping taggers/averaged_perceptron_tagger.zip.\n"
          ]
        },
        {
          "output_type": "execute_result",
          "data": {
            "text/plain": [
              "                                                text  label  \\\n",
              "0  I always wrote this series off as being a comp...      0   \n",
              "1  1st watched 12/7/2002 - 3 out of 10(Dir-Steve ...      0   \n",
              "2  This movie was so poorly written and directed ...      0   \n",
              "3  The most interesting thing about Miryang (Secr...      1   \n",
              "4  when i first read about \"berlin am meer\" i did...      0   \n",
              "\n",
              "                                    texto_tokenizado  review    label2  \\\n",
              "0  [always, wrote, this, series, off, as, being, ...       0  negativo   \n",
              "1  [st, watched, out, of, dir, steve, purcell, ty...       1  negativo   \n",
              "2  [this, movie, was, so, poorly, written, and, d...       2  negativo   \n",
              "3  [the, most, interesting, thing, about, miryang...       3  positivo   \n",
              "4  [when, first, read, about, berlin, am, meer, d...       4  negativo   \n",
              "\n",
              "   num_words                                    Cleaned Reviews  \\\n",
              "0        363  I always wrote this series off as being a comp...   \n",
              "1        188   st watched out of Dir Steve Purcell Typical M...   \n",
              "2        247  This movie was so poorly written and directed ...   \n",
              "3        724  The most interesting thing about Miryang Secre...   \n",
              "4        165  when i first read about berlin am meer i didn ...   \n",
              "\n",
              "                                        post cleaned  \n",
              "0  [(always, r), (wrote, v), (series, n), (comple...  \n",
              "1  [(st, n), (watched, v), (Dir, n), (Steve, n), ...  \n",
              "2  [(movie, n), (poorly, r), (written, v), (direc...  \n",
              "3  [(interesting, a), (thing, n), (Miryang, n), (...  \n",
              "4  [(first, r), (read, v), (berlin, n), (meer, n)...  "
            ],
            "text/html": [
              "\n",
              "  <div id=\"df-8d8dd903-9da5-4c80-bb82-fc235e73bf27\">\n",
              "    <div class=\"colab-df-container\">\n",
              "      <div>\n",
              "<style scoped>\n",
              "    .dataframe tbody tr th:only-of-type {\n",
              "        vertical-align: middle;\n",
              "    }\n",
              "\n",
              "    .dataframe tbody tr th {\n",
              "        vertical-align: top;\n",
              "    }\n",
              "\n",
              "    .dataframe thead th {\n",
              "        text-align: right;\n",
              "    }\n",
              "</style>\n",
              "<table border=\"1\" class=\"dataframe\">\n",
              "  <thead>\n",
              "    <tr style=\"text-align: right;\">\n",
              "      <th></th>\n",
              "      <th>text</th>\n",
              "      <th>label</th>\n",
              "      <th>texto_tokenizado</th>\n",
              "      <th>review</th>\n",
              "      <th>label2</th>\n",
              "      <th>num_words</th>\n",
              "      <th>Cleaned Reviews</th>\n",
              "      <th>post cleaned</th>\n",
              "    </tr>\n",
              "  </thead>\n",
              "  <tbody>\n",
              "    <tr>\n",
              "      <th>0</th>\n",
              "      <td>I always wrote this series off as being a comp...</td>\n",
              "      <td>0</td>\n",
              "      <td>[always, wrote, this, series, off, as, being, ...</td>\n",
              "      <td>0</td>\n",
              "      <td>negativo</td>\n",
              "      <td>363</td>\n",
              "      <td>I always wrote this series off as being a comp...</td>\n",
              "      <td>[(always, r), (wrote, v), (series, n), (comple...</td>\n",
              "    </tr>\n",
              "    <tr>\n",
              "      <th>1</th>\n",
              "      <td>1st watched 12/7/2002 - 3 out of 10(Dir-Steve ...</td>\n",
              "      <td>0</td>\n",
              "      <td>[st, watched, out, of, dir, steve, purcell, ty...</td>\n",
              "      <td>1</td>\n",
              "      <td>negativo</td>\n",
              "      <td>188</td>\n",
              "      <td>st watched out of Dir Steve Purcell Typical M...</td>\n",
              "      <td>[(st, n), (watched, v), (Dir, n), (Steve, n), ...</td>\n",
              "    </tr>\n",
              "    <tr>\n",
              "      <th>2</th>\n",
              "      <td>This movie was so poorly written and directed ...</td>\n",
              "      <td>0</td>\n",
              "      <td>[this, movie, was, so, poorly, written, and, d...</td>\n",
              "      <td>2</td>\n",
              "      <td>negativo</td>\n",
              "      <td>247</td>\n",
              "      <td>This movie was so poorly written and directed ...</td>\n",
              "      <td>[(movie, n), (poorly, r), (written, v), (direc...</td>\n",
              "    </tr>\n",
              "    <tr>\n",
              "      <th>3</th>\n",
              "      <td>The most interesting thing about Miryang (Secr...</td>\n",
              "      <td>1</td>\n",
              "      <td>[the, most, interesting, thing, about, miryang...</td>\n",
              "      <td>3</td>\n",
              "      <td>positivo</td>\n",
              "      <td>724</td>\n",
              "      <td>The most interesting thing about Miryang Secre...</td>\n",
              "      <td>[(interesting, a), (thing, n), (Miryang, n), (...</td>\n",
              "    </tr>\n",
              "    <tr>\n",
              "      <th>4</th>\n",
              "      <td>when i first read about \"berlin am meer\" i did...</td>\n",
              "      <td>0</td>\n",
              "      <td>[when, first, read, about, berlin, am, meer, d...</td>\n",
              "      <td>4</td>\n",
              "      <td>negativo</td>\n",
              "      <td>165</td>\n",
              "      <td>when i first read about berlin am meer i didn ...</td>\n",
              "      <td>[(first, r), (read, v), (berlin, n), (meer, n)...</td>\n",
              "    </tr>\n",
              "  </tbody>\n",
              "</table>\n",
              "</div>\n",
              "      <button class=\"colab-df-convert\" onclick=\"convertToInteractive('df-8d8dd903-9da5-4c80-bb82-fc235e73bf27')\"\n",
              "              title=\"Convert this dataframe to an interactive table.\"\n",
              "              style=\"display:none;\">\n",
              "        \n",
              "  <svg xmlns=\"http://www.w3.org/2000/svg\" height=\"24px\"viewBox=\"0 0 24 24\"\n",
              "       width=\"24px\">\n",
              "    <path d=\"M0 0h24v24H0V0z\" fill=\"none\"/>\n",
              "    <path d=\"M18.56 5.44l.94 2.06.94-2.06 2.06-.94-2.06-.94-.94-2.06-.94 2.06-2.06.94zm-11 1L8.5 8.5l.94-2.06 2.06-.94-2.06-.94L8.5 2.5l-.94 2.06-2.06.94zm10 10l.94 2.06.94-2.06 2.06-.94-2.06-.94-.94-2.06-.94 2.06-2.06.94z\"/><path d=\"M17.41 7.96l-1.37-1.37c-.4-.4-.92-.59-1.43-.59-.52 0-1.04.2-1.43.59L10.3 9.45l-7.72 7.72c-.78.78-.78 2.05 0 2.83L4 21.41c.39.39.9.59 1.41.59.51 0 1.02-.2 1.41-.59l7.78-7.78 2.81-2.81c.8-.78.8-2.07 0-2.86zM5.41 20L4 18.59l7.72-7.72 1.47 1.35L5.41 20z\"/>\n",
              "  </svg>\n",
              "      </button>\n",
              "      \n",
              "  <style>\n",
              "    .colab-df-container {\n",
              "      display:flex;\n",
              "      flex-wrap:wrap;\n",
              "      gap: 12px;\n",
              "    }\n",
              "\n",
              "    .colab-df-convert {\n",
              "      background-color: #E8F0FE;\n",
              "      border: none;\n",
              "      border-radius: 50%;\n",
              "      cursor: pointer;\n",
              "      display: none;\n",
              "      fill: #1967D2;\n",
              "      height: 32px;\n",
              "      padding: 0 0 0 0;\n",
              "      width: 32px;\n",
              "    }\n",
              "\n",
              "    .colab-df-convert:hover {\n",
              "      background-color: #E2EBFA;\n",
              "      box-shadow: 0px 1px 2px rgba(60, 64, 67, 0.3), 0px 1px 3px 1px rgba(60, 64, 67, 0.15);\n",
              "      fill: #174EA6;\n",
              "    }\n",
              "\n",
              "    [theme=dark] .colab-df-convert {\n",
              "      background-color: #3B4455;\n",
              "      fill: #D2E3FC;\n",
              "    }\n",
              "\n",
              "    [theme=dark] .colab-df-convert:hover {\n",
              "      background-color: #434B5C;\n",
              "      box-shadow: 0px 1px 3px 1px rgba(0, 0, 0, 0.15);\n",
              "      filter: drop-shadow(0px 1px 2px rgba(0, 0, 0, 0.3));\n",
              "      fill: #FFFFFF;\n",
              "    }\n",
              "  </style>\n",
              "\n",
              "      <script>\n",
              "        const buttonEl =\n",
              "          document.querySelector('#df-8d8dd903-9da5-4c80-bb82-fc235e73bf27 button.colab-df-convert');\n",
              "        buttonEl.style.display =\n",
              "          google.colab.kernel.accessAllowed ? 'block' : 'none';\n",
              "\n",
              "        async function convertToInteractive(key) {\n",
              "          const element = document.querySelector('#df-8d8dd903-9da5-4c80-bb82-fc235e73bf27');\n",
              "          const dataTable =\n",
              "            await google.colab.kernel.invokeFunction('convertToInteractive',\n",
              "                                                     [key], {});\n",
              "          if (!dataTable) return;\n",
              "\n",
              "          const docLinkHtml = 'Like what you see? Visit the ' +\n",
              "            '<a target=\"_blank\" href=https://colab.research.google.com/notebooks/data_table.ipynb>data table notebook</a>'\n",
              "            + ' to learn more about interactive tables.';\n",
              "          element.innerHTML = '';\n",
              "          dataTable['output_type'] = 'display_data';\n",
              "          await google.colab.output.renderOutput(dataTable, element);\n",
              "          const docLink = document.createElement('div');\n",
              "          docLink.innerHTML = docLinkHtml;\n",
              "          element.appendChild(docLink);\n",
              "        }\n",
              "      </script>\n",
              "    </div>\n",
              "  </div>\n",
              "  "
            ]
          },
          "metadata": {},
          "execution_count": 23
        }
      ]
    },
    {
      "cell_type": "code",
      "source": [
        "from nltk.stem import WordNetLemmatizer\n",
        "wordnet_lemmatizer = WordNetLemmatizer()\n",
        "\n",
        "def lemmatize(pos_data):\n",
        "    lemma_rew = \" \"\n",
        "    for word, pos in pos_data:\n",
        "        if not pos: \n",
        "            lemma = word\n",
        "            lemma_rew = lemma_rew + \" \" + lemma\n",
        "        else:  \n",
        "            lemma = wordnet_lemmatizer.lemmatize(word, pos=pos)\n",
        "            lemma_rew = lemma_rew + \" \" + lemma\n",
        "    return lemma_rew\n",
        "    \n",
        "data['Lemma'] = data['post cleaned'].apply(lemmatize)\n",
        "data.head(5)"
      ],
      "metadata": {
        "colab": {
          "base_uri": "https://localhost:8080/",
          "height": 337
        },
        "id": "dMkERtJKI1ZZ",
        "outputId": "9b104447-db4f-4259-ea97-929a8424e120"
      },
      "execution_count": null,
      "outputs": [
        {
          "output_type": "execute_result",
          "data": {
            "text/plain": [
              "                                                text  label  \\\n",
              "0  I always wrote this series off as being a comp...      0   \n",
              "1  1st watched 12/7/2002 - 3 out of 10(Dir-Steve ...      0   \n",
              "2  This movie was so poorly written and directed ...      0   \n",
              "3  The most interesting thing about Miryang (Secr...      1   \n",
              "4  when i first read about \"berlin am meer\" i did...      0   \n",
              "\n",
              "                                    texto_tokenizado  review    label2  \\\n",
              "0  [always, wrote, this, series, off, as, being, ...       0  negativo   \n",
              "1  [st, watched, out, of, dir, steve, purcell, ty...       1  negativo   \n",
              "2  [this, movie, was, so, poorly, written, and, d...       2  negativo   \n",
              "3  [the, most, interesting, thing, about, miryang...       3  positivo   \n",
              "4  [when, first, read, about, berlin, am, meer, d...       4  negativo   \n",
              "\n",
              "   num_words                                    Cleaned Reviews  \\\n",
              "0        363  I always wrote this series off as being a comp...   \n",
              "1        188   st watched out of Dir Steve Purcell Typical M...   \n",
              "2        247  This movie was so poorly written and directed ...   \n",
              "3        724  The most interesting thing about Miryang Secre...   \n",
              "4        165  when i first read about berlin am meer i didn ...   \n",
              "\n",
              "                                        post cleaned  \\\n",
              "0  [(always, r), (wrote, v), (series, n), (comple...   \n",
              "1  [(st, n), (watched, v), (Dir, n), (Steve, n), ...   \n",
              "2  [(movie, n), (poorly, r), (written, v), (direc...   \n",
              "3  [(interesting, a), (thing, n), (Miryang, n), (...   \n",
              "4  [(first, r), (read, v), (berlin, n), (meer, n)...   \n",
              "\n",
              "                                               Lemma  \n",
              "0    always write series complete stink fest Jim ...  \n",
              "1    st watch Dir Steve Purcell Typical Mary Kate...  \n",
              "2    movie poorly write direct fell asleep minute...  \n",
              "3    interesting thing Miryang Secret Sunshine ac...  \n",
              "4    first read berlin meer expect much thought r...  "
            ],
            "text/html": [
              "\n",
              "  <div id=\"df-24cea338-c11b-48b7-bd03-f20c8e83eccb\">\n",
              "    <div class=\"colab-df-container\">\n",
              "      <div>\n",
              "<style scoped>\n",
              "    .dataframe tbody tr th:only-of-type {\n",
              "        vertical-align: middle;\n",
              "    }\n",
              "\n",
              "    .dataframe tbody tr th {\n",
              "        vertical-align: top;\n",
              "    }\n",
              "\n",
              "    .dataframe thead th {\n",
              "        text-align: right;\n",
              "    }\n",
              "</style>\n",
              "<table border=\"1\" class=\"dataframe\">\n",
              "  <thead>\n",
              "    <tr style=\"text-align: right;\">\n",
              "      <th></th>\n",
              "      <th>text</th>\n",
              "      <th>label</th>\n",
              "      <th>texto_tokenizado</th>\n",
              "      <th>review</th>\n",
              "      <th>label2</th>\n",
              "      <th>num_words</th>\n",
              "      <th>Cleaned Reviews</th>\n",
              "      <th>post cleaned</th>\n",
              "      <th>Lemma</th>\n",
              "    </tr>\n",
              "  </thead>\n",
              "  <tbody>\n",
              "    <tr>\n",
              "      <th>0</th>\n",
              "      <td>I always wrote this series off as being a comp...</td>\n",
              "      <td>0</td>\n",
              "      <td>[always, wrote, this, series, off, as, being, ...</td>\n",
              "      <td>0</td>\n",
              "      <td>negativo</td>\n",
              "      <td>363</td>\n",
              "      <td>I always wrote this series off as being a comp...</td>\n",
              "      <td>[(always, r), (wrote, v), (series, n), (comple...</td>\n",
              "      <td>always write series complete stink fest Jim ...</td>\n",
              "    </tr>\n",
              "    <tr>\n",
              "      <th>1</th>\n",
              "      <td>1st watched 12/7/2002 - 3 out of 10(Dir-Steve ...</td>\n",
              "      <td>0</td>\n",
              "      <td>[st, watched, out, of, dir, steve, purcell, ty...</td>\n",
              "      <td>1</td>\n",
              "      <td>negativo</td>\n",
              "      <td>188</td>\n",
              "      <td>st watched out of Dir Steve Purcell Typical M...</td>\n",
              "      <td>[(st, n), (watched, v), (Dir, n), (Steve, n), ...</td>\n",
              "      <td>st watch Dir Steve Purcell Typical Mary Kate...</td>\n",
              "    </tr>\n",
              "    <tr>\n",
              "      <th>2</th>\n",
              "      <td>This movie was so poorly written and directed ...</td>\n",
              "      <td>0</td>\n",
              "      <td>[this, movie, was, so, poorly, written, and, d...</td>\n",
              "      <td>2</td>\n",
              "      <td>negativo</td>\n",
              "      <td>247</td>\n",
              "      <td>This movie was so poorly written and directed ...</td>\n",
              "      <td>[(movie, n), (poorly, r), (written, v), (direc...</td>\n",
              "      <td>movie poorly write direct fell asleep minute...</td>\n",
              "    </tr>\n",
              "    <tr>\n",
              "      <th>3</th>\n",
              "      <td>The most interesting thing about Miryang (Secr...</td>\n",
              "      <td>1</td>\n",
              "      <td>[the, most, interesting, thing, about, miryang...</td>\n",
              "      <td>3</td>\n",
              "      <td>positivo</td>\n",
              "      <td>724</td>\n",
              "      <td>The most interesting thing about Miryang Secre...</td>\n",
              "      <td>[(interesting, a), (thing, n), (Miryang, n), (...</td>\n",
              "      <td>interesting thing Miryang Secret Sunshine ac...</td>\n",
              "    </tr>\n",
              "    <tr>\n",
              "      <th>4</th>\n",
              "      <td>when i first read about \"berlin am meer\" i did...</td>\n",
              "      <td>0</td>\n",
              "      <td>[when, first, read, about, berlin, am, meer, d...</td>\n",
              "      <td>4</td>\n",
              "      <td>negativo</td>\n",
              "      <td>165</td>\n",
              "      <td>when i first read about berlin am meer i didn ...</td>\n",
              "      <td>[(first, r), (read, v), (berlin, n), (meer, n)...</td>\n",
              "      <td>first read berlin meer expect much thought r...</td>\n",
              "    </tr>\n",
              "  </tbody>\n",
              "</table>\n",
              "</div>\n",
              "      <button class=\"colab-df-convert\" onclick=\"convertToInteractive('df-24cea338-c11b-48b7-bd03-f20c8e83eccb')\"\n",
              "              title=\"Convert this dataframe to an interactive table.\"\n",
              "              style=\"display:none;\">\n",
              "        \n",
              "  <svg xmlns=\"http://www.w3.org/2000/svg\" height=\"24px\"viewBox=\"0 0 24 24\"\n",
              "       width=\"24px\">\n",
              "    <path d=\"M0 0h24v24H0V0z\" fill=\"none\"/>\n",
              "    <path d=\"M18.56 5.44l.94 2.06.94-2.06 2.06-.94-2.06-.94-.94-2.06-.94 2.06-2.06.94zm-11 1L8.5 8.5l.94-2.06 2.06-.94-2.06-.94L8.5 2.5l-.94 2.06-2.06.94zm10 10l.94 2.06.94-2.06 2.06-.94-2.06-.94-.94-2.06-.94 2.06-2.06.94z\"/><path d=\"M17.41 7.96l-1.37-1.37c-.4-.4-.92-.59-1.43-.59-.52 0-1.04.2-1.43.59L10.3 9.45l-7.72 7.72c-.78.78-.78 2.05 0 2.83L4 21.41c.39.39.9.59 1.41.59.51 0 1.02-.2 1.41-.59l7.78-7.78 2.81-2.81c.8-.78.8-2.07 0-2.86zM5.41 20L4 18.59l7.72-7.72 1.47 1.35L5.41 20z\"/>\n",
              "  </svg>\n",
              "      </button>\n",
              "      \n",
              "  <style>\n",
              "    .colab-df-container {\n",
              "      display:flex;\n",
              "      flex-wrap:wrap;\n",
              "      gap: 12px;\n",
              "    }\n",
              "\n",
              "    .colab-df-convert {\n",
              "      background-color: #E8F0FE;\n",
              "      border: none;\n",
              "      border-radius: 50%;\n",
              "      cursor: pointer;\n",
              "      display: none;\n",
              "      fill: #1967D2;\n",
              "      height: 32px;\n",
              "      padding: 0 0 0 0;\n",
              "      width: 32px;\n",
              "    }\n",
              "\n",
              "    .colab-df-convert:hover {\n",
              "      background-color: #E2EBFA;\n",
              "      box-shadow: 0px 1px 2px rgba(60, 64, 67, 0.3), 0px 1px 3px 1px rgba(60, 64, 67, 0.15);\n",
              "      fill: #174EA6;\n",
              "    }\n",
              "\n",
              "    [theme=dark] .colab-df-convert {\n",
              "      background-color: #3B4455;\n",
              "      fill: #D2E3FC;\n",
              "    }\n",
              "\n",
              "    [theme=dark] .colab-df-convert:hover {\n",
              "      background-color: #434B5C;\n",
              "      box-shadow: 0px 1px 3px 1px rgba(0, 0, 0, 0.15);\n",
              "      filter: drop-shadow(0px 1px 2px rgba(0, 0, 0, 0.3));\n",
              "      fill: #FFFFFF;\n",
              "    }\n",
              "  </style>\n",
              "\n",
              "      <script>\n",
              "        const buttonEl =\n",
              "          document.querySelector('#df-24cea338-c11b-48b7-bd03-f20c8e83eccb button.colab-df-convert');\n",
              "        buttonEl.style.display =\n",
              "          google.colab.kernel.accessAllowed ? 'block' : 'none';\n",
              "\n",
              "        async function convertToInteractive(key) {\n",
              "          const element = document.querySelector('#df-24cea338-c11b-48b7-bd03-f20c8e83eccb');\n",
              "          const dataTable =\n",
              "            await google.colab.kernel.invokeFunction('convertToInteractive',\n",
              "                                                     [key], {});\n",
              "          if (!dataTable) return;\n",
              "\n",
              "          const docLinkHtml = 'Like what you see? Visit the ' +\n",
              "            '<a target=\"_blank\" href=https://colab.research.google.com/notebooks/data_table.ipynb>data table notebook</a>'\n",
              "            + ' to learn more about interactive tables.';\n",
              "          element.innerHTML = '';\n",
              "          dataTable['output_type'] = 'display_data';\n",
              "          await google.colab.output.renderOutput(dataTable, element);\n",
              "          const docLink = document.createElement('div');\n",
              "          docLink.innerHTML = docLinkHtml;\n",
              "          element.appendChild(docLink);\n",
              "        }\n",
              "      </script>\n",
              "    </div>\n",
              "  </div>\n",
              "  "
            ]
          },
          "metadata": {},
          "execution_count": 24
        }
      ]
    },
    {
      "cell_type": "code",
      "source": [
        "data.label2.value_counts()"
      ],
      "metadata": {
        "colab": {
          "base_uri": "https://localhost:8080/"
        },
        "id": "sSIxWG-jqxBX",
        "outputId": "96a75c0b-d161-40b0-c956-23b94f101daa"
      },
      "execution_count": null,
      "outputs": [
        {
          "output_type": "execute_result",
          "data": {
            "text/plain": [
              "positivo    2505\n",
              "negativo    2495\n",
              "Name: label2, dtype: int64"
            ]
          },
          "metadata": {},
          "execution_count": 25
        }
      ]
    },
    {
      "cell_type": "code",
      "source": [
        "from textblob import TextBlob\n",
        "\n",
        "# function to calculate subjectivity \n",
        "def getSubjectivity(review):\n",
        "    return TextBlob(review).sentiment.subjectivity\n",
        "\n",
        "# function to calculate polarity\n",
        "def getPolarity(review):\n",
        "    return TextBlob(review).sentiment.polarity\n",
        "\n",
        "# function to analyze the reviews\n",
        "def analysis(score):\n",
        "    if score < 0:\n",
        "        return 'Negative'\n",
        "    elif score == 0:\n",
        "        return 'Neutral'\n",
        "    else:\n",
        "        return 'Positive'"
      ],
      "metadata": {
        "id": "kYeJTe31H0K3"
      },
      "execution_count": null,
      "outputs": []
    },
    {
      "cell_type": "code",
      "source": [
        "data['Polarity'] = data['Lemma'].apply(getPolarity) \n",
        "data['Analysis'] = data['Polarity'].apply(analysis)\n",
        "data.head()"
      ],
      "metadata": {
        "colab": {
          "base_uri": "https://localhost:8080/",
          "height": 337
        },
        "id": "dactRa-xIGIx",
        "outputId": "73599952-5eb3-4cc6-cf41-cd419cf83cc6"
      },
      "execution_count": null,
      "outputs": [
        {
          "output_type": "execute_result",
          "data": {
            "text/plain": [
              "                                                text  label  \\\n",
              "0  I always wrote this series off as being a comp...      0   \n",
              "1  1st watched 12/7/2002 - 3 out of 10(Dir-Steve ...      0   \n",
              "2  This movie was so poorly written and directed ...      0   \n",
              "3  The most interesting thing about Miryang (Secr...      1   \n",
              "4  when i first read about \"berlin am meer\" i did...      0   \n",
              "\n",
              "                                    texto_tokenizado  review    label2  \\\n",
              "0  [always, wrote, this, series, off, as, being, ...       0  negativo   \n",
              "1  [st, watched, out, of, dir, steve, purcell, ty...       1  negativo   \n",
              "2  [this, movie, was, so, poorly, written, and, d...       2  negativo   \n",
              "3  [the, most, interesting, thing, about, miryang...       3  positivo   \n",
              "4  [when, first, read, about, berlin, am, meer, d...       4  negativo   \n",
              "\n",
              "   num_words                                    Cleaned Reviews  \\\n",
              "0        363  I always wrote this series off as being a comp...   \n",
              "1        188   st watched out of Dir Steve Purcell Typical M...   \n",
              "2        247  This movie was so poorly written and directed ...   \n",
              "3        724  The most interesting thing about Miryang Secre...   \n",
              "4        165  when i first read about berlin am meer i didn ...   \n",
              "\n",
              "                                        post cleaned  \\\n",
              "0  [(always, r), (wrote, v), (series, n), (comple...   \n",
              "1  [(st, n), (watched, v), (Dir, n), (Steve, n), ...   \n",
              "2  [(movie, n), (poorly, r), (written, v), (direc...   \n",
              "3  [(interesting, a), (thing, n), (Miryang, n), (...   \n",
              "4  [(first, r), (read, v), (berlin, n), (meer, n)...   \n",
              "\n",
              "                                               Lemma  Polarity  Analysis  \n",
              "0    always write series complete stink fest Jim ...  0.144573  Positive  \n",
              "1    st watch Dir Steve Purcell Typical Mary Kate... -0.029945  Negative  \n",
              "2    movie poorly write direct fell asleep minute... -0.106667  Negative  \n",
              "3    interesting thing Miryang Secret Sunshine ac... -0.012945  Negative  \n",
              "4    first read berlin meer expect much thought r... -0.008700  Negative  "
            ],
            "text/html": [
              "\n",
              "  <div id=\"df-62d7fbb7-6574-4eec-9360-766b7a7c2fac\">\n",
              "    <div class=\"colab-df-container\">\n",
              "      <div>\n",
              "<style scoped>\n",
              "    .dataframe tbody tr th:only-of-type {\n",
              "        vertical-align: middle;\n",
              "    }\n",
              "\n",
              "    .dataframe tbody tr th {\n",
              "        vertical-align: top;\n",
              "    }\n",
              "\n",
              "    .dataframe thead th {\n",
              "        text-align: right;\n",
              "    }\n",
              "</style>\n",
              "<table border=\"1\" class=\"dataframe\">\n",
              "  <thead>\n",
              "    <tr style=\"text-align: right;\">\n",
              "      <th></th>\n",
              "      <th>text</th>\n",
              "      <th>label</th>\n",
              "      <th>texto_tokenizado</th>\n",
              "      <th>review</th>\n",
              "      <th>label2</th>\n",
              "      <th>num_words</th>\n",
              "      <th>Cleaned Reviews</th>\n",
              "      <th>post cleaned</th>\n",
              "      <th>Lemma</th>\n",
              "      <th>Polarity</th>\n",
              "      <th>Analysis</th>\n",
              "    </tr>\n",
              "  </thead>\n",
              "  <tbody>\n",
              "    <tr>\n",
              "      <th>0</th>\n",
              "      <td>I always wrote this series off as being a comp...</td>\n",
              "      <td>0</td>\n",
              "      <td>[always, wrote, this, series, off, as, being, ...</td>\n",
              "      <td>0</td>\n",
              "      <td>negativo</td>\n",
              "      <td>363</td>\n",
              "      <td>I always wrote this series off as being a comp...</td>\n",
              "      <td>[(always, r), (wrote, v), (series, n), (comple...</td>\n",
              "      <td>always write series complete stink fest Jim ...</td>\n",
              "      <td>0.144573</td>\n",
              "      <td>Positive</td>\n",
              "    </tr>\n",
              "    <tr>\n",
              "      <th>1</th>\n",
              "      <td>1st watched 12/7/2002 - 3 out of 10(Dir-Steve ...</td>\n",
              "      <td>0</td>\n",
              "      <td>[st, watched, out, of, dir, steve, purcell, ty...</td>\n",
              "      <td>1</td>\n",
              "      <td>negativo</td>\n",
              "      <td>188</td>\n",
              "      <td>st watched out of Dir Steve Purcell Typical M...</td>\n",
              "      <td>[(st, n), (watched, v), (Dir, n), (Steve, n), ...</td>\n",
              "      <td>st watch Dir Steve Purcell Typical Mary Kate...</td>\n",
              "      <td>-0.029945</td>\n",
              "      <td>Negative</td>\n",
              "    </tr>\n",
              "    <tr>\n",
              "      <th>2</th>\n",
              "      <td>This movie was so poorly written and directed ...</td>\n",
              "      <td>0</td>\n",
              "      <td>[this, movie, was, so, poorly, written, and, d...</td>\n",
              "      <td>2</td>\n",
              "      <td>negativo</td>\n",
              "      <td>247</td>\n",
              "      <td>This movie was so poorly written and directed ...</td>\n",
              "      <td>[(movie, n), (poorly, r), (written, v), (direc...</td>\n",
              "      <td>movie poorly write direct fell asleep minute...</td>\n",
              "      <td>-0.106667</td>\n",
              "      <td>Negative</td>\n",
              "    </tr>\n",
              "    <tr>\n",
              "      <th>3</th>\n",
              "      <td>The most interesting thing about Miryang (Secr...</td>\n",
              "      <td>1</td>\n",
              "      <td>[the, most, interesting, thing, about, miryang...</td>\n",
              "      <td>3</td>\n",
              "      <td>positivo</td>\n",
              "      <td>724</td>\n",
              "      <td>The most interesting thing about Miryang Secre...</td>\n",
              "      <td>[(interesting, a), (thing, n), (Miryang, n), (...</td>\n",
              "      <td>interesting thing Miryang Secret Sunshine ac...</td>\n",
              "      <td>-0.012945</td>\n",
              "      <td>Negative</td>\n",
              "    </tr>\n",
              "    <tr>\n",
              "      <th>4</th>\n",
              "      <td>when i first read about \"berlin am meer\" i did...</td>\n",
              "      <td>0</td>\n",
              "      <td>[when, first, read, about, berlin, am, meer, d...</td>\n",
              "      <td>4</td>\n",
              "      <td>negativo</td>\n",
              "      <td>165</td>\n",
              "      <td>when i first read about berlin am meer i didn ...</td>\n",
              "      <td>[(first, r), (read, v), (berlin, n), (meer, n)...</td>\n",
              "      <td>first read berlin meer expect much thought r...</td>\n",
              "      <td>-0.008700</td>\n",
              "      <td>Negative</td>\n",
              "    </tr>\n",
              "  </tbody>\n",
              "</table>\n",
              "</div>\n",
              "      <button class=\"colab-df-convert\" onclick=\"convertToInteractive('df-62d7fbb7-6574-4eec-9360-766b7a7c2fac')\"\n",
              "              title=\"Convert this dataframe to an interactive table.\"\n",
              "              style=\"display:none;\">\n",
              "        \n",
              "  <svg xmlns=\"http://www.w3.org/2000/svg\" height=\"24px\"viewBox=\"0 0 24 24\"\n",
              "       width=\"24px\">\n",
              "    <path d=\"M0 0h24v24H0V0z\" fill=\"none\"/>\n",
              "    <path d=\"M18.56 5.44l.94 2.06.94-2.06 2.06-.94-2.06-.94-.94-2.06-.94 2.06-2.06.94zm-11 1L8.5 8.5l.94-2.06 2.06-.94-2.06-.94L8.5 2.5l-.94 2.06-2.06.94zm10 10l.94 2.06.94-2.06 2.06-.94-2.06-.94-.94-2.06-.94 2.06-2.06.94z\"/><path d=\"M17.41 7.96l-1.37-1.37c-.4-.4-.92-.59-1.43-.59-.52 0-1.04.2-1.43.59L10.3 9.45l-7.72 7.72c-.78.78-.78 2.05 0 2.83L4 21.41c.39.39.9.59 1.41.59.51 0 1.02-.2 1.41-.59l7.78-7.78 2.81-2.81c.8-.78.8-2.07 0-2.86zM5.41 20L4 18.59l7.72-7.72 1.47 1.35L5.41 20z\"/>\n",
              "  </svg>\n",
              "      </button>\n",
              "      \n",
              "  <style>\n",
              "    .colab-df-container {\n",
              "      display:flex;\n",
              "      flex-wrap:wrap;\n",
              "      gap: 12px;\n",
              "    }\n",
              "\n",
              "    .colab-df-convert {\n",
              "      background-color: #E8F0FE;\n",
              "      border: none;\n",
              "      border-radius: 50%;\n",
              "      cursor: pointer;\n",
              "      display: none;\n",
              "      fill: #1967D2;\n",
              "      height: 32px;\n",
              "      padding: 0 0 0 0;\n",
              "      width: 32px;\n",
              "    }\n",
              "\n",
              "    .colab-df-convert:hover {\n",
              "      background-color: #E2EBFA;\n",
              "      box-shadow: 0px 1px 2px rgba(60, 64, 67, 0.3), 0px 1px 3px 1px rgba(60, 64, 67, 0.15);\n",
              "      fill: #174EA6;\n",
              "    }\n",
              "\n",
              "    [theme=dark] .colab-df-convert {\n",
              "      background-color: #3B4455;\n",
              "      fill: #D2E3FC;\n",
              "    }\n",
              "\n",
              "    [theme=dark] .colab-df-convert:hover {\n",
              "      background-color: #434B5C;\n",
              "      box-shadow: 0px 1px 3px 1px rgba(0, 0, 0, 0.15);\n",
              "      filter: drop-shadow(0px 1px 2px rgba(0, 0, 0, 0.3));\n",
              "      fill: #FFFFFF;\n",
              "    }\n",
              "  </style>\n",
              "\n",
              "      <script>\n",
              "        const buttonEl =\n",
              "          document.querySelector('#df-62d7fbb7-6574-4eec-9360-766b7a7c2fac button.colab-df-convert');\n",
              "        buttonEl.style.display =\n",
              "          google.colab.kernel.accessAllowed ? 'block' : 'none';\n",
              "\n",
              "        async function convertToInteractive(key) {\n",
              "          const element = document.querySelector('#df-62d7fbb7-6574-4eec-9360-766b7a7c2fac');\n",
              "          const dataTable =\n",
              "            await google.colab.kernel.invokeFunction('convertToInteractive',\n",
              "                                                     [key], {});\n",
              "          if (!dataTable) return;\n",
              "\n",
              "          const docLinkHtml = 'Like what you see? Visit the ' +\n",
              "            '<a target=\"_blank\" href=https://colab.research.google.com/notebooks/data_table.ipynb>data table notebook</a>'\n",
              "            + ' to learn more about interactive tables.';\n",
              "          element.innerHTML = '';\n",
              "          dataTable['output_type'] = 'display_data';\n",
              "          await google.colab.output.renderOutput(dataTable, element);\n",
              "          const docLink = document.createElement('div');\n",
              "          docLink.innerHTML = docLinkHtml;\n",
              "          element.appendChild(docLink);\n",
              "        }\n",
              "      </script>\n",
              "    </div>\n",
              "  </div>\n",
              "  "
            ]
          },
          "metadata": {},
          "execution_count": 27
        }
      ]
    },
    {
      "cell_type": "code",
      "source": [
        "data.label.value_counts()"
      ],
      "metadata": {
        "colab": {
          "base_uri": "https://localhost:8080/"
        },
        "id": "eJuZIx1DKira",
        "outputId": "8121b218-fdf3-497d-cd3d-444411f5aaff"
      },
      "execution_count": null,
      "outputs": [
        {
          "output_type": "execute_result",
          "data": {
            "text/plain": [
              "1    2505\n",
              "0    2495\n",
              "Name: label, dtype: int64"
            ]
          },
          "metadata": {},
          "execution_count": 29
        }
      ]
    },
    {
      "cell_type": "code",
      "source": [
        "pd.crosstab(data['label2'], data['Analysis']) # "
      ],
      "metadata": {
        "colab": {
          "base_uri": "https://localhost:8080/",
          "height": 143
        },
        "id": "XaBdPDXcKDV9",
        "outputId": "e22f2afa-287c-4480-8130-888673c25784"
      },
      "execution_count": null,
      "outputs": [
        {
          "output_type": "execute_result",
          "data": {
            "text/plain": [
              "Analysis  Negative  Positive\n",
              "label2                      \n",
              "negativo      1173      1322\n",
              "positivo       165      2340"
            ],
            "text/html": [
              "\n",
              "  <div id=\"df-da876be7-bd4c-4479-89ac-53c817cd2a76\">\n",
              "    <div class=\"colab-df-container\">\n",
              "      <div>\n",
              "<style scoped>\n",
              "    .dataframe tbody tr th:only-of-type {\n",
              "        vertical-align: middle;\n",
              "    }\n",
              "\n",
              "    .dataframe tbody tr th {\n",
              "        vertical-align: top;\n",
              "    }\n",
              "\n",
              "    .dataframe thead th {\n",
              "        text-align: right;\n",
              "    }\n",
              "</style>\n",
              "<table border=\"1\" class=\"dataframe\">\n",
              "  <thead>\n",
              "    <tr style=\"text-align: right;\">\n",
              "      <th>Analysis</th>\n",
              "      <th>Negative</th>\n",
              "      <th>Positive</th>\n",
              "    </tr>\n",
              "    <tr>\n",
              "      <th>label2</th>\n",
              "      <th></th>\n",
              "      <th></th>\n",
              "    </tr>\n",
              "  </thead>\n",
              "  <tbody>\n",
              "    <tr>\n",
              "      <th>negativo</th>\n",
              "      <td>1173</td>\n",
              "      <td>1322</td>\n",
              "    </tr>\n",
              "    <tr>\n",
              "      <th>positivo</th>\n",
              "      <td>165</td>\n",
              "      <td>2340</td>\n",
              "    </tr>\n",
              "  </tbody>\n",
              "</table>\n",
              "</div>\n",
              "      <button class=\"colab-df-convert\" onclick=\"convertToInteractive('df-da876be7-bd4c-4479-89ac-53c817cd2a76')\"\n",
              "              title=\"Convert this dataframe to an interactive table.\"\n",
              "              style=\"display:none;\">\n",
              "        \n",
              "  <svg xmlns=\"http://www.w3.org/2000/svg\" height=\"24px\"viewBox=\"0 0 24 24\"\n",
              "       width=\"24px\">\n",
              "    <path d=\"M0 0h24v24H0V0z\" fill=\"none\"/>\n",
              "    <path d=\"M18.56 5.44l.94 2.06.94-2.06 2.06-.94-2.06-.94-.94-2.06-.94 2.06-2.06.94zm-11 1L8.5 8.5l.94-2.06 2.06-.94-2.06-.94L8.5 2.5l-.94 2.06-2.06.94zm10 10l.94 2.06.94-2.06 2.06-.94-2.06-.94-.94-2.06-.94 2.06-2.06.94z\"/><path d=\"M17.41 7.96l-1.37-1.37c-.4-.4-.92-.59-1.43-.59-.52 0-1.04.2-1.43.59L10.3 9.45l-7.72 7.72c-.78.78-.78 2.05 0 2.83L4 21.41c.39.39.9.59 1.41.59.51 0 1.02-.2 1.41-.59l7.78-7.78 2.81-2.81c.8-.78.8-2.07 0-2.86zM5.41 20L4 18.59l7.72-7.72 1.47 1.35L5.41 20z\"/>\n",
              "  </svg>\n",
              "      </button>\n",
              "      \n",
              "  <style>\n",
              "    .colab-df-container {\n",
              "      display:flex;\n",
              "      flex-wrap:wrap;\n",
              "      gap: 12px;\n",
              "    }\n",
              "\n",
              "    .colab-df-convert {\n",
              "      background-color: #E8F0FE;\n",
              "      border: none;\n",
              "      border-radius: 50%;\n",
              "      cursor: pointer;\n",
              "      display: none;\n",
              "      fill: #1967D2;\n",
              "      height: 32px;\n",
              "      padding: 0 0 0 0;\n",
              "      width: 32px;\n",
              "    }\n",
              "\n",
              "    .colab-df-convert:hover {\n",
              "      background-color: #E2EBFA;\n",
              "      box-shadow: 0px 1px 2px rgba(60, 64, 67, 0.3), 0px 1px 3px 1px rgba(60, 64, 67, 0.15);\n",
              "      fill: #174EA6;\n",
              "    }\n",
              "\n",
              "    [theme=dark] .colab-df-convert {\n",
              "      background-color: #3B4455;\n",
              "      fill: #D2E3FC;\n",
              "    }\n",
              "\n",
              "    [theme=dark] .colab-df-convert:hover {\n",
              "      background-color: #434B5C;\n",
              "      box-shadow: 0px 1px 3px 1px rgba(0, 0, 0, 0.15);\n",
              "      filter: drop-shadow(0px 1px 2px rgba(0, 0, 0, 0.3));\n",
              "      fill: #FFFFFF;\n",
              "    }\n",
              "  </style>\n",
              "\n",
              "      <script>\n",
              "        const buttonEl =\n",
              "          document.querySelector('#df-da876be7-bd4c-4479-89ac-53c817cd2a76 button.colab-df-convert');\n",
              "        buttonEl.style.display =\n",
              "          google.colab.kernel.accessAllowed ? 'block' : 'none';\n",
              "\n",
              "        async function convertToInteractive(key) {\n",
              "          const element = document.querySelector('#df-da876be7-bd4c-4479-89ac-53c817cd2a76');\n",
              "          const dataTable =\n",
              "            await google.colab.kernel.invokeFunction('convertToInteractive',\n",
              "                                                     [key], {});\n",
              "          if (!dataTable) return;\n",
              "\n",
              "          const docLinkHtml = 'Like what you see? Visit the ' +\n",
              "            '<a target=\"_blank\" href=https://colab.research.google.com/notebooks/data_table.ipynb>data table notebook</a>'\n",
              "            + ' to learn more about interactive tables.';\n",
              "          element.innerHTML = '';\n",
              "          dataTable['output_type'] = 'display_data';\n",
              "          await google.colab.output.renderOutput(dataTable, element);\n",
              "          const docLink = document.createElement('div');\n",
              "          docLink.innerHTML = docLinkHtml;\n",
              "          element.appendChild(docLink);\n",
              "        }\n",
              "      </script>\n",
              "    </div>\n",
              "  </div>\n",
              "  "
            ]
          },
          "metadata": {},
          "execution_count": 28
        }
      ]
    },
    {
      "cell_type": "code",
      "source": [
        "data['Polarity'].hist()\n",
        "\n",
        "# Set the title and labels\n",
        "plt.title('Histogram of Polarity')\n",
        "plt.xlabel('Value')\n",
        "plt.ylabel('Frequency')\n",
        "\n",
        "# Show the histogram\n",
        "plt.show()"
      ],
      "metadata": {
        "colab": {
          "base_uri": "https://localhost:8080/",
          "height": 472
        },
        "id": "xpmxk-dLJphd",
        "outputId": "92785447-5b3c-4087-9131-5586f812f81d"
      },
      "execution_count": null,
      "outputs": [
        {
          "output_type": "display_data",
          "data": {
            "text/plain": [
              "<Figure size 640x480 with 1 Axes>"
            ],
            "image/png": "[encoded data removed]"
          },
          "metadata": {}
        }
      ]
    },
    {
      "cell_type": "markdown",
      "source": [
        "Podemos ver una gran concentración de reviews dentro del rango de 0 a 0.25, el cual son valores positivos pero muy cercanos a 0, por lo que podría ser también calificaco como review \"neutral\", donde podría ser que los componentes positivo y negativo se anulan."
      ],
      "metadata": {
        "id": "LLhdKsvjZW2H"
      }
    },
    {
      "cell_type": "code",
      "source": [
        "# function to analyze the reviews\n",
        "def analysis(score):\n",
        "    if score < 0:\n",
        "        return 'Negative'\n",
        "    elif score >= 0.25:\n",
        "        return 'Positive'\n",
        "    else:\n",
        "        return 'Neutral'"
      ],
      "metadata": {
        "id": "23M5WUpEKqhi"
      },
      "execution_count": null,
      "outputs": []
    },
    {
      "cell_type": "code",
      "source": [
        "data['Polarity'] = data['Lemma'].apply(getPolarity) \n",
        "data['Analysis'] = data['Polarity'].apply(analysis)\n",
        "#data.head()"
      ],
      "metadata": {
        "id": "Nf_BfMsXKznb"
      },
      "execution_count": null,
      "outputs": []
    },
    {
      "cell_type": "code",
      "source": [],
      "metadata": {
        "id": "GdC-27znytdM"
      },
      "execution_count": null,
      "outputs": []
    },
    {
      "cell_type": "code",
      "source": [
        "data.Analysis.value_counts(normalize=True)"
      ],
      "metadata": {
        "colab": {
          "base_uri": "https://localhost:8080/"
        },
        "id": "zdS9iLj8ygx7",
        "outputId": "942782f8-6093-4d78-81cd-2c0a52e9ea71"
      },
      "execution_count": null,
      "outputs": [
        {
          "output_type": "execute_result",
          "data": {
            "text/plain": [
              "Neutral     0.5634\n",
              "Negative    0.2676\n",
              "Positive    0.1690\n",
              "Name: Analysis, dtype: float64"
            ]
          },
          "metadata": {},
          "execution_count": 42
        }
      ]
    },
    {
      "cell_type": "code",
      "source": [
        "data2 = data.explode(column='texto_tokenizado')\n",
        "data2 = data2.drop(columns='text')\n",
        "data2 = data2.rename(columns={'texto_tokenizado':'token'})\n",
        "data2 = data2[(~data2[\"token\"].isin(stop_words))&(~data2['token'].isin([\"br\",\"film\",\"one\",\"movie\"]))]\n",
        "\n",
        "fig, axs = plt.subplots(nrows=3, ncols=1,figsize=(6, 7))\n",
        "for i, a in enumerate(data2.Analysis.unique()):\n",
        "    df_temp = data2[data2.Analysis == a]\n",
        "    counts  = df_temp['token'].value_counts(ascending=False).head(15)\n",
        "    counts.plot(kind='barh', color='firebrick', ax=axs[i])\n",
        "    axs[i].invert_yaxis()\n",
        "    axs[i].set_title(a)\n",
        "\n",
        "fig.tight_layout()"
      ],
      "metadata": {
        "id": "kN5Vb0ASyIZE",
        "colab": {
          "base_uri": "https://localhost:8080/",
          "height": 707
        },
        "outputId": "329b0801-4087-487a-b85f-f75c1d9e4a06"
      },
      "execution_count": 63,
      "outputs": [
        {
          "output_type": "display_data",
          "data": {
            "text/plain": [
              "<Figure size 600x700 with 3 Axes>"
            ],
            "image/png": "[encoded data removed]"
          },
          "metadata": {}
        }
      ]
    },
    {
      "cell_type": "markdown",
      "source": [
        "Podemos apreciar que en la categoría neutral hay palabras como \"like\",\"good\" y más abajo \"well\" y \"great\", pero comparando con la categoría Positive palabras con mayor connotación positiva como \"great\", \"best\" están más arriba en los conteos y otras palabras como \"good\" y \"well\" también se encuentran pero más arriba en comparación de la categoría neutral. En la categoría negativa como es de esperar se encuentran palabras como \"bad\", y palabras de connotación positiva no están en los primeros lugares como las otras categorías "
      ],
      "metadata": {
        "id": "WTSM2Pk5aFCN"
      }
    },
    {
      "cell_type": "code",
      "source": [
        "# Ver el numero de palabras positivas y negativas por categoria"
      ],
      "metadata": {
        "id": "ZyONJ1Vh0JaC"
      },
      "execution_count": null,
      "outputs": []
    },
    {
      "cell_type": "code",
      "source": [
        "def count_sentiment_words(text):\n",
        "    stop_words = set(stopwords.words('english'))\n",
        "    words = word_tokenize(text.lower())\n",
        "    filtered_words = [word for word in words if word not in stop_words]\n",
        "    filtered_text = ' '.join(filtered_words)\n",
        "\n",
        "    blob = TextBlob(filtered_text)\n",
        "    polarity = blob.sentiment.polarity\n",
        "    \n",
        "    try:\n",
        "      num_positive_words = sum(1 for word in filtered_words if TextBlob(word).sentiment.polarity > 0)\n",
        "      num_negative_words = sum(1 for word in filtered_words if TextBlob(word).sentiment.polarity < 0)\n",
        "    except:\n",
        "        num_positive_words =0\n",
        "        num_negative_words =0\n",
        "      \n",
        "    return num_positive_words, num_negative_words\n",
        "\n",
        "\n"
      ],
      "metadata": {
        "id": "oBTVx_AHypKD"
      },
      "execution_count": null,
      "outputs": []
    },
    {
      "cell_type": "code",
      "source": [
        "data['Positive Words'], data['Negative Words'] = zip(*data['Lemma'].apply(count_sentiment_words))"
      ],
      "metadata": {
        "id": "olc5MdT84Nrw"
      },
      "execution_count": null,
      "outputs": []
    },
    {
      "cell_type": "code",
      "source": [
        "data[\"Words weighted\"]=data['Positive Words']- data['Negative Words']"
      ],
      "metadata": {
        "id": "AphFvLQ1Vwfq"
      },
      "execution_count": null,
      "outputs": []
    },
    {
      "cell_type": "code",
      "source": [],
      "metadata": {
        "id": "y8dYqCTYbkxg"
      },
      "execution_count": null,
      "outputs": []
    },
    {
      "cell_type": "code",
      "source": [
        "categories=list(data.Analysis.unique())\n",
        "\n",
        "fig, axs = plt.subplots(len(categories), 2, figsize=(12, 8))\n",
        "\n",
        "# Iterate over each category and plot the histograms\n",
        "for i, category in enumerate(categories):\n",
        "    subset = data[data['Analysis'] == category]\n",
        "    axs[i, 0].hist(subset['Positive Words'], bins=10, color='blue')  # Plot positive words histogram\n",
        "    axs[i, 0].set_title(f'Category {category}')\n",
        "    axs[i, 0].set_xlabel('Positive Words by review')\n",
        "    axs[i, 0].set_ylabel('Frequency of reviews')\n",
        "    \n",
        "    axs[i, 1].hist(subset['Negative Words'], bins=10, color='red')  # Plot negative words histogram\n",
        "    axs[i, 1].set_title(f'Category {category}')\n",
        "    axs[i, 1].set_xlabel('Negative Words by review')\n",
        "    axs[i, 1].set_ylabel('Frequency of reviews')\n",
        "\n",
        "# Adjust the spacing between subplots\n",
        "plt.tight_layout()\n",
        "\n",
        "# Show the plot\n",
        "plt.show()\n"
      ],
      "metadata": {
        "colab": {
          "base_uri": "https://localhost:8080/",
          "height": 807
        },
        "id": "_jsupsfU84PY",
        "outputId": "7a778968-4524-4d5f-f0a2-57c0cc9084cd"
      },
      "execution_count": 64,
      "outputs": [
        {
          "output_type": "display_data",
          "data": {
            "text/plain": [
              "<Figure size 1200x800 with 6 Axes>"
            ],
            "image/png": "[encoded data removed]"
          },
          "metadata": {}
        }
      ]
    },
    {
      "cell_type": "markdown",
      "source": [
        "Podemos ver que en la categoria de neutral se tienen muchas reviews con pocas palabras negativas (0-10), pero de igual manera muchas con pocas a un cierto numero considerable de palabras positivas (0-20).\n",
        "\n",
        "En la categoría negativa es más evidente el mayor tamaño de la distribución de palabras negativas.\n",
        "\n",
        "Para la categoría de positivos hay mas casos donde se tienen muy pocas palabras negativas (0-2) y de positivas son evidentemente más"
      ],
      "metadata": {
        "id": "aWkknDsscjX5"
      }
    },
    {
      "cell_type": "code",
      "source": [
        "fig, axs = plt.subplots(len(categories), figsize=(12, 8))\n",
        "\n",
        "# Iterate over each category and plot the histograms\n",
        "for i, category in enumerate(categories):\n",
        "    subset = data[data['Analysis'] == category]\n",
        "    axs[i].hist(subset['Words weighted'], bins=10, color='blue')  # Plot positive words histogram\n",
        "    axs[i].set_title(f'Category {category}')\n",
        "    axs[i].set_xlabel('Positive Words-Negative words by reviews')\n",
        "    axs[i].set_ylabel('Frequency of reviews')\n",
        "    \n",
        "\n",
        "\n",
        "# Adjust the spacing between subplots\n",
        "plt.tight_layout()\n",
        "\n",
        "# Show the plot\n",
        "plt.show()"
      ],
      "metadata": {
        "colab": {
          "base_uri": "https://localhost:8080/",
          "height": 807
        },
        "id": "G8yIrx67V6w3",
        "outputId": "54aa0904-3b62-42ee-8a4f-f6697d5937b7"
      },
      "execution_count": 65,
      "outputs": [
        {
          "output_type": "display_data",
          "data": {
            "text/plain": [
              "<Figure size 1200x800 with 3 Axes>"
            ],
            "image/png": "[encoded data removed]"
          },
          "metadata": {}
        }
      ]
    },
    {
      "cell_type": "code",
      "source": [
        "print(\"Suma words positivos en label Positivo: \",data[data.Analysis==\"Positive\"][\"Positive Words\"].sum())\n",
        "print(\"Suma words positivos en label Neutral: \",data[data.Analysis==\"Neutral\"][\"Positive Words\"].sum())\n",
        "print(\"Suma words positivos en label Negativo: \",data[data.Analysis==\"Negative\"][\"Positive Words\"].sum())"
      ],
      "metadata": {
        "colab": {
          "base_uri": "https://localhost:8080/"
        },
        "id": "tdbVupdMalDQ",
        "outputId": "dd68839b-fd35-40a2-ee65-ff29811058d5"
      },
      "execution_count": null,
      "outputs": [
        {
          "output_type": "stream",
          "name": "stdout",
          "text": [
            "Suma words positivos en label Positivo:  10025\n",
            "Suma words positivos en label Neutral:  39159\n",
            "Suma words positivos en label Negativo:  10901\n"
          ]
        }
      ]
    },
    {
      "cell_type": "code",
      "source": [
        "print(\"Suma words negativos en label Positivo: \",data[data.Analysis==\"Positive\"][\"Negative Words\"].sum())\n",
        "print(\"Suma words negativos en label Neutral: \",data[data.Analysis==\"Neutral\"][\"Negative Words\"].sum())\n",
        "print(\"Suma words negativos en label Negativo: \",data[data.Analysis==\"Negative\"][\"Negative Words\"].sum())"
      ],
      "metadata": {
        "colab": {
          "base_uri": "https://localhost:8080/"
        },
        "id": "WZ2QJAzIamGu",
        "outputId": "114e2696-d09c-4e0c-917c-0f26e712f3af"
      },
      "execution_count": null,
      "outputs": [
        {
          "output_type": "stream",
          "name": "stdout",
          "text": [
            "Suma words negativos en label Positivo:  1622\n",
            "Suma words negativos en label Neutral:  18525\n",
            "Suma words negativos en label Negativo:  12607\n"
          ]
        }
      ]
    },
    {
      "cell_type": "code",
      "source": [
        "print(\"Suma diferencia positivos-negativos en label Positivo: \",data[data.Analysis==\"Positive\"][\"Words weighted\"].sum())\n",
        "print(\"Suma diferencia positivos-negativos en label Neutral: \",data[data.Analysis==\"Neutral\"][\"Words weighted\"].sum())\n",
        "print(\"Suma diferencia positivos-negativos en label Negativo: \",data[data.Analysis==\"Negative\"][\"Words weighted\"].sum())"
      ],
      "metadata": {
        "colab": {
          "base_uri": "https://localhost:8080/"
        },
        "id": "ywILX6o5ZPcy",
        "outputId": "eccb1527-0d44-4ca8-a3f1-3e0ddcdaea1c"
      },
      "execution_count": null,
      "outputs": [
        {
          "output_type": "stream",
          "name": "stdout",
          "text": [
            "Suma diferencia positivos-negativos en label Positivo:  8403\n",
            "Suma diferencia positivos-negativos en label Neutral:  20634\n",
            "Suma diferencia positivos-negativos en label Negativo:  -1706\n"
          ]
        }
      ]
    },
    {
      "cell_type": "markdown",
      "source": [
        "A pesar de la diferencia del número de palabras positivas vs negativas en la categoría neutral es mayor que la de la categoría positiva, en porcentaje el número de palabras positivas es mucho mayor en la categoría positiva que en la neutral, Así mismo, la razón por la que haya muchas palabras positivas y negativas a la vez en la categoría de neutral precisamente puede de cierta manera anular el efecto de las palabras positivas en cierto modo, por lo que probablemente esas palabras negativas hayan tenido un poco más de peso, anivelando el sentimiento del review."
      ],
      "metadata": {
        "id": "zgY7Wg6fdk1z"
      }
    },
    {
      "cell_type": "code",
      "source": [
        "data[data.Analysis==\"Neutral\"].sample(1)[\"text\"].values"
      ],
      "metadata": {
        "colab": {
          "base_uri": "https://localhost:8080/"
        },
        "id": "ACiiIyUfvr-c",
        "outputId": "e1153525-9fb2-4d51-b61d-d3e845d820b4"
      },
      "execution_count": 59,
      "outputs": [
        {
          "output_type": "execute_result",
          "data": {
            "text/plain": [
              "array(['I\\'ve watched this movie a number of times, and found it to be very good. This movie is also known as \"Castle Of Terror\", \"Coffin Of Terror\", and \"Dance Macabre\". Barbara Steele, is her usual beautiful/creepy self. George Riviere, the male lead, does a good job with his role. The whole movie is dripping with atmosphere, and there is a good deal of tension throughout. The camera angles are good and the acting, for the most part, isn\\'t bad. This film is quite suitable for a rainy day or evening. I have the DVD uncut version, which is far superior to the edited TV version. Grab some popcorn, turn out the lights, settle back and enjoy. John R. Tracy'],\n",
              "      dtype=object)"
            ]
          },
          "metadata": {},
          "execution_count": 59
        }
      ]
    },
    {
      "cell_type": "code",
      "source": [
        "\n",
        "pd.crosstab(data['label2'], data['Analysis'],normalize=\"index\") # no hay mucha concordancia entre las clasificaciones reales y de Textblob"
      ],
      "metadata": {
        "colab": {
          "base_uri": "https://localhost:8080/",
          "height": 143
        },
        "id": "u2OXbGHkK4jD",
        "outputId": "17b87e7a-3047-4335-803f-77df8cb77892"
      },
      "execution_count": null,
      "outputs": [
        {
          "output_type": "execute_result",
          "data": {
            "text/plain": [
              "Analysis  Negative   Neutral  Positive\n",
              "label2                                \n",
              "negativo  0.470140  0.500601  0.029259\n",
              "positivo  0.065868  0.625948  0.308184"
            ],
            "text/html": [
              "\n",
              "  <div id=\"df-50ff32c7-4da6-49fb-a395-828caca8036e\">\n",
              "    <div class=\"colab-df-container\">\n",
              "      <div>\n",
              "<style scoped>\n",
              "    .dataframe tbody tr th:only-of-type {\n",
              "        vertical-align: middle;\n",
              "    }\n",
              "\n",
              "    .dataframe tbody tr th {\n",
              "        vertical-align: top;\n",
              "    }\n",
              "\n",
              "    .dataframe thead th {\n",
              "        text-align: right;\n",
              "    }\n",
              "</style>\n",
              "<table border=\"1\" class=\"dataframe\">\n",
              "  <thead>\n",
              "    <tr style=\"text-align: right;\">\n",
              "      <th>Analysis</th>\n",
              "      <th>Negative</th>\n",
              "      <th>Neutral</th>\n",
              "      <th>Positive</th>\n",
              "    </tr>\n",
              "    <tr>\n",
              "      <th>label2</th>\n",
              "      <th></th>\n",
              "      <th></th>\n",
              "      <th></th>\n",
              "    </tr>\n",
              "  </thead>\n",
              "  <tbody>\n",
              "    <tr>\n",
              "      <th>negativo</th>\n",
              "      <td>0.470140</td>\n",
              "      <td>0.500601</td>\n",
              "      <td>0.029259</td>\n",
              "    </tr>\n",
              "    <tr>\n",
              "      <th>positivo</th>\n",
              "      <td>0.065868</td>\n",
              "      <td>0.625948</td>\n",
              "      <td>0.308184</td>\n",
              "    </tr>\n",
              "  </tbody>\n",
              "</table>\n",
              "</div>\n",
              "      <button class=\"colab-df-convert\" onclick=\"convertToInteractive('df-50ff32c7-4da6-49fb-a395-828caca8036e')\"\n",
              "              title=\"Convert this dataframe to an interactive table.\"\n",
              "              style=\"display:none;\">\n",
              "        \n",
              "  <svg xmlns=\"http://www.w3.org/2000/svg\" height=\"24px\"viewBox=\"0 0 24 24\"\n",
              "       width=\"24px\">\n",
              "    <path d=\"M0 0h24v24H0V0z\" fill=\"none\"/>\n",
              "    <path d=\"M18.56 5.44l.94 2.06.94-2.06 2.06-.94-2.06-.94-.94-2.06-.94 2.06-2.06.94zm-11 1L8.5 8.5l.94-2.06 2.06-.94-2.06-.94L8.5 2.5l-.94 2.06-2.06.94zm10 10l.94 2.06.94-2.06 2.06-.94-2.06-.94-.94-2.06-.94 2.06-2.06.94z\"/><path d=\"M17.41 7.96l-1.37-1.37c-.4-.4-.92-.59-1.43-.59-.52 0-1.04.2-1.43.59L10.3 9.45l-7.72 7.72c-.78.78-.78 2.05 0 2.83L4 21.41c.39.39.9.59 1.41.59.51 0 1.02-.2 1.41-.59l7.78-7.78 2.81-2.81c.8-.78.8-2.07 0-2.86zM5.41 20L4 18.59l7.72-7.72 1.47 1.35L5.41 20z\"/>\n",
              "  </svg>\n",
              "      </button>\n",
              "      \n",
              "  <style>\n",
              "    .colab-df-container {\n",
              "      display:flex;\n",
              "      flex-wrap:wrap;\n",
              "      gap: 12px;\n",
              "    }\n",
              "\n",
              "    .colab-df-convert {\n",
              "      background-color: #E8F0FE;\n",
              "      border: none;\n",
              "      border-radius: 50%;\n",
              "      cursor: pointer;\n",
              "      display: none;\n",
              "      fill: #1967D2;\n",
              "      height: 32px;\n",
              "      padding: 0 0 0 0;\n",
              "      width: 32px;\n",
              "    }\n",
              "\n",
              "    .colab-df-convert:hover {\n",
              "      background-color: #E2EBFA;\n",
              "      box-shadow: 0px 1px 2px rgba(60, 64, 67, 0.3), 0px 1px 3px 1px rgba(60, 64, 67, 0.15);\n",
              "      fill: #174EA6;\n",
              "    }\n",
              "\n",
              "    [theme=dark] .colab-df-convert {\n",
              "      background-color: #3B4455;\n",
              "      fill: #D2E3FC;\n",
              "    }\n",
              "\n",
              "    [theme=dark] .colab-df-convert:hover {\n",
              "      background-color: #434B5C;\n",
              "      box-shadow: 0px 1px 3px 1px rgba(0, 0, 0, 0.15);\n",
              "      filter: drop-shadow(0px 1px 2px rgba(0, 0, 0, 0.3));\n",
              "      fill: #FFFFFF;\n",
              "    }\n",
              "  </style>\n",
              "\n",
              "      <script>\n",
              "        const buttonEl =\n",
              "          document.querySelector('#df-50ff32c7-4da6-49fb-a395-828caca8036e button.colab-df-convert');\n",
              "        buttonEl.style.display =\n",
              "          google.colab.kernel.accessAllowed ? 'block' : 'none';\n",
              "\n",
              "        async function convertToInteractive(key) {\n",
              "          const element = document.querySelector('#df-50ff32c7-4da6-49fb-a395-828caca8036e');\n",
              "          const dataTable =\n",
              "            await google.colab.kernel.invokeFunction('convertToInteractive',\n",
              "                                                     [key], {});\n",
              "          if (!dataTable) return;\n",
              "\n",
              "          const docLinkHtml = 'Like what you see? Visit the ' +\n",
              "            '<a target=\"_blank\" href=https://colab.research.google.com/notebooks/data_table.ipynb>data table notebook</a>'\n",
              "            + ' to learn more about interactive tables.';\n",
              "          element.innerHTML = '';\n",
              "          dataTable['output_type'] = 'display_data';\n",
              "          await google.colab.output.renderOutput(dataTable, element);\n",
              "          const docLink = document.createElement('div');\n",
              "          docLink.innerHTML = docLinkHtml;\n",
              "          element.appendChild(docLink);\n",
              "        }\n",
              "      </script>\n",
              "    </div>\n",
              "  </div>\n",
              "  "
            ]
          },
          "metadata": {},
          "execution_count": 84
        }
      ]
    },
    {
      "cell_type": "markdown",
      "source": [
        "Se aprecia como el metodo en el que nos basamos de Textblob tiene diferencias con el label original. Esto puede ser debido a que habría que analizar mejor el contexto de cada review además de solo ponderar el peso de cada palabra."
      ],
      "metadata": {
        "id": "5METXrSzB2Mm"
      }
    },
    {
      "cell_type": "code",
      "source": [],
      "metadata": {
        "id": "O7fS_seISYcJ"
      },
      "execution_count": null,
      "outputs": []
    },
    {
      "cell_type": "code",
      "source": [
        "import matplotlib.pyplot as plt\n",
        "%matplotlib inline\n",
        "\n",
        "tb_count= data.Analysis.value_counts()\n",
        "plt.figure(figsize=(10, 7))\n",
        "plt.pie(tb_count.values, labels = tb_count.index, explode = (0, 0, 0.25), autopct='%1.1f%%', shadow=False)"
      ],
      "metadata": {
        "colab": {
          "base_uri": "https://localhost:8080/",
          "height": 742
        },
        "id": "v2i5udKnJNyb",
        "outputId": "f0dc4152-b7e5-4517-b8dc-6f37d9192fe3"
      },
      "execution_count": null,
      "outputs": [
        {
          "output_type": "execute_result",
          "data": {
            "text/plain": [
              "([<matplotlib.patches.Wedge at 0x7faa35f63b20>,\n",
              "  <matplotlib.patches.Wedge at 0x7faa35f63a00>,\n",
              "  <matplotlib.patches.Wedge at 0x7faa35f38850>],\n",
              " [Text(-0.2176488080903215, 1.0782527516018043, 'Neutral'),\n",
              "  Text(-0.3582703805174718, -1.0400203528988585, 'Negative'),\n",
              "  Text(1.1641547922168183, -0.6835522070468483, 'Positive')],\n",
              " [Text(-0.1187175316856299, 0.5881378645100751, '56.3%'),\n",
              "  Text(-0.1954202075549846, -0.5672838288539228, '26.8%'),\n",
              "  Text(0.7329863506550336, -0.43038472295542296, '16.9%')])"
            ]
          },
          "metadata": {},
          "execution_count": 86
        },
        {
          "output_type": "display_data",
          "data": {
            "text/plain": [
              "<Figure size 1000x700 with 1 Axes>"
            ],
            "image/png": "[encoded data removed]"
          },
          "metadata": {}
        }
      ]
    },
    {
      "cell_type": "code",
      "source": [
        "data.loc[data.Analysis==\"Positive\",\"label3\"]=1\n",
        "data.loc[data.Analysis==\"Neutral\",\"label3\"]=0\n",
        "data.loc[data.Analysis==\"Negative\",\"label3\"]=-1"
      ],
      "metadata": {
        "id": "794rcD_jLTX9"
      },
      "execution_count": null,
      "outputs": []
    },
    {
      "cell_type": "markdown",
      "source": [
        "# Aplicando modelo de clasificacion sobre los labels originales con paralelizacion"
      ],
      "metadata": {
        "id": "aXIgA1f7MadX"
      }
    },
    {
      "cell_type": "code",
      "source": [
        "features = data[\"text\"].values\n",
        "labels = data[\"label\"].values"
      ],
      "metadata": {
        "id": "RaXEAZW5LTfl"
      },
      "execution_count": null,
      "outputs": []
    },
    {
      "cell_type": "code",
      "source": [
        "processed_features = []\n",
        "\n",
        "for sentence in range(0, len(features)):\n",
        "    # Remove all the special characters\n",
        "    processed_feature = re.sub(r'\\W', ' ', str(features[sentence]))\n",
        "    # remove all single characters\n",
        "    processed_feature= re.sub(r'\\s+[a-zA-Z]\\s+', ' ', processed_feature)\n",
        "    # Remove single characters from the start\n",
        "    processed_feature = re.sub(r'\\^[a-zA-Z]\\s+', ' ', processed_feature) \n",
        "    # Substituting multiple spaces with single space\n",
        "    processed_feature = re.sub(r'\\s+', ' ', processed_feature, flags=re.I)\n",
        "    # Removing prefixed 'b'\n",
        "    processed_feature = re.sub(r'^b\\s+', '', processed_feature)\n",
        "    # Converting to Lowercase\n",
        "    processed_feature = processed_feature.lower()\n",
        "\n",
        "    processed_features.append(processed_feature)"
      ],
      "metadata": {
        "id": "NnoZFkmJNSh6"
      },
      "execution_count": null,
      "outputs": []
    },
    {
      "cell_type": "code",
      "source": [
        "from nltk.corpus import stopwords\n",
        "from sklearn.feature_extraction.text import TfidfVectorizer\n",
        "\n",
        "vectorizer = TfidfVectorizer (max_features=2500, min_df=7, max_df=0.8, stop_words=stopwords.words('english'))\n",
        "processed_features = vectorizer.fit_transform(processed_features).toarray()"
      ],
      "metadata": {
        "id": "jdlc2fIfNWRE"
      },
      "execution_count": null,
      "outputs": []
    },
    {
      "cell_type": "code",
      "source": [
        "from sklearn.model_selection import train_test_split\n",
        "\n",
        "X_train, X_test, y_train, y_test = train_test_split(processed_features, labels, test_size=0.2, random_state=0)"
      ],
      "metadata": {
        "id": "b9NRrKMeNZBU"
      },
      "execution_count": null,
      "outputs": []
    },
    {
      "cell_type": "code",
      "source": [
        "from sklearn import svm\n",
        "from sklearn.metrics import accuracy_score\n",
        "from joblib import parallel_backend"
      ],
      "metadata": {
        "id": "bY8GukeKPurr"
      },
      "execution_count": null,
      "outputs": []
    },
    {
      "cell_type": "code",
      "source": [
        "# Crear un clasificador SVM\n",
        "classifier = svm.SVC(kernel='linear')\n",
        "\n",
        "# Entrenar el clasificador utilizando paralelización\n",
        "with parallel_backend('threading'):\n",
        "    classifier.fit(X_train, y_train)\n",
        "\n",
        "# Predecir las clases para los datos de prueba\n",
        "y_pred = classifier.predict(X_test)\n",
        "\n",
        "# Calcular la precisión de la clasificación\n",
        "accuracy = accuracy_score(y_test, y_pred)\n",
        "print(\"Accuracy:\", accuracy)"
      ],
      "metadata": {
        "colab": {
          "base_uri": "https://localhost:8080/"
        },
        "id": "IAGQqdOzPN6w",
        "outputId": "a392a9e9-426e-47cf-d297-3cac9514bb21"
      },
      "execution_count": null,
      "outputs": [
        {
          "output_type": "stream",
          "name": "stdout",
          "text": [
            "Accuracy: 0.835\n"
          ]
        }
      ]
    },
    {
      "cell_type": "code",
      "source": [],
      "metadata": {
        "id": "VhnRBvuyABiA"
      },
      "execution_count": null,
      "outputs": []
    },
    {
      "cell_type": "code",
      "source": [
        "series = pd.Series(y_test)\n",
        "series2 = pd.Series(y_pred)\n",
        "\n",
        "# Obtener el recuento de valores únicos utilizando value_counts\n",
        "value_counts = series.value_counts()\n",
        "value_counts2 = series2.value_counts()\n",
        "print(value_counts)\n",
        "print()\n",
        "print(value_counts2)"
      ],
      "metadata": {
        "colab": {
          "base_uri": "https://localhost:8080/"
        },
        "id": "Kv1q9L6FQd-a",
        "outputId": "9c6420ac-4c0f-43e0-cef2-b316608ffd38"
      },
      "execution_count": null,
      "outputs": [
        {
          "output_type": "stream",
          "name": "stdout",
          "text": [
            "1    511\n",
            "0    489\n",
            "dtype: int64\n",
            "\n",
            "1    548\n",
            "0    452\n",
            "dtype: int64\n"
          ]
        }
      ]
    },
    {
      "cell_type": "code",
      "source": [
        "from sklearn.metrics import classification_report, confusion_matrix, accuracy_score\n",
        "\n",
        "print(confusion_matrix(y_test,y_pred))\n",
        "print(classification_report(y_test,y_pred))\n",
        "print(accuracy_score(y_test, y_pred))"
      ],
      "metadata": {
        "colab": {
          "base_uri": "https://localhost:8080/"
        },
        "id": "jo_mncXubuSX",
        "outputId": "d744e4d7-7e2b-4712-f03b-46c1bc99316d"
      },
      "execution_count": null,
      "outputs": [
        {
          "output_type": "stream",
          "name": "stdout",
          "text": [
            "[[388 101]\n",
            " [ 64 447]]\n",
            "              precision    recall  f1-score   support\n",
            "\n",
            "           0       0.86      0.79      0.82       489\n",
            "           1       0.82      0.87      0.84       511\n",
            "\n",
            "    accuracy                           0.83      1000\n",
            "   macro avg       0.84      0.83      0.83      1000\n",
            "weighted avg       0.84      0.83      0.83      1000\n",
            "\n",
            "0.835\n"
          ]
        }
      ]
    },
    {
      "cell_type": "code",
      "source": [
        "real= value_counts\n",
        "plt.figure(figsize=(10, 7))\n",
        "plt.title('Distribución de Reviews reales')\n",
        "plt.pie(real.values, labels = real.index, explode = (0, 0.25), autopct='%1.1f%%', shadow=False)"
      ],
      "metadata": {
        "colab": {
          "base_uri": "https://localhost:8080/",
          "height": 737
        },
        "id": "f0RlA_XsbubP",
        "outputId": "fcf630f6-2331-44dc-e8ac-47cd62d815f1"
      },
      "execution_count": null,
      "outputs": [
        {
          "output_type": "execute_result",
          "data": {
            "text/plain": [
              "([<matplotlib.patches.Wedge at 0x7faa52ffddb0>,\n",
              "  <matplotlib.patches.Wedge at 0x7faa52fc1b70>],\n",
              " [Text(-0.038005628110106465, 1.0993432458663475, '1'),\n",
              "  Text(0.04664314454174576, -1.349193987930297, '0')],\n",
              " [Text(-0.020730342605512615, 0.5996417704725531, '51.1%'),\n",
              "  Text(0.02936790582258066, -0.8494925109190756, '48.9%')])"
            ]
          },
          "metadata": {},
          "execution_count": 140
        },
        {
          "output_type": "display_data",
          "data": {
            "text/plain": [
              "<Figure size 1000x700 with 1 Axes>"
            ],
            "image/png": "[encoded data removed]"
          },
          "metadata": {}
        }
      ]
    },
    {
      "cell_type": "code",
      "source": [
        "predichos= value_counts2\n",
        "plt.figure(figsize=(10, 7))\n",
        "plt.title('Distribución de Reviews predecidos con algoritmo SVM')\n",
        "plt.pie(predichos.values, labels = real.index, explode = (0, 0.25), autopct='%1.1f%%', shadow=False)"
      ],
      "metadata": {
        "colab": {
          "base_uri": "https://localhost:8080/",
          "height": 735
        },
        "id": "ml0Q2y4SblIl",
        "outputId": "6a248c7f-8812-4dcd-fd1c-cdadfb4b46ab"
      },
      "execution_count": null,
      "outputs": [
        {
          "output_type": "execute_result",
          "data": {
            "text/plain": [
              "([<matplotlib.patches.Wedge at 0x7faa54aabd30>,\n",
              "  <matplotlib.patches.Wedge at 0x7faa54a22890>],\n",
              " [Text(-0.16524807309281006, 1.087516930598836, '1'),\n",
              "  Text(0.2028043283794274, -1.3346798883592164, '0')],\n",
              " [Text(-0.0901353125960782, 0.5931910530539105, '54.8%'),\n",
              "  Text(0.12769161416482464, -0.8403540037817286, '45.2%')])"
            ]
          },
          "metadata": {},
          "execution_count": 141
        },
        {
          "output_type": "display_data",
          "data": {
            "text/plain": [
              "<Figure size 1000x700 with 1 Axes>"
            ],
            "image/png": "[encoded data removed]"
          },
          "metadata": {}
        }
      ]
    },
    {
      "cell_type": "markdown",
      "source": [
        "Aplicando un algoritmo de SVM sobre los pesos de las palabras dados por TfidfVectorizer, comparando nuestra y_test con nuestra y_predicha, tenemos un accuracy de 83.5%"
      ],
      "metadata": {
        "id": "5ZFfyOPgedWs"
      }
    },
    {
      "cell_type": "markdown",
      "source": [
        "**Usando el label de 3 categorías**"
      ],
      "metadata": {
        "id": "OyqNcK1ublUK"
      }
    },
    {
      "cell_type": "code",
      "source": [
        "from sklearn.metrics import classification_report, confusion_matrix, accuracy_score\n",
        "\n",
        "print(confusion_matrix(y_test,y_pred,labels=[-1,0,1]))\n",
        "print(classification_report(y_test,y_pred))\n",
        "print(accuracy_score(y_test, y_pred))"
      ],
      "metadata": {
        "colab": {
          "base_uri": "https://localhost:8080/"
        },
        "id": "WzQLmW7ePyVw",
        "outputId": "7011500f-f147-49c0-aa77-2106b0176854"
      },
      "execution_count": null,
      "outputs": [
        {
          "output_type": "stream",
          "name": "stdout",
          "text": [
            "[[154 106   1]\n",
            " [ 38 514  24]\n",
            " [  0  82  81]]\n",
            "              precision    recall  f1-score   support\n",
            "\n",
            "        -1.0       0.80      0.59      0.68       261\n",
            "         0.0       0.73      0.89      0.80       576\n",
            "         1.0       0.76      0.50      0.60       163\n",
            "\n",
            "    accuracy                           0.75      1000\n",
            "   macro avg       0.77      0.66      0.70      1000\n",
            "weighted avg       0.76      0.75      0.74      1000\n",
            "\n",
            "0.749\n"
          ]
        }
      ]
    },
    {
      "cell_type": "code",
      "source": [
        "real= value_counts\n",
        "plt.figure(figsize=(10, 7))\n",
        "plt.title('Distribución de Reviews reales')\n",
        "plt.pie(real.values, labels = real.index, explode = (0, 0, 0.25), autopct='%1.1f%%', shadow=False)"
      ],
      "metadata": {
        "colab": {
          "base_uri": "https://localhost:8080/",
          "height": 764
        },
        "id": "E6XU4ir2RqY8",
        "outputId": "8d15f610-3e83-49a3-d93d-39d856b5a18e"
      },
      "execution_count": null,
      "outputs": [
        {
          "output_type": "execute_result",
          "data": {
            "text/plain": [
              "([<matplotlib.patches.Wedge at 0x7faa52eee740>,\n",
              "  <matplotlib.patches.Wedge at 0x7faa52e25000>,\n",
              "  <matplotlib.patches.Wedge at 0x7faa52eef3a0>],\n",
              " [Text(-0.26014881346968594, 1.068794926471077, '0.0'),\n",
              "  Text(-0.2969212643263205, -1.059168429849974, '-1.0'),\n",
              "  Text(1.176831931691629, -0.661488174158049, '1.0')],\n",
              " [Text(-0.14189935280164687, 0.5829790508024055, '57.6%'),\n",
              "  Text(-0.16195705326890208, -0.5777282344636221, '26.1%'),\n",
              "  Text(0.740968253287322, -0.41649255409951225, '16.3%')])"
            ]
          },
          "metadata": {},
          "execution_count": 49
        },
        {
          "output_type": "display_data",
          "data": {
            "text/plain": [
              "<Figure size 1000x700 with 1 Axes>"
            ],
            "image/png": "[encoded data removed]"
          },
          "metadata": {}
        }
      ]
    },
    {
      "cell_type": "code",
      "source": [
        "predichos= value_counts2\n",
        "plt.figure(figsize=(10, 7))\n",
        "plt.title('Distribución de Reviews predecidos con algoritmo SVM')\n",
        "plt.pie(predichos.values, labels = real.index, explode = (0, 0, 0.25), autopct='%1.1f%%', shadow=False)"
      ],
      "metadata": {
        "colab": {
          "base_uri": "https://localhost:8080/",
          "height": 764
        },
        "id": "1ZF9-wn1R7to",
        "outputId": "053d214b-1258-4db9-e3a5-b72279fccb59"
      },
      "execution_count": null,
      "outputs": [
        {
          "output_type": "execute_result",
          "data": {
            "text/plain": [
              "([<matplotlib.patches.Wedge at 0x7faa52ab9e40>,\n",
              "  <matplotlib.patches.Wedge at 0x7faa52f6cfa0>,\n",
              "  <matplotlib.patches.Wedge at 0x7faa52aba9e0>],\n",
              " [Text(-0.6521425632196803, 0.8858386293435534, '0.0'),\n",
              "  Text(0.3267458899997187, -1.0503509524765007, '-1.0'),\n",
              "  Text(1.275835215204122, -0.44129865583870975, '1.0')],\n",
              " [Text(-0.35571412539255287, 0.4831847069146654, '70.2%'),\n",
              "  Text(0.17822503090893746, -0.5729187013508185, '19.2%'),\n",
              "  Text(0.80330365401741, -0.27785470923178024, '10.6%')])"
            ]
          },
          "metadata": {},
          "execution_count": 50
        },
        {
          "output_type": "display_data",
          "data": {
            "text/plain": [
              "<Figure size 1000x700 with 1 Axes>"
            ],
            "image/png": "[encoded data removed]"
          },
          "metadata": {}
        }
      ]
    },
    {
      "cell_type": "markdown",
      "source": [
        "Aplicando un algoritmo de SVM sobre los pesos de las palabras dados por TfidfVectorizer, comparando nuestra y_test (en este caso tomando los labels dados por TextBlob) con nuestra y_predicha, tenemos un accuracy de 74.9%."
      ],
      "metadata": {
        "id": "hbABW-lmfpm0"
      }
    },
    {
      "cell_type": "code",
      "source": [],
      "metadata": {
        "id": "tPUbDqv3RkUO"
      },
      "execution_count": null,
      "outputs": []
    },
    {
      "cell_type": "code",
      "source": [],
      "metadata": {
        "id": "X5uXoKR2Rka8"
      },
      "execution_count": null,
      "outputs": []
    }
  ]
}